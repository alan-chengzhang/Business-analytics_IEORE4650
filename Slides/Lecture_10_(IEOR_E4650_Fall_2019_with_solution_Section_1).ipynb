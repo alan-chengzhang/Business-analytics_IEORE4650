{
  "nbformat": 4,
  "nbformat_minor": 0,
  "metadata": {
    "colab": {
      "name": "Lecture 10 (IEOR E4650 Fall 2019 with solution: Section 1).ipynb",
      "provenance": [],
      "collapsed_sections": []
    },
    "kernelspec": {
      "name": "python3",
      "display_name": "Python 3"
    }
  },
  "cells": [
    {
      "cell_type": "markdown",
      "metadata": {
        "id": "4s5izpSul0F9",
        "colab_type": "text"
      },
      "source": [
        "# **IEOR E4650  Business Analytics (Fall 2019)**\n",
        "\n",
        "##**Lecture 10: Weibull Model**\n",
        "\n",
        "In this lecture, we discuss how to model a timing model.  \n",
        "\n",
        "Learning objective:\n",
        "\n",
        "* Understand how to use Weibull model to model timing data\n",
        "* Understand how the concept of hazard\n",
        "\n"
      ]
    },
    {
      "cell_type": "markdown",
      "metadata": {
        "id": "QLirS-Kb2yqD",
        "colab_type": "text"
      },
      "source": [
        "## Baseline Model"
      ]
    },
    {
      "cell_type": "markdown",
      "metadata": {
        "id": "KK5ojPPMdBmK",
        "colab_type": "text"
      },
      "source": [
        "In this lecture, we will discuss a new topic. Previously, the model focused on model the number of occurance. The other commonly used model models the timing of the occurance. This type of model is called timing model.\n",
        "\n",
        "To illustrate timing model, we study a new dataset related to healthcare management. In this dataset, we track each patient who are released from the hospital. We record after how many days/months a patient will relapse. By the end of the observation period, we might have a patient who has not relapsed. They are recorded as \"censored\".\n",
        "\n"
      ]
    },
    {
      "cell_type": "code",
      "metadata": {
        "id": "L5jH1t6Tz3fr",
        "colab_type": "code",
        "outputId": "d3c067f8-34eb-46b1-9d95-8fde686c96c1",
        "colab": {
          "base_uri": "https://localhost:8080/",
          "height": 357
        }
      },
      "source": [
        "!pip install -U -q PyDrive\n",
        "from pydrive.auth import GoogleAuth\n",
        "from pydrive.drive import GoogleDrive\n",
        "from google.colab import auth\n",
        "from oauth2client.client import GoogleCredentials\n",
        "# Authenticate and create the PyDrive client.\n",
        "auth.authenticate_user()\n",
        "gauth = GoogleAuth()\n",
        "gauth.credentials = GoogleCredentials.get_application_default()\n",
        "drive = GoogleDrive(gauth)\n",
        "link=\"https://drive.google.com/open?id=1uNSppU66HLaLHNM1noTFJ4s_9TQMbJDa\"\n",
        "_,id=link.split(\"=\")\n",
        "downloaded = drive.CreateFile({'id':id}) \n",
        "downloaded.GetContentFile('myfile.csv')  \n",
        "import pandas as pd\n",
        "import numpy as np\n",
        "\n",
        "\n",
        "import matplotlib.pyplot as plt\n",
        "\n",
        "import scipy.stats as spst\n",
        "from scipy.optimize import minimize\n",
        "import scipy.special as spsp\n",
        "\n",
        "\n",
        "\n",
        "\n",
        "import warnings\n",
        "warnings.simplefilter(\"ignore\")\n",
        "\n",
        "Patients = pd.read_csv('myfile.csv')\n",
        "Patients.head(10)\n"
      ],
      "execution_count": 0,
      "outputs": [
        {
          "output_type": "execute_result",
          "data": {
            "text/html": [
              "<div>\n",
              "<style scoped>\n",
              "    .dataframe tbody tr th:only-of-type {\n",
              "        vertical-align: middle;\n",
              "    }\n",
              "\n",
              "    .dataframe tbody tr th {\n",
              "        vertical-align: top;\n",
              "    }\n",
              "\n",
              "    .dataframe thead th {\n",
              "        text-align: right;\n",
              "    }\n",
              "</style>\n",
              "<table border=\"1\" class=\"dataframe\">\n",
              "  <thead>\n",
              "    <tr style=\"text-align: right;\">\n",
              "      <th></th>\n",
              "      <th>id</th>\n",
              "      <th>age</th>\n",
              "      <th>censor</th>\n",
              "      <th>race</th>\n",
              "      <th>time</th>\n",
              "      <th>time_in_month</th>\n",
              "    </tr>\n",
              "  </thead>\n",
              "  <tbody>\n",
              "    <tr>\n",
              "      <th>0</th>\n",
              "      <td>1</td>\n",
              "      <td>39.0</td>\n",
              "      <td>0</td>\n",
              "      <td>0.0</td>\n",
              "      <td>188</td>\n",
              "      <td>7</td>\n",
              "    </tr>\n",
              "    <tr>\n",
              "      <th>1</th>\n",
              "      <td>2</td>\n",
              "      <td>33.0</td>\n",
              "      <td>0</td>\n",
              "      <td>0.0</td>\n",
              "      <td>26</td>\n",
              "      <td>1</td>\n",
              "    </tr>\n",
              "    <tr>\n",
              "      <th>2</th>\n",
              "      <td>3</td>\n",
              "      <td>33.0</td>\n",
              "      <td>0</td>\n",
              "      <td>0.0</td>\n",
              "      <td>207</td>\n",
              "      <td>7</td>\n",
              "    </tr>\n",
              "    <tr>\n",
              "      <th>3</th>\n",
              "      <td>4</td>\n",
              "      <td>32.0</td>\n",
              "      <td>0</td>\n",
              "      <td>0.0</td>\n",
              "      <td>144</td>\n",
              "      <td>5</td>\n",
              "    </tr>\n",
              "    <tr>\n",
              "      <th>4</th>\n",
              "      <td>5</td>\n",
              "      <td>24.0</td>\n",
              "      <td>1</td>\n",
              "      <td>1.0</td>\n",
              "      <td>551</td>\n",
              "      <td>19</td>\n",
              "    </tr>\n",
              "    <tr>\n",
              "      <th>5</th>\n",
              "      <td>6</td>\n",
              "      <td>30.0</td>\n",
              "      <td>0</td>\n",
              "      <td>0.0</td>\n",
              "      <td>32</td>\n",
              "      <td>2</td>\n",
              "    </tr>\n",
              "    <tr>\n",
              "      <th>6</th>\n",
              "      <td>7</td>\n",
              "      <td>39.0</td>\n",
              "      <td>0</td>\n",
              "      <td>0.0</td>\n",
              "      <td>459</td>\n",
              "      <td>16</td>\n",
              "    </tr>\n",
              "    <tr>\n",
              "      <th>7</th>\n",
              "      <td>8</td>\n",
              "      <td>27.0</td>\n",
              "      <td>0</td>\n",
              "      <td>0.0</td>\n",
              "      <td>22</td>\n",
              "      <td>1</td>\n",
              "    </tr>\n",
              "    <tr>\n",
              "      <th>8</th>\n",
              "      <td>9</td>\n",
              "      <td>40.0</td>\n",
              "      <td>0</td>\n",
              "      <td>0.0</td>\n",
              "      <td>210</td>\n",
              "      <td>7</td>\n",
              "    </tr>\n",
              "    <tr>\n",
              "      <th>9</th>\n",
              "      <td>10</td>\n",
              "      <td>36.0</td>\n",
              "      <td>0</td>\n",
              "      <td>0.0</td>\n",
              "      <td>184</td>\n",
              "      <td>7</td>\n",
              "    </tr>\n",
              "  </tbody>\n",
              "</table>\n",
              "</div>"
            ],
            "text/plain": [
              "   id   age  censor  race  time  time_in_month\n",
              "0   1  39.0       0   0.0   188              7\n",
              "1   2  33.0       0   0.0    26              1\n",
              "2   3  33.0       0   0.0   207              7\n",
              "3   4  32.0       0   0.0   144              5\n",
              "4   5  24.0       1   1.0   551             19\n",
              "5   6  30.0       0   0.0    32              2\n",
              "6   7  39.0       0   0.0   459             16\n",
              "7   8  27.0       0   0.0    22              1\n",
              "8   9  40.0       0   0.0   210              7\n",
              "9  10  36.0       0   0.0   184              7"
            ]
          },
          "metadata": {
            "tags": []
          },
          "execution_count": 1
        }
      ]
    },
    {
      "cell_type": "markdown",
      "metadata": {
        "id": "N7uah708KrWd",
        "colab_type": "text"
      },
      "source": [
        "##Baseline model\n",
        "\n",
        "For now, let's not incorporate any covariates. We will focus on the outcome variable, which are\n",
        "\n",
        "(1) the number of months before a patient relapse.\n",
        "\n",
        "(2) whether the observation is censored.\n",
        "\n",
        "\n",
        "Usually, people treat time as a continuous variable. It is important to find a continuous distribution defined on the positive range and has a flexible shape. Weibull distribution is one of the most commonly used distributions.\n",
        "\n",
        "The pdf of Weibull distribution follows:\n",
        "\n",
        "$$f(t)=(c\\lambda)(t\\lambda)^{c-1}e^{-(t\\lambda )^c}$$\n",
        "\n",
        "where $c>0, \\lambda>0, t>0$. $E(t)=\\frac{\\Gamma(1+\\frac{1}{c})}{\\lambda}$\n",
        "\n",
        "The cdf of Weibull distribution follows:\n",
        "$$F(t)=1-e^{-(t\\lambda )^c}$$\n",
        "\n",
        "Exponential distribution is a special case of Weibull distribution when $c=1$.\n"
      ]
    },
    {
      "cell_type": "markdown",
      "metadata": {
        "id": "eCu-xcfMnI2x",
        "colab_type": "text"
      },
      "source": [
        "###Modeling the likelihood\n",
        "\n",
        "(1) Treating the observed timing as discrete. In this case, the outcome will be considered as \"censored\", since we are only observing the interger outcomes. What we have is the time that rounded up. $t=1$ means the event happened between $0$ and $1$. Similarly, $t=4$, means the event happened between $3$ and $4$. In this case, instead of using $f(t)$, we should use $F(t)-F(t-1)$ to (1) Treating the observed timing as discrete. In this case, the outcome will be considered as \"censored\", since we are only observing the interger outcomes. What we have is the time that rounded up. $t=1$ means the event happened between $0$ and $1$. Similarly, $t=4$, means the event happened between $3$ and $4$. In this case, instead of using $f(t)$, we should use $F(t)-F(t-1)$ to model the likelihood.\n",
        "\n",
        "(2) We also have observations that are censored at $t$. Those people might relapse later, but we just could not follow the long enough. The probability of observing a censored patient is $1-F(t)$. "
      ]
    },
    {
      "cell_type": "code",
      "metadata": {
        "id": "BEIzsbkpDTlo",
        "colab_type": "code",
        "outputId": "85edc998-fa1f-4ab1-9a68-7c5429402156",
        "colab": {
          "base_uri": "https://localhost:8080/",
          "height": 51
        }
      },
      "source": [
        "y=Patients[\"time_in_month\"].values\n",
        "censor=Patients[\"censor\"].values\n",
        "def neg_LL(betas):\n",
        "  c=np.exp(betas[0])\n",
        "  lmbda=np.exp(betas[1])\n",
        "  F_t=1-np.exp(-(y*lmbda)**c)\n",
        "  F_t_m1=1-np.exp(-((y-1)*lmbda)**c)\n",
        "  #censored patient\n",
        "  Ind_Lc=1-F_t\n",
        "  #uncensored\n",
        "  #time we observed is round up to the closest integer\n",
        "  Ind_Lu=F_t-F_t_m1\n",
        "  Ind_L=Ind_Lc*censor+Ind_Lu*(1-censor)\n",
        "  return -np.sum(np.log(Ind_L))\n",
        "\n",
        "guess=-np.random.rand(2)\n",
        "model1=minimize(neg_LL,guess,method=\"BFGS\")\n",
        "print(model1.fun)\n",
        "print(model1.x)"
      ],
      "execution_count": 0,
      "outputs": [
        {
          "output_type": "stream",
          "text": [
            "1655.2856250294362\n",
            "[-0.1713294  -2.25487976]\n"
          ],
          "name": "stdout"
        }
      ]
    },
    {
      "cell_type": "markdown",
      "metadata": {
        "id": "spyUVuQhLDae",
        "colab_type": "text"
      },
      "source": [
        "$$f(t)=(c\\lambda)(t\\lambda)^{c-1}e^{-(t\\lambda )^c}$$"
      ]
    },
    {
      "cell_type": "code",
      "metadata": {
        "id": "pW4Oz1YmLJHy",
        "colab_type": "code",
        "outputId": "749d1d59-2ef7-4446-a9b6-ce51369ff77e",
        "colab": {
          "base_uri": "https://localhost:8080/",
          "height": 52
        }
      },
      "source": [
        "\n",
        "\n",
        "\n",
        "y=Patients[\"time_in_month\"].values\n",
        "censor=Patients[\"censor\"].values\n",
        "def neg_LL(betas):\n",
        "  c=np.exp(betas[0])\n",
        "  lmbda=np.exp(betas[1])\n",
        "  F_t=1-np.exp(-(y*lmbda)**c)\n",
        "  F_t_m1=1-np.exp(-((y-1)*lmbda)**c)\n",
        "  #censored patient\n",
        "  Ind_Lc=1-F_t\n",
        "  #uncensored\n",
        "  #time we observed is round up to the closest integer\n",
        "  #if treating time column as continuous\n",
        "  f_t=(c*lmbda)*(y*lmbda)**(c-1)*np.exp(-(y*lmbda)**c)\n",
        "  Ind_Lu=f_t\n",
        "  Ind_L=Ind_Lc*censor+Ind_Lu*(1-censor)\n",
        "  return -np.sum(np.log(Ind_L))\n",
        "\n",
        "guess=-np.random.rand(2)\n",
        "model1=minimize(neg_LL,guess,method=\"BFGS\")\n",
        "print(model1.fun)\n",
        "print(model1.x)"
      ],
      "execution_count": 0,
      "outputs": [
        {
          "output_type": "stream",
          "text": [
            "1691.006931400067\n",
            "[ 0.00892228 -2.32972944]\n"
          ],
          "name": "stdout"
        }
      ]
    },
    {
      "cell_type": "markdown",
      "metadata": {
        "id": "fYHZcCdIqguy",
        "colab_type": "text"
      },
      "source": [
        "### Model fitting\n",
        "\n",
        "Here, let's plot the actual v.s. prediction distribution for those patients who relapsed. \n",
        "\n"
      ]
    },
    {
      "cell_type": "code",
      "metadata": {
        "id": "bsqo5ZPzKi8A",
        "colab_type": "code",
        "outputId": "18cb5f4d-d8ff-4288-c9e2-8dae19ad9347",
        "colab": {
          "base_uri": "https://localhost:8080/",
          "height": 286
        }
      },
      "source": [
        "counts=Patients[Patients[\"censor\"]==0].groupby(\"time_in_month\").count()\n",
        "y1=np.arange(1, np.max(y)+1)\n",
        "betas=model1.x\n",
        "c=np.exp(betas[0])\n",
        "lmbda=np.exp(betas[1])\n",
        "F_t=1-np.exp(-(y1*lmbda)**c)\n",
        "F_t_m1=1-np.exp(-((y1-1)*lmbda)**c)\n",
        "#uncensored\n",
        "Ind_Lu=F_t-F_t_m1\n",
        "prediction= len(y[censor==0])*Ind_Lu\n",
        "plt.bar(counts.index.values, counts.iloc[:,4].values)\n",
        "plt.scatter(y1,prediction,zorder=2)\n",
        "\n",
        "\n",
        "\n"
      ],
      "execution_count": 0,
      "outputs": [
        {
          "output_type": "execute_result",
          "data": {
            "text/plain": [
              "<matplotlib.collections.PathCollection at 0x7f426ec22a90>"
            ]
          },
          "metadata": {
            "tags": []
          },
          "execution_count": 15
        },
        {
          "output_type": "display_data",
          "data": {
            "image/png": "[encoded data removed]",
            "text/plain": [
              "<Figure size 432x288 with 1 Axes>"
            ]
          },
          "metadata": {
            "tags": []
          }
        }
      ]
    },
    {
      "cell_type": "markdown",
      "metadata": {
        "id": "5eyZ-ak61-Oi",
        "colab_type": "text"
      },
      "source": [
        "### Hazard\n",
        "\n",
        "One thing special about this timing model is that we have a concept called \"hazard\". It measures the likelihood for an event to happen at $t$ conditional on it has not happened before $t$.\n",
        "\n",
        "Mathematically, it is defined as $$h(t)=\\frac{f(t)}{1-F(t)}$$.\n",
        "\n",
        "For Weibull distribution, it is $$h(t)=c\\lambda t^{c-1}$$\n",
        "\n",
        "We can see that when $\\lambda$ directly determine the scale of the hazard. When $\\lambda$ is higher, the hazard in general higher. $c$ will determine whether the hazard will be increasing over time ($c>1$) or decreasing over time ($c<1$). When $c=1$ (an exponential distribution), we have constant hazard. \n",
        "\n",
        "For the discrete case, we can define hazard using \n",
        "\n",
        "$$h(t)=\\frac{F(t)-F(t-1)}{1-F(t-1)}$$.\n",
        "\n",
        "This gives the probability of an event happening happening in period $t$ given it has not happened before."
      ]
    },
    {
      "cell_type": "code",
      "metadata": {
        "id": "YGv05QGKPhAm",
        "colab_type": "code",
        "outputId": "7e2d3912-14af-4be7-9ec9-17a5ae212865",
        "colab": {
          "base_uri": "https://localhost:8080/",
          "height": 286
        }
      },
      "source": [
        "#hazard based on the estimation\n",
        "hazard_e=(F_t-F_t_m1)/(1-F_t_m1)\n",
        "print(lmbda,c)\n",
        "plt.scatter(y1,hazard_e)\n",
        "plt.show()\n"
      ],
      "execution_count": 0,
      "outputs": [
        {
          "output_type": "stream",
          "text": [
            "0.1048861540595461 0.8425439903975898\n"
          ],
          "name": "stdout"
        },
        {
          "output_type": "display_data",
          "data": {
            "image/png": "[encoded data removed]",
            "text/plain": [
              "<Figure size 432x288 with 1 Axes>"
            ]
          },
          "metadata": {
            "tags": []
          }
        }
      ]
    },
    {
      "cell_type": "markdown",
      "metadata": {
        "id": "NUCBH1w008Xb",
        "colab_type": "text"
      },
      "source": [
        "### Business Recommendations\n",
        "\n",
        "Using this model, we can predict what is going to happen in the future. For example, if we have a person who has not relapsed at the end of the second month, can we know the probability for this person to collapse by the end of the third month?"
      ]
    },
    {
      "cell_type": "code",
      "metadata": {
        "id": "SAbmnPMS1O_s",
        "colab_type": "code",
        "outputId": "e4e576e7-175d-41d1-ce2b-4a08d72ecfc7",
        "colab": {
          "base_uri": "https://localhost:8080/",
          "height": 34
        }
      },
      "source": [
        "(F_t[2]-F_t[1])/(1-F_t[1])"
      ],
      "execution_count": 0,
      "outputs": [
        {
          "output_type": "execute_result",
          "data": {
            "text/plain": [
              "0.103484657661669"
            ]
          },
          "metadata": {
            "tags": []
          },
          "execution_count": 17
        }
      ]
    },
    {
      "cell_type": "markdown",
      "metadata": {
        "id": "P2QRDrjDSjg_",
        "colab_type": "text"
      },
      "source": [
        "## Two segment Weibull model \n",
        "\n",
        "Here, we assume that we have two segments of people, one segment with higher $\\lambda$ and one segment with lower $\\lambda$. In this case, we will estimate $\\lambda_1$, $\\lambda_2$, $c$, and $p$. "
      ]
    },
    {
      "cell_type": "code",
      "metadata": {
        "id": "DQJKj1QpKF01",
        "colab_type": "code",
        "outputId": "b17c9fd5-4591-4cf4-81bf-3e0aaaebf685",
        "colab": {
          "base_uri": "https://localhost:8080/",
          "height": 52
        }
      },
      "source": [
        "y=Patients[\"time_in_month\"].values\n",
        "censor=Patients[\"censor\"].values\n",
        "def neg_LL(betas):\n",
        "  lmbda1=np.exp(betas[0])\n",
        "  lmbda2=np.exp(betas[1])\n",
        "  c=np.exp(betas[2])\n",
        "  p=np.exp(betas[3])/(1+np.exp(betas[3]))\n",
        "  ind_L1r=(1-np.exp(-(y*lmbda1)**c))-(1-np.exp(-((y-1)*lmbda1)**c))\n",
        "  ind_L2r=(1-np.exp(-(y*lmbda2)**c))-(1-np.exp(-((y-1)*lmbda2)**c))\n",
        "\n",
        "  ind_Lr=ind_L1r*p+ind_L2r*(1-p)\n",
        "\n",
        "  ind_L1c=1-(1-np.exp(-(y*lmbda1)**c))\n",
        "  ind_L2c=1-(1-np.exp(-(y*lmbda2)**c))\n",
        "  ind_Lc=ind_L1c*p+ind_L2c*(1-p)\n",
        "\n",
        "  ind_L=ind_Lr*(1-censor)+ind_Lc*censor\n",
        "\n",
        " \n",
        "\n",
        "  return -np.sum(np.log(ind_L))\n",
        "\n",
        "guess=-np.random.rand(4)\n",
        "model1=minimize(neg_LL,guess,method=\"BFGS\")\n",
        "print(model1.fun)\n",
        "print(model1.x)"
      ],
      "execution_count": 0,
      "outputs": [
        {
          "output_type": "stream",
          "text": [
            "1624.343194917601\n",
            "[ -1.74115513 -14.53220848   0.15153658   1.5325414 ]\n"
          ],
          "name": "stdout"
        }
      ]
    },
    {
      "cell_type": "code",
      "metadata": {
        "id": "hQ_wGLViZltX",
        "colab_type": "code",
        "colab": {}
      },
      "source": [
        ""
      ],
      "execution_count": 0,
      "outputs": []
    },
    {
      "cell_type": "markdown",
      "metadata": {
        "id": "g2kAAFaFMgal",
        "colab_type": "text"
      },
      "source": [
        "###Model fitting"
      ]
    },
    {
      "cell_type": "code",
      "metadata": {
        "id": "c_dopHzoLBmd",
        "colab_type": "code",
        "outputId": "b2a4007f-097c-46a9-e951-bd73c0079911",
        "colab": {
          "base_uri": "https://localhost:8080/",
          "height": 287
        }
      },
      "source": [
        "counts=Patients[Patients[\"censor\"]==0].groupby(\"time_in_month\").count()\n",
        "betas=model1.x\n",
        "lmbda1=np.exp(betas[0])\n",
        "lmbda2=np.exp(betas[1])\n",
        "c=np.exp(betas[2])\n",
        "p=np.exp(betas[3])/(1+np.exp(betas[3]))\n",
        "y1=np.arange(1,np.max(y)+1)\n",
        "ind_L1r=(1-np.exp(-(y1*lmbda1)**c))-(1-np.exp(-((y1-1)*lmbda1)**c))\n",
        "ind_L2r=(1-np.exp(-(y1*lmbda2)**c))-(1-np.exp(-((y1-1)*lmbda2)**c))\n",
        "\n",
        "ind_Lr=ind_L1r*p+ind_L2r*(1-p)\n",
        "prediction=ind_Lr*len(y[censor==0])\n",
        "\n",
        "plt.bar(counts.index.values, counts.iloc[:,4].values)\n",
        "plt.scatter(y1,prediction,zorder=2)\n",
        "\n",
        "\n",
        "\n"
      ],
      "execution_count": 0,
      "outputs": [
        {
          "output_type": "execute_result",
          "data": {
            "text/plain": [
              "<matplotlib.collections.PathCollection at 0x7fcf87ef3978>"
            ]
          },
          "metadata": {
            "tags": []
          },
          "execution_count": 8
        },
        {
          "output_type": "display_data",
          "data": {
            "image/png": "[encoded data removed]",
            "text/plain": [
              "<Figure size 432x288 with 1 Axes>"
            ]
          },
          "metadata": {
            "tags": []
          }
        }
      ]
    },
    {
      "cell_type": "markdown",
      "metadata": {
        "id": "8BKTZtbdKI-8",
        "colab_type": "text"
      },
      "source": [
        "###Hazard"
      ]
    },
    {
      "cell_type": "code",
      "metadata": {
        "id": "lYns8AFFJldl",
        "colab_type": "code",
        "outputId": "62fdcb71-3f9a-48f3-ae2e-fc5c064a163f",
        "colab": {
          "base_uri": "https://localhost:8080/",
          "height": 287
        }
      },
      "source": [
        "Ft_1=(1-np.exp(-(y1*lmbda1)**c))\n",
        "Ftm1_1=(1-np.exp(-((y1-1)*lmbda1)**c))\n",
        "Ft_2=(1-np.exp(-(y1*lmbda2)**c))\n",
        "Ftm1_2=(1-np.exp(-((y1-1)*lmbda2)**c))\n",
        "\n",
        "Hazard_e1=(Ft_1-Ftm1_1)/(1-Ftm1_1)\n",
        "Hazard_e2=(Ft_2-Ftm1_2)/(1-Ftm1_2)\n",
        "plt.scatter(y1,Hazard_e1)\n",
        "plt.scatter(y1,Hazard_e2)\n",
        "plt.show()\n",
        "\n",
        "print(lmbda1,lmbda2,c,p)"
      ],
      "execution_count": 0,
      "outputs": [
        {
          "output_type": "display_data",
          "data": {
            "image/png": "[encoded data removed]",
            "text/plain": [
              "<Figure size 432x288 with 1 Axes>"
            ]
          },
          "metadata": {
            "tags": []
          }
        },
        {
          "output_type": "stream",
          "text": [
            "0.1753177691942747 4.883622044870471e-07 1.16362086735394 0.8223778467347836\n"
          ],
          "name": "stdout"
        }
      ]
    },
    {
      "cell_type": "code",
      "metadata": {
        "id": "EUMNK7vL9Vhd",
        "colab_type": "code",
        "outputId": "4203d0ee-f1e9-40c4-a8fb-0e854ec4b688",
        "colab": {
          "base_uri": "https://localhost:8080/",
          "height": 158
        }
      },
      "source": [
        "#the probability for a patient to be belong to segment 1 given that the patient relapsed in \n",
        "#period 1, 2, 3, ...\n",
        "p*ind_L1r/(p*ind_L1r+ (1-p)*ind_L2r)"
      ],
      "execution_count": 0,
      "outputs": [
        {
          "output_type": "execute_result",
          "data": {
            "text/plain": [
              "array([0.99999992, 0.99999991, 0.99999989, 0.99999987, 0.99999984,\n",
              "       0.99999981, 0.99999976, 0.99999971, 0.99999964, 0.99999955,\n",
              "       0.99999943, 0.99999929, 0.99999911, 0.99999887, 0.99999857,\n",
              "       0.99999818, 0.99999769, 0.99999705, 0.99999622, 0.99999516,\n",
              "       0.99999378, 0.999992  , 0.99998968, 0.99998666, 0.99998274,\n",
              "       0.99997762, 0.99997093, 0.99996218, 0.99995073, 0.9999357 ,\n",
              "       0.99991598, 0.99989004, 0.99985589, 0.99981088, 0.99975149,\n",
              "       0.99967302, 0.99956925, 0.99943186, 0.99924977, 0.99900821])"
            ]
          },
          "metadata": {
            "tags": []
          },
          "execution_count": 9
        }
      ]
    },
    {
      "cell_type": "code",
      "metadata": {
        "id": "CraSWRfa-75e",
        "colab_type": "code",
        "outputId": "7f75cde6-f89b-4641-efca-2d663f06173b",
        "colab": {
          "base_uri": "https://localhost:8080/",
          "height": 158
        }
      },
      "source": [
        "#N\n",
        "N=10000\n",
        "#No risk Segment \n",
        "Segment1_N=np.repeat(N*p,len(y1))\n",
        "#risk Segment\n",
        "Segment2_N=N*(1-Ftm1_2)*(1-p)\n",
        "\n",
        "Segment1_N/(Segment1_N+Segment2_N)\n",
        "\n"
      ],
      "execution_count": 0,
      "outputs": [
        {
          "output_type": "execute_result",
          "data": {
            "text/plain": [
              "array([0.17764531, 0.19773014, 0.22495275, 0.25750628, 0.29509964,\n",
              "       0.33747234, 0.38417912, 0.43450681, 0.48745697, 0.54178722,\n",
              "       0.59610554, 0.64900126, 0.69918542, 0.74561032, 0.78754492,\n",
              "       0.82459677, 0.85668583, 0.88398575, 0.90685052, 0.92574235,\n",
              "       0.94117033, 0.95364446, 0.96364496, 0.97160463, 0.97790106,\n",
              "       0.98285567, 0.98673681, 0.98976519, 0.9921201 , 0.99394581,\n",
              "       0.99535745, 0.99644629, 0.99728431, 0.99792798, 0.99842146,\n",
              "       0.99879913, 0.99908769, 0.99930783, 0.99947552, 0.99960308])"
            ]
          },
          "metadata": {
            "tags": []
          },
          "execution_count": 20
        }
      ]
    },
    {
      "cell_type": "code",
      "metadata": {
        "id": "UXmRL5WsBXsa",
        "colab_type": "code",
        "outputId": "73e49564-f3b2-46fc-961a-bf4d39ee3fb7",
        "colab": {
          "base_uri": "https://localhost:8080/",
          "height": 287
        }
      },
      "source": [
        "#the probability for a patient to belong to the first segment given \n",
        "#that the patient did not relapse before\n",
        "P_post=p*(1-Ftm1_1)/(p*(1-Ftm1_1)+ (1-p)*(1-Ftm1_2))\n",
        "P_post\n",
        "plt.plot(P_post)"
      ],
      "execution_count": 0,
      "outputs": [
        {
          "output_type": "execute_result",
          "data": {
            "text/plain": [
              "[<matplotlib.lines.Line2D at 0x7fcf87f1ef98>]"
            ]
          },
          "metadata": {
            "tags": []
          },
          "execution_count": 17
        },
        {
          "output_type": "display_data",
          "data": {
            "image/png": "[encoded data removed]",
            "text/plain": [
              "<Figure size 432x288 with 1 Axes>"
            ]
          },
          "metadata": {
            "tags": []
          }
        }
      ]
    },
    {
      "cell_type": "code",
      "metadata": {
        "id": "mdvjUtdXOOlK",
        "colab_type": "code",
        "outputId": "21a99cbe-14bf-4a0a-9f7a-f23000881107",
        "colab": {
          "base_uri": "https://localhost:8080/",
          "height": 158
        }
      },
      "source": [
        "np.diff(P_post)/P_post[0:-1]"
      ],
      "execution_count": 0,
      "outputs": [
        {
          "output_type": "execute_result",
          "data": {
            "text/plain": [
              "array([-0.02442335, -0.03393217, -0.04200291, -0.05063319, -0.06011498,\n",
              "       -0.0705029 , -0.08173156, -0.09364455, -0.10601279, -0.11855759,\n",
              "       -0.13098006, -0.14299309, -0.15435001, -0.16486466, -0.17442013,\n",
              "       -0.18296686, -0.1905127 , -0.19710884, -0.2028349 , -0.20778574,\n",
              "       -0.21206093, -0.21575746, -0.21896508, -0.22176385, -0.22422333,\n",
              "       -0.22640267, -0.22835145, -0.23011065, -0.2317139 , -0.23318855,\n",
              "       -0.23455676, -0.23583639, -0.23704181, -0.23818459, -0.23927401,\n",
              "       -0.24031755, -0.24132122, -0.2422899 , -0.24322755])"
            ]
          },
          "metadata": {
            "tags": []
          },
          "execution_count": 16
        }
      ]
    },
    {
      "cell_type": "markdown",
      "metadata": {
        "id": "kbSbTAGL1SRJ",
        "colab_type": "text"
      },
      "source": [
        "###Posterior analysis\n",
        "\n",
        "In this model, we are able to identify two groups of people. \n",
        "\n",
        "* Group 1: with high $\\lambda$. This group of people are will on average having higher risk relapsing.\n",
        "* Group 2: with low $\\lambda$. This group of people are will on average having lower risk relapsing.\n",
        "\n",
        "By observing the $t$, we can update our information of which risk group a patient belongs to. Thus, we will have a better idea of when relapse might happen."
      ]
    },
    {
      "cell_type": "code",
      "metadata": {
        "id": "uTbTbehC1RvO",
        "colab_type": "code",
        "outputId": "0eec12dc-9318-4172-f7e6-489cf5c7b88a",
        "colab": {
          "base_uri": "https://localhost:8080/",
          "height": 34
        }
      },
      "source": [
        "#Consider the following two patients\n",
        "#Patient who relapsed in month 5.\n",
        "#Answer: P(Group1)=1, P(Group2)=0\n",
        "\n",
        "\n",
        "#Patient who is censored and has not relapsed by the end of month 7.\n",
        "#Do the posterior analysis for these two patients. \n",
        "(p*(1-Ftm1_1)/(p*(1-Ftm1_1)+ (1-p)*(1-Ftm1_2)))[7]"
      ],
      "execution_count": 0,
      "outputs": [
        {
          "output_type": "execute_result",
          "data": {
            "text/plain": [
              "0.4345090205022635"
            ]
          },
          "metadata": {
            "tags": []
          },
          "execution_count": 23
        }
      ]
    },
    {
      "cell_type": "markdown",
      "metadata": {
        "id": "F4ZvWelqVpAI",
        "colab_type": "text"
      },
      "source": [
        "## Continuous observed heterogeneity\n",
        "\n",
        "We can moved on to assume that $\\lambda \\sim Gamma (\\gamma, \\alpha)$.\n",
        "\n",
        "The distribution of $t$ is called Weibull-Gamma distribution and will have the following PDF:\n",
        "\n",
        "$f(t)=\\frac{c\\gamma t^c(\\frac{\\alpha}{\\alpha+t^c})^\\gamma}{t(\\alpha+t^c)}$\n",
        "\n",
        "$F(t)=1-(\\frac{\\alpha}{\\alpha+t^c})^\\gamma$\n",
        "\n"
      ]
    },
    {
      "cell_type": "code",
      "metadata": {
        "id": "9W0h-lDq-RrJ",
        "colab_type": "code",
        "outputId": "e1fcd79e-54e2-4051-a427-841f5ba37dc4",
        "colab": {
          "base_uri": "https://localhost:8080/",
          "height": 52
        }
      },
      "source": [
        "##y=Patients[\"time\"].values\n",
        "y=Patients[\"time_in_month\"].values\n",
        "censor=Patients[\"censor\"].values\n",
        "def neg_LL(betas):\n",
        "  alpha=np.exp(betas[0])\n",
        "  gamma=np.exp(betas[1])\n",
        "  c=np.exp(betas[2])\n",
        "  Ft=(1-(alpha/(alpha+y**c))**gamma)\n",
        "  Ft1=(1-(alpha/(alpha+(y-1)**c))**gamma)\n",
        "  ind_Lr=Ft-Ft1\n",
        "  ind_Lc=1-Ft\n",
        "  ind_L=ind_Lr*(1-censor)+ind_Lc*censor \n",
        "\n",
        "  return -np.sum(np.log(ind_L))\n",
        "\n",
        "guess= -np.random.rand(3)\n",
        "model1=minimize(neg_LL,guess,method=\"BFGS\")\n",
        "print(model1.fun)\n",
        "print(model1.x)"
      ],
      "execution_count": 0,
      "outputs": [
        {
          "output_type": "stream",
          "text": [
            "1633.721272199543\n",
            "[ 1.86109214 -0.34711265  0.34191655]\n"
          ],
          "name": "stdout"
        }
      ]
    },
    {
      "cell_type": "markdown",
      "metadata": {
        "id": "lqw0tV-mMVz0",
        "colab_type": "text"
      },
      "source": [
        "###Model fitting"
      ]
    },
    {
      "cell_type": "code",
      "metadata": {
        "id": "aC_jz5F8LoOk",
        "colab_type": "code",
        "outputId": "bff91440-c905-4279-aa85-59b31797204a",
        "colab": {
          "base_uri": "https://localhost:8080/",
          "height": 287
        }
      },
      "source": [
        "counts=Patients[Patients[\"censor\"]==0].groupby(\"time_in_month\").count()\n",
        "betas=model1.x\n",
        "y1=np.arange(1,np.max(y)+1)\n",
        "\n",
        "alpha=np.exp(betas[0])\n",
        "gamma=np.exp(betas[1])\n",
        "c=np.exp(betas[2])\n",
        "Ft=(1-(alpha/(alpha+y1**c))**gamma)\n",
        "Ft1=(1-(alpha/(alpha+(y1-1)**c))**gamma)\n",
        "ind_Lr=Ft-Ft1\n",
        "prediction= ind_Lr*(len(y[censor==0]))\n",
        "  \n",
        "\n",
        "plt.bar(counts.index.values, counts.iloc[:,4].values)\n",
        "plt.scatter(y1,prediction,zorder=2)\n",
        "\n",
        "\n",
        "\n"
      ],
      "execution_count": 0,
      "outputs": [
        {
          "output_type": "execute_result",
          "data": {
            "text/plain": [
              "<matplotlib.collections.PathCollection at 0x7f69be527e10>"
            ]
          },
          "metadata": {
            "tags": []
          },
          "execution_count": 23
        },
        {
          "output_type": "display_data",
          "data": {
            "image/png": "[encoded data removed]",
            "text/plain": [
              "<Figure size 432x288 with 1 Axes>"
            ]
          },
          "metadata": {
            "tags": []
          }
        }
      ]
    },
    {
      "cell_type": "markdown",
      "metadata": {
        "id": "IoOvcAZ1KPQM",
        "colab_type": "text"
      },
      "source": [
        "###Hazard"
      ]
    },
    {
      "cell_type": "code",
      "metadata": {
        "id": "_RXc-ga2KQ0Z",
        "colab_type": "code",
        "outputId": "885d3d9d-5cd9-4806-86df-83e76dde59fb",
        "colab": {
          "base_uri": "https://localhost:8080/",
          "height": 287
        }
      },
      "source": [
        "hazard_wg=(Ft-Ft1)/(1-Ft1)\n",
        "plt.scatter(y1,hazard_wg)"
      ],
      "execution_count": 0,
      "outputs": [
        {
          "output_type": "execute_result",
          "data": {
            "text/plain": [
              "<matplotlib.collections.PathCollection at 0x7f69be455da0>"
            ]
          },
          "metadata": {
            "tags": []
          },
          "execution_count": 24
        },
        {
          "output_type": "display_data",
          "data": {
            "image/png": "[encoded data removed]",
            "text/plain": [
              "<Figure size 432x288 with 1 Axes>"
            ]
          },
          "metadata": {
            "tags": []
          }
        }
      ]
    },
    {
      "cell_type": "markdown",
      "metadata": {
        "id": "powuLGdF0Vy0",
        "colab_type": "text"
      },
      "source": [
        "###Posterior Analysis\n",
        "\n",
        "For Weibull-Gamma, the posterior distribution for a patient is \n",
        "\n",
        "$$\\lambda|t \\sim Gamma(\\gamma+1, \\alpha+t^c)$$\n",
        "\n",
        "That is, if we see a patient relapsed in time $t$, then the distribution $\\lambda$ for this patient will follow a gamma distribution."
      ]
    },
    {
      "cell_type": "code",
      "metadata": {
        "id": "0GRRnBqZILzp",
        "colab_type": "code",
        "colab": {}
      },
      "source": [
        "#assume a patient relapsed in month 5\n",
        "\n",
        "#lmbda|t=5~Gamma(gamma+1,alpha+5**c)\n",
        "#E(lmbda)=(gamma+1)/(alpha+5**c)\n",
        "\n",
        "#assume a patient relapsed in month 7\n",
        "\n",
        "#lmbda|t=7~Gamma(gamma+1,alpha+7**c)\n",
        "#E(lmbda)=(gamma+1)/(alpha+7**c)\n",
        "\n"
      ],
      "execution_count": 0,
      "outputs": []
    }
  ]
}