{
  "nbformat": 4,
  "nbformat_minor": 0,
  "metadata": {
    "colab": {
      "name": "Lecture 7 (IEOR E4650 Fall 2019 in class).ipynb",
      "provenance": [],
      "collapsed_sections": []
    },
    "kernelspec": {
      "name": "python3",
      "display_name": "Python 3"
    }
  },
  "cells": [
    {
      "cell_type": "markdown",
      "metadata": {
        "id": "4s5izpSul0F9",
        "colab_type": "text"
      },
      "source": [
        "# **IEOR E4650  Business Analytics (Fall 2019)**\n",
        "\n",
        "##**Lecture 7: Poisson Model with Unobserved Heterogeneity**\n",
        "\n",
        "In this lecture, we discuss how to model heterogeneity for a count model. \n",
        "\n",
        "Learning objective:\n",
        "\n",
        "* Understand the idea of unobserved heterogeneity\n",
        "* Understand how to estimate a count model with unobserved heterogeneity\n",
        "* Understand how to use the model for prediction\n",
        "\n"
      ]
    },
    {
      "cell_type": "markdown",
      "metadata": {
        "id": "QLirS-Kb2yqD",
        "colab_type": "text"
      },
      "source": [
        "##Unobserved Heterogeneity"
      ]
    },
    {
      "cell_type": "markdown",
      "metadata": {
        "id": "KK5ojPPMdBmK",
        "colab_type": "text"
      },
      "source": [
        "The previous model did not give a good fit. The main issue with the model is that it assumes that every poisson process follows the same $\\lambda$.\n",
        "\n",
        "However, in reality, customers might have different $\\lambda$. For example, some customers might go online very infrequently, leading to fewer exposures  (low $\\lambda$). However, some customers might go online very frequently, leading to more exposures (high $\\lambda$). This is called heterogeneity. \n",
        "\n",
        "If the data tells us whether the customers log online frequently or not, we can model them separately. However, the data is not there. Thus, we will need to rely on the data to dig out this information. Since we are not observing the segmentation directly, this is also called modeling \"unobserved\" heterogeneity.\n",
        "\n"
      ]
    },
    {
      "cell_type": "markdown",
      "metadata": {
        "id": "P2QRDrjDSjg_",
        "colab_type": "text"
      },
      "source": [
        "## Mixture Model\n",
        "\n",
        "Mixture model is a model that is commonly used for modeling of unobserved heterogeneity.\n"
      ]
    },
    {
      "cell_type": "markdown",
      "metadata": {
        "id": "D__YaUGH4j6F",
        "colab_type": "text"
      },
      "source": [
        "### General Scope of a mixture model\n",
        "\n",
        "\n",
        "the likelihood is modeled as \n",
        "\n",
        "$Likelihood=likelihood_1*p+likelihood_2*(1-p)$\n",
        "\n",
        "Here, $likelihood_1$ measures how likely it is to observe an outcome if the outcomes belongs to group 1. $likelihood_2$ will measures how likely it is to observe an outcome if the outcomes belongs to group 2. Since we do not know which group an observation belongs to, we use $p$ to model the probability for an observation to belong to the first segment. This $p$ will be a parameter we estimate.\n",
        "\n",
        "\n",
        "<div>\n",
        "<img src=\"http://tinyheero.github.io/assets/mixture-model-mixtools-1.png\n",
        "\" width=\"450\"/>\n",
        "</div>\n",
        "\n",
        "\n",
        "[Source: Fong Chun Chan's Blog]\n",
        "\n",
        "An example above shows a mixture of two distributions. "
      ]
    },
    {
      "cell_type": "markdown",
      "metadata": {
        "id": "F4ZvWelqVpAI",
        "colab_type": "text"
      },
      "source": [
        "### Estimation of Mixture model\n",
        "\n",
        "The estimation of the parameters for a mixture model stays the same. The only thing changes is the way we compute the individual likelihood function.\n",
        "\n",
        "Our individual likelihood function will be a weighted average between two Poisson PMFs:\n",
        "\n",
        "$PMF_{poisson}(y_i|\\lambda_1) p+ PMF_{poisson}(y_i|\\lambda_2) (1-p)$\n",
        "\n",
        "$PMF_{poisson}(y_i|\\lambda_1)$ is the PMF of a Poisson distribution with $\\lambda_1$ at $y_i$. Similarly, $PMF_{poisson}(y_i|\\lambda_2)$ is the PMF of a Poisson distribution with $\\lambda_2$ at $y_i$. \n",
        "\n",
        "We will estimate three parameters：\n",
        "\n",
        "$\\lambda_1$: The expected number of exposures if an observation belongs to category 1.\n",
        "\n",
        "$\\lambda_2$: The expected number of exposures if an observation belongs to category 2.\n",
        "\n",
        "$p$: the probability of an observation belonging to category 1.\n",
        "\n",
        "Here, $p$ is a probability and should be constraint before 0 and 1. To ensure that we are still running an uncontrained optimization, we use $p=\\frac{exp(\\beta)}{1+exp(\\beta)}$ instead of $p$. You can see that there is one-on-one relationship between $\\beta$ and $p$. Also estimating the unconstrained $\\beta$ allows us to restrict our $p$ between 0 and 1.\n"
      ]
    },
    {
      "cell_type": "code",
      "metadata": {
        "id": "9W0h-lDq-RrJ",
        "colab_type": "code",
        "colab": {}
      },
      "source": [
        "!pip install -U -q PyDrive\n",
        "from pydrive.auth import GoogleAuth\n",
        "from pydrive.drive import GoogleDrive\n",
        "from google.colab import auth\n",
        "from oauth2client.client import GoogleCredentials\n",
        "# Authenticate and create the PyDrive client.\n",
        "auth.authenticate_user()\n",
        "gauth = GoogleAuth()\n",
        "gauth.credentials = GoogleCredentials.get_application_default()\n",
        "drive = GoogleDrive(gauth)\n",
        "link=\"https://drive.google.com/open?id=1pjdoOKuczV8Zc6Zw8-yUh6q2tqogN-xt\"\n",
        "_,id=link.split(\"=\")\n",
        "downloaded = drive.CreateFile({'id':id}) \n",
        "downloaded.GetContentFile('myfile.csv')  \n",
        "import pandas as pd\n",
        "import numpy as np\n",
        "Exposure = pd.read_csv('myfile.csv')\n",
        "Exposure.head(10)\n",
        "\n",
        "import matplotlib.pyplot as plt\n",
        "\n",
        "import scipy.stats as spst\n",
        "from scipy.optimize import minimize\n",
        "import scipy.special as spsp\n",
        "\n"
      ],
      "execution_count": 0,
      "outputs": []
    },
    {
      "cell_type": "code",
      "metadata": {
        "id": "AkWUJUYdanTf",
        "colab_type": "code",
        "colab": {}
      },
      "source": [
        "\n",
        "Exposures=Exposure[\"Exposures\"].values\n",
        "\n",
        "def neg_LL(betas):\n",
        "  #individual likelihood\n",
        "\n",
        "\n",
        "  #individual log likelihood\n",
        " \n",
        "  #joint log likelihood\n",
        "  return  \n",
        "\n",
        "\n"
      ],
      "execution_count": 0,
      "outputs": []
    },
    {
      "cell_type": "code",
      "metadata": {
        "id": "erUUXWMcbxk2",
        "colab_type": "code",
        "colab": {}
      },
      "source": [
        ""
      ],
      "execution_count": 0,
      "outputs": []
    },
    {
      "cell_type": "markdown",
      "metadata": {
        "id": "twSphBaseb0-",
        "colab_type": "text"
      },
      "source": [
        "###Again, checking model fit\n"
      ]
    },
    {
      "cell_type": "code",
      "metadata": {
        "id": "poZHRcmdfFnP",
        "colab_type": "code",
        "colab": {}
      },
      "source": [
        ""
      ],
      "execution_count": 0,
      "outputs": []
    },
    {
      "cell_type": "code",
      "metadata": {
        "id": "1ZudX_n4cYx9",
        "colab_type": "code",
        "colab": {}
      },
      "source": [
        "x=np.arange(0, np.max(Exposures+1))\n",
        "pmf=  \n",
        "prediction=  \n",
        "\n",
        "Tally=Exposure.groupby([\"Exposures\"]).count()\n",
        "plt.bar(Tally.index.values,Tally.iloc[:,0].values)\n",
        "plt.scatter(x,prediction)\n",
        "\n"
      ],
      "execution_count": 0,
      "outputs": []
    },
    {
      "cell_type": "markdown",
      "metadata": {
        "id": "T_KhgBwe34tL",
        "colab_type": "text"
      },
      "source": [
        "###Market Analysis\n",
        "\n",
        "Let's revisit our original question. If we have the exposure $t$ times long, what is the expected number of exposures if we have 5000 customers?\n",
        "\n",
        "This time, the probability for \n",
        "\n",
        "$P(y)=P(y|t\\lambda_1)p+P(y|t\\lambda_2)(1-p)=\\frac{exp(-t\\lambda_1)(t\\lambda_1)^y}{y!}p+\\frac{exp(-t\\lambda_2)(t\\lambda_2)^y}{y!}(1-p)$"
      ]
    },
    {
      "cell_type": "code",
      "metadata": {
        "id": "VGkzDsR95Y6H",
        "colab_type": "code",
        "colab": {}
      },
      "source": [
        ""
      ],
      "execution_count": 0,
      "outputs": []
    },
    {
      "cell_type": "markdown",
      "metadata": {
        "id": "w5tvBFSeMcsA",
        "colab_type": "text"
      },
      "source": [
        "### Posterior analysis:\n",
        "\n",
        "The Good thing about the mixture model is that we can conduct a posterior analysis on the individual level. The question is if we observe a person had $x$ exposures, can we know better about the expected number of exposures for this person?\n",
        "\n",
        "Remember that we will not able to do so for a simple Poisson model, because everyone is supposed to follow the same Poisson process. However, in the current case, once we know how many exposures is received by a person, we can use Bayes theorem to update the probability of this person belong to each segment, which, in return, can help us update the expected number of $\\lambda$.\n",
        "\n",
        "\n",
        "$$\\text{P(Segment1|Likelihood)}=\\frac{Likelihood_1*p}{Likelihood_1*p+Likelihood_2*(1-p)}$$\n"
      ]
    },
    {
      "cell_type": "code",
      "metadata": {
        "id": "DNbGZvPI7flH",
        "colab_type": "code",
        "colab": {}
      },
      "source": [
        ""
      ],
      "execution_count": 0,
      "outputs": []
    },
    {
      "cell_type": "markdown",
      "metadata": {
        "id": "stvU6xmU7jKU",
        "colab_type": "text"
      },
      "source": [
        "After that, we can update $E(\\lambda)$ for each customer using\n",
        "\n",
        "$\\lambda_1 p+\\lambda_2(1-p)$"
      ]
    },
    {
      "cell_type": "code",
      "metadata": {
        "id": "1d-WDSqYMcVm",
        "colab_type": "code",
        "colab": {}
      },
      "source": [
        "#Exposure for the customer given observing the customer \n",
        "\n",
        "\n",
        " "
      ],
      "execution_count": 0,
      "outputs": []
    },
    {
      "cell_type": "markdown",
      "metadata": {
        "id": "7oTDZDsGyJfE",
        "colab_type": "text"
      },
      "source": [
        "###Zero-inflated Poisson\n",
        "\n",
        "Now, let's put another assumption on the model. What if one segment of consumers simply do not get to see the advertisement ($\\lambda=0$) while the other segment of consumers will have their exposure following a Poisson process with $\\lambda$?\n",
        "\n",
        "In this case, we will need to set $\\lambda=0$ for one segment. Thus, we will need to estimate only one $\\lambda$, and $p$, the probability of belonging to one segment. \n",
        "\n",
        "The likelihood will follow:\n",
        "\n",
        "$PMF_{poisson}(y_i|\\lambda_1) p+ PMF_{poisson}(y_i|\\lambda_2=0) (1-p)$\n",
        "\n",
        "This model is also called zero-inflated Poisson regression."
      ]
    },
    {
      "cell_type": "code",
      "metadata": {
        "id": "SjOwpgovzF7Z",
        "colab_type": "code",
        "colab": {}
      },
      "source": [
        ""
      ],
      "execution_count": 0,
      "outputs": []
    },
    {
      "cell_type": "code",
      "metadata": {
        "id": "NRITqA7M45-r",
        "colab_type": "code",
        "colab": {}
      },
      "source": [
        "x=np.arange(0, np.max(Exposures+1))\n",
        "likelihood= \n",
        "prediction= \n",
        "\n",
        "Tally=Exposure.groupby([\"Exposures\"]).count()\n",
        "plt.bar(Tally.index.values,Tally.iloc[:,0].values)\n",
        "plt.scatter(x,prediction)\n",
        "\n"
      ],
      "execution_count": 0,
      "outputs": []
    },
    {
      "cell_type": "markdown",
      "metadata": {
        "id": "pC1ard-yfrfR",
        "colab_type": "text"
      },
      "source": [
        "##Continuous Unobserved Heterogeneity\n",
        "\n",
        "We can potentially add many segments to a mixture model. However, as we add more segments, we will need to estimate more parameters, which might make the model hard to converge.\n",
        "\n",
        "\n",
        "Sometimes, it makes more sense to assume that every customer has different parameter values. In other words, we will assume a parameter that bears heterogeneity following a continuous distribution.\n",
        "\n"
      ]
    },
    {
      "cell_type": "markdown",
      "metadata": {
        "id": "en3b39me7DT2",
        "colab_type": "text"
      },
      "source": [
        "###Constructing the likelihood function\n",
        "\n",
        "It can be useful to assume that all the customers have different $\\lambda$. It is common to assume that $\\lambda$ follows a [Gamma distributio](https://en.wikipedia.org/wiki/Gamma_distribution)n ($\\sim Gamma(\\gamma, \\alpha)$).\n",
        "\n",
        "Gamma distribution is a continuous distribution and has the following PDF:\n",
        "\n",
        "\n",
        "$$f(\\lambda)=\\frac{\\alpha^\\gamma}{\\Gamma(\\gamma)}\\lambda ^{\\gamma-1} exp(-{\\alpha\\lambda})$$.\n",
        "\n",
        "where $\\lambda>0$. $\\alpha$ and $\\gamma$ are both positive parameters. \n",
        "\n",
        "$E(\\lambda)=\\frac{\\gamma}{\\alpha}$, while $Var(\\lambda)=\\frac{\\gamma}{\\alpha^2}$\n",
        "\n"
      ]
    },
    {
      "cell_type": "code",
      "metadata": {
        "id": "AB27XuZeZHTb",
        "colab_type": "code",
        "outputId": "78b5ee80-32bd-4a0b-cdb5-3b6f6bf33563",
        "colab": {
          "base_uri": "https://localhost:8080/",
          "height": 281
        }
      },
      "source": [
        "def gamma_pdf(lmbda,alpha,gamma):\n",
        "  pdf=alpha**gamma/spsp.gamma(gamma)*lmbda**(gamma-1)*np.exp(-alpha*lmbda)\n",
        "  return pdf\n",
        "\n",
        "lmbda=np.linspace(0,10,1000)\n",
        "plt.plot(lmbda, gamma_pdf(lmbda,2,3), label=\"\\u03B1=2, \\u03B3=3\")\n",
        "plt.plot(lmbda, gamma_pdf(lmbda,2,1), label=\"\\u03B1=2, \\u03B3=4\")\n",
        "plt.plot(lmbda, gamma_pdf(lmbda,1,1), label=\"\\u03B1=1, \\u03B3=1\")\n",
        "plt.plot(lmbda, gamma_pdf(lmbda,1,4), label=\"\\u03B1=1, \\u03B3=4\")\n",
        "plt.plot(lmbda, gamma_pdf(lmbda,3,5), label=\"\\u03B1=3, \\u03B3=5\")\n",
        "plt.legend(loc=\"best\")\n",
        "plt.title(\"Gamma distribution\")\n",
        "plt.show()"
      ],
      "execution_count": 0,
      "outputs": [
        {
          "output_type": "display_data",
          "data": {
            "image/png": "[encoded data removed]",
            "text/plain": [
              "<Figure size 432x288 with 1 Axes>"
            ]
          },
          "metadata": {
            "tags": []
          }
        }
      ]
    },
    {
      "cell_type": "markdown",
      "metadata": {
        "id": "R-IyT9SiZElm",
        "colab_type": "text"
      },
      "source": [
        "There are many reasons we choose Gamma distribution: \n",
        "\n",
        "(1) Gamma distribution ranges from 0 and $\\infty$, which fits the range for $\\lambda$\n",
        "\n",
        "(2) Gamma distribution has a very flexible shape even though it only has two parameters.\n",
        "\n",
        "(3) We can derive the closed-form solution for the likelihood.\n",
        "\n",
        "Since do not observe the $\\lambda$ for each person, we will need to integrate $\\lambda$ out. \n",
        "\n",
        "$likelihood=\\int P(y|\\lambda)f(\\lambda) d\\lambda=∫\\frac{\\lambda^y exp(-\\lambda)}{y!} \\times \\frac{\\alpha^\\gamma}{\\Gamma(\\gamma)}\\lambda ^{\\gamma-1} exp(-{\\alpha\\lambda}) dλ=\\frac{\\Gamma(\\gamma+y)}{\\Gamma(\\gamma)\\Gamma(y+1)}(\\frac{1}{\\alpha+1})^y (\\frac{\\alpha}{\\alpha+1})^\\gamma $\n",
        "\n",
        "The integration result gives the PMF of a distribution called \"[negative binomial distribution](https://en.wikipedia.org/wiki/Negative_binomial_distribution)\". Thus,this regression is also called NBD regression.\n",
        "\n",
        "For an NBD distribution, the mean is equal to $\\gamma/\\alpha$, while the variance is equal to $\\gamma (1+\\alpha)/\\alpha^2$."
      ]
    },
    {
      "cell_type": "code",
      "metadata": {
        "id": "A68gEIyqyTOo",
        "colab_type": "code",
        "colab": {}
      },
      "source": [
        "\n",
        "def neg_LL(betas):\n",
        "  #compute alpha, gamma\n",
        "\n",
        "  #individual  likelihood\n",
        "\n",
        "  #individual log likelihoo\n",
        "  ind_LL=np.log(ind_L)\n",
        "  #joint log likelihood\n",
        "  Joint_LL=np.sum(ind_LL)\n",
        "  return -Joint_LL\n",
        "\n",
        "guess=np.random.rand(2)\n",
        "betas=minimize(neg_LL,guess,method=\"BFGS\").x\n",
        "\n",
        "#recover alpha, beta\n",
        "\n",
        "\n",
        "print(alpha,gamma)\n",
        "\n",
        "\n"
      ],
      "execution_count": 0,
      "outputs": []
    },
    {
      "cell_type": "markdown",
      "metadata": {
        "id": "dsowbvJcFzWL",
        "colab_type": "text"
      },
      "source": [
        "###Model Fit\n",
        "\n",
        "Again, let's take a look at the model fit"
      ]
    },
    {
      "cell_type": "code",
      "metadata": {
        "id": "NGNpyhTgFqUL",
        "colab_type": "code",
        "colab": {}
      },
      "source": [
        "x=np.arange(0, np.max(Exposures+1))\n",
        "PMF =\n",
        "prediction=  \n",
        "Tally=Exposure.groupby([\"Exposures\"]).count()\n",
        "plt.bar(Tally.index.values,Tally.iloc[:,0].values)\n",
        "plt.scatter(x,prediction)\n",
        "\n"
      ],
      "execution_count": 0,
      "outputs": []
    },
    {
      "cell_type": "markdown",
      "metadata": {
        "id": "fvLifW6j7oSW",
        "colab_type": "text"
      },
      "source": [
        "### Market Analysis\n",
        "\n",
        "Let's revisit the question: \n",
        "\n",
        "How do we know the number of customers having 0 exposures, 1, exposures, ... if the time window is $t$ times long?\n",
        "\n",
        "It can be derived that \n",
        "\n",
        "$P(y)=\\frac{\\Gamma(\\gamma+y)}{\\Gamma(\\gamma)\\Gamma(y+1)}(\\frac{t}{\\alpha+t})^y (\\frac{\\alpha}{\\alpha+t})^\\gamma$\n",
        "\n",
        "Now, the expected number of exposures will be equal to $t \\gamma/\\alpha$"
      ]
    },
    {
      "cell_type": "code",
      "metadata": {
        "id": "0-dy33FuSeJu",
        "colab_type": "code",
        "colab": {}
      },
      "source": [
        ""
      ],
      "execution_count": 0,
      "outputs": []
    },
    {
      "cell_type": "markdown",
      "metadata": {
        "id": "CrSEPM087Qq2",
        "colab_type": "text"
      },
      "source": [
        "###Posterior Analysis\n",
        "\n",
        "\n",
        "Let's assume that the $\\lambda \\sim Gamma(\\gamma, alpha)$ on the market level.\n",
        "\n",
        "If we observe a customer had $x$ exposures, we can update the distribution of $\\lambda$ for this customer just like what we did for a mixture model.\n",
        "\n",
        "$f(\\lambda|x)=\\frac{P(x|\\lambda)g(\\lambda)}{\\int P(x|\\lambda)g{\\lambda} d\\lambda}$\n",
        "\n",
        "Again, this formula is based on Bayes theorem.\n",
        "\n",
        "It can be derived that $\\lambda|y \\sim Gamma( \\gamma+y, \\alpha+1)$\n",
        "\n",
        "Thus, $E(\\lambda|x)=\\frac{\\gamma+y}{\\alpha+1}$"
      ]
    },
    {
      "cell_type": "code",
      "metadata": {
        "id": "ri8srbXfSZmo",
        "colab_type": "code",
        "colab": {}
      },
      "source": [
        ""
      ],
      "execution_count": 0,
      "outputs": []
    },
    {
      "cell_type": "markdown",
      "metadata": {
        "id": "iTt7aIPApTDi",
        "colab_type": "text"
      },
      "source": [
        "##Appendix:\n",
        "\n"
      ]
    },
    {
      "cell_type": "markdown",
      "metadata": {
        "id": "wZzNMbRDwHbt",
        "colab_type": "text"
      },
      "source": [
        "1. distibution of $y$ when $\\lambda$ becomes $t\\lambda$ while assuming $\\lambda \\sim Gamma(\\gamma, \\alpha)$.\n",
        "\n",
        "According to the property of Gamma distribution\n",
        "\n",
        "if $\\lambda \\sim Gamma(\\gamma, \\alpha)$\n",
        "\n",
        "we have $t \\lambda \\sim Gamma(\\gamma, \\alpha/t )$\n",
        "\n",
        "Thus, we have \n",
        "\n",
        "$P(y)=\\frac{\\Gamma(\\gamma+y)}{\\Gamma(\\gamma)\\Gamma(y+1)}(\\frac{1}{\\alpha/t+1})^x (\\frac{\\alpha/t}{\\alpha/t+1})^\\gamma$\n",
        "\n",
        "$=\\frac{\\Gamma(\\gamma+y)}{\\Gamma(\\gamma)\\Gamma(y+1)}(\\frac{t}{\\alpha+t})^y (\\frac{\\alpha}{\\alpha+t})^\\gamma$\n"
      ]
    },
    {
      "cell_type": "markdown",
      "metadata": {
        "id": "e_ND257Quch7",
        "colab_type": "text"
      },
      "source": [
        "2. Deriving the likelihood for Poisson-Gamma.\n",
        "\n",
        "$likelihood=\\int P(y|\\lambda)f(\\lambda) d\\lambda=∫\\frac{\\lambda^y exp(-\\lambda)}{y!} \\times \\frac{\\alpha^\\gamma}{\\Gamma(\\gamma)}\\lambda ^{\\gamma-1} exp(-{\\alpha\\lambda}) dλ$\n",
        "\n",
        "$=\\frac{\\alpha^\\gamma}{\\Gamma(\\gamma)y!} ∫ \\lambda^{y+\\gamma-1}exp(-\\alpha \\lambda) dλ$\n",
        "\n",
        "$=\\frac{\\alpha^\\gamma}{\\Gamma(\\gamma)y!}\\frac{\\Gamma(\\gamma+y)}{(\\alpha+1)^{(r+y)}}∫ \\frac{(\\alpha+1)^{(\\gamma+y)}}{\\Gamma(\\gamma+y)}\\lambda ^{\\gamma+y-1} exp(-{(\\alpha+1)\\lambda}) dλ$\n",
        "\n",
        "=$\\frac{\\alpha^\\gamma}{\\Gamma(\\gamma)y!}\\frac{\\Gamma(\\gamma+y)}{(\\alpha+1)^{(r+y)}}$\n",
        "\n",
        "\n",
        "$=\\frac{\\Gamma(\\gamma+y)}{\\Gamma(\\gamma)\\Gamma(y+1)}(\\frac{1}{\\alpha+1})^y (\\frac{\\alpha}{\\alpha+1})^\\gamma $\n",
        "\n",
        "\n"
      ]
    },
    {
      "cell_type": "markdown",
      "metadata": {
        "id": "s-xHGHunugPj",
        "colab_type": "text"
      },
      "source": [
        "3. Derive posterior for $\\lambda$ given y\n",
        "\n",
        "$f(\\lambda|y)=\\frac{P(y|\\lambda)g(\\lambda)}{\\int P(y|\\lambda)g{\\lambda} d\\lambda}=\\frac{\\frac{eyp(\\lambda)\\lambda^y}{y!} \\frac{\\alpha^\\gamma}{\\Gamma(\\gamma)}\\lambda ^{\\gamma-1} exp(-{\\alpha\\lambda})}{\\frac{\\Gamma(\\gamma+y)}{\\Gamma(\\gamma)\\Gamma(y+1)}(\\frac{1}{\\alpha+1})^y (\\frac{\\alpha}{\\alpha+1})^\\gamma}= \\frac{(\\alpha+1)^{\\gamma+y}}{\\Gamma(\\gamma+y)}\\lambda ^{\\gamma+y-1} exp(-{(\\alpha+1)\\lambda}) $\n",
        "\n",
        "It is nothing but the PDF of gamma distribution with $\\alpha+1$ and $\\gamma+y$\n",
        "\n"
      ]
    },
    {
      "cell_type": "code",
      "metadata": {
        "id": "Fo-XHGZHFOxg",
        "colab_type": "code",
        "colab": {}
      },
      "source": [
        ""
      ],
      "execution_count": 0,
      "outputs": []
    }
  ]
}