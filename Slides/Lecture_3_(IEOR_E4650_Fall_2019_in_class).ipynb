{
  "nbformat": 4,
  "nbformat_minor": 0,
  "metadata": {
    "colab": {
      "name": "Lecture 3 (IEOR E4650 Fall 2019 in class).ipynb",
      "provenance": [],
      "collapsed_sections": []
    },
    "kernelspec": {
      "name": "python3",
      "display_name": "Python 3"
    }
  },
  "cells": [
    {
      "cell_type": "markdown",
      "metadata": {
        "id": "4s5izpSul0F9",
        "colab_type": "text"
      },
      "source": [
        "# **IEOR E4650  Business Analytics (Fall 2019)**\n",
        "\n",
        "##**Lecture 3: Linear Regression**\n",
        "\n",
        "Linear regression is a commonly used technique when analyzing data. In this lecture, we discuss basics of linear regression.\n",
        "\n",
        "Learning objective:\n",
        "\n",
        "(1) Understand the basics of linear regression\n",
        "\n",
        "(2) Able to use Python to perform linear regression\n",
        "\n",
        "(3) Able to interpret important statistics"
      ]
    },
    {
      "cell_type": "markdown",
      "metadata": {
        "id": "QLirS-Kb2yqD",
        "colab_type": "text"
      },
      "source": [
        "## Framing a Question\n",
        "\n",
        "There are usually two types questions we are interested in addressing\n",
        "\n",
        "* Prediction/Classification\n",
        "\n",
        "> The task is to give an estimate of the value of the dependent variables. For example, we might be interested in how to best predict \n",
        ">> the stock price for the next period\n",
        "\n",
        ">> revenue \n",
        "\n",
        ">> house price\n",
        "\n",
        "\n",
        ">> $\\dots$\n",
        "\n",
        "* Correlation\n",
        "\n",
        "> If we are interested in how changing the value of one factor will change the other factor. For example, we might be interested in understanding\n",
        "\n",
        ">> what is the change in profit after running a market campaign? \n",
        "\n",
        ">> how does  the new government policy impact our revenue?\n",
        "\n",
        ">> how does consumer's education level impact the mortgage payment? \n",
        "\n",
        ">> $\\dots$\n",
        "\n",
        "Notice the difference here. \n",
        "\n",
        "* For the prediction tasks, we really care about an robust predicition. We would like to predict the outcome as accurate as possible when we have a new sample.\n",
        "\n",
        "* For correlation tasks, we care about identifying the correlation relationship between factors. In this case, we care less about whether the prediction is good. \n",
        "\n",
        "\n",
        "\n",
        "\n"
      ]
    },
    {
      "cell_type": "markdown",
      "metadata": {
        "id": "30gWITUfrNFZ",
        "colab_type": "text"
      },
      "source": [
        "##Building up a regression model\n",
        "\n",
        "<div>\n",
        "<img src=\"https://pics.me.me/thumb_pranay-pathole-ppathole-when-you-are-fundraising-al-when-you-45081339.png\" width=\"250\"/>\n",
        "</div>\n",
        "\n",
        "\n",
        "**Just for fun... Yi does not endorse this tweet**\n",
        "\n",
        "\n",
        "Linear regression model is one of the most commonly used models for analytics. It is simple, convinient, and can help address both prediction and correlation problems. Especially, linear regression model is an excellent choice if the outcome variable is **continuous**. \n",
        "\n",
        "\n",
        "We can construct a linear model as the following:\n",
        "\n",
        "$$y=\\beta_0+\\beta_1 x_1 + \\beta_2 x_2 +\\epsilon$$\n",
        "\n",
        "Where $y$ is the outcome whose variation can be explained by other factors. This is called the dependent variable. For example, if we want to model the variation in sales, then sales wll become the dependent variable.\n",
        "\n",
        "$x_1$ and $x_2$ are the factors that could impact the outcomes of the dependent variable. They are also called independent variables.\n",
        "\n",
        "$\\epsilon$ captures all the factors that could affect the outcome, which unfortunately does not exist in our data. An important assumption is `E(\\epsilon)=0`. When the sample size is small (say we have fewer than 30 observations), we additionally need to assume that the error term follows normal distribution. \n",
        "\n",
        "Especially, if we only have **one** indepent variable, the regression is called **simple linear regression**. However, if we have multiple independent variables, the regression is called **multiple linear regression**.\n",
        "\n",
        "The task for a linear regression is to estimate the values for $\\beta_0$, $\\beta_1$, $\\beta_2$. We will denote the estimated values using $\\widehat{\\beta_0}$, $\\widehat{\\beta_1}$, $\\widehat{\\beta_2}$.\n",
        "\n",
        "Once we have recovered our best estimates for $\\widehat{\\beta_0}$, $\\widehat{\\beta_1}$, $\\widehat{\\beta_2}$, we can then move on the the prediction stage. We have\n",
        "\n",
        "$$\\widehat{y}=\\widehat{\\beta_0}+\\widehat{\\beta_1}x_1+\\widehat{\\beta_2}x_2$$.\n",
        "\n",
        "Building up an adequate regression model is both science and art, we will spend the next two lectures discussing this.  \n",
        "\n"
      ]
    },
    {
      "cell_type": "markdown",
      "metadata": {
        "id": "gebjoNYe3nJ8",
        "colab_type": "text"
      },
      "source": [
        "## Recovering $\\widehat{\\beta_0}$, $\\widehat{\\beta_1}$, $\\widehat{\\beta_2}$...\n",
        "\n",
        "One of the most commonly used ways to recover the coefficients is \"Ordinary Linear Square\" (OLS).\n",
        "\n",
        "The idea is very simple, when we discover  $\\widehat{\\beta_0}$, $\\widehat{\\beta_1}$, $\\widehat{\\beta_2}$, we can get the prediction. We would like to minimize the following:\n",
        "\n",
        "$\\sum_{i=1}^n(y_i-\\widehat{y_i})^2$\n",
        "\n",
        "Notice that $y_i-\\widehat{y_i}$ is nothing but the prediction error for observation $i$. Thus, the above minimization is called minimizing \"the sum of squared errors\".\n",
        "\n",
        "The solution to this minimization problem has a unique solution. \n",
        "\n",
        "$\\widehat{\\beta}=(X^TX)^{-1}X^TY$\n",
        "\n",
        "Where $\\widehat{\\beta}$ is a $(k+1)*1$ vector that contains the values for all of the $\\beta$'s, assuming we have $k$ independent variables. $X$ is a $n\\times (k+1)$ matrix that stores the information of all the indepedent variables plus the intercept. $Y$ is a $n \\times 1 $ vector that stores the information of the dependent variable. \n"
      ]
    },
    {
      "cell_type": "markdown",
      "metadata": {
        "id": "ICy4gZomdvTx",
        "colab_type": "text"
      },
      "source": [
        "Let's assume that we are interested in running the following regression model\n",
        "\n",
        "$\\text{Price}=\\beta_0+\\beta_1 \\text{GROSS_SQUARE_FEET} +\\beta_2 \\text{YEAR_BUILT} +\\epsilon$"
      ]
    },
    {
      "cell_type": "code",
      "metadata": {
        "id": "XMS4i7kddu-x",
        "colab_type": "code",
        "colab": {}
      },
      "source": [
        "!pip install -U -q PyDrive\n",
        "from pydrive.auth import GoogleAuth\n",
        "from pydrive.drive import GoogleDrive\n",
        "from google.colab import auth\n",
        "from oauth2client.client import GoogleCredentials\n",
        "# Authenticate and create the PyDrive client.\n",
        "auth.authenticate_user()\n",
        "gauth = GoogleAuth()\n",
        "gauth.credentials = GoogleCredentials.get_application_default()\n",
        "drive = GoogleDrive(gauth)\n",
        "link=\"https://drive.google.com/open?id=17Sa-DuRFCWfPzCW6uRbPwxAyo1mQARUn\"\n",
        "_,id=link.split(\"=\")\n",
        "downloaded = drive.CreateFile({'id':id}) \n",
        "downloaded.GetContentFile('myfile.csv')  \n",
        "import pandas as pd\n",
        "Sales = pd.read_csv('myfile.csv')\n",
        "\n"
      ],
      "execution_count": 0,
      "outputs": []
    },
    {
      "cell_type": "code",
      "metadata": {
        "id": "oH9p1m8Ih2rD",
        "colab_type": "code",
        "colab": {}
      },
      "source": [
        "from sklearn.utils import shuffle\n",
        "Sales= shuffle(Sales)"
      ],
      "execution_count": 0,
      "outputs": []
    },
    {
      "cell_type": "code",
      "metadata": {
        "id": "dRgrlYFreX-M",
        "colab_type": "code",
        "outputId": "3e5d1248-4c70-479a-ca06-a1fefed0b8a9",
        "colab": {
          "base_uri": "https://localhost:8080/",
          "height": 86
        }
      },
      "source": [
        "Sales.columns"
      ],
      "execution_count": 0,
      "outputs": [
        {
          "output_type": "execute_result",
          "data": {
            "text/plain": [
              "Index(['BOROUGH', 'NEIGHBORHOOD', 'RESIDENTIAL_UNITS', 'COMMERCIAL_UNITS',\n",
              "       'TOTAL_UNITS', 'LAND_SQUARE_FEET', 'GROSS_SQUARE_FEET', 'YEAR_BUILT',\n",
              "       'SALE_PRICE'],\n",
              "      dtype='object')"
            ]
          },
          "metadata": {
            "tags": []
          },
          "execution_count": 60
        }
      ]
    },
    {
      "cell_type": "code",
      "metadata": {
        "id": "x980jjbVejlC",
        "colab_type": "code",
        "colab": {}
      },
      "source": [
        "#replace and delete missing values \n",
        "import numpy as np\n",
        "\n",
        "\n"
      ],
      "execution_count": 0,
      "outputs": []
    },
    {
      "cell_type": "code",
      "metadata": {
        "id": "lJpiDEYG3m1D",
        "colab_type": "code",
        "colab": {}
      },
      "source": [
        "X_frame=\n",
        "\n",
        "#define an index array\n",
        "intercept_array=\n",
        "\n",
        "#insert the intercept using dataframe.assign()function\n",
        "\n",
        "#use dataframe.values convert a datafrome to numpy array\n",
        "\n",
        "Y_frame\n",
        "\n",
        "\n",
        "X_frame\n",
        "#use this to do inverse \n",
        "from numpy.linalg import inv\n",
        "\n",
        "#.T performs transform\n",
        "#A1.dot(A2) performs matrix multiplication\n",
        "\n",
        "\n"
      ],
      "execution_count": 0,
      "outputs": []
    },
    {
      "cell_type": "markdown",
      "metadata": {
        "id": "q8uziH-YLkqv",
        "colab_type": "text"
      },
      "source": [
        "Python provides some functions that could be applied to run OLS easily. We will use from ols function inside statsmodels.formula.api module to perform the analysis. A nice tutorial can be found [here](https://www.statsmodels.org/dev/example_formulas.html)."
      ]
    },
    {
      "cell_type": "code",
      "metadata": {
        "id": "LT71GjavLtHu",
        "colab_type": "code",
        "colab": {}
      },
      "source": [
        "from statsmodels.formula.api import ols\n"
      ],
      "execution_count": 0,
      "outputs": []
    },
    {
      "cell_type": "markdown",
      "metadata": {
        "id": "IfQ6nJmlLuoE",
        "colab_type": "text"
      },
      "source": [
        "The syntex of running OLS follows \n",
        "\n",
        "`ols(formula=\"A~B+C\",data=df).fit()`\n",
        "\n",
        "for a specific model we run, we need to do the following \n",
        "\n",
        "* replace A with the column name of our dependent variable\n",
        "* replace B, C, $\\dots$, with the column names of our independent variables\n",
        "* replace df with the name of our dataframe.\n",
        "\n"
      ]
    },
    {
      "cell_type": "code",
      "metadata": {
        "id": "4qF8pbSe4AEY",
        "colab_type": "code",
        "colab": {}
      },
      "source": [
        ""
      ],
      "execution_count": 0,
      "outputs": []
    },
    {
      "cell_type": "markdown",
      "metadata": {
        "id": "0kFfVIxAc6Zg",
        "colab_type": "text"
      },
      "source": [
        "The model object we generated has many important attributes and methods. Click the link [here](https://www.statsmodels.org/stable/generated/statsmodels.regression.linear_model.OLSResults.html) for a reference. "
      ]
    },
    {
      "cell_type": "code",
      "metadata": {
        "id": "Q_3u5K6wfx-E",
        "colab_type": "code",
        "colab": {}
      },
      "source": [
        ""
      ],
      "execution_count": 0,
      "outputs": []
    },
    {
      "cell_type": "markdown",
      "metadata": {
        "id": "XpwuwRkVtUU4",
        "colab_type": "text"
      },
      "source": [
        "### Checking correlation\n",
        "\n",
        "If we care about correlation, we need to pay attention to the value of estimated coefficients and the associated p-values. Also, we are also interested in giving an intuitive interpretation of the estimated coefficients. \n",
        "\n",
        "<div>\n",
        "<img src=\"https://drive.google.com/uc?id=1hRheTmppam1KNgoJzUzIXDRisGUh1miQ\" width=\"500\"/>\n",
        "</div>\n",
        "\n",
        "\n",
        "We can get the values above by using \n",
        "\n",
        "|attributes|explanation|\n",
        "|---|---|\n",
        "|.params|$\\hat{\\beta}$|\n",
        "|.bse|standard errors|\n",
        "|.tvalues|t-statistics|\n",
        "|.conf_int(0.05)|confidence interval at an $\\alpha$ level |"
      ]
    },
    {
      "cell_type": "code",
      "metadata": {
        "id": "xd9qPYv4PI5N",
        "colab_type": "code",
        "colab": {}
      },
      "source": [
        "#predicted values for beta\n"
      ],
      "execution_count": 0,
      "outputs": []
    },
    {
      "cell_type": "markdown",
      "metadata": {
        "id": "n9P_JEMLggO-",
        "colab_type": "text"
      },
      "source": [
        "In general, we interpret coefficient in the following way:\n",
        "\n",
        "*  $\\widehat{\\beta_0}$: the expected value for $y$ when all the variables are equal to 0.\n",
        "*  $\\widehat{\\beta_i}$: expected change in $y$ when variable $i$ changes the value by 1 unit conditional on other factors being constant. \n",
        "\n",
        "\n",
        "\n",
        "\n",
        "In our case, we have\n",
        "$\\widehat{\\beta_0}=1.712545e+07$ indicates the price is supposed to be 17.1 million dollars when both the year built and the gross square feet are equal to 0. Apparently, this is not something that is very meaningful. \n",
        "\n",
        "$\\widehat{\\beta_1}=4.358812e+02$ indicates that when the gross square feet increase by one, the sale price is expected to increase by 436 dollars conditional on the year build is constant. \n",
        "\n",
        "$\\widehat{\\beta_2}=-8.831256e+03$ indicates that when year build increase by one,  the sale price is expected to decrease by 8831 dollars conditional on gross square feet being constant. \n"
      ]
    },
    {
      "cell_type": "code",
      "metadata": {
        "id": "hv3OjMqThA9S",
        "colab_type": "code",
        "colab": {}
      },
      "source": [
        "#standard error for each coefficient\n"
      ],
      "execution_count": 0,
      "outputs": []
    },
    {
      "cell_type": "code",
      "metadata": {
        "id": "iQXLCTstfd3U",
        "colab_type": "code",
        "colab": {}
      },
      "source": [
        "#t-value for each coefficient\n"
      ],
      "execution_count": 0,
      "outputs": []
    },
    {
      "cell_type": "code",
      "metadata": {
        "id": "1QtiZnleeJ-x",
        "colab_type": "code",
        "colab": {}
      },
      "source": [
        "#p-value for each coefficient"
      ],
      "execution_count": 0,
      "outputs": []
    },
    {
      "cell_type": "markdown",
      "metadata": {
        "id": "_VIakkEIgu7D",
        "colab_type": "text"
      },
      "source": [
        "In addition, p-value for $\\beta_i$ corresponds to the hypothesis testing of whether $\\beta_i=0$. If a variable corresponds to p-value<0.05, we say it is \"statistically significant\". In other words, we have enough evidence to support that this variable is different from 0 given other factors being constant. \n",
        "\n",
        "In addition, we can infer whether this correlation is positive or not by observing the sign of $\\beta$. \n",
        "\n",
        "For example, in our case we both variables are associated with a p-value equals (or, more accurately, is very close to) 0. We can say both factors are significant factors. Especially, we see that both coefficients are positive, meaning there is positive correlation between an indepedent variable and the dependent variable conditionally on the other independent variable being constant for both GROSS_SQUARE_FEET and YEAR_BUILT"
      ]
    },
    {
      "cell_type": "code",
      "metadata": {
        "id": "akCiUnmHftLM",
        "colab_type": "code",
        "colab": {}
      },
      "source": [
        "#getting confidence interval\n",
        "\n"
      ],
      "execution_count": 0,
      "outputs": []
    },
    {
      "cell_type": "markdown",
      "metadata": {
        "id": "WbsqEsKInZN8",
        "colab_type": "text"
      },
      "source": [
        "###Prediction\n",
        "\n",
        "we can use `predict()` method to get the predicted values"
      ]
    },
    {
      "cell_type": "code",
      "metadata": {
        "id": "gkfshaAhpjIy",
        "colab_type": "code",
        "colab": {}
      },
      "source": [
        ""
      ],
      "execution_count": 0,
      "outputs": []
    },
    {
      "cell_type": "code",
      "metadata": {
        "id": "LlWgcyzgiAzi",
        "colab_type": "code",
        "colab": {}
      },
      "source": [
        "import matplotlib.pyplot as plt\n",
        "\n"
      ],
      "execution_count": 0,
      "outputs": []
    },
    {
      "cell_type": "markdown",
      "metadata": {
        "id": "OEb4ct2Ey9P5",
        "colab_type": "text"
      },
      "source": [
        "##Statistics to measure model fit\n",
        "\n",
        "For a linear regression, there are usually three important measurements we look at:\n",
        "\n",
        "(1) Root Mean Square Error (RMSE)\n",
        "\n",
        "It is defined as $\\sqrt{\\frac{1}{n} \\sum_{i=1}^n(y_i-\\widehat{y_i})^2}$\n",
        "\n",
        "This is nothing but taking the square of the difference between the actual observation and the predicted values then sum of them up. We then take the square root to scale down the value. We would like the RMSE to be small.\n",
        "\n",
        "(2) Coefficient of determination ($R^2$) [.rsquared]\n",
        "\n",
        "$R^2$ is a very important statistics for linear regression. It measures the percentage of variation of the dependent variable that is explained by the indepedent variables. It ranges from 0 to 1. We would like this statistics to be high.\n",
        "\n",
        "To compute this statistics, we need \n",
        "\n",
        "$1-\\frac{\\sum_{i=1}^n(y_i-\\widehat{y_i})^2}{\\sum_{i=1}^n(y_i-\\bar{y_i})^2}$\n",
        "\n",
        "(3) Adjusted $R^2$ [.rsquared_adj]\n",
        "\n",
        "When adding in more variables, $R^2$ will keep on increasing. This might cause overfit. Adjusted $R^2$ is an alternative statistics we can use. It is defined as follows:\n",
        "\n",
        "$\\text{adjusted } R^2= 1-(1-R^2)*\\frac{n-1}{n-k-1}$"
      ]
    },
    {
      "cell_type": "code",
      "metadata": {
        "id": "OFGYPE8cyY16",
        "colab_type": "code",
        "colab": {}
      },
      "source": [
        ""
      ],
      "execution_count": 0,
      "outputs": []
    }
  ]
}