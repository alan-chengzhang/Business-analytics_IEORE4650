{
  "nbformat": 4,
  "nbformat_minor": 0,
  "metadata": {
    "colab": {
      "name": "Lecture 5 (IEOR E4650 Fall 2019 with solution: Section 1).ipynb",
      "provenance": [],
      "collapsed_sections": []
    },
    "kernelspec": {
      "name": "python3",
      "display_name": "Python 3"
    }
  },
  "cells": [
    {
      "cell_type": "markdown",
      "metadata": {
        "id": "4s5izpSul0F9",
        "colab_type": "text"
      },
      "source": [
        "# **IEOR E4650  Business Analytics (Fall 2019)**\n",
        "\n",
        "##**Lecture 5: Buidling a Good Model**\n",
        "\n",
        "Linear regression is a commonly used technique when analyzing data. In this lecture, we discuss how to build a good model to address the questions. \n",
        "\n",
        "Learning objective:\n",
        "\n",
        "(1) Understand the modeling focus for correlation and prediction\n",
        "\n",
        "(2) Understand to importance of cross validation\n",
        "\n",
        "(3) Able to perform cross validation\n",
        "\n",
        "(4) Able to work on model selection algorithms"
      ]
    },
    {
      "cell_type": "markdown",
      "metadata": {
        "id": "QLirS-Kb2yqD",
        "colab_type": "text"
      },
      "source": [
        "## Modeling focus \n",
        "\n",
        "\n",
        "\n"
      ]
    },
    {
      "cell_type": "markdown",
      "metadata": {
        "id": "KK5ojPPMdBmK",
        "colab_type": "text"
      },
      "source": [
        "Again, let's return to two focuses of modeling:\n",
        "\n",
        "$$y=\\beta_0+\\beta_1 x_1 + \\epsilon $$\n",
        "\n",
        "* Correlation/causation\n",
        "\n",
        "We would like to have a model that allows us to do a good inference on $\\beta_1 $.\n",
        "\n",
        "* Prediction\n",
        "\n",
        "We would like to have a model that gives us good prediction \n",
        "\n",
        "\n",
        "Both correlation and prediction require us to \"correctly\" specify the model. \n",
        "> Is the data clean?\n",
        "\n",
        "> Is the model correctly specified? \n",
        "\n",
        ">>Do we need to take variable transformations? \n",
        "\n",
        ">>Is linear model a good choice?"
      ]
    },
    {
      "cell_type": "markdown",
      "metadata": {
        "id": "F4ZvWelqVpAI",
        "colab_type": "text"
      },
      "source": [
        "### Special Focus for Causal inference. \n",
        "\n",
        " "
      ]
    },
    {
      "cell_type": "markdown",
      "metadata": {
        "id": "8tqb2K-bdGwi",
        "colab_type": "text"
      },
      "source": [
        " (1) Include factors that impact both $x_1$ and $y$, otherwise, $\\beta_1$ will be biased.  \n",
        "\n",
        "  >>For example, if we want to run the following model\n",
        "  \n",
        "  $$\\text{Spending_on_clothing}=\\beta_0+\\beta_1 \\text{Spending_on_grocery}+ \\epsilon$$ \n",
        "\n",
        "  >>We might find $\\beta_1$ positive and significant. However, does this mean spending more on grocery lead to more spending on clothing? Well, we are at least over-estimating the influence, because we are missing an impact factor, which is income. Maybe it is also a good idea to add the number of family members in the model. A better model to use is \n",
        "\n",
        "  $$\\text{Spending_on_clothing}=\\beta_0+\\beta_1 \\text{Spending_on_grocery}+  \\beta_2 \\text{Income} + \\beta_3 \\text{Family_members}  + \\epsilon$$ \n",
        "\n",
        ">> Here, \"Income\" and \"Family_members\" are called control variables.\n",
        "\n",
        "  >>Of course,we also want to check if variable transformations are needed. For example, it is very likely to see a right-skewed distribution for `Spending_on_clothing`, `Spending_on_grocery`, and `Income`. Check the histogram and make a decision. \n",
        "\n",
        "  >(2) If we have any factors that influence only the dependent variable, but not our independent variable, you should also include it in your model. It will help with the p-value. \n",
        "\n",
        "We will revisit the causal inference in the later lectures."
      ]
    },
    {
      "cell_type": "markdown",
      "metadata": {
        "id": "-uwotjCZc1o5",
        "colab_type": "text"
      },
      "source": [
        "### Special Focus of Prediction \n",
        "  \n",
        "\n",
        "\n"
      ]
    },
    {
      "cell_type": "markdown",
      "metadata": {
        "id": "vej0041xdNoJ",
        "colab_type": "text"
      },
      "source": [
        "A good model is the one that has good prediction power on a set of samples that we never touched on before.\n"
      ]
    },
    {
      "cell_type": "markdown",
      "metadata": {
        "id": "30gWITUfrNFZ",
        "colab_type": "text"
      },
      "source": [
        "####Bias-Variance Trade-off\n",
        "\n",
        "As model goes from simple to complicated, we risk the danger of moving from underfitting to overfitting. \n",
        "* Underfitting: miss the relevant relations between features and target outputs. \n",
        "\t-> Too much “bias”\n",
        "\n",
        "\"bias\" means our prediction is not close enough to the actual value. \n",
        "\n",
        "* Overfitting: starts to model the random noise in the training data\n",
        "\t-> Too much “variance”\n",
        "\n",
        "\"variance\" means our prediction has lots of variation.\n",
        "\n",
        "<div>\n",
        "<img src=\"https://i.stack.imgur.com/8RlJk.png\n",
        "\" width=\"250\"/>\n",
        "</div>\n",
        "\n",
        "[Source: stackexchange.]\n",
        "\n",
        "Thus, our task is to find a model that balances variance and bias.\n",
        "\n",
        "<div>\n",
        "<img src=\"https://www.researchgate.net/profile/Peter_Thesling2/publication/281821310/figure/fig2/AS:391521762332674@1470357470701/The-Bias-Variance-Tradeoff.png\n",
        "\" width=\"200\"/>\n",
        "</div>\n",
        "\n",
        "[Source: ResearchGate]\n",
        "\n",
        "\n"
      ]
    },
    {
      "cell_type": "markdown",
      "metadata": {
        "id": "gebjoNYe3nJ8",
        "colab_type": "text"
      },
      "source": [
        "#### Solution: Cross-Validation\n",
        "\n",
        "General Idea:  Using the same data for both model training and model evaluating can lead to over-fitting. Thus, we will have separate dataset for model training and the evaluation of the model accuracy.\n",
        "\n",
        "\n",
        "Split our data into three parts:\n",
        "\n",
        "* Training\n",
        "* Validation\n",
        "* Test\n",
        "\n",
        "Go through the following model training process\n",
        "\n",
        "* Step 1: Loop for each candidate model:\n",
        "\n",
        "> Use training set to train the model\n",
        "\n",
        "> Calculate the accuracy on validation set\n",
        "\n",
        "* Step 2: Choose the model with the highest accuracy on the validation set\n",
        "\n",
        "* Step 3: Report the performance of the final model using test set\n",
        "\n",
        "\n",
        "<div>\n",
        "<img src=\"https://miro.medium.com/max/1484/1*OJVhBtg5YgeW7rKXoxKQxg.png\n",
        "\" width=\"350\"/>\n",
        "</div>\n",
        "\n",
        "[Source: Medium]"
      ]
    },
    {
      "cell_type": "markdown",
      "metadata": {
        "id": "aQTQThuVcZfa",
        "colab_type": "text"
      },
      "source": [
        "#### Example of model selection:\n",
        "\n",
        "Suppose we would like to select a good model for predicting the sales.\n",
        "\n",
        "Which model is a good model?\n",
        "\n",
        " $$SalePrice=\\beta_0+\\beta_1 GrossSquareFeet + \\epsilon $$\n",
        "\n",
        " $$SalePrice=\\beta_0+\\beta_1 GrossSquareFeet+\\beta_2 GrossSquareFeet^2 + \\epsilon $$\n",
        "\n",
        "  $$log(SalePrice)=\\beta_0+\\beta_1 log(GrossSquareFeet) + \\epsilon $$\n",
        "\n",
        "Let's do the following three steps:\n",
        "\n",
        "1. Split the data into Part 1 (Training), Part 2 (Validation), and Part 3 (Testing)\n",
        "2. Run three models on Part 1 (Training)\n",
        "3. Test the model performances on Part 2 (Validation)\n",
        "4. Select the best model \n",
        "5. Report the model performance on Part 3 (Testing)\n",
        "\n",
        "**In addition, you need to have a standard on what is considered a good model.**\n",
        "\n",
        "Root Mean Square Error (RMSE):\n",
        "\n",
        "$RMSE=\\sqrt{\\frac{\\sum(y_i-\\widehat{y_i})^2}{N}}$ ---> This one weights error for each point equally\n",
        "\n",
        "Root Mean Square Percentage Error (RMSPE) [An example can be seen [here](https://www.kaggle.com/c/rossmann-store-sales/overview/evaluation)]:\n",
        "\n",
        "$RMSPE=\\sqrt{\\frac{\\sum(\\frac{\\widehat{y_i}-y_i}{y_i})^2}{N}}$ ---> This one gives a lower weights on the errors for observations with larger actual values \n",
        "\n",
        "RMSPE is less sensitive to outliers in the testing/training data. However, is not exactly aligning with the OLS objective function, which essentially is minimizing RMSE on the training set.\n"
      ]
    },
    {
      "cell_type": "code",
      "metadata": {
        "id": "5kzeFPnhcY-3",
        "colab_type": "code",
        "colab": {}
      },
      "source": [
        "!pip install -U -q PyDrive\n",
        "from pydrive.auth import GoogleAuth\n",
        "from pydrive.drive import GoogleDrive\n",
        "from google.colab import auth\n",
        "from oauth2client.client import GoogleCredentials\n",
        "# Authenticate and create the PyDrive client.\n",
        "auth.authenticate_user()\n",
        "gauth = GoogleAuth()\n",
        "gauth.credentials = GoogleCredentials.get_application_default()\n",
        "drive = GoogleDrive(gauth)\n",
        "link=\"https://drive.google.com/open?id=17Sa-DuRFCWfPzCW6uRbPwxAyo1mQARUn\"\n",
        "_,id=link.split(\"=\")\n",
        "downloaded = drive.CreateFile({'id':id}) \n",
        "downloaded.GetContentFile('myfile.csv')  \n",
        "import pandas as pd\n",
        "import numpy as np\n",
        "Sales = pd.read_csv('myfile.csv')\n",
        "from statsmodels.formula.api import ols\n"
      ],
      "execution_count": 0,
      "outputs": []
    },
    {
      "cell_type": "code",
      "metadata": {
        "id": "i45ziY87fiO6",
        "colab_type": "code",
        "colab": {}
      },
      "source": [
        "\n",
        "Sales=Sales.replace(\"-\",np.nan)\n",
        "Sales=Sales.dropna()\n",
        "Sales.shape\n",
        "Sales.rename(columns={})\n",
        "Sales=Sales.astype({\"GROSS_SQUARE_FEET\":\"float64\",\"YEAR_BUILT\":\"float64\",\"LAND_SQUARE_FEET\":\"float64\"}) \n",
        "\n",
        "Sales=Sales.rename(columns={\"GROSS_SQUARE_FEET\":\"GSF\",\"LAND_SQUARE_FEET\":\"LSF\",\"TOTAL_UNITS\":\"TU\",\"COMMERCIAL_UNITS\":\"CU\",\"RESIDENTIAL_UNITS\":\"RU\",\"SALE_PRICE\":\"SP\",\"YEAR_BUILT\":\"YB\"})"
      ],
      "execution_count": 0,
      "outputs": []
    },
    {
      "cell_type": "code",
      "metadata": {
        "id": "wlplwb7Lgvk3",
        "colab_type": "code",
        "colab": {}
      },
      "source": [
        "from sklearn.utils import shuffle\n",
        "Sales= shuffle(Sales)\n",
        "#900 samples\n",
        "Sales_training= Sales[:900]\n",
        "#300 samples\n",
        "Sales_validation= Sales[900:1200]\n",
        "#rest\n",
        "Sales_testing= Sales[1200:]\n"
      ],
      "execution_count": 0,
      "outputs": []
    },
    {
      "cell_type": "code",
      "metadata": {
        "id": "XMS4i7kddu-x",
        "colab_type": "code",
        "outputId": "9d7ead08-4d0d-4350-8485-aa007bc3451e",
        "colab": {
          "base_uri": "https://localhost:8080/",
          "height": 69
        }
      },
      "source": [
        "#Model training on the training set\n",
        "model1=ols(\"SP~GSF\",data=Sales_training).fit()\n",
        "model2=ols(\"SP~GSF+I(GSF**2)\",data=Sales_training).fit()\n",
        "model3=ols(\"np.log(SP)~np.log(GSF)\",data=Sales_training).fit()\n",
        "\n",
        "\n",
        "#Selecting the best model based the validation set\n",
        "\n",
        "##First, get the predicted value \n",
        "Prediction1=model1.predict(Sales_validation)\n",
        "Prediction2=model2.predict(Sales_validation)\n",
        "###Model 3 took used log transformation on the dependent variable. \n",
        "###Need to exponentiate the predicted value \n",
        "Prediction3=np.exp(model3.predict(Sales_validation))\n",
        "\n",
        "##Second, get the RMSPE and RMSE\n",
        "Actual=Sales_validation[\"SP\"]\n",
        "RMSPE1= (np.mean(((Prediction1-Actual)/Actual)**2))**0.5\n",
        "RMSPE2= (np.mean(((Prediction2-Actual)/Actual)**2))**0.5\n",
        "RMSPE3= (np.mean(((Prediction3-Actual)/Actual)**2))**0.5\n",
        "RMSE1= (np.mean((Prediction1-Actual))**2)**0.5\n",
        "RMSE2= (np.mean((Prediction2-Actual))**2)**0.5\n",
        "RMSE3= (np.mean((Prediction3-Actual))**2)**0.5\n",
        "\n",
        "print(RMSPE1,RMSPE2,RMSPE3)\n",
        "print(RMSE1,RMSE2,RMSE3)\n",
        "\n",
        "#Report the final performance of the chosen the model on the test set\n",
        "Actual=Sales_testing[\"SP\"]\n",
        "Prediction=np.exp(model3.predict(Sales_testing))\n",
        "RMSPE= (np.mean(((Prediction-Actual)/Actual)**2))**0.5\n",
        "RMSE= (np.mean((Prediction-Actual))**2)**0.5\n",
        "print(RMSPE, RMSE)\n"
      ],
      "execution_count": 0,
      "outputs": [
        {
          "output_type": "stream",
          "text": [
            "13.10348580060805 11.822571201084596 4.697885602766187\n",
            "262094.16113019158 233953.27991566624 173730.86681698897\n",
            "1.0369816533120197 977329.7339288273\n"
          ],
          "name": "stdout"
        }
      ]
    },
    {
      "cell_type": "markdown",
      "metadata": {
        "id": "IoO7z6uX87ah",
        "colab_type": "text"
      },
      "source": [
        "## Model Selection Algorithm\n",
        "\n",
        "Besides relying on the expertise. We can also use some model selection algorithms to helps us choose a better model.\n",
        "\n",
        "Two commonly used model selection algorihm are:\n",
        "\n",
        "**(1) Step-wise model section**\n",
        "  This model selection method works on add or remove variables one at a time to until the accuracy on the hold-out samples starts drop. \n",
        "\n",
        "  For example, forward model section as follow: \n",
        "\n",
        "(1) Select a set of variables \n",
        "\n",
        "(2) Loop:\n",
        "  >Try each variable still left in the set\n",
        "\n",
        "  >Select the variable that leads to the highest accuracy on the hold-out samples\n",
        "\n",
        "(3) Break the loop if adding one additional variable leads to decrease in accuracy on the hold-out sample\n",
        "\n",
        "\n",
        "**(2) Regularization-based model section**\n",
        "\n",
        "Ridge regression, Lasso regression,and Elastic-net are examples of commonly used algorithms. \n",
        "\n",
        "The idea is to add a penalty for complicated models.\n",
        "\n",
        "**Optimization without penalty:**\n",
        "$$\\sum(y_i-\\widehat{y_i})^2$$\n",
        "\n",
        "**Ridge (L2 regularization):**\n",
        "\n",
        "$$\\sum(y_i-\\widehat{y_i})^2+\\alpha \\sum(\\widehat{\\beta_k})^2$$\n",
        "\n",
        "**Lasso (L1 regularization ):**\n",
        "\n",
        "$$\\sum(y_i-\\widehat{y_i})^2+\\alpha \\sum|\\widehat{\\beta_k}|$$\n",
        "\n",
        "Both ridge and lasso can help reduce overfit. In addition, Lasso regression can drive certain $\\widehat{\\beta}$s to 0, which works as a variable selection tool.\n",
        "\n",
        "**Elastic-Net**\n",
        "Elastic-net is a weighted combination of Ridge and Lasso:\n",
        "\n",
        "$$\\sum(y_i-\\widehat{y_i})^2+\\alpha( L \\sum|\\widehat{\\beta_k}|+(1-L) \\sum(\\widehat{\\beta_k})^2)$$\n",
        "\n",
        "Especially, Elastic-Net reduces to Lasso when L=1, while reduces to Ridge when L=0.\n",
        "\n",
        "To implement Elastic-net using statsmodel package,use  [fit_regularized()](http://www.statsmodels.org/stable/generated/statsmodels.regression.linear_model.OLS.fit_regularized.html) instead of fit(). Especially, fit_regularized() has two important arguments. \n",
        "* alpha: this corresponds to the $\\alpha$ in the formula\n",
        "* L1_wt: this corresponds to $L$ in the formula \n",
        "\n",
        "Here, $\\alpha$ and $L$ values can be tuned using cross-validation.\n",
        "\n",
        "\n",
        "\n",
        "\n"
      ]
    },
    {
      "cell_type": "code",
      "metadata": {
        "id": "S5KrXrKzKWH8",
        "colab_type": "code",
        "outputId": "63ec5efc-7a92-4f6c-8ae7-f9afe8439ce2",
        "colab": {
          "base_uri": "https://localhost:8080/",
          "height": 35
        }
      },
      "source": [
        "Sales.columns"
      ],
      "execution_count": 0,
      "outputs": [
        {
          "output_type": "execute_result",
          "data": {
            "text/plain": [
              "Index(['BOROUGH', 'NEIGHBORHOOD', 'RU', 'CU', 'TU', 'LSF', 'GSF', 'YB', 'SP'], dtype='object')"
            ]
          },
          "metadata": {
            "tags": []
          },
          "execution_count": 161
        }
      ]
    },
    {
      "cell_type": "code",
      "metadata": {
        "id": "zBiL336t9Cdu",
        "colab_type": "code",
        "outputId": "c3aef8f1-fb90-4e8e-8484-419ffdba1e7b",
        "colab": {
          "base_uri": "https://localhost:8080/",
          "height": 953
        }
      },
      "source": [
        "model=ols(\"np.log(SP)~np.log(GSF)+RU+C(BOROUGH)+C(NEIGHBORHOOD)\",data=Sales).fit_regularized(alpha=0.0001,L1_wt=0) \n",
        "params=model.params\n",
        "params[params!=0]"
      ],
      "execution_count": 0,
      "outputs": [
        {
          "output_type": "execute_result",
          "data": {
            "text/plain": [
              "array([ 9.42120538e+00, -7.55088350e-01, -8.71618637e-02, -4.42400447e-01,\n",
              "       -6.20399882e-01, -2.89612442e-01,  4.46752199e-02,  8.57288218e-02,\n",
              "       -7.80583187e-01,  1.94898777e-01, -1.52796522e-03,  2.33595465e-01,\n",
              "       -2.61461080e-01, -2.04333942e-01,  2.79726438e-01, -1.24370694e-01,\n",
              "       -1.20049646e-01,  6.51313447e-02,  3.99412397e-01, -9.80305104e-02,\n",
              "       -1.51230560e-01,  1.07571242e-01, -3.95512354e-01,  9.53365446e-01,\n",
              "       -4.85170991e-02,  2.72127194e-01, -1.45146606e-01, -3.41567424e-01,\n",
              "       -3.45500989e-01,  1.22797059e+00, -7.41515512e-01, -1.43812551e-03,\n",
              "        7.67004326e-01, -2.72543644e-01, -5.55590074e-01, -6.77665106e-01,\n",
              "        5.54258630e-01, -2.06109148e-01, -1.64169357e-01,  6.27277701e-01,\n",
              "        3.25041545e-01,  4.78552296e-01,  3.93327105e-02,  5.15285592e-01,\n",
              "        3.59425332e-01,  1.68935649e-01, -1.90157017e-01,  4.54284971e-02,\n",
              "       -4.48874796e-01,  1.36287806e-01,  8.63651458e-02,  6.28831274e-01,\n",
              "       -2.52419183e-02, -7.60061246e-01,  2.24828021e-01,  1.82366168e-01,\n",
              "       -3.55617756e-02,  4.11386778e-01, -5.82981537e-01,  1.23528676e+00,\n",
              "        1.66676007e-01, -3.90819572e-02, -7.13506834e-01, -2.92051658e-01,\n",
              "        2.80152124e-01,  5.97815211e-02, -8.49674039e-01,  7.44851551e-01,\n",
              "       -1.45458017e-01, -8.21741791e-01, -7.86708327e-01,  2.05150340e+00,\n",
              "       -7.48629116e-01,  4.31221966e-02,  4.03949598e-01,  1.76390938e-01,\n",
              "       -5.29022364e-01,  3.37263716e-01,  1.49076870e+00,  1.28462701e-01,\n",
              "       -1.15318276e+00,  4.20221619e-02,  8.08160860e-01, -7.74767366e-02,\n",
              "        2.37656433e-01, -2.95372098e-01, -2.26848007e-02,  5.32052739e-02,\n",
              "        3.18588727e-01,  1.00676586e+00, -9.35564826e-02, -4.88729114e-01,\n",
              "        3.56690515e-01,  5.26687850e-02, -3.91888805e-01, -3.28040366e-01,\n",
              "        1.51423340e-01,  1.71389444e-01, -4.94833468e-02,  6.61746452e-02,\n",
              "       -3.63987859e-01,  1.67344918e-01, -3.66460210e-01,  2.02476246e-01,\n",
              "        3.71099404e-01,  7.68638885e-02,  2.97335278e-01,  1.32980647e+00,\n",
              "       -2.96666829e-01,  9.86201974e-01,  2.04443113e-01,  9.65259731e-02,\n",
              "        3.67616520e-01,  9.74637736e-01,  3.95445681e-02,  2.54084836e-01,\n",
              "        5.88148401e-02, -2.40509672e-01, -2.26284149e-01, -3.17724515e-02,\n",
              "       -4.23172241e-01,  1.67527249e-01,  4.60746968e-03,  2.34549032e-02,\n",
              "       -1.60214399e+00,  1.33906033e-01,  1.15854678e-01,  8.83764006e-02,\n",
              "       -1.86404557e-01,  1.03208535e-01, -1.59747934e-01,  9.78152796e-01,\n",
              "        1.08858492e-01, -6.36612173e-01,  4.45889930e-02,  7.80782474e-03,\n",
              "        1.15537372e-01, -5.16591155e-02,  3.62130744e-01,  1.97078918e-01,\n",
              "        2.33644327e-01, -3.23195852e-01, -3.48240148e-02, -3.82518207e-01,\n",
              "       -5.66507923e-01, -3.23219535e-01,  9.00220637e-01, -7.34160738e-02,\n",
              "        1.52179007e-01, -1.01058323e-01, -2.06725652e-01,  1.07242366e-01,\n",
              "       -9.92855346e-02, -2.80612348e-01, -7.18532244e-01, -2.45707480e-01,\n",
              "       -2.23607516e-01,  6.31927129e-01,  2.42933697e-01, -2.33643378e-01,\n",
              "        1.51209871e-01,  2.58573092e-01,  4.74059369e-01, -4.78573047e-01,\n",
              "       -9.23784166e-02, -3.79844419e-01, -1.98148475e-02,  2.88309277e-01,\n",
              "       -4.78270046e-02, -5.54594409e-01, -2.24302989e-01,  2.21476622e-01,\n",
              "       -3.43807797e-01,  3.63773322e-02, -1.79521316e-01, -1.63597056e-01,\n",
              "       -1.81545309e-01, -7.17090574e-01, -3.38825497e-01, -4.71784927e-01,\n",
              "        2.76989982e-01, -2.78297610e-01, -1.43217921e-02,  2.35671516e-01,\n",
              "       -1.01212552e-01,  2.65976226e-01, -1.19304845e-01, -4.74249424e-02,\n",
              "       -1.86553967e-01,  6.33607938e-01,  1.23677151e+00,  1.02427730e+00,\n",
              "        1.31868072e+00,  6.13625212e-01, -2.61052923e-01,  2.32163328e-01,\n",
              "       -1.25997437e-01, -1.62861109e-01, -2.43839143e-01,  1.81357537e-01,\n",
              "        2.16520339e-01, -1.98684591e-01,  7.76409223e-02,  7.30154784e-01,\n",
              "       -6.77645683e-01,  9.03095294e-01,  1.63633106e-01, -2.60732412e-01,\n",
              "       -2.27803228e-01,  3.69166263e-02, -1.10458942e-01,  1.99257633e-01,\n",
              "        5.90543670e-01,  1.18956537e-02])"
            ]
          },
          "metadata": {
            "tags": []
          },
          "execution_count": 162
        }
      ]
    },
    {
      "cell_type": "code",
      "metadata": {
        "id": "BqteC143Kyi5",
        "colab_type": "code",
        "outputId": "c302173d-5b2d-436b-ed7e-7290697bb3c6",
        "colab": {
          "base_uri": "https://localhost:8080/",
          "height": 35
        }
      },
      "source": [
        "#running OLS without penalty\n",
        "model_ols=ols(\"np.log(SP)~np.log(GSF)*RU*C(BOROUGH)*YB\",data=Sales_training).fit()\n",
        "Prediction=np.exp(model_ols.predict(Sales_validation))\n",
        "\n",
        "Actual=Sales_validation[\"SP\"]\n",
        "PE=(Prediction-Actual)/Actual\n",
        "RMSPE= (np.mean(PE**2))**0.5\n",
        "RMSPE"
      ],
      "execution_count": 0,
      "outputs": [
        {
          "output_type": "execute_result",
          "data": {
            "text/plain": [
              "0.8066959886200192"
            ]
          },
          "metadata": {
            "tags": []
          },
          "execution_count": 163
        }
      ]
    },
    {
      "cell_type": "code",
      "metadata": {
        "id": "nO95B9bAtz3f",
        "colab_type": "code",
        "outputId": "778c75bf-d968-4c91-e20a-0fbaa69b8d98",
        "colab": {
          "base_uri": "https://localhost:8080/",
          "height": 35
        }
      },
      "source": [
        "#running ridge\n",
        "model=ols(\"np.log(SP)~np.log(GSF)*RU*C(BOROUGH)*YB\",data=Sales_training)\\\n",
        "  .fit_regularized(alpha=0.0000004, L1_wt=0)\n",
        "Prediction=np.exp(model.predict(Sales_validation))\n",
        "\n",
        "Actual=Sales_validation[\"SP\"]\n",
        "PE=(Prediction-Actual)/Actual\n",
        "RMSPE= (np.mean(PE**2))**0.5\n",
        "RMSPE"
      ],
      "execution_count": 0,
      "outputs": [
        {
          "output_type": "execute_result",
          "data": {
            "text/plain": [
              "0.7833960806520405"
            ]
          },
          "metadata": {
            "tags": []
          },
          "execution_count": 184
        }
      ]
    },
    {
      "cell_type": "code",
      "metadata": {
        "id": "AlUjU0tytJkg",
        "colab_type": "code",
        "outputId": "38d72ac4-c942-4dfe-bcbb-9f02a4b1eb23",
        "colab": {
          "base_uri": "https://localhost:8080/",
          "height": 35
        }
      },
      "source": [
        "#running lasso\n",
        "model=ols(\"np.log(SP)~np.log(GSF)*RU*C(BOROUGH)*YB\",data=Sales_training)\\\n",
        "  .fit_regularized(alpha=0, L1_wt=1,start_params=model_ols.params)\n",
        "Prediction=np.exp(model.predict(Sales_validation))\n",
        "\n",
        "Actual=Sales_validation[\"SP\"]\n",
        "PE=(Prediction-Actual)/Actual\n",
        "RMSPE= (np.mean(PE**2))**0.5\n",
        "RMSPE"
      ],
      "execution_count": 0,
      "outputs": [
        {
          "output_type": "execute_result",
          "data": {
            "text/plain": [
              "0.8066959831314037"
            ]
          },
          "metadata": {
            "tags": []
          },
          "execution_count": 172
        }
      ]
    },
    {
      "cell_type": "markdown",
      "metadata": {
        "id": "OlUyUJKWWpbN",
        "colab_type": "text"
      },
      "source": [
        "The following code shows why Q7 in HW2 is a valid method."
      ]
    },
    {
      "cell_type": "code",
      "metadata": {
        "id": "fr1LjSBd1q2E",
        "colab_type": "code",
        "outputId": "21f53854-4095-418d-e43e-63e2f7c31d85",
        "colab": {
          "base_uri": "https://localhost:8080/",
          "height": 35
        }
      },
      "source": [
        "ols_predict=ols(\"np.log(SP)~np.log(GSF)\",data=Sales_training).fit().predict()\n",
        "ols_predict[0:5]"
      ],
      "execution_count": 0,
      "outputs": [
        {
          "output_type": "execute_result",
          "data": {
            "text/plain": [
              "array([13.12921003, 13.21717984, 13.91089931, 13.64417272, 13.46904907])"
            ]
          },
          "metadata": {
            "tags": []
          },
          "execution_count": 174
        }
      ]
    },
    {
      "cell_type": "code",
      "metadata": {
        "id": "rxRpOxsU14CR",
        "colab_type": "code",
        "outputId": "ed0b29dd-1705-410a-b612-48df135b6653",
        "colab": {
          "base_uri": "https://localhost:8080/",
          "height": 35
        }
      },
      "source": [
        "ols1_predict=ols(\"I(np.log(SP)-np.mean(np.log(SP)))~I((np.log(GSF)-np.mean(np.log(GSF)))/np.std(np.log(GSF)))-1\",data=Sales_training).fit().predict()\n",
        "ols1_predict[0:5]+np.mean(np.log(Sales_training[\"SP\"]))"
      ],
      "execution_count": 0,
      "outputs": [
        {
          "output_type": "execute_result",
          "data": {
            "text/plain": [
              "array([13.12921003, 13.21717984, 13.91089931, 13.64417272, 13.46904907])"
            ]
          },
          "metadata": {
            "tags": []
          },
          "execution_count": 175
        }
      ]
    },
    {
      "cell_type": "code",
      "metadata": {
        "id": "V9dRe6gTWo4U",
        "colab_type": "code",
        "colab": {}
      },
      "source": [
        ""
      ],
      "execution_count": 0,
      "outputs": []
    }
  ]
}