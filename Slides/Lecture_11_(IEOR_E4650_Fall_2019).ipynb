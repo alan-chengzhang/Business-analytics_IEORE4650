{
  "nbformat": 4,
  "nbformat_minor": 0,
  "metadata": {
    "colab": {
      "name": "Lecture 11 (IEOR E4650 Fall 2019).ipynb",
      "provenance": [],
      "collapsed_sections": []
    },
    "kernelspec": {
      "name": "python3",
      "display_name": "Python 3"
    }
  },
  "cells": [
    {
      "cell_type": "markdown",
      "metadata": {
        "id": "4s5izpSul0F9",
        "colab_type": "text"
      },
      "source": [
        "# **IEOR E4650  Business Analytics (Fall 2019)**\n",
        "\n",
        "##**Lecture 11: Weibull Model with covariates**\n",
        "\n",
        "In this lecture, we discuss add covariates into Weibull model. \n",
        "\n",
        "Learning objective:\n",
        "\n",
        "* Understand how to add covariates into Weibull model to model timing data\n",
        "\n"
      ]
    },
    {
      "cell_type": "code",
      "metadata": {
        "id": "L5jH1t6Tz3fr",
        "colab_type": "code",
        "colab": {}
      },
      "source": [
        "!pip install -U -q PyDrive\n",
        "from pydrive.auth import GoogleAuth\n",
        "from pydrive.drive import GoogleDrive\n",
        "from google.colab import auth\n",
        "from oauth2client.client import GoogleCredentials\n",
        "# Authenticate and create the PyDrive client.\n",
        "auth.authenticate_user()\n",
        "gauth = GoogleAuth()\n",
        "gauth.credentials = GoogleCredentials.get_application_default()\n",
        "drive = GoogleDrive(gauth)\n",
        "link=\"https://drive.google.com/open?id=1uNSppU66HLaLHNM1noTFJ4s_9TQMbJDa\"\n",
        "_,id=link.split(\"=\")\n",
        "downloaded = drive.CreateFile({'id':id}) \n",
        "downloaded.GetContentFile('myfile.csv')  \n",
        "import pandas as pd\n",
        "import numpy as np\n",
        "\n",
        "\n",
        "import matplotlib.pyplot as plt\n",
        "\n",
        "import scipy.stats as spst\n",
        "from scipy.optimize import minimize\n",
        "import scipy.special as spsp\n",
        "\n",
        "\n",
        "\n",
        "\n",
        "import warnings\n",
        "warnings.simplefilter(\"ignore\")\n",
        "\n",
        "Patients = pd.read_csv('myfile.csv')\n",
        "Patients.head(10)\n"
      ],
      "execution_count": 0,
      "outputs": []
    },
    {
      "cell_type": "markdown",
      "metadata": {
        "id": "N7uah708KrWd",
        "colab_type": "text"
      },
      "source": [
        "##Baseline model\n",
        "\n",
        "Remember that we have the pdf of Weibull distribution follows:\n",
        "\n",
        "$$f(t)=(c\\lambda)(t\\lambda)^{c-1}e^{-(t\\lambda )^c}$$\n",
        "\n",
        "where $c>0, \\lambda>0, t>0$. $E(t)=\\frac{\\Gamma(1+\\frac{1}{c})}{\\lambda}$\n",
        "\n",
        "The cdf of Weibull distribution follows:\n",
        "$$F(t)=1-e^{-(t\\lambda )^c}$$\n",
        "\n",
        "\n",
        "Here, we have two options, \n",
        "\n",
        "(1) adding covariates to $\\lambda$.\n",
        "\n",
        "We have $\\lambda=exp(\\beta_0+\\beta_1 x_1+\\beta_2 x_2)$\n",
        "\n",
        "(2) adding covariates to $c$\n",
        "\n",
        "We have $c=exp(\\beta_0+\\beta_1 x_1+\\beta_2 x_2)$\n",
        "\n"
      ]
    },
    {
      "cell_type": "code",
      "metadata": {
        "id": "BEIzsbkpDTlo",
        "colab_type": "code",
        "colab": {}
      },
      "source": [
        ""
      ],
      "execution_count": 0,
      "outputs": []
    },
    {
      "cell_type": "markdown",
      "metadata": {
        "id": "P2QRDrjDSjg_",
        "colab_type": "text"
      },
      "source": [
        "## Two segment Weibull model \n",
        "\n",
        "Previously, we assumed that we have two segments of people, one segment with higher $\\lambda$ and one segment with lower $\\lambda$. In this case, we will estimate $\\lambda_1$, $\\lambda_2$, $c$, and $p$. \n",
        "\n",
        "Here, to incorporate $x_1$ and $x_2$ to the model, we have 4 options\n",
        "\n",
        "(1) incoporate $x_1$ and $x_2$ to $\\lambda_1$ \n",
        "\n",
        "(2) incoporate $x_1$ and $x_2$ to $\\lambda_x$ \n",
        "\n",
        "(3) incoporate $x_1$ and $x_2$ to $c$\n",
        "\n",
        "(4) incoporate $x_1$ and $x_2$ to $p$\n",
        "\n",
        "We have seen the cases when we discussed Poisson model.  $\\lambda_1$, $\\lambda_2$, $c$ are all positive parameters. Thus, we can use $exp(\\beta_0+\\beta_1 x_1+\\beta_2 x_2)$. $p$ is between 0 and 1. Thus, we can use $\\frac{exp(\\beta_0+\\beta_1 x_1+\\beta_2 x_2)}{1+exp(\\beta_0+\\beta_1 x_1+\\beta_2 x_2)}$\n",
        "\n",
        "\n",
        "\n",
        "\n",
        "\n",
        "\n"
      ]
    },
    {
      "cell_type": "code",
      "metadata": {
        "id": "DQJKj1QpKF01",
        "colab_type": "code",
        "colab": {}
      },
      "source": [
        ""
      ],
      "execution_count": 0,
      "outputs": []
    },
    {
      "cell_type": "markdown",
      "metadata": {
        "id": "F4ZvWelqVpAI",
        "colab_type": "text"
      },
      "source": [
        "## Continuous observed heterogeneity\n",
        "\n",
        "Again, everything is consistent with Poisson distribution. We will again, assume $\\lambda=\\lambda_0exp(\\beta_1 x_1+ \\beta_2 x_2)$ and $ \\lambda_0 \\sim Gamma(\\gamma, \\alpha)$.\n",
        "\n",
        "Thus, again, gives us $\\lambda \\sim Gamma(\\gamma, \\frac{\\alpha}{exp(\\beta_1 x_1+ \\beta_2 x_2)})$\n",
        "\n",
        "Thus, we have \n",
        "\n",
        "$f(t)=\\frac{c\\gamma t^c(\\frac{\\alpha'}{\\alpha'+t^c})^\\gamma}{t(\\alpha'+t^c)}$\n",
        "\n",
        "$F(t)=1-(\\frac{\\alpha'}{\\alpha'+t^c})^\\gamma$\n",
        "\n",
        "and the posterior distribution follows\n",
        "\n",
        "$\\lambda|t \\sim Gamma(\\gamma+1, \\alpha'+t^c)$\n",
        "\n",
        "where $\\alpha'=\\frac{\\alpha}{exp(\\beta_1 x_1+ \\beta_2 x_2)}$.\n",
        "\n",
        "\n"
      ]
    },
    {
      "cell_type": "code",
      "metadata": {
        "id": "9W0h-lDq-RrJ",
        "colab_type": "code",
        "colab": {}
      },
      "source": [
        ""
      ],
      "execution_count": 0,
      "outputs": []
    }
  ]
}