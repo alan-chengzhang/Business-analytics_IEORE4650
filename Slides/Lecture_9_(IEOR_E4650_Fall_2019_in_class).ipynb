{
  "nbformat": 4,
  "nbformat_minor": 0,
  "metadata": {
    "colab": {
      "name": "Lecture 9 (IEOR E4650 Fall 2019 in class).ipynb",
      "provenance": [],
      "collapsed_sections": []
    },
    "kernelspec": {
      "name": "python3",
      "display_name": "Python 3"
    }
  },
  "cells": [
    {
      "cell_type": "markdown",
      "metadata": {
        "id": "4s5izpSul0F9",
        "colab_type": "text"
      },
      "source": [
        "# **IEOR E4650  Business Analytics (Fall 2019)**\n",
        "\n",
        "##**Lecture 9: Poisson Model with Observed Heterogeneity**\n",
        "\n",
        "In this lecture, we discuss how to model heterogeneity for a count model. \n",
        "\n",
        "Learning objective:\n",
        "\n",
        "* Understand the idea of uobserved heterogeneity\n",
        "* Understand how to estimate a count model with observed heterogeneity\n",
        "* Understand how to use the model for prediction\n",
        "\n"
      ]
    },
    {
      "cell_type": "markdown",
      "metadata": {
        "id": "QLirS-Kb2yqD",
        "colab_type": "text"
      },
      "source": [
        "##Observed Heterogeneity\n",
        "###(A model with covariates)"
      ]
    },
    {
      "cell_type": "markdown",
      "metadata": {
        "id": "KK5ojPPMdBmK",
        "colab_type": "text"
      },
      "source": [
        "For models that have the unobserved heterogeneity elements in, we were relying on the distribution of the data itself to tell us how the distribution of $\\lambda$ looks. \n",
        "\n",
        "There are many factors that could determine the $\\lambda$ for each customer. For example, the value of $\\lambda$ might be affected by the gender of the customer, the age of the customer.... If we have the information in the data, we can use it to model the variations in $\\lambda$ directly. This is called modeling the observed heterogeneity. \n",
        "\n",
        "For this lecture, we will use a count data with covariates.\n",
        "\n",
        "Setting of this study:\n",
        "\n",
        "The state wildlife biologists want to model how many fish are being caught by fishermen at a state park. Visitors are asked whether or not they have a camper, how many people were in the group, were there children in the group and how many fish were caught. Some visitors do not fish, but there is no data on whether a person fished or not. Some visitors who did fish did not catch any fish so there are excess zeros in the data because of the people that did not fish.\n",
        "\n",
        "\n",
        "\n",
        "|Variable|Description|\n",
        "|---|---|\n",
        "|livebait|whether the visitor has live bait or not|\n",
        "|child| how many children were in the party |\n",
        "|persons| how many people were in the party|\n",
        "|camper| whether this party camped|\n",
        "|Nfish| The number of fish caught|\n"
      ]
    },
    {
      "cell_type": "code",
      "metadata": {
        "id": "L5jH1t6Tz3fr",
        "colab_type": "code",
        "colab": {}
      },
      "source": [
        "!pip install -U -q PyDrive\n",
        "from pydrive.auth import GoogleAuth\n",
        "from pydrive.drive import GoogleDrive\n",
        "from google.colab import auth\n",
        "from oauth2client.client import GoogleCredentials\n",
        "# Authenticate and create the PyDrive client.\n",
        "auth.authenticate_user()\n",
        "gauth = GoogleAuth()\n",
        "gauth.credentials = GoogleCredentials.get_application_default()\n",
        "drive = GoogleDrive(gauth)\n",
        "link=\"https://drive.google.com/open?id=1ytZ6QqLH-ES1YxxYbOGwMERVep0Tkhgu\"\n",
        "_,id=link.split(\"=\")\n",
        "downloaded = drive.CreateFile({'id':id}) \n",
        "downloaded.GetContentFile('myfile.csv')  \n",
        "import pandas as pd\n",
        "import numpy as np\n",
        "\n",
        "import matplotlib.pyplot as plt\n",
        "\n",
        "import scipy.stats as spst\n",
        "from scipy.optimize import minimize\n",
        "import scipy.special as spsp\n",
        "\n",
        "\n",
        "Fishing = pd.read_csv('myfile.csv')\n",
        "Fishing.head(10)\n"
      ],
      "execution_count": 0,
      "outputs": []
    },
    {
      "cell_type": "markdown",
      "metadata": {
        "id": "N7uah708KrWd",
        "colab_type": "text"
      },
      "source": [
        "##Basic statistics\n",
        "\n",
        "Let's use some basic statistics to check how different factors affect the number of fish caught individually"
      ]
    },
    {
      "cell_type": "code",
      "metadata": {
        "id": "u31TG0F8KrDg",
        "colab_type": "code",
        "colab": {}
      },
      "source": [
        "Fishing[[\"livebait\",\"Nfish\"]].groupby(\"livebait\").mean()"
      ],
      "execution_count": 0,
      "outputs": []
    },
    {
      "cell_type": "code",
      "metadata": {
        "id": "10qefIpzK255",
        "colab_type": "code",
        "colab": {}
      },
      "source": [
        "Fishing[[\"child\",\"Nfish\"]].groupby(\"child\").mean()"
      ],
      "execution_count": 0,
      "outputs": []
    },
    {
      "cell_type": "code",
      "metadata": {
        "id": "IBzK2BeNK6tG",
        "colab_type": "code",
        "colab": {}
      },
      "source": [
        "Fishing[[\"persons\",\"Nfish\"]].groupby(\"persons\").mean()"
      ],
      "execution_count": 0,
      "outputs": []
    },
    {
      "cell_type": "code",
      "metadata": {
        "id": "cBadsRC7K9wS",
        "colab_type": "code",
        "colab": {}
      },
      "source": [
        "Fishing[[\"camper\",\"Nfish\"]].groupby(\"camper\").mean()"
      ],
      "execution_count": 0,
      "outputs": []
    },
    {
      "cell_type": "markdown",
      "metadata": {
        "id": "P2QRDrjDSjg_",
        "colab_type": "text"
      },
      "source": [
        "## Simple Poisson model with covarites.\n",
        "\n",
        "Previously, we used $exp(\\beta_0)$ to estimate $\\lambda$.\n",
        "\n",
        "If we have a model with covariates, we can simply use  $\\lambda_i=exp(\\beta_0+\\beta_1x_{1i}+\\beta_2x_{2i})$. In this case, every customer will have a different $\\lambda$ depending on the values of the covariates.\n",
        "\n",
        "After we construct the individualized $\\lambda_i$, the rest of the work is the same.\n",
        "\n",
        "Now, for customer $i$, the probability of getting $y_i$ counts is simply \n",
        "\n",
        "$$PMF_{poisson}(y_i|\\lambda_i)=\\frac{exp(-\\lambda_i)\\lambda_i^y}{y!}$$\n",
        "\n",
        "Notice that what's differentiate a simple Poisson model with covariates from a simple Poisson distribution is that every customer will be using a different $\\lambda_i$ when computing the individual likelihood.\n",
        "\n",
        "After that, we will move on to compute the joint log likelihood like we did before. Instead of estimating $\\beta_0$ only, we will estimate $\\beta_0$, $\\beta_1$, $\\beta_2$."
      ]
    },
    {
      "cell_type": "code",
      "metadata": {
        "id": "DQJKj1QpKF01",
        "colab_type": "code",
        "colab": {}
      },
      "source": [
        "x1=Fishing[\"livebait\"]\n",
        "x2=Fishing[\"child\"]\n",
        "x3=Fishing[\"persons\"]\n",
        "x4=Fishing[\"camper\"]\n",
        "y=Fishing[\"Nfish\"]\n",
        "\n",
        "def Neg_LL(betas):\n",
        "  #include observed heterogeneity in lmbda\n",
        "  lmbda= \n",
        "  Ind_L= \n",
        "  Ind_LL=np.log(Ind_L)\n",
        "  return -np.sum(Ind_LL)\n",
        "\n",
        "#import warnings\n",
        "#warnings.simplefilter(\"ignore\")\n",
        "\n",
        "guess=np.random.rand(5)\n",
        "model1=minimize(Neg_LL,guess, method=\"BFGS\")\n",
        "\n",
        "print(model1.fun)\n",
        "print(model1.x)"
      ],
      "execution_count": 0,
      "outputs": []
    },
    {
      "cell_type": "markdown",
      "metadata": {
        "id": "w1TpwkLdK8-l",
        "colab_type": "text"
      },
      "source": [
        "Now, for every customer, we will have a personalized exposure."
      ]
    },
    {
      "cell_type": "code",
      "metadata": {
        "id": "c_dopHzoLBmd",
        "colab_type": "code",
        "colab": {}
      },
      "source": [
        "betas=model1.x\n",
        "#predict lambda for everyone. This is the expected number of exposures\n",
        "predicted_lambda=\n",
        "#add the predicted lambda to the data frame.\n",
        "Fishing=Fishing.assign(predicted_lambda=)\n",
        "Fishing.head(10)"
      ],
      "execution_count": 0,
      "outputs": []
    },
    {
      "cell_type": "markdown",
      "metadata": {
        "id": "F4ZvWelqVpAI",
        "colab_type": "text"
      },
      "source": [
        "### Incorporating the covariates in a Mixture model\n",
        "\n",
        "Again, recall the individual likelihood function we had before. \n",
        "\n",
        "$PMF_{poisson}(y_i|\\lambda_1) p+ PMF_{poisson}(y_i|\\lambda_2) (1-p)$\n",
        "\n",
        "$PMF_{poisson}(y_i|\\lambda_1)$ is the PMF of a Poisson distribution with $\\lambda_1$ at $y_i$. Similarly, $PMF_{poisson}(y_i|\\lambda_2)$ is the PMF of a Poisson distribution with $\\lambda_2$ at $y_i$. \n",
        "\n",
        "\n",
        "\n",
        "So here we have three options:\n",
        "\n",
        "(1) Use the covarites to model $\\lambda_1$ using $exp(\\beta_0+\\beta_1 x_1+\\beta_2 x_2)$\n",
        "\n",
        "(2) Use the covariates to model $\\lambda_2$ using $exp(\\beta_0+\\beta_1 x_1+\\beta_2 x_2)$\n",
        "\n",
        "(3) Use the covariates to model p using using $\\frac{exp(\\beta_0+\\beta_1 x_1+\\beta_2 x_2)}{exp(\\beta_0+\\beta_1 x_1+\\beta_2 x_2)+1}$\n",
        "\n",
        "Of course, you can also incorperate the covariates in two of the parameters or all three of them. However, this will mean possible overfit. The model might fail to converge altogether.\n",
        "\n",
        "\n",
        "\n"
      ]
    },
    {
      "cell_type": "code",
      "metadata": {
        "id": "9W0h-lDq-RrJ",
        "colab_type": "code",
        "colab": {}
      },
      "source": [
        "#Let's estimate a zero-inflated Poisson model. We incorporate both the covariates in \n",
        "#lambda1 and p\n",
        "def Neg_LL(betas):\n",
        "  lmbda= \n",
        "  p= \n",
        "  Ind_L1=spst.poisson.pmf(y,lmbda)\n",
        "  Ind_L2=spst.poisson.pmf(y,0)\n",
        "  Ind_L=Ind_L1*p+Ind_L2*(1-p)\n",
        "  Ind_LL=np.log(Ind_L)\n",
        "  return -np.sum(Ind_LL)\n",
        "\n"
      ],
      "execution_count": 0,
      "outputs": []
    },
    {
      "cell_type": "code",
      "metadata": {
        "id": "aC_jz5F8LoOk",
        "colab_type": "code",
        "colab": {}
      },
      "source": [
        "guess=np.random.rand(10)\n",
        "model2=minimize(Neg_LL,guess, method=\"BFGS\")\n",
        " \n",
        "print(model2.fun)\n",
        "print(model2.x)"
      ],
      "execution_count": 0,
      "outputs": []
    },
    {
      "cell_type": "markdown",
      "metadata": {
        "id": "powuLGdF0Vy0",
        "colab_type": "text"
      },
      "source": [
        "###Posterior Analysis\n",
        "\n",
        "Because we have unoberved heterogeneity, we can again conduct posterior analysis. If we see a customer for one period, we can use the outcome to update the probability of this customer belonging to each segment, which can then help us update the expected number of exposures for this customer if we see this customer again."
      ]
    },
    {
      "cell_type": "code",
      "metadata": {
        "id": "3gYYpHExSj-y",
        "colab_type": "code",
        "colab": {}
      },
      "source": [
        ""
      ],
      "execution_count": 0,
      "outputs": []
    },
    {
      "cell_type": "markdown",
      "metadata": {
        "id": "15pDCHk6C2mZ",
        "colab_type": "text"
      },
      "source": [
        "##Incorporating the covariates in an NBD model\n",
        "\n",
        "For a simple Poisson model, we assumed that \n",
        "\n",
        "$\\lambda_i=exp(\\beta_0+ \\beta_1 x_{1i}+ \\beta_2 x_{2i})=\\lambda_0exp(\\beta_1 x_{1i}+ \\beta_2 x_{2i})$.\n",
        "\n",
        "It might make sense to assume that people have different $\\lambda_0$ values. Again, let's assume $\\lambda_0 \\sim  Gamma(\\gamma, \\alpha)$. \n",
        "\n",
        "$\\lambda_0 \\sim  Gamma(\\gamma, \\alpha)$\n",
        "We will have \n",
        "\n",
        "$\\lambda_i=\\lambda_0exp(\\beta_1 x_{1i}+ \\beta_2 x_{2i})\\sim Gamma (\\gamma, \\frac{\\alpha}{exp(\\beta_1x_1+\\beta_2 x_2)})$. \n",
        "\n",
        "Thus, we will have the individual likelihood function for NBD with covariates equals to:\n",
        "\n",
        "$\\frac{\\Gamma(\\gamma+y)}{\\Gamma(\\gamma)\\Gamma(y+1)}(\\frac{exp(\\beta_1 x_1 + \\beta_2 x_2 )}{\\alpha+exp(\\beta_1 x_1 + \\beta_2 x_2 )})^y(\\frac{\\alpha}{\\alpha+exp(\\beta_1 x_1 + \\beta_2 x_2)})^\\gamma$\n",
        "\n",
        "For this distribution $E(x)=\\frac{\\gamma }{\\alpha}exp(\\beta_1 x_1 + \\beta_2 x_2)$\n"
      ]
    },
    {
      "cell_type": "code",
      "metadata": {
        "id": "AkWUJUYdanTf",
        "colab_type": "code",
        "colab": {}
      },
      "source": [
        "def Neg_LL(betas):\n",
        "  alpha= \n",
        "  exp_part=\n",
        "  gamma= \n",
        "  ind_L= \n",
        "  #individual log likelihoo\n",
        "  ind_LL=np.log(ind_L)\n",
        "  #joint log likelihood\n",
        "  Joint_LL=np.sum(ind_LL)\n",
        "  return -Joint_LL  \n",
        "  \n",
        " "
      ],
      "execution_count": 0,
      "outputs": []
    },
    {
      "cell_type": "code",
      "metadata": {
        "id": "9u1p3fJ1vdhY",
        "colab_type": "code",
        "colab": {}
      },
      "source": [
        "guess=np.random.rand()\n",
        "result=minimize(Neg_LL,guess,method=\"BFGS\")\n",
        "betas=result.x\n",
        " \n",
        "\n",
        "print(betas)\n",
        "print(result.fun)\n",
        "lambda_predict_nbd=\n",
        "Fishing=Fishing.assign(lambda_predict_nbd=lambda_predict_nbd\n"
      ],
      "execution_count": 0,
      "outputs": []
    },
    {
      "cell_type": "markdown",
      "metadata": {
        "id": "twSphBaseb0-",
        "colab_type": "text"
      },
      "source": [
        "###Posterior Analysis\n",
        "\n",
        "Previously, we have \n",
        "\n",
        "$P(y|\\lambda) \\sim Poisson$ and $\\lambda\\sim Gamma (\\gamma,\\alpha)$. We derived that the posterior distribution of $\\lambda|y \\sim Gamma(\\gamma+y, \\alpha+1)$.\n",
        "\n",
        "When incorprating the covariates, we will have \n",
        "\n",
        "$P(y|\\lambda) \\sim Poisson$ and $\\lambda\\sim Gamma (\\gamma,\\frac{\\alpha}{exp(\\beta_1x_1+\\beta_2x_2)})$. It is easy to see that the posterior distribution of $\\lambda|y \\sim Gamma(\\gamma+y, \\frac{\\alpha}{exp(\\beta_1x_1+\\beta_2x_2)}+1)$.\n",
        "\n",
        "Thus, the expected number of exposures for a customer conditional on observing $y$ is equal to \n",
        "\n",
        "$$\\frac{\\gamma+y}{\\frac{\\alpha}{exp(\\beta_1x_1+\\beta_2x_2)}+1}=exp(\\beta_1x_1+\\beta_2x_2)\\frac{\\gamma+y}{\\alpha+exp(\\beta_1x_1+\\beta_2x_2)}$$\n"
      ]
    },
    {
      "cell_type": "code",
      "metadata": {
        "id": "poZHRcmdfFnP",
        "colab_type": "code",
        "colab": {}
      },
      "source": [
        "lambda_posterior=\n",
        "Fishing.assign(lambda_posterior=lambda_posterior)"
      ],
      "execution_count": 0,
      "outputs": []
    }
  ]
}