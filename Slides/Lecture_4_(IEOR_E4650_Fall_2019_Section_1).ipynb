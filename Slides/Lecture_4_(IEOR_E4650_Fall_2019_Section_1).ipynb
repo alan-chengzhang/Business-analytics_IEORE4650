{
  "nbformat": 4,
  "nbformat_minor": 0,
  "metadata": {
    "colab": {
      "name": "Lecture 4 (IEOR E4650 Fall 2019: Section 1).ipynb",
      "provenance": [],
      "collapsed_sections": []
    },
    "kernelspec": {
      "name": "python3",
      "display_name": "Python 3"
    }
  },
  "cells": [
    {
      "cell_type": "markdown",
      "metadata": {
        "id": "4s5izpSul0F9",
        "colab_type": "text"
      },
      "source": [
        "# **IEOR E4650  Business Analytics (Fall 2019)**\n",
        "\n",
        "##**Lecture 4: Building a linear regression model**\n",
        "\n",
        "In this lecture, we discuss different ways of variable transformation to help improve the prediction power of our model.\n",
        "\n",
        "Learning objective:\n",
        "\n",
        "* Understand different ways to transform the variables.\n",
        "* Understand how to apply different techniques in the real-world settings.  \n",
        "* Understand how to use Python to estimate a model that includes transformed variables. \n",
        "\n",
        "\n",
        "\n"
      ]
    },
    {
      "cell_type": "code",
      "metadata": {
        "id": "66lEaM8Oc2Vn",
        "colab_type": "code",
        "colab": {}
      },
      "source": [
        "!pip install -U -q PyDrive\n",
        "from pydrive.auth import GoogleAuth\n",
        "from pydrive.drive import GoogleDrive\n",
        "from google.colab import auth\n",
        "from oauth2client.client import GoogleCredentials\n",
        "# Authenticate and create the PyDrive client.\n",
        "auth.authenticate_user()\n",
        "gauth = GoogleAuth()\n",
        "gauth.credentials = GoogleCredentials.get_application_default()\n",
        "drive = GoogleDrive(gauth)\n",
        "link=\"https://drive.google.com/open?id=17Sa-DuRFCWfPzCW6uRbPwxAyo1mQARUn\"\n",
        "_,id=link.split(\"=\")\n",
        "downloaded = drive.CreateFile({'id':id}) \n",
        "downloaded.GetContentFile('myfile.csv')  \n",
        "import pandas as pd\n",
        "Sales = pd.read_csv('myfile.csv')\n",
        "\n"
      ],
      "execution_count": 0,
      "outputs": []
    },
    {
      "cell_type": "code",
      "metadata": {
        "id": "A-UNr3Jsc_4V",
        "colab_type": "code",
        "colab": {}
      },
      "source": [
        "from statsmodels.formula.api import ols\n",
        "import numpy as np\n",
        "from sklearn.utils import shuffle\n",
        "Sales= shuffle(Sales)\n",
        "Sales.replace(\"-\",np.nan,inplace=True)\n",
        "Sales=Sales.astype({\"GROSS_SQUARE_FEET\":\"float64\",\"YEAR_BUILT\":\"float64\",\"LAND_SQUARE_FEET\":\"float64\"}) \n"
      ],
      "execution_count": 0,
      "outputs": []
    },
    {
      "cell_type": "code",
      "metadata": {
        "id": "8wq-R3BB6OKE",
        "colab_type": "code",
        "outputId": "d2e6661c-2912-4c96-feeb-f398efac0795",
        "colab": {
          "base_uri": "https://localhost:8080/",
          "height": 106
        }
      },
      "source": [
        "Sales.columns"
      ],
      "execution_count": 0,
      "outputs": [
        {
          "output_type": "execute_result",
          "data": {
            "text/plain": [
              "Index(['BOROUGH', 'NEIGHBORHOOD', 'RESIDENTIAL_UNITS', 'COMMERCIAL_UNITS',\n",
              "       'TOTAL_UNITS', 'LAND_SQUARE_FEET', 'GROSS_SQUARE_FEET', 'YEAR_BUILT',\n",
              "       'SALE_PRICE'],\n",
              "      dtype='object')"
            ]
          },
          "metadata": {
            "tags": []
          },
          "execution_count": 3
        }
      ]
    },
    {
      "cell_type": "code",
      "metadata": {
        "id": "07oADf3n60Pd",
        "colab_type": "code",
        "colab": {}
      },
      "source": [
        "Sales=Sales.rename(columns={\"LAND_SQUARE_FEET\":\"LSF\",\"GROSS_SQUARE_FEET\":\"GSF\", \\\n",
        "                   \"YEAR_BUILT\":\"YB\",\"TOTAL_UNITS\":\"TU\",  \\\n",
        "                   \"COMMERCIAL_UNITS\":\"CU\", \"RESIDENTIAL_UNITS\":\"RU\", \\\n",
        "                   \"SALE_PRICE\":\"SP\"})"
      ],
      "execution_count": 0,
      "outputs": []
    },
    {
      "cell_type": "code",
      "metadata": {
        "id": "Af9qGhOb7f0R",
        "colab_type": "code",
        "outputId": "bfa27ace-2160-4001-e4e5-d86b66032abd",
        "colab": {
          "base_uri": "https://localhost:8080/",
          "height": 563
        }
      },
      "source": [
        "import matplotlib.pyplot as plt\n",
        "plt.scatter(Sales[\"YB\"].values,Sales[\"SP\"].values )\n",
        "plt.xlabel(\"Year built\")\n",
        "plt.ylabel(\"Sales price\")\n",
        "plt.show()\n",
        "\n",
        "plt.scatter(Sales[\"GSF\"].values,Sales[\"SP\"].values )\n",
        "plt.xlabel(\"Gross Square Feet\")\n",
        "plt.ylabel(\"Sales price\")\n",
        "plt.show()"
      ],
      "execution_count": 0,
      "outputs": [
        {
          "output_type": "display_data",
          "data": {
            "image/png": "[encoded data removed]",
            "text/plain": [
              "<Figure size 432x288 with 1 Axes>"
            ]
          },
          "metadata": {
            "tags": []
          }
        },
        {
          "output_type": "display_data",
          "data": {
            "image/png": "[encoded data removed]",
            "text/plain": [
              "<Figure size 432x288 with 1 Axes>"
            ]
          },
          "metadata": {
            "tags": []
          }
        }
      ]
    },
    {
      "cell_type": "markdown",
      "metadata": {
        "id": "8ykS0BmPbZ_u",
        "colab_type": "text"
      },
      "source": [
        "##  Linear regression model for prediction"
      ]
    },
    {
      "cell_type": "markdown",
      "metadata": {
        "id": "y-w27qlAnWIc",
        "colab_type": "text"
      },
      "source": [
        "Besides a prediction model like the following:\n",
        "\n",
        "$y=\\beta_0+\\beta_1 x_1+ \\beta_2 x_2 +\\beta_3 x_3 +\\epsilon$\n",
        "\n",
        "Are there different ways to build a richer model?\n",
        "\n",
        "Yes, here are 4 most popular methods:\n",
        "\n",
        "* polynomial \n",
        "* log transformation\n",
        "* interaction term\n",
        "* converting a categorical variable into dummy variables."
      ]
    },
    {
      "cell_type": "markdown",
      "metadata": {
        "id": "wOY7FHuZNa9z",
        "colab_type": "text"
      },
      "source": [
        "###Including Polynomial Terms\n",
        "\n",
        "If we suspect that the impact of a variable on the dependent variable is not linear, we can add polynomial terms.\n",
        "\n",
        "For example, we might want to use the amount of time a sales agent spent talking to clients to predict the performance. We might not expect the effect of time on the sales to be linear, but expect the marginal return of the time on the sales to be deminishing. In this case, we can construct a model as follows:\n",
        "\n",
        "$Sales=\\beta_0+\\beta_1*time+\\beta_2*time^2+\\epsilon$\n",
        "\n",
        "\n",
        "`ols(formula=\"y~x1+I(x1**2)+I(x1**3)\",data=S1)`"
      ]
    },
    {
      "cell_type": "code",
      "metadata": {
        "id": "tR92thqk-Z4V",
        "colab_type": "code",
        "outputId": "7113efb8-c31a-4537-c17d-d56ce008f46c",
        "colab": {
          "base_uri": "https://localhost:8080/",
          "height": 512
        }
      },
      "source": [
        "model=ols(formula=\"SP~GSF\",data=Sales).fit()\n",
        "print(model.summary())"
      ],
      "execution_count": 0,
      "outputs": [
        {
          "output_type": "stream",
          "text": [
            "                            OLS Regression Results                            \n",
            "==============================================================================\n",
            "Dep. Variable:                     SP   R-squared:                       0.568\n",
            "Model:                            OLS   Adj. R-squared:                  0.568\n",
            "Method:                 Least Squares   F-statistic:                     1924.\n",
            "Date:                Thu, 19 Sep 2019   Prob (F-statistic):          5.66e-269\n",
            "Time:                        14:42:48   Log-Likelihood:                -24400.\n",
            "No. Observations:                1465   AIC:                         4.880e+04\n",
            "Df Residuals:                    1463   BIC:                         4.881e+04\n",
            "Df Model:                           1                                         \n",
            "Covariance Type:            nonrobust                                         \n",
            "==============================================================================\n",
            "                 coef    std err          t      P>|t|      [0.025      0.975]\n",
            "------------------------------------------------------------------------------\n",
            "Intercept  -2.163e+04   1.13e+05     -0.191      0.848   -2.44e+05       2e+05\n",
            "GSF          433.2215      9.876     43.864      0.000     413.848     452.595\n",
            "==============================================================================\n",
            "Omnibus:                     1510.755   Durbin-Watson:                   2.021\n",
            "Prob(Omnibus):                  0.000   Jarque-Bera (JB):          2038350.167\n",
            "Skew:                           3.841   Prob(JB):                         0.00\n",
            "Kurtosis:                     185.575   Cond. No.                     1.20e+04\n",
            "==============================================================================\n",
            "\n",
            "Warnings:\n",
            "[1] Standard Errors assume that the covariance matrix of the errors is correctly specified.\n",
            "[2] The condition number is large, 1.2e+04. This might indicate that there are\n",
            "strong multicollinearity or other numerical problems.\n"
          ],
          "name": "stdout"
        }
      ]
    },
    {
      "cell_type": "code",
      "metadata": {
        "id": "rIKCo92SNarM",
        "colab_type": "code",
        "outputId": "1a41d916-f29a-4d6f-81b7-4a103f7d38c0",
        "colab": {
          "base_uri": "https://localhost:8080/",
          "height": 530
        }
      },
      "source": [
        "model=ols(formula=\"SP~GSF+I(GSF**2)\",data=Sales).fit()\n",
        "print(model.summary())"
      ],
      "execution_count": 0,
      "outputs": [
        {
          "output_type": "stream",
          "text": [
            "                            OLS Regression Results                            \n",
            "==============================================================================\n",
            "Dep. Variable:                     SP   R-squared:                       0.582\n",
            "Model:                            OLS   Adj. R-squared:                  0.582\n",
            "Method:                 Least Squares   F-statistic:                     1019.\n",
            "Date:                Thu, 19 Sep 2019   Prob (F-statistic):          7.58e-278\n",
            "Time:                        14:42:20   Log-Likelihood:                -24375.\n",
            "No. Observations:                1465   AIC:                         4.876e+04\n",
            "Df Residuals:                    1462   BIC:                         4.877e+04\n",
            "Df Model:                           2                                         \n",
            "Covariance Type:            nonrobust                                         \n",
            "===============================================================================\n",
            "                  coef    std err          t      P>|t|      [0.025      0.975]\n",
            "-------------------------------------------------------------------------------\n",
            "Intercept    4.228e+05   1.28e+05      3.306      0.001    1.72e+05    6.74e+05\n",
            "GSF           253.1878     27.322      9.267      0.000     199.593     306.782\n",
            "I(GSF ** 2)     0.0012      0.000      7.050      0.000       0.001       0.002\n",
            "==============================================================================\n",
            "Omnibus:                     1759.110   Durbin-Watson:                   2.021\n",
            "Prob(Omnibus):                  0.000   Jarque-Bera (JB):          2185598.227\n",
            "Skew:                           5.241   Prob(JB):                         0.00\n",
            "Kurtosis:                     191.932   Cond. No.                     2.16e+09\n",
            "==============================================================================\n",
            "\n",
            "Warnings:\n",
            "[1] Standard Errors assume that the covariance matrix of the errors is correctly specified.\n",
            "[2] The condition number is large, 2.16e+09. This might indicate that there are\n",
            "strong multicollinearity or other numerical problems.\n"
          ],
          "name": "stdout"
        }
      ]
    },
    {
      "cell_type": "code",
      "metadata": {
        "id": "w2F-BuIpANdZ",
        "colab_type": "code",
        "outputId": "677e7946-0df6-475c-e324-83641747e108",
        "colab": {
          "base_uri": "https://localhost:8080/",
          "height": 175
        }
      },
      "source": [
        "Sales[\"GSF\"].describe()"
      ],
      "execution_count": 0,
      "outputs": [
        {
          "output_type": "execute_result",
          "data": {
            "text/plain": [
              "count      1465.000000\n",
              "mean       3325.554266\n",
              "std       10962.599062\n",
              "min         408.000000\n",
              "25%        1352.000000\n",
              "50%        1800.000000\n",
              "75%        2552.000000\n",
              "max      206000.000000\n",
              "Name: GSF, dtype: float64"
            ]
          },
          "metadata": {
            "tags": []
          },
          "execution_count": 16
        }
      ]
    },
    {
      "cell_type": "markdown",
      "metadata": {
        "id": "D_0f-eIiWThC",
        "colab_type": "text"
      },
      "source": [
        "###Including Logarithm Terms\n",
        "\n",
        "Usually, if the distribution of a variable exhibits a right tail, it can be useful to take the log transformation. Otherwise, the extreme values (which we call outlier) might influece our prediction too much. \n",
        "\n",
        "For example, if we want to perform log-transformation on $x_2$, we can use\n",
        "$$y=\\beta_0+\\beta_1 x_1+\\beta_2 log(x_2)+\\epsilon$$\n",
        "\n",
        "\n",
        "In order to take log-transformation, we will need the range of the variable to be positive. If the range is non-negative, we can add a small value to that variable as a remedy, for example using $log(x+1)$.\n",
        "\n",
        "To perform log-transformation in Python, we can simply use\n",
        "\n",
        "`ols(formula=\"y~x1+np.log(x2)\",data=S1)`\n",
        "\n"
      ]
    },
    {
      "cell_type": "code",
      "metadata": {
        "id": "ENLGMeLKR01P",
        "colab_type": "code",
        "outputId": "b6f156b1-2d81-4bfa-db9d-585a3ae09abe",
        "colab": {
          "base_uri": "https://localhost:8080/",
          "height": 283
        }
      },
      "source": [
        "import matplotlib.pyplot as plt\n",
        "plt.hist(Sales[\"GSF\"].dropna().values)\n",
        "plt.xlabel(\"GSF\")\n",
        "plt.ylabel(\"Count\")\n",
        "plt.show()\n"
      ],
      "execution_count": 0,
      "outputs": [
        {
          "output_type": "display_data",
          "data": {
            "image/png": "[encoded data removed]",
            "text/plain": [
              "<Figure size 432x288 with 1 Axes>"
            ]
          },
          "metadata": {
            "tags": []
          }
        }
      ]
    },
    {
      "cell_type": "code",
      "metadata": {
        "id": "lN1IgFDiBS6Y",
        "colab_type": "code",
        "outputId": "1538ebab-d993-46c2-c0a0-8acc891535e1",
        "colab": {
          "base_uri": "https://localhost:8080/",
          "height": 283
        }
      },
      "source": [
        "plt.hist(np.log(Sales[\"GSF\"].dropna().values))\n",
        "plt.xlabel(\"log(GSF)\")\n",
        "plt.ylabel(\"Count\")\n",
        "plt.show()\n"
      ],
      "execution_count": 0,
      "outputs": [
        {
          "output_type": "display_data",
          "data": {
            "image/png": "[encoded data removed]",
            "text/plain": [
              "<Figure size 432x288 with 1 Axes>"
            ]
          },
          "metadata": {
            "tags": []
          }
        }
      ]
    },
    {
      "cell_type": "code",
      "metadata": {
        "id": "eKpWBvnLBhDf",
        "colab_type": "code",
        "outputId": "e7241206-787f-4a24-9f7c-32edee62e488",
        "colab": {
          "base_uri": "https://localhost:8080/",
          "height": 549
        }
      },
      "source": [
        "plt.hist(Sales[\"SP\"].dropna().values)\n",
        "plt.xlabel(\"SP\")\n",
        "plt.ylabel(\"Count\")\n",
        "plt.show()\n",
        "\n",
        "plt.hist(np.log(Sales[\"SP\"].dropna().values))\n",
        "plt.xlabel(\"log(SP)\")\n",
        "plt.ylabel(\"Count\")\n",
        "plt.show()\n",
        "\n"
      ],
      "execution_count": 0,
      "outputs": [
        {
          "output_type": "display_data",
          "data": {
            "image/png": "[encoded data removed]",
            "text/plain": [
              "<Figure size 432x288 with 1 Axes>"
            ]
          },
          "metadata": {
            "tags": []
          }
        },
        {
          "output_type": "display_data",
          "data": {
            "image/png": "[encoded data removed]",
            "text/plain": [
              "<Figure size 432x288 with 1 Axes>"
            ]
          },
          "metadata": {
            "tags": []
          }
        }
      ]
    },
    {
      "cell_type": "code",
      "metadata": {
        "id": "zRACxSKBCQXN",
        "colab_type": "code",
        "outputId": "edec0c58-85a1-4eaf-a8b3-8b7210a22b2d",
        "colab": {
          "base_uri": "https://localhost:8080/",
          "height": 287
        }
      },
      "source": [
        "plt.scatter(np.log(Sales.dropna()[\"GSF\"].values),np.log(Sales.dropna()[\"SP\"].values))"
      ],
      "execution_count": 0,
      "outputs": [
        {
          "output_type": "execute_result",
          "data": {
            "text/plain": [
              "<matplotlib.collections.PathCollection at 0x7fd4c9012e48>"
            ]
          },
          "metadata": {
            "tags": []
          },
          "execution_count": 26
        },
        {
          "output_type": "display_data",
          "data": {
            "image/png": "[encoded data removed]",
            "text/plain": [
              "<Figure size 432x288 with 1 Axes>"
            ]
          },
          "metadata": {
            "tags": []
          }
        }
      ]
    },
    {
      "cell_type": "markdown",
      "metadata": {
        "id": "QP0fmnzCjuQ6",
        "colab_type": "text"
      },
      "source": [
        "One thing to notice is that if we performed log-transformation on the dependent variable. Once we finished our prediction, we can then exponentiate the predicted value. "
      ]
    },
    {
      "cell_type": "code",
      "metadata": {
        "id": "Fk6gjy7MCi4F",
        "colab_type": "code",
        "outputId": "9e53bbd2-b29e-4a4f-8340-2eef4ed73197",
        "colab": {
          "base_uri": "https://localhost:8080/",
          "height": 505
        }
      },
      "source": [
        "model=ols(formula=\"np.log(SP)~np.log(GSF)\",data=Sales).fit()\n",
        "print(model.summary())\n",
        "np.exp(model.predict())"
      ],
      "execution_count": 0,
      "outputs": [
        {
          "output_type": "stream",
          "text": [
            "                            OLS Regression Results                            \n",
            "==============================================================================\n",
            "Dep. Variable:             np.log(SP)   R-squared:                       0.438\n",
            "Model:                            OLS   Adj. R-squared:                  0.438\n",
            "Method:                 Least Squares   F-statistic:                     1141.\n",
            "Date:                Tue, 24 Sep 2019   Prob (F-statistic):          2.27e-185\n",
            "Time:                        14:24:42   Log-Likelihood:                -1350.7\n",
            "No. Observations:                1465   AIC:                             2705.\n",
            "Df Residuals:                    1463   BIC:                             2716.\n",
            "Df Model:                           1                                         \n",
            "Covariance Type:            nonrobust                                         \n",
            "===============================================================================\n",
            "                  coef    std err          t      P>|t|      [0.025      0.975]\n",
            "-------------------------------------------------------------------------------\n",
            "Intercept       7.3363      0.182     40.388      0.000       6.980       7.693\n",
            "np.log(GSF)     0.8027      0.024     33.776      0.000       0.756       0.849\n",
            "==============================================================================\n",
            "Omnibus:                      330.485   Durbin-Watson:                   1.956\n",
            "Prob(Omnibus):                  0.000   Jarque-Bera (JB):             4297.177\n",
            "Skew:                          -0.667   Prob(JB):                         0.00\n",
            "Kurtosis:                      11.284   Cond. No.                         88.8\n",
            "==============================================================================\n",
            "\n",
            "Warnings:\n",
            "[1] Standard Errors assume that the covariance matrix of the errors is correctly specified.\n"
          ],
          "name": "stdout"
        },
        {
          "output_type": "execute_result",
          "data": {
            "text/plain": [
              "array([321699.97968916, 771651.72490001, 723759.97865159, ...,\n",
              "       638409.42496947, 945932.47481336, 329621.17162634])"
            ]
          },
          "metadata": {
            "tags": []
          },
          "execution_count": 7
        }
      ]
    },
    {
      "cell_type": "markdown",
      "metadata": {
        "id": "DY1Fw0udERgB",
        "colab_type": "text"
      },
      "source": [
        "1. R2 should only be comparable if the dependent variables are the same\n",
        "    in our case, one is in the original form, the other one is in logform\n",
        "2. R2 can be misleading. might not be a good predictor of model prediction performanced.\n",
        "\n"
      ]
    },
    {
      "cell_type": "code",
      "metadata": {
        "id": "Ybt-nHVnEvQ-",
        "colab_type": "code",
        "outputId": "1e7f2a49-d760-4a79-dbb4-28f3cc91f276",
        "colab": {
          "base_uri": "https://localhost:8080/",
          "height": 293
        }
      },
      "source": [
        "plt.scatter(np.log(Sales.dropna()[\"GSF\"].values),Sales.dropna()[\"SP\"].values)"
      ],
      "execution_count": 0,
      "outputs": [
        {
          "output_type": "execute_result",
          "data": {
            "text/plain": [
              "<matplotlib.collections.PathCollection at 0x7fd4c949a048>"
            ]
          },
          "metadata": {
            "tags": []
          },
          "execution_count": 28
        },
        {
          "output_type": "display_data",
          "data": {
            "image/png": "[encoded data removed]",
            "text/plain": [
              "<Figure size 432x288 with 1 Axes>"
            ]
          },
          "metadata": {
            "tags": []
          }
        }
      ]
    },
    {
      "cell_type": "markdown",
      "metadata": {
        "id": "MRI4w8GLNHLv",
        "colab_type": "text"
      },
      "source": [
        "###Including  Interaction Terms\n",
        "\n",
        "When we expect that the impact of one variable on the depedent variable might be affected by the value of another variable, we can use the interaction term. For example, if we expect the influence of $x_1$ on $y$ varies based on the value of $x_2$, we might want to use \n",
        "\n",
        "$$y=\\beta_0+\\beta_1 x_1 + \\beta_2 x_2 + \\beta_3 x_1 x_2 + \\epsilon$$\n",
        "\n",
        "\n",
        "For example, we might want the following model to customer satisfaction level of our hotdog. We might use the number of condiments we provide and the number of sausage options we provide as the predictors. If you expect that consumers will care less about (or more) about the number of condiments we provide if we give them more sausage options, then we have a good reason to include the interaction term. \n",
        "\n",
        "\n",
        "To include an interaction term in Python, we can use x1:x2.\n",
        "\n",
        "`ols(formula=\"y~x1+x2+x1:x2\",data=S1)`\n",
        "\n",
        "when we have `x1`, `x2` and `x1:x2` are all in the model, we can equivalently use x1*x2."
      ]
    },
    {
      "cell_type": "code",
      "metadata": {
        "id": "UuYP5HBKNGuR",
        "colab_type": "code",
        "outputId": "af77ff32-e702-4618-ad8a-ffb715fcbe4d",
        "colab": {
          "base_uri": "https://localhost:8080/",
          "height": 547
        }
      },
      "source": [
        "model=ols(formula=\"np.log(SP)~np.log(GSF)*TU\",data=Sales).fit()\n",
        "print(model.summary())"
      ],
      "execution_count": 0,
      "outputs": [
        {
          "output_type": "stream",
          "text": [
            "                            OLS Regression Results                            \n",
            "==============================================================================\n",
            "Dep. Variable:             np.log(SP)   R-squared:                       0.455\n",
            "Model:                            OLS   Adj. R-squared:                  0.454\n",
            "Method:                 Least Squares   F-statistic:                     406.8\n",
            "Date:                Thu, 19 Sep 2019   Prob (F-statistic):          4.79e-192\n",
            "Time:                        15:21:02   Log-Likelihood:                -1328.2\n",
            "No. Observations:                1465   AIC:                             2664.\n",
            "Df Residuals:                    1461   BIC:                             2686.\n",
            "Df Model:                           3                                         \n",
            "Covariance Type:            nonrobust                                         \n",
            "==================================================================================\n",
            "                     coef    std err          t      P>|t|      [0.025      0.975]\n",
            "----------------------------------------------------------------------------------\n",
            "Intercept          8.0521      0.208     38.693      0.000       7.644       8.460\n",
            "np.log(GSF)        0.6947      0.028     24.486      0.000       0.639       0.750\n",
            "TU                 0.1202      0.029      4.202      0.000       0.064       0.176\n",
            "np.log(GSF):TU    -0.0090      0.002     -3.686      0.000      -0.014      -0.004\n",
            "==============================================================================\n",
            "Omnibus:                      251.400   Durbin-Watson:                   2.045\n",
            "Prob(Omnibus):                  0.000   Jarque-Bera (JB):             2827.694\n",
            "Skew:                          -0.431   Prob(JB):                         0.00\n",
            "Kurtosis:                       9.751   Cond. No.                     1.07e+03\n",
            "==============================================================================\n",
            "\n",
            "Warnings:\n",
            "[1] Standard Errors assume that the covariance matrix of the errors is correctly specified.\n",
            "[2] The condition number is large, 1.07e+03. This might indicate that there are\n",
            "strong multicollinearity or other numerical problems.\n"
          ],
          "name": "stdout"
        }
      ]
    },
    {
      "cell_type": "code",
      "metadata": {
        "id": "O-VWKbRUq_QK",
        "colab_type": "code",
        "outputId": "3063c2f1-975b-44d2-c8ad-3d6312a69adb",
        "colab": {
          "base_uri": "https://localhost:8080/",
          "height": 1000
        }
      },
      "source": [
        "Sales"
      ],
      "execution_count": 0,
      "outputs": [
        {
          "output_type": "execute_result",
          "data": {
            "text/html": [
              "<div>\n",
              "<style scoped>\n",
              "    .dataframe tbody tr th:only-of-type {\n",
              "        vertical-align: middle;\n",
              "    }\n",
              "\n",
              "    .dataframe tbody tr th {\n",
              "        vertical-align: top;\n",
              "    }\n",
              "\n",
              "    .dataframe thead th {\n",
              "        text-align: right;\n",
              "    }\n",
              "</style>\n",
              "<table border=\"1\" class=\"dataframe\">\n",
              "  <thead>\n",
              "    <tr style=\"text-align: right;\">\n",
              "      <th></th>\n",
              "      <th>BOROUGH</th>\n",
              "      <th>NEIGHBORHOOD</th>\n",
              "      <th>RU</th>\n",
              "      <th>CU</th>\n",
              "      <th>TU</th>\n",
              "      <th>LSF</th>\n",
              "      <th>GSF</th>\n",
              "      <th>YB</th>\n",
              "      <th>SP</th>\n",
              "    </tr>\n",
              "  </thead>\n",
              "  <tbody>\n",
              "    <tr>\n",
              "      <th>2427</th>\n",
              "      <td>5</td>\n",
              "      <td>CONCORD-FOX HILLS</td>\n",
              "      <td>1</td>\n",
              "      <td>0</td>\n",
              "      <td>1</td>\n",
              "      <td>1600.0</td>\n",
              "      <td>780.0</td>\n",
              "      <td>1995.0</td>\n",
              "      <td>347500.0</td>\n",
              "    </tr>\n",
              "    <tr>\n",
              "      <th>1858</th>\n",
              "      <td>3</td>\n",
              "      <td>FLATBUSH-NORTH</td>\n",
              "      <td>3</td>\n",
              "      <td>0</td>\n",
              "      <td>3</td>\n",
              "      <td>2000.0</td>\n",
              "      <td>2320.0</td>\n",
              "      <td>1935.0</td>\n",
              "      <td>510000.0</td>\n",
              "    </tr>\n",
              "    <tr>\n",
              "      <th>641</th>\n",
              "      <td>1</td>\n",
              "      <td>SOUTHBRIDGE</td>\n",
              "      <td>0</td>\n",
              "      <td>0</td>\n",
              "      <td>0</td>\n",
              "      <td>NaN</td>\n",
              "      <td>NaN</td>\n",
              "      <td>1971.0</td>\n",
              "      <td>1220000.0</td>\n",
              "    </tr>\n",
              "    <tr>\n",
              "      <th>17</th>\n",
              "      <td>1</td>\n",
              "      <td>FINANCIAL</td>\n",
              "      <td>0</td>\n",
              "      <td>0</td>\n",
              "      <td>0</td>\n",
              "      <td>NaN</td>\n",
              "      <td>NaN</td>\n",
              "      <td>NaN</td>\n",
              "      <td>26750000.0</td>\n",
              "    </tr>\n",
              "    <tr>\n",
              "      <th>1900</th>\n",
              "      <td>3</td>\n",
              "      <td>CANARSIE</td>\n",
              "      <td>2</td>\n",
              "      <td>0</td>\n",
              "      <td>2</td>\n",
              "      <td>1800.0</td>\n",
              "      <td>2142.0</td>\n",
              "      <td>1960.0</td>\n",
              "      <td>500000.0</td>\n",
              "    </tr>\n",
              "    <tr>\n",
              "      <th>2221</th>\n",
              "      <td>2</td>\n",
              "      <td>MOTT HAVEN/PORT MORRIS</td>\n",
              "      <td>2</td>\n",
              "      <td>0</td>\n",
              "      <td>2</td>\n",
              "      <td>2000.0</td>\n",
              "      <td>2280.0</td>\n",
              "      <td>1993.0</td>\n",
              "      <td>410036.0</td>\n",
              "    </tr>\n",
              "    <tr>\n",
              "      <th>751</th>\n",
              "      <td>3</td>\n",
              "      <td>MADISON</td>\n",
              "      <td>4</td>\n",
              "      <td>0</td>\n",
              "      <td>4</td>\n",
              "      <td>2483.0</td>\n",
              "      <td>3172.0</td>\n",
              "      <td>1932.0</td>\n",
              "      <td>1060000.0</td>\n",
              "    </tr>\n",
              "    <tr>\n",
              "      <th>1676</th>\n",
              "      <td>2</td>\n",
              "      <td>COUNTRY CLUB</td>\n",
              "      <td>2</td>\n",
              "      <td>0</td>\n",
              "      <td>2</td>\n",
              "      <td>2375.0</td>\n",
              "      <td>1937.0</td>\n",
              "      <td>1915.0</td>\n",
              "      <td>575000.0</td>\n",
              "    </tr>\n",
              "    <tr>\n",
              "      <th>1433</th>\n",
              "      <td>4</td>\n",
              "      <td>ST. ALBANS</td>\n",
              "      <td>2</td>\n",
              "      <td>0</td>\n",
              "      <td>2</td>\n",
              "      <td>2950.0</td>\n",
              "      <td>1620.0</td>\n",
              "      <td>1920.0</td>\n",
              "      <td>665000.0</td>\n",
              "    </tr>\n",
              "    <tr>\n",
              "      <th>1047</th>\n",
              "      <td>1</td>\n",
              "      <td>MURRAY HILL</td>\n",
              "      <td>0</td>\n",
              "      <td>0</td>\n",
              "      <td>0</td>\n",
              "      <td>NaN</td>\n",
              "      <td>NaN</td>\n",
              "      <td>1953.0</td>\n",
              "      <td>850000.0</td>\n",
              "    </tr>\n",
              "    <tr>\n",
              "      <th>2260</th>\n",
              "      <td>1</td>\n",
              "      <td>UPPER WEST SIDE (96-116)</td>\n",
              "      <td>0</td>\n",
              "      <td>0</td>\n",
              "      <td>0</td>\n",
              "      <td>NaN</td>\n",
              "      <td>NaN</td>\n",
              "      <td>1930.0</td>\n",
              "      <td>400000.0</td>\n",
              "    </tr>\n",
              "    <tr>\n",
              "      <th>2493</th>\n",
              "      <td>4</td>\n",
              "      <td>FOREST HILLS</td>\n",
              "      <td>3</td>\n",
              "      <td>0</td>\n",
              "      <td>3</td>\n",
              "      <td>1638.0</td>\n",
              "      <td>2394.0</td>\n",
              "      <td>1970.0</td>\n",
              "      <td>325000.0</td>\n",
              "    </tr>\n",
              "    <tr>\n",
              "      <th>1769</th>\n",
              "      <td>4</td>\n",
              "      <td>OZONE PARK</td>\n",
              "      <td>1</td>\n",
              "      <td>0</td>\n",
              "      <td>1</td>\n",
              "      <td>2000.0</td>\n",
              "      <td>1216.0</td>\n",
              "      <td>1940.0</td>\n",
              "      <td>542500.0</td>\n",
              "    </tr>\n",
              "    <tr>\n",
              "      <th>1351</th>\n",
              "      <td>4</td>\n",
              "      <td>FLUSHING-SOUTH</td>\n",
              "      <td>1</td>\n",
              "      <td>0</td>\n",
              "      <td>1</td>\n",
              "      <td>1800.0</td>\n",
              "      <td>1224.0</td>\n",
              "      <td>1950.0</td>\n",
              "      <td>700000.0</td>\n",
              "    </tr>\n",
              "    <tr>\n",
              "      <th>1526</th>\n",
              "      <td>4</td>\n",
              "      <td>RICHMOND HILL</td>\n",
              "      <td>1</td>\n",
              "      <td>0</td>\n",
              "      <td>1</td>\n",
              "      <td>2625.0</td>\n",
              "      <td>1751.0</td>\n",
              "      <td>1925.0</td>\n",
              "      <td>626000.0</td>\n",
              "    </tr>\n",
              "    <tr>\n",
              "      <th>2853</th>\n",
              "      <td>4</td>\n",
              "      <td>FLORAL PARK</td>\n",
              "      <td>0</td>\n",
              "      <td>0</td>\n",
              "      <td>0</td>\n",
              "      <td>NaN</td>\n",
              "      <td>NaN</td>\n",
              "      <td>1950.0</td>\n",
              "      <td>184000.0</td>\n",
              "    </tr>\n",
              "    <tr>\n",
              "      <th>811</th>\n",
              "      <td>1</td>\n",
              "      <td>UPPER EAST SIDE (79-96)</td>\n",
              "      <td>0</td>\n",
              "      <td>0</td>\n",
              "      <td>0</td>\n",
              "      <td>NaN</td>\n",
              "      <td>NaN</td>\n",
              "      <td>1910.0</td>\n",
              "      <td>990000.0</td>\n",
              "    </tr>\n",
              "    <tr>\n",
              "      <th>552</th>\n",
              "      <td>1</td>\n",
              "      <td>UPPER EAST SIDE (79-96)</td>\n",
              "      <td>0</td>\n",
              "      <td>0</td>\n",
              "      <td>0</td>\n",
              "      <td>NaN</td>\n",
              "      <td>NaN</td>\n",
              "      <td>1960.0</td>\n",
              "      <td>1387000.0</td>\n",
              "    </tr>\n",
              "    <tr>\n",
              "      <th>1451</th>\n",
              "      <td>3</td>\n",
              "      <td>BEDFORD STUYVESANT</td>\n",
              "      <td>1</td>\n",
              "      <td>0</td>\n",
              "      <td>1</td>\n",
              "      <td>NaN</td>\n",
              "      <td>NaN</td>\n",
              "      <td>1930.0</td>\n",
              "      <td>659826.0</td>\n",
              "    </tr>\n",
              "    <tr>\n",
              "      <th>1390</th>\n",
              "      <td>4</td>\n",
              "      <td>JACKSON HEIGHTS</td>\n",
              "      <td>0</td>\n",
              "      <td>0</td>\n",
              "      <td>0</td>\n",
              "      <td>NaN</td>\n",
              "      <td>NaN</td>\n",
              "      <td>1937.0</td>\n",
              "      <td>685000.0</td>\n",
              "    </tr>\n",
              "    <tr>\n",
              "      <th>1052</th>\n",
              "      <td>4</td>\n",
              "      <td>HOWARD BEACH</td>\n",
              "      <td>2</td>\n",
              "      <td>0</td>\n",
              "      <td>2</td>\n",
              "      <td>4042.0</td>\n",
              "      <td>2296.0</td>\n",
              "      <td>1955.0</td>\n",
              "      <td>849000.0</td>\n",
              "    </tr>\n",
              "    <tr>\n",
              "      <th>1935</th>\n",
              "      <td>3</td>\n",
              "      <td>OLD MILL BASIN</td>\n",
              "      <td>1</td>\n",
              "      <td>0</td>\n",
              "      <td>1</td>\n",
              "      <td>2300.0</td>\n",
              "      <td>1248.0</td>\n",
              "      <td>1925.0</td>\n",
              "      <td>490000.0</td>\n",
              "    </tr>\n",
              "    <tr>\n",
              "      <th>2367</th>\n",
              "      <td>4</td>\n",
              "      <td>FLUSHING-NORTH</td>\n",
              "      <td>0</td>\n",
              "      <td>0</td>\n",
              "      <td>0</td>\n",
              "      <td>NaN</td>\n",
              "      <td>NaN</td>\n",
              "      <td>1957.0</td>\n",
              "      <td>368000.0</td>\n",
              "    </tr>\n",
              "    <tr>\n",
              "      <th>1736</th>\n",
              "      <td>4</td>\n",
              "      <td>QUEENS VILLAGE</td>\n",
              "      <td>1</td>\n",
              "      <td>0</td>\n",
              "      <td>1</td>\n",
              "      <td>5200.0</td>\n",
              "      <td>1300.0</td>\n",
              "      <td>1940.0</td>\n",
              "      <td>550000.0</td>\n",
              "    </tr>\n",
              "    <tr>\n",
              "      <th>669</th>\n",
              "      <td>4</td>\n",
              "      <td>JACKSON HEIGHTS</td>\n",
              "      <td>3</td>\n",
              "      <td>0</td>\n",
              "      <td>3</td>\n",
              "      <td>2721.0</td>\n",
              "      <td>2874.0</td>\n",
              "      <td>2006.0</td>\n",
              "      <td>1180000.0</td>\n",
              "    </tr>\n",
              "    <tr>\n",
              "      <th>1829</th>\n",
              "      <td>5</td>\n",
              "      <td>SUNNYSIDE</td>\n",
              "      <td>1</td>\n",
              "      <td>0</td>\n",
              "      <td>1</td>\n",
              "      <td>3000.0</td>\n",
              "      <td>1386.0</td>\n",
              "      <td>1982.0</td>\n",
              "      <td>524000.0</td>\n",
              "    </tr>\n",
              "    <tr>\n",
              "      <th>1732</th>\n",
              "      <td>3</td>\n",
              "      <td>PROSPECT HEIGHTS</td>\n",
              "      <td>0</td>\n",
              "      <td>0</td>\n",
              "      <td>0</td>\n",
              "      <td>NaN</td>\n",
              "      <td>NaN</td>\n",
              "      <td>1931.0</td>\n",
              "      <td>550101.0</td>\n",
              "    </tr>\n",
              "    <tr>\n",
              "      <th>456</th>\n",
              "      <td>1</td>\n",
              "      <td>CHELSEA</td>\n",
              "      <td>1</td>\n",
              "      <td>0</td>\n",
              "      <td>1</td>\n",
              "      <td>NaN</td>\n",
              "      <td>NaN</td>\n",
              "      <td>2006.0</td>\n",
              "      <td>1615000.0</td>\n",
              "    </tr>\n",
              "    <tr>\n",
              "      <th>2560</th>\n",
              "      <td>4</td>\n",
              "      <td>HOLLIS</td>\n",
              "      <td>2</td>\n",
              "      <td>0</td>\n",
              "      <td>2</td>\n",
              "      <td>1600.0</td>\n",
              "      <td>1600.0</td>\n",
              "      <td>1925.0</td>\n",
              "      <td>300000.0</td>\n",
              "    </tr>\n",
              "    <tr>\n",
              "      <th>782</th>\n",
              "      <td>3</td>\n",
              "      <td>BATH BEACH</td>\n",
              "      <td>2</td>\n",
              "      <td>1</td>\n",
              "      <td>3</td>\n",
              "      <td>2500.0</td>\n",
              "      <td>4824.0</td>\n",
              "      <td>1910.0</td>\n",
              "      <td>1000000.0</td>\n",
              "    </tr>\n",
              "    <tr>\n",
              "      <th>...</th>\n",
              "      <td>...</td>\n",
              "      <td>...</td>\n",
              "      <td>...</td>\n",
              "      <td>...</td>\n",
              "      <td>...</td>\n",
              "      <td>...</td>\n",
              "      <td>...</td>\n",
              "      <td>...</td>\n",
              "      <td>...</td>\n",
              "    </tr>\n",
              "    <tr>\n",
              "      <th>2310</th>\n",
              "      <td>3</td>\n",
              "      <td>OCEAN PARKWAY-NORTH</td>\n",
              "      <td>0</td>\n",
              "      <td>0</td>\n",
              "      <td>0</td>\n",
              "      <td>NaN</td>\n",
              "      <td>NaN</td>\n",
              "      <td>1961.0</td>\n",
              "      <td>384000.0</td>\n",
              "    </tr>\n",
              "    <tr>\n",
              "      <th>2609</th>\n",
              "      <td>5</td>\n",
              "      <td>BULLS HEAD</td>\n",
              "      <td>1</td>\n",
              "      <td>0</td>\n",
              "      <td>1</td>\n",
              "      <td>1638.0</td>\n",
              "      <td>1159.0</td>\n",
              "      <td>1988.0</td>\n",
              "      <td>285000.0</td>\n",
              "    </tr>\n",
              "    <tr>\n",
              "      <th>2014</th>\n",
              "      <td>5</td>\n",
              "      <td>PORT RICHMOND</td>\n",
              "      <td>2</td>\n",
              "      <td>0</td>\n",
              "      <td>2</td>\n",
              "      <td>3713.0</td>\n",
              "      <td>2059.0</td>\n",
              "      <td>2014.0</td>\n",
              "      <td>469000.0</td>\n",
              "    </tr>\n",
              "    <tr>\n",
              "      <th>2604</th>\n",
              "      <td>3</td>\n",
              "      <td>CANARSIE</td>\n",
              "      <td>1</td>\n",
              "      <td>0</td>\n",
              "      <td>1</td>\n",
              "      <td>NaN</td>\n",
              "      <td>NaN</td>\n",
              "      <td>NaN</td>\n",
              "      <td>288990.0</td>\n",
              "    </tr>\n",
              "    <tr>\n",
              "      <th>2494</th>\n",
              "      <td>5</td>\n",
              "      <td>TOTTENVILLE</td>\n",
              "      <td>1</td>\n",
              "      <td>0</td>\n",
              "      <td>1</td>\n",
              "      <td>943.0</td>\n",
              "      <td>1080.0</td>\n",
              "      <td>1988.0</td>\n",
              "      <td>325000.0</td>\n",
              "    </tr>\n",
              "    <tr>\n",
              "      <th>883</th>\n",
              "      <td>3</td>\n",
              "      <td>BROOKLYN HEIGHTS</td>\n",
              "      <td>1</td>\n",
              "      <td>0</td>\n",
              "      <td>1</td>\n",
              "      <td>NaN</td>\n",
              "      <td>NaN</td>\n",
              "      <td>1921.0</td>\n",
              "      <td>950000.0</td>\n",
              "    </tr>\n",
              "    <tr>\n",
              "      <th>286</th>\n",
              "      <td>1</td>\n",
              "      <td>TRIBECA</td>\n",
              "      <td>1</td>\n",
              "      <td>0</td>\n",
              "      <td>1</td>\n",
              "      <td>NaN</td>\n",
              "      <td>NaN</td>\n",
              "      <td>NaN</td>\n",
              "      <td>2450000.0</td>\n",
              "    </tr>\n",
              "    <tr>\n",
              "      <th>2265</th>\n",
              "      <td>2</td>\n",
              "      <td>BRONXDALE</td>\n",
              "      <td>1</td>\n",
              "      <td>0</td>\n",
              "      <td>1</td>\n",
              "      <td>2400.0</td>\n",
              "      <td>1810.0</td>\n",
              "      <td>1945.0</td>\n",
              "      <td>399000.0</td>\n",
              "    </tr>\n",
              "    <tr>\n",
              "      <th>830</th>\n",
              "      <td>1</td>\n",
              "      <td>UPPER WEST SIDE (59-79)</td>\n",
              "      <td>0</td>\n",
              "      <td>0</td>\n",
              "      <td>0</td>\n",
              "      <td>NaN</td>\n",
              "      <td>NaN</td>\n",
              "      <td>1910.0</td>\n",
              "      <td>979900.0</td>\n",
              "    </tr>\n",
              "    <tr>\n",
              "      <th>812</th>\n",
              "      <td>3</td>\n",
              "      <td>BOROUGH PARK</td>\n",
              "      <td>1</td>\n",
              "      <td>0</td>\n",
              "      <td>1</td>\n",
              "      <td>NaN</td>\n",
              "      <td>NaN</td>\n",
              "      <td>NaN</td>\n",
              "      <td>990000.0</td>\n",
              "    </tr>\n",
              "    <tr>\n",
              "      <th>38</th>\n",
              "      <td>1</td>\n",
              "      <td>UPPER WEST SIDE (79-96)</td>\n",
              "      <td>1</td>\n",
              "      <td>0</td>\n",
              "      <td>1</td>\n",
              "      <td>2013.0</td>\n",
              "      <td>8500.0</td>\n",
              "      <td>1910.0</td>\n",
              "      <td>11850000.0</td>\n",
              "    </tr>\n",
              "    <tr>\n",
              "      <th>2932</th>\n",
              "      <td>3</td>\n",
              "      <td>WILLIAMSBURG-EAST</td>\n",
              "      <td>0</td>\n",
              "      <td>0</td>\n",
              "      <td>0</td>\n",
              "      <td>NaN</td>\n",
              "      <td>NaN</td>\n",
              "      <td>1928.0</td>\n",
              "      <td>150000.0</td>\n",
              "    </tr>\n",
              "    <tr>\n",
              "      <th>2766</th>\n",
              "      <td>2</td>\n",
              "      <td>BEDFORD PARK/NORWOOD</td>\n",
              "      <td>0</td>\n",
              "      <td>0</td>\n",
              "      <td>0</td>\n",
              "      <td>NaN</td>\n",
              "      <td>NaN</td>\n",
              "      <td>1963.0</td>\n",
              "      <td>220000.0</td>\n",
              "    </tr>\n",
              "    <tr>\n",
              "      <th>212</th>\n",
              "      <td>1</td>\n",
              "      <td>FLATIRON</td>\n",
              "      <td>0</td>\n",
              "      <td>0</td>\n",
              "      <td>0</td>\n",
              "      <td>NaN</td>\n",
              "      <td>NaN</td>\n",
              "      <td>NaN</td>\n",
              "      <td>2975276.0</td>\n",
              "    </tr>\n",
              "    <tr>\n",
              "      <th>2139</th>\n",
              "      <td>4</td>\n",
              "      <td>QUEENS VILLAGE</td>\n",
              "      <td>1</td>\n",
              "      <td>0</td>\n",
              "      <td>1</td>\n",
              "      <td>1656.0</td>\n",
              "      <td>1818.0</td>\n",
              "      <td>1945.0</td>\n",
              "      <td>435000.0</td>\n",
              "    </tr>\n",
              "    <tr>\n",
              "      <th>1637</th>\n",
              "      <td>4</td>\n",
              "      <td>COLLEGE POINT</td>\n",
              "      <td>1</td>\n",
              "      <td>0</td>\n",
              "      <td>1</td>\n",
              "      <td>2000.0</td>\n",
              "      <td>1534.0</td>\n",
              "      <td>2004.0</td>\n",
              "      <td>590000.0</td>\n",
              "    </tr>\n",
              "    <tr>\n",
              "      <th>1543</th>\n",
              "      <td>3</td>\n",
              "      <td>DYKER HEIGHTS</td>\n",
              "      <td>1</td>\n",
              "      <td>0</td>\n",
              "      <td>1</td>\n",
              "      <td>NaN</td>\n",
              "      <td>NaN</td>\n",
              "      <td>2016.0</td>\n",
              "      <td>621132.0</td>\n",
              "    </tr>\n",
              "    <tr>\n",
              "      <th>2008</th>\n",
              "      <td>2</td>\n",
              "      <td>THROGS NECK</td>\n",
              "      <td>1</td>\n",
              "      <td>0</td>\n",
              "      <td>1</td>\n",
              "      <td>1800.0</td>\n",
              "      <td>1332.0</td>\n",
              "      <td>1955.0</td>\n",
              "      <td>470000.0</td>\n",
              "    </tr>\n",
              "    <tr>\n",
              "      <th>2525</th>\n",
              "      <td>4</td>\n",
              "      <td>ST. ALBANS</td>\n",
              "      <td>2</td>\n",
              "      <td>0</td>\n",
              "      <td>2</td>\n",
              "      <td>2600.0</td>\n",
              "      <td>1596.0</td>\n",
              "      <td>1930.0</td>\n",
              "      <td>313750.0</td>\n",
              "    </tr>\n",
              "    <tr>\n",
              "      <th>2383</th>\n",
              "      <td>5</td>\n",
              "      <td>TRAVIS</td>\n",
              "      <td>1</td>\n",
              "      <td>0</td>\n",
              "      <td>1</td>\n",
              "      <td>1372.0</td>\n",
              "      <td>1480.0</td>\n",
              "      <td>1990.0</td>\n",
              "      <td>360000.0</td>\n",
              "    </tr>\n",
              "    <tr>\n",
              "      <th>199</th>\n",
              "      <td>1</td>\n",
              "      <td>UPPER EAST SIDE (79-96)</td>\n",
              "      <td>1</td>\n",
              "      <td>0</td>\n",
              "      <td>1</td>\n",
              "      <td>NaN</td>\n",
              "      <td>NaN</td>\n",
              "      <td>1988.0</td>\n",
              "      <td>3065000.0</td>\n",
              "    </tr>\n",
              "    <tr>\n",
              "      <th>1396</th>\n",
              "      <td>4</td>\n",
              "      <td>FLUSHING-NORTH</td>\n",
              "      <td>1</td>\n",
              "      <td>0</td>\n",
              "      <td>1</td>\n",
              "      <td>NaN</td>\n",
              "      <td>NaN</td>\n",
              "      <td>2016.0</td>\n",
              "      <td>683488.0</td>\n",
              "    </tr>\n",
              "    <tr>\n",
              "      <th>1385</th>\n",
              "      <td>4</td>\n",
              "      <td>HOWARD BEACH</td>\n",
              "      <td>1</td>\n",
              "      <td>0</td>\n",
              "      <td>1</td>\n",
              "      <td>4542.0</td>\n",
              "      <td>2100.0</td>\n",
              "      <td>1965.0</td>\n",
              "      <td>685000.0</td>\n",
              "    </tr>\n",
              "    <tr>\n",
              "      <th>1196</th>\n",
              "      <td>5</td>\n",
              "      <td>ELTINGVILLE</td>\n",
              "      <td>1</td>\n",
              "      <td>0</td>\n",
              "      <td>1</td>\n",
              "      <td>11660.0</td>\n",
              "      <td>1408.0</td>\n",
              "      <td>1955.0</td>\n",
              "      <td>775000.0</td>\n",
              "    </tr>\n",
              "    <tr>\n",
              "      <th>803</th>\n",
              "      <td>4</td>\n",
              "      <td>HOLLIS HILLS</td>\n",
              "      <td>1</td>\n",
              "      <td>0</td>\n",
              "      <td>1</td>\n",
              "      <td>7394.0</td>\n",
              "      <td>1832.0</td>\n",
              "      <td>1940.0</td>\n",
              "      <td>995000.0</td>\n",
              "    </tr>\n",
              "    <tr>\n",
              "      <th>1231</th>\n",
              "      <td>5</td>\n",
              "      <td>NEW BRIGHTON-ST. GEORGE</td>\n",
              "      <td>1</td>\n",
              "      <td>0</td>\n",
              "      <td>1</td>\n",
              "      <td>NaN</td>\n",
              "      <td>NaN</td>\n",
              "      <td>1985.0</td>\n",
              "      <td>753000.0</td>\n",
              "    </tr>\n",
              "    <tr>\n",
              "      <th>554</th>\n",
              "      <td>4</td>\n",
              "      <td>WHITESTONE</td>\n",
              "      <td>2</td>\n",
              "      <td>0</td>\n",
              "      <td>2</td>\n",
              "      <td>3192.0</td>\n",
              "      <td>2990.0</td>\n",
              "      <td>1960.0</td>\n",
              "      <td>1380000.0</td>\n",
              "    </tr>\n",
              "    <tr>\n",
              "      <th>2619</th>\n",
              "      <td>4</td>\n",
              "      <td>BROAD CHANNEL</td>\n",
              "      <td>1</td>\n",
              "      <td>0</td>\n",
              "      <td>1</td>\n",
              "      <td>2500.0</td>\n",
              "      <td>804.0</td>\n",
              "      <td>1925.0</td>\n",
              "      <td>282000.0</td>\n",
              "    </tr>\n",
              "    <tr>\n",
              "      <th>2977</th>\n",
              "      <td>4</td>\n",
              "      <td>HOLLISWOOD</td>\n",
              "      <td>0</td>\n",
              "      <td>0</td>\n",
              "      <td>0</td>\n",
              "      <td>NaN</td>\n",
              "      <td>NaN</td>\n",
              "      <td>1953.0</td>\n",
              "      <td>115000.0</td>\n",
              "    </tr>\n",
              "    <tr>\n",
              "      <th>1177</th>\n",
              "      <td>1</td>\n",
              "      <td>HARLEM-CENTRAL</td>\n",
              "      <td>1</td>\n",
              "      <td>0</td>\n",
              "      <td>1</td>\n",
              "      <td>NaN</td>\n",
              "      <td>NaN</td>\n",
              "      <td>NaN</td>\n",
              "      <td>785000.0</td>\n",
              "    </tr>\n",
              "  </tbody>\n",
              "</table>\n",
              "<p>3000 rows × 9 columns</p>\n",
              "</div>"
            ],
            "text/plain": [
              "      BOROUGH              NEIGHBORHOOD  RU  ...     GSF      YB          SP\n",
              "2427        5         CONCORD-FOX HILLS   1  ...   780.0  1995.0    347500.0\n",
              "1858        3            FLATBUSH-NORTH   3  ...  2320.0  1935.0    510000.0\n",
              "641         1               SOUTHBRIDGE   0  ...     NaN  1971.0   1220000.0\n",
              "17          1                 FINANCIAL   0  ...     NaN     NaN  26750000.0\n",
              "1900        3                  CANARSIE   2  ...  2142.0  1960.0    500000.0\n",
              "2221        2    MOTT HAVEN/PORT MORRIS   2  ...  2280.0  1993.0    410036.0\n",
              "751         3                   MADISON   4  ...  3172.0  1932.0   1060000.0\n",
              "1676        2              COUNTRY CLUB   2  ...  1937.0  1915.0    575000.0\n",
              "1433        4                ST. ALBANS   2  ...  1620.0  1920.0    665000.0\n",
              "1047        1               MURRAY HILL   0  ...     NaN  1953.0    850000.0\n",
              "2260        1  UPPER WEST SIDE (96-116)   0  ...     NaN  1930.0    400000.0\n",
              "2493        4              FOREST HILLS   3  ...  2394.0  1970.0    325000.0\n",
              "1769        4                OZONE PARK   1  ...  1216.0  1940.0    542500.0\n",
              "1351        4            FLUSHING-SOUTH   1  ...  1224.0  1950.0    700000.0\n",
              "1526        4             RICHMOND HILL   1  ...  1751.0  1925.0    626000.0\n",
              "2853        4               FLORAL PARK   0  ...     NaN  1950.0    184000.0\n",
              "811         1   UPPER EAST SIDE (79-96)   0  ...     NaN  1910.0    990000.0\n",
              "552         1   UPPER EAST SIDE (79-96)   0  ...     NaN  1960.0   1387000.0\n",
              "1451        3        BEDFORD STUYVESANT   1  ...     NaN  1930.0    659826.0\n",
              "1390        4           JACKSON HEIGHTS   0  ...     NaN  1937.0    685000.0\n",
              "1052        4              HOWARD BEACH   2  ...  2296.0  1955.0    849000.0\n",
              "1935        3            OLD MILL BASIN   1  ...  1248.0  1925.0    490000.0\n",
              "2367        4            FLUSHING-NORTH   0  ...     NaN  1957.0    368000.0\n",
              "1736        4            QUEENS VILLAGE   1  ...  1300.0  1940.0    550000.0\n",
              "669         4           JACKSON HEIGHTS   3  ...  2874.0  2006.0   1180000.0\n",
              "1829        5                 SUNNYSIDE   1  ...  1386.0  1982.0    524000.0\n",
              "1732        3          PROSPECT HEIGHTS   0  ...     NaN  1931.0    550101.0\n",
              "456         1                   CHELSEA   1  ...     NaN  2006.0   1615000.0\n",
              "2560        4                    HOLLIS   2  ...  1600.0  1925.0    300000.0\n",
              "782         3                BATH BEACH   2  ...  4824.0  1910.0   1000000.0\n",
              "...       ...                       ...  ..  ...     ...     ...         ...\n",
              "2310        3       OCEAN PARKWAY-NORTH   0  ...     NaN  1961.0    384000.0\n",
              "2609        5                BULLS HEAD   1  ...  1159.0  1988.0    285000.0\n",
              "2014        5             PORT RICHMOND   2  ...  2059.0  2014.0    469000.0\n",
              "2604        3                  CANARSIE   1  ...     NaN     NaN    288990.0\n",
              "2494        5               TOTTENVILLE   1  ...  1080.0  1988.0    325000.0\n",
              "883         3          BROOKLYN HEIGHTS   1  ...     NaN  1921.0    950000.0\n",
              "286         1                   TRIBECA   1  ...     NaN     NaN   2450000.0\n",
              "2265        2                 BRONXDALE   1  ...  1810.0  1945.0    399000.0\n",
              "830         1   UPPER WEST SIDE (59-79)   0  ...     NaN  1910.0    979900.0\n",
              "812         3              BOROUGH PARK   1  ...     NaN     NaN    990000.0\n",
              "38          1   UPPER WEST SIDE (79-96)   1  ...  8500.0  1910.0  11850000.0\n",
              "2932        3         WILLIAMSBURG-EAST   0  ...     NaN  1928.0    150000.0\n",
              "2766        2      BEDFORD PARK/NORWOOD   0  ...     NaN  1963.0    220000.0\n",
              "212         1                  FLATIRON   0  ...     NaN     NaN   2975276.0\n",
              "2139        4            QUEENS VILLAGE   1  ...  1818.0  1945.0    435000.0\n",
              "1637        4             COLLEGE POINT   1  ...  1534.0  2004.0    590000.0\n",
              "1543        3             DYKER HEIGHTS   1  ...     NaN  2016.0    621132.0\n",
              "2008        2               THROGS NECK   1  ...  1332.0  1955.0    470000.0\n",
              "2525        4                ST. ALBANS   2  ...  1596.0  1930.0    313750.0\n",
              "2383        5                    TRAVIS   1  ...  1480.0  1990.0    360000.0\n",
              "199         1   UPPER EAST SIDE (79-96)   1  ...     NaN  1988.0   3065000.0\n",
              "1396        4            FLUSHING-NORTH   1  ...     NaN  2016.0    683488.0\n",
              "1385        4              HOWARD BEACH   1  ...  2100.0  1965.0    685000.0\n",
              "1196        5               ELTINGVILLE   1  ...  1408.0  1955.0    775000.0\n",
              "803         4              HOLLIS HILLS   1  ...  1832.0  1940.0    995000.0\n",
              "1231        5   NEW BRIGHTON-ST. GEORGE   1  ...     NaN  1985.0    753000.0\n",
              "554         4                WHITESTONE   2  ...  2990.0  1960.0   1380000.0\n",
              "2619        4             BROAD CHANNEL   1  ...   804.0  1925.0    282000.0\n",
              "2977        4                HOLLISWOOD   0  ...     NaN  1953.0    115000.0\n",
              "1177        1            HARLEM-CENTRAL   1  ...     NaN     NaN    785000.0\n",
              "\n",
              "[3000 rows x 9 columns]"
            ]
          },
          "metadata": {
            "tags": []
          },
          "execution_count": 8
        }
      ]
    },
    {
      "cell_type": "markdown",
      "metadata": {
        "id": "DAgWYsL9NeZo",
        "colab_type": "text"
      },
      "source": [
        "###Converting Categorical Terms into Dummy Variables\n",
        "\n",
        "A variable might be categorical, which mean the value of that variable indicates which category an observation belongs to. \n",
        "\n",
        "* If a categorical variable can only take 0/1, indicating whether an observation belongs to the category or not, we also call it dummy variable.\n",
        "\n",
        "* If a categorical variable can take multiple values (say N categories), we can then need to tranform this variable into N-1 dummy variables and include them in the regression model. \n",
        "\n",
        "Suppose we have a categorical variable that can take three values, then we can run the following regression:\n",
        "\n",
        "$$y=\\beta_0+\\beta_1 category_2 +\\beta_2 category_3 +\\epsilon$$\n",
        "\n",
        "Notice that you can only include 2 (more generally N-1) categories, since the whether an observation belongs to the first category can be perfectly inferred from whether this observation belongs to the second and the third category or not.\n",
        "\n",
        "\n",
        "\n",
        "In our example, \"Borough\" is can be considered a categorical variable. In this case, we can convert a categorical variable into several dummy variables. Each dummy variable indicates whether an observation belongs to a specific category.\n",
        "\n",
        "Suppose x2 is a categorical variable, we can use `C(x2)` to convert this variable to a dummy variable.\n",
        "\n",
        "`ols(formula=\"y~x1+C(x2)\",data=S1)`"
      ]
    },
    {
      "cell_type": "code",
      "metadata": {
        "id": "xNCt8qP1UwyZ",
        "colab_type": "code",
        "outputId": "29e82c6a-cd7f-4e81-d3ec-83c7a285bd73",
        "colab": {
          "base_uri": "https://localhost:8080/",
          "height": 470
        }
      },
      "source": [
        "#WARNING: BAD MODEL\n",
        "print(ols(formula=\"np.log(SP)~BOROUGH\",data=Sales).fit().summary())"
      ],
      "execution_count": 0,
      "outputs": [
        {
          "output_type": "stream",
          "text": [
            "                            OLS Regression Results                            \n",
            "==============================================================================\n",
            "Dep. Variable:             np.log(SP)   R-squared:                       0.169\n",
            "Model:                            OLS   Adj. R-squared:                  0.168\n",
            "Method:                 Least Squares   F-statistic:                     608.3\n",
            "Date:                Tue, 24 Sep 2019   Prob (F-statistic):          1.89e-122\n",
            "Time:                        14:32:34   Log-Likelihood:                -3766.1\n",
            "No. Observations:                3000   AIC:                             7536.\n",
            "Df Residuals:                    2998   BIC:                             7548.\n",
            "Df Model:                           1                                         \n",
            "Covariance Type:            nonrobust                                         \n",
            "==============================================================================\n",
            "                 coef    std err          t      P>|t|      [0.025      0.975]\n",
            "------------------------------------------------------------------------------\n",
            "Intercept     14.3146      0.037    382.625      0.000      14.241      14.388\n",
            "BOROUGH       -0.2847      0.012    -24.664      0.000      -0.307      -0.262\n",
            "==============================================================================\n",
            "Omnibus:                      500.196   Durbin-Watson:                   1.940\n",
            "Prob(Omnibus):                  0.000   Jarque-Bera (JB):             1511.279\n",
            "Skew:                           0.858   Prob(JB):                         0.00\n",
            "Kurtosis:                       6.024   Cond. No.                         8.45\n",
            "==============================================================================\n",
            "\n",
            "Warnings:\n",
            "[1] Standard Errors assume that the covariance matrix of the errors is correctly specified.\n"
          ],
          "name": "stdout"
        }
      ]
    },
    {
      "cell_type": "code",
      "metadata": {
        "id": "zJTUP8tNv2ce",
        "colab_type": "code",
        "outputId": "08def244-9805-4344-a7ae-ae387a5bf00e",
        "colab": {
          "base_uri": "https://localhost:8080/",
          "height": 522
        }
      },
      "source": [
        "#WARNING: good MODEL\n",
        "print(ols(formula=\"np.log(SP)~C(BOROUGH)\",data=Sales).fit().summary())"
      ],
      "execution_count": 0,
      "outputs": [
        {
          "output_type": "stream",
          "text": [
            "                            OLS Regression Results                            \n",
            "==============================================================================\n",
            "Dep. Variable:             np.log(SP)   R-squared:                       0.227\n",
            "Model:                            OLS   Adj. R-squared:                  0.226\n",
            "Method:                 Least Squares   F-statistic:                     219.3\n",
            "Date:                Tue, 24 Sep 2019   Prob (F-statistic):          2.76e-165\n",
            "Time:                        14:49:55   Log-Likelihood:                -3657.9\n",
            "No. Observations:                3000   AIC:                             7326.\n",
            "Df Residuals:                    2995   BIC:                             7356.\n",
            "Df Model:                           4                                         \n",
            "Covariance Type:            nonrobust                                         \n",
            "===================================================================================\n",
            "                      coef    std err          t      P>|t|      [0.025      0.975]\n",
            "-----------------------------------------------------------------------------------\n",
            "Intercept          14.1562      0.030    469.795      0.000      14.097      14.215\n",
            "C(BOROUGH)[T.2]    -1.1141      0.061    -18.383      0.000      -1.233      -0.995\n",
            "C(BOROUGH)[T.3]    -0.5710      0.042    -13.526      0.000      -0.654      -0.488\n",
            "C(BOROUGH)[T.4]    -1.0376      0.040    -25.660      0.000      -1.117      -0.958\n",
            "C(BOROUGH)[T.5]    -1.1586      0.055    -21.218      0.000      -1.266      -1.052\n",
            "==============================================================================\n",
            "Omnibus:                      536.558   Durbin-Watson:                   1.952\n",
            "Prob(Omnibus):                  0.000   Jarque-Bera (JB):             1766.522\n",
            "Skew:                           0.891   Prob(JB):                         0.00\n",
            "Kurtosis:                       6.310   Cond. No.                         5.68\n",
            "==============================================================================\n",
            "\n",
            "Warnings:\n",
            "[1] Standard Errors assume that the covariance matrix of the errors is correctly specified.\n"
          ],
          "name": "stdout"
        }
      ]
    },
    {
      "cell_type": "markdown",
      "metadata": {
        "id": "hFEM9XRcg0eJ",
        "colab_type": "text"
      },
      "source": [
        "* Interpretation:\n",
        "\n",
        "$\\beta_0$: The log of sales price for Borough 1 is expected to be 14.156.\n",
        "\n",
        "$\\beta_1$: Comparing to Borough 1, the log of sales price for Borough 2 is expected to be -1.1141 lower. \n"
      ]
    },
    {
      "cell_type": "markdown",
      "metadata": {
        "id": "saBsRglrXC93",
        "colab_type": "text"
      },
      "source": [
        "#Activity\n",
        "\n",
        "Based on the data we have (Feel free to use all 3000 observations or discard some), construct a model that gives the highest RMSE. "
      ]
    }
  ]
}