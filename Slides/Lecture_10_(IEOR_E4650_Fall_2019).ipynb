{
  "nbformat": 4,
  "nbformat_minor": 0,
  "metadata": {
    "colab": {
      "name": "Lecture 10 (IEOR E4650 Fall 2019).ipynb",
      "provenance": [],
      "collapsed_sections": []
    },
    "kernelspec": {
      "name": "python3",
      "display_name": "Python 3"
    }
  },
  "cells": [
    {
      "cell_type": "markdown",
      "metadata": {
        "id": "4s5izpSul0F9",
        "colab_type": "text"
      },
      "source": [
        "# **IEOR E4650  Business Analytics (Fall 2019)**\n",
        "\n",
        "##**Lecture 10: Weibull Model**\n",
        "\n",
        "In this lecture, we discuss how to model a timing model.  \n",
        "\n",
        "Learning objective:\n",
        "\n",
        "* Understand how to use Weibull model to model timing data\n",
        "* Understand how the concept of hazard\n",
        "\n"
      ]
    },
    {
      "cell_type": "markdown",
      "metadata": {
        "id": "QLirS-Kb2yqD",
        "colab_type": "text"
      },
      "source": [
        "## Baseline Model"
      ]
    },
    {
      "cell_type": "markdown",
      "metadata": {
        "id": "KK5ojPPMdBmK",
        "colab_type": "text"
      },
      "source": [
        "In this lecture, we will discuss a new topic. Previously, the model focused on model the number of occurance. The other commonly used model models the timing of the occurance. This type of model is called timing model.\n",
        "\n",
        "To illustrate timing model, we study a new dataset related to healthcare management. In this dataset, we track each patient who are released from the hospital. We record after how many days/months a patient will relapse. By the end of the observation period, we might have a patient who has not relapsed. They are recorded as \"censored\".\n",
        "\n"
      ]
    },
    {
      "cell_type": "code",
      "metadata": {
        "id": "L5jH1t6Tz3fr",
        "colab_type": "code",
        "colab": {}
      },
      "source": [
        "!pip install -U -q PyDrive\n",
        "from pydrive.auth import GoogleAuth\n",
        "from pydrive.drive import GoogleDrive\n",
        "from google.colab import auth\n",
        "from oauth2client.client import GoogleCredentials\n",
        "# Authenticate and create the PyDrive client.\n",
        "auth.authenticate_user()\n",
        "gauth = GoogleAuth()\n",
        "gauth.credentials = GoogleCredentials.get_application_default()\n",
        "drive = GoogleDrive(gauth)\n",
        "link=\"https://drive.google.com/open?id=1uNSppU66HLaLHNM1noTFJ4s_9TQMbJDa\"\n",
        "_,id=link.split(\"=\")\n",
        "downloaded = drive.CreateFile({'id':id}) \n",
        "downloaded.GetContentFile('myfile.csv')  \n",
        "import pandas as pd\n",
        "import numpy as np\n",
        "\n",
        "\n",
        "import matplotlib.pyplot as plt\n",
        "\n",
        "import scipy.stats as spst\n",
        "from scipy.optimize import minimize\n",
        "import scipy.special as spsp\n",
        "\n",
        "\n",
        "\n",
        "\n",
        "import warnings\n",
        "warnings.simplefilter(\"ignore\")\n",
        "\n",
        "Patients = pd.read_csv('myfile.csv')\n",
        "Patients.head(10)\n"
      ],
      "execution_count": 0,
      "outputs": []
    },
    {
      "cell_type": "markdown",
      "metadata": {
        "id": "N7uah708KrWd",
        "colab_type": "text"
      },
      "source": [
        "##Baseline model\n",
        "\n",
        "For now, let's not incorporate any covariates. We will focus on the outcome variable, which are\n",
        "\n",
        "(1) the number of months before a patient relapse.\n",
        "\n",
        "(2) whether the observation is censored.\n",
        "\n",
        "\n",
        "Usually, people treat time as a continuous variable. It is important to find a continuous distribution defined on the positive range and has a flexible shape. Weibull distribution is one of the most commonly used distributions.\n",
        "\n",
        "The pdf of Weibull distribution follows:\n",
        "\n",
        "$$f(t)=(c\\lambda)(t\\lambda)^{c-1}e^{-(t\\lambda )^c}$$\n",
        "\n",
        "where $c>0, \\lambda>0, t>0$. $E(t)=\\frac{\\Gamma(1+\\frac{1}{c})}{\\lambda}$\n",
        "\n",
        "The cdf of Weibull distribution follows:\n",
        "$$F(t)=1-e^{-(t\\lambda )^c}$$\n",
        "\n",
        "Exponential distribution is a special case of Weibull distribution when $c=1$.\n"
      ]
    },
    {
      "cell_type": "markdown",
      "metadata": {
        "id": "eCu-xcfMnI2x",
        "colab_type": "text"
      },
      "source": [
        "###Modeling the likelihood\n",
        "\n",
        "(1) Treating the observed timing as discrete. In this case, the outcome will be considered as \"censored\", since we are only observing the interger outcomes. What we have is the time that rounded up. $t=1$ means the event happened between $0$ and $1$. Similarly, $t=4$, means the event happened between $3$ and $4$. In this case, instead of using $f(t)$, we should use $F(t)-F(t-1)$ to (1) Treating the observed timing as discrete. In this case, the outcome will be considered as \"censored\", since we are only observing the interger outcomes. What we have is the time that rounded up. $t=1$ means the event happened between $0$ and $1$. Similarly, $t=4$, means the event happened between $3$ and $4$. In this case, instead of using $f(t)$, we should use $F(t)-F(t-1)$ to model the likelihood.\n",
        "\n",
        "(2) We also have observations that are censored at $t$. Those people might relapse later, but we just could not follow the long enough. The probability of observing a censored patient is $1-F(t)$. "
      ]
    },
    {
      "cell_type": "code",
      "metadata": {
        "id": "BEIzsbkpDTlo",
        "colab_type": "code",
        "colab": {}
      },
      "source": [
        "y=Patients[\"time_in_month\"].values\n",
        "censor=Patients[\"censor\"].values\n",
        "def neg_LL(betas):\n",
        "\n",
        "  return -np.sum(np.log(ind_L))\n",
        "\n",
        "guess=\n",
        "model1=minimize(neg_LL,guess,method=\"BFGS\")\n",
        "print(model1.fun)\n",
        "print(model1.x)"
      ],
      "execution_count": 0,
      "outputs": []
    },
    {
      "cell_type": "markdown",
      "metadata": {
        "id": "fYHZcCdIqguy",
        "colab_type": "text"
      },
      "source": [
        "### Model fitting\n",
        "\n",
        "Here, let's plot the actual v.s. prediction distribution for those patients who relapsed. \n",
        "\n"
      ]
    },
    {
      "cell_type": "code",
      "metadata": {
        "id": "bsqo5ZPzKi8A",
        "colab_type": "code",
        "colab": {}
      },
      "source": [
        "counts=Patients[Patients[\"censor\"]==0].groupby(\"time_in_month\").count()\n",
        "\n",
        " \n",
        "prediction= \n",
        "\n",
        "plt.bar(counts.index.values, counts.iloc[:,4].values)\n",
        "plt.scatter(y1,prediction,zorder=2)\n",
        "\n",
        "\n",
        "\n"
      ],
      "execution_count": 0,
      "outputs": []
    },
    {
      "cell_type": "markdown",
      "metadata": {
        "id": "5eyZ-ak61-Oi",
        "colab_type": "text"
      },
      "source": [
        "### Hazard\n",
        "\n",
        "One thing special about this timing model is that we have a concept called \"hazard\". It measures the likelihood for an event to happen at $t$ conditional on it has not happened before $t$.\n",
        "\n",
        "Mathematically, it is defined as $$h(t)=\\frac{f(t)}{1-F(t)}$$.\n",
        "\n",
        "For Weibull distribution, it is $$h(t)=c\\lambda t^{c-1}$$\n",
        "\n",
        "We can see that when $\\lambda$ directly determine the scale of the hazard. When $\\lambda$ is higher, the hazard in general higher. $c$ will determine whether the hazard will be increasing over time ($c>1$) or decreasing over time ($c<1$). When $c=1$ (an exponential distribution), we have constant hazard. \n",
        "\n",
        "For the discrete case, we can define hazard using \n",
        "\n",
        "$$h(t)=\\frac{F(t)-F(t-1)}{1-F(t-1)}$$.\n",
        "\n",
        "This gives the probability of an event happening happening in period $t$ given it has not happened before."
      ]
    },
    {
      "cell_type": "code",
      "metadata": {
        "id": "YGv05QGKPhAm",
        "colab_type": "code",
        "colab": {}
      },
      "source": [
        ""
      ],
      "execution_count": 0,
      "outputs": []
    },
    {
      "cell_type": "markdown",
      "metadata": {
        "id": "NUCBH1w008Xb",
        "colab_type": "text"
      },
      "source": [
        "### Business Recommendations\n",
        "\n",
        "Using this model, we can predict what is going to happen in the future. For example, if we have a person who has not relapsed at the end of the second month, can we know the probability for this person to relapse by the end of the third month?"
      ]
    },
    {
      "cell_type": "code",
      "metadata": {
        "id": "SAbmnPMS1O_s",
        "colab_type": "code",
        "colab": {}
      },
      "source": [
        ""
      ],
      "execution_count": 0,
      "outputs": []
    },
    {
      "cell_type": "markdown",
      "metadata": {
        "id": "P2QRDrjDSjg_",
        "colab_type": "text"
      },
      "source": [
        "## Two segment Weibull model \n",
        "\n",
        "Here, we assume that we have two segments of people, one segment with higher $\\lambda$ and one segment with lower $\\lambda$. In this case, we will estimate $\\lambda_1$, $\\lambda_2$, $c$, and $p$. "
      ]
    },
    {
      "cell_type": "code",
      "metadata": {
        "id": "DQJKj1QpKF01",
        "colab_type": "code",
        "colab": {}
      },
      "source": [
        "y=Patients[\"time_in_month\"].values\n",
        "censor=Patients[\"censor\"].values\n",
        "def neg_LL(betas):\n",
        " \n",
        "\n",
        "  ind_L= \n",
        "\n",
        "\n",
        "\n",
        "  return -np.sum(np.log(ind_L))\n",
        "\n",
        "guess=\n",
        "model1=minimize(neg_LL,guess,method=\"BFGS\")\n",
        "print(model1.fun)\n",
        "print(model1.x)"
      ],
      "execution_count": 0,
      "outputs": []
    },
    {
      "cell_type": "markdown",
      "metadata": {
        "id": "g2kAAFaFMgal",
        "colab_type": "text"
      },
      "source": [
        "###Model fitting"
      ]
    },
    {
      "cell_type": "code",
      "metadata": {
        "id": "c_dopHzoLBmd",
        "colab_type": "code",
        "colab": {}
      },
      "source": [
        "counts=Patients[Patients[\"censor\"]==0].groupby(\"time_in_month\").count()\n",
        "\n",
        "plt.bar(counts.index.values, counts.iloc[:,4].values)\n",
        "plt.scatter(y1,prediction,zorder=2)\n",
        "\n",
        "\n",
        "\n"
      ],
      "execution_count": 0,
      "outputs": []
    },
    {
      "cell_type": "markdown",
      "metadata": {
        "id": "8BKTZtbdKI-8",
        "colab_type": "text"
      },
      "source": [
        "###Hazard"
      ]
    },
    {
      "cell_type": "code",
      "metadata": {
        "id": "lYns8AFFJldl",
        "colab_type": "code",
        "colab": {}
      },
      "source": [
        ""
      ],
      "execution_count": 0,
      "outputs": []
    },
    {
      "cell_type": "markdown",
      "metadata": {
        "id": "kbSbTAGL1SRJ",
        "colab_type": "text"
      },
      "source": [
        "###Posterior analysis\n",
        "\n",
        "In this model, we are able to identify two groups of people. \n",
        "\n",
        "* Group 1: with high $\\lambda$. This group of people are will on average having higher risk relapsing.\n",
        "* Group 2: with low $\\lambda$. This group of people are will on average having lower risk relapsing.\n",
        "\n",
        "By observing the $t$, we can update our information of which risk group a patient belongs to. Thus, we will have a better idea of when relapse might happen."
      ]
    },
    {
      "cell_type": "code",
      "metadata": {
        "id": "uTbTbehC1RvO",
        "colab_type": "code",
        "colab": {}
      },
      "source": [
        "#Consider the following two patients\n",
        "#Patient who relapsed in month 5.\n",
        "#Patient who is censored and has not relapsed by the end of month 7.\n",
        "#Do the posterior analysis for these two patients. "
      ],
      "execution_count": 0,
      "outputs": []
    },
    {
      "cell_type": "markdown",
      "metadata": {
        "id": "F4ZvWelqVpAI",
        "colab_type": "text"
      },
      "source": [
        "## Continuous observed heterogeneity\n",
        "\n",
        "We can moved on to assume that $\\lambda \\sim Gamma (\\gamma, \\alpha)$.\n",
        "\n",
        "The distribution of $t$ is called Weibull-Gamma distribution and will have the following PDF:\n",
        "\n",
        "$f(t)=\\frac{c\\gamma t^c(\\frac{\\alpha}{\\alpha+t^c})^\\gamma}{t(\\alpha+t^c)}$\n",
        "\n",
        "$F(t)=1-(\\frac{\\alpha}{\\alpha+t^c})^\\gamma$\n",
        "\n"
      ]
    },
    {
      "cell_type": "code",
      "metadata": {
        "id": "9W0h-lDq-RrJ",
        "colab_type": "code",
        "outputId": "a68e2a35-711a-46c5-cf73-ad82275a38f8",
        "colab": {
          "base_uri": "https://localhost:8080/",
          "height": 51
        }
      },
      "source": [
        "##y=Patients[\"time\"].values\n",
        "y=Patients[\"time_in_month\"].values\n",
        "censor=Patients[\"censor\"].values\n",
        "def neg_LL(betas):\n",
        "   \n",
        "  return -np.sum(np.log(ind_L))\n",
        "\n",
        "guess= \n",
        "model1=minimize(neg_LL,guess,method=\"BFGS\")\n",
        "print(model1.fun)\n",
        "print(model1.x)"
      ],
      "execution_count": 0,
      "outputs": [
        {
          "output_type": "stream",
          "text": [
            "1633.7212721995447\n",
            "[ 1.86109188 -0.34711302  0.34191669]\n"
          ],
          "name": "stdout"
        }
      ]
    },
    {
      "cell_type": "markdown",
      "metadata": {
        "id": "lqw0tV-mMVz0",
        "colab_type": "text"
      },
      "source": [
        "###Model fitting"
      ]
    },
    {
      "cell_type": "code",
      "metadata": {
        "id": "aC_jz5F8LoOk",
        "colab_type": "code",
        "colab": {}
      },
      "source": [
        "counts=Patients[Patients[\"censor\"]==0].groupby(\"time_in_month\").count()\n",
        "betas=model1.x\n",
        " \n",
        "\n",
        "plt.bar(counts.index.values, counts.iloc[:,4].values)\n",
        "plt.scatter(y1,prediction,zorder=2)\n",
        "\n",
        "\n",
        "\n"
      ],
      "execution_count": 0,
      "outputs": []
    },
    {
      "cell_type": "markdown",
      "metadata": {
        "id": "IoOvcAZ1KPQM",
        "colab_type": "text"
      },
      "source": [
        "###Hazard"
      ]
    },
    {
      "cell_type": "code",
      "metadata": {
        "id": "_RXc-ga2KQ0Z",
        "colab_type": "code",
        "colab": {}
      },
      "source": [
        ""
      ],
      "execution_count": 0,
      "outputs": []
    },
    {
      "cell_type": "markdown",
      "metadata": {
        "id": "powuLGdF0Vy0",
        "colab_type": "text"
      },
      "source": [
        "###Posterior Analysis\n",
        "\n",
        "For Weibull-Gamma, the posterior distribution for a patient is \n",
        "\n",
        "$$\\lambda|t \\sim Gamma(\\gamma+1, \\alpha+t^c)$$\n",
        "\n",
        "That is, if we see a patient relapsed in time $t$, then the distribution $\\lambda$ for this patient will follow a gamma distribution."
      ]
    },
    {
      "cell_type": "code",
      "metadata": {
        "id": "0GRRnBqZILzp",
        "colab_type": "code",
        "colab": {}
      },
      "source": [
        ""
      ],
      "execution_count": 0,
      "outputs": []
    }
  ]
}