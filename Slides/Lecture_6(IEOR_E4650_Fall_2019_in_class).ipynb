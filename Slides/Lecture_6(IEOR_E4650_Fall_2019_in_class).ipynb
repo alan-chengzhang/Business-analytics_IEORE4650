{
  "nbformat": 4,
  "nbformat_minor": 0,
  "metadata": {
    "colab": {
      "name": "Lecture 6(IEOR E4650 Fall 2019 in class).ipynb",
      "provenance": [],
      "collapsed_sections": []
    },
    "kernelspec": {
      "name": "python3",
      "display_name": "Python 3"
    }
  },
  "cells": [
    {
      "cell_type": "markdown",
      "metadata": {
        "id": "4s5izpSul0F9",
        "colab_type": "text"
      },
      "source": [
        "# **IEOR E4650  Business Analytics (Fall 2019)**\n",
        "\n",
        "##**Lecture 6: Poisson Model**\n",
        "\n",
        "In this lecture, we discuss how to model outcome variables that measures the number of occurances. \n",
        "\n",
        "Learning objective:\n",
        "\n",
        "* Understand the basics of MLE\n",
        "* Understand how to estimate a Poisson model\n",
        "* Understand how to use Poisson model for prediction\n",
        "\n"
      ]
    },
    {
      "cell_type": "markdown",
      "metadata": {
        "id": "QLirS-Kb2yqD",
        "colab_type": "text"
      },
      "source": [
        "##Setting of the study"
      ]
    },
    {
      "cell_type": "markdown",
      "metadata": {
        "id": "KK5ojPPMdBmK",
        "colab_type": "text"
      },
      "source": [
        "As a marketing manager, you are interested in measuring the effectiveness of your ads. The specific job is as following: when a user comes to a website, you bid to show an ad. If you win the bid, the user is shown an advertisement. If the users does not even show up on that website, you cannot show the advertisement. By the end of the day, you will have some customers who never saw our advertisement, saw our advertisement only once, and saw our advertisement multiple times. We are interested in modeling how much customers are engaged with our advertisement. This could be a very critical measurement for our bidding budget.\n",
        "\n",
        "Thus, it is important to measure the effectiveness of your campaign. Some commonly used measurements can be:\n",
        "\n",
        "1.Reach: proportion of users who have seen the advertisement at least once\n",
        "\n",
        "2.Frequency: average number of exposure for those who have seen it\n",
        "\n",
        "3.Gross rating points (GRPs) : average number of exposues per 100 users in the market\n",
        "\n",
        "4.Impression: How many times an advertisement is fetched\n",
        "\n",
        "...\n"
      ]
    },
    {
      "cell_type": "markdown",
      "metadata": {
        "id": "P2QRDrjDSjg_",
        "colab_type": "text"
      },
      "source": [
        "## How is user online behavior data is collected?\n",
        "\n",
        "This type of data could be collected using \"[HTTP cookies](https://en.wikipedia.org/wiki/HTTP_cookie)\". This cookie will identify a specific browser. Based on the cookie, the websites can track the behaviors performed on the browser. This has been used to by companies to collect data about consumers and commonly used for targeted advertisement.\n",
        "\n",
        "The HTTP cookie transaction has become a lucrative business itself. Here is an [interesting article ](https://www.fastcompany.com/90310803/here-are-the-data-brokers-quietly-buying-and-selling-your-personal-information)that discusses this market. "
      ]
    },
    {
      "cell_type": "markdown",
      "metadata": {
        "id": "F4ZvWelqVpAI",
        "colab_type": "text"
      },
      "source": [
        "## Dataset\n",
        "\n",
        "We start with 5000 cookies (users) and show an advertisement to the users associated with these cookies. For each cookie, we are measuring how many times an user is exposed to the advertisement. The data gives the number of expressions for each cookie within one day.\n",
        "\n",
        "By the end of the day, we have two columns that show the following: \n",
        "\n",
        "Cookie_ID: The ID of a cookie (The original cookie id is replaced by a sequence number)\n",
        "\n",
        "Exposures: How many times this cookie is exposed to an advertisement.\n",
        " "
      ]
    },
    {
      "cell_type": "code",
      "metadata": {
        "id": "9W0h-lDq-RrJ",
        "colab_type": "code",
        "outputId": "9d067389-e26e-4219-db06-a2fddd0ff10d",
        "colab": {
          "base_uri": "https://localhost:8080/",
          "height": 359
        }
      },
      "source": [
        "!pip install -U -q PyDrive\n",
        "from pydrive.auth import GoogleAuth\n",
        "from pydrive.drive import GoogleDrive\n",
        "from google.colab import auth\n",
        "from oauth2client.client import GoogleCredentials\n",
        "# Authenticate and create the PyDrive client.\n",
        "auth.authenticate_user()\n",
        "gauth = GoogleAuth()\n",
        "gauth.credentials = GoogleCredentials.get_application_default()\n",
        "drive = GoogleDrive(gauth)\n",
        "link=\"https://drive.google.com/open?id=1pjdoOKuczV8Zc6Zw8-yUh6q2tqogN-xt\"\n",
        "_,id=link.split(\"=\")\n",
        "downloaded = drive.CreateFile({'id':id}) \n",
        "downloaded.GetContentFile('myfile.csv')  \n",
        "import pandas as pd\n",
        "import numpy as np\n",
        "Exposure = pd.read_csv('myfile.csv')\n",
        "Exposure.head(10)\n",
        "\n"
      ],
      "execution_count": 0,
      "outputs": [
        {
          "output_type": "execute_result",
          "data": {
            "text/html": [
              "<div>\n",
              "<style scoped>\n",
              "    .dataframe tbody tr th:only-of-type {\n",
              "        vertical-align: middle;\n",
              "    }\n",
              "\n",
              "    .dataframe tbody tr th {\n",
              "        vertical-align: top;\n",
              "    }\n",
              "\n",
              "    .dataframe thead th {\n",
              "        text-align: right;\n",
              "    }\n",
              "</style>\n",
              "<table border=\"1\" class=\"dataframe\">\n",
              "  <thead>\n",
              "    <tr style=\"text-align: right;\">\n",
              "      <th></th>\n",
              "      <th>Cookie_ID</th>\n",
              "      <th>Exposures</th>\n",
              "    </tr>\n",
              "  </thead>\n",
              "  <tbody>\n",
              "    <tr>\n",
              "      <th>0</th>\n",
              "      <td>1</td>\n",
              "      <td>0</td>\n",
              "    </tr>\n",
              "    <tr>\n",
              "      <th>1</th>\n",
              "      <td>2</td>\n",
              "      <td>0</td>\n",
              "    </tr>\n",
              "    <tr>\n",
              "      <th>2</th>\n",
              "      <td>3</td>\n",
              "      <td>3</td>\n",
              "    </tr>\n",
              "    <tr>\n",
              "      <th>3</th>\n",
              "      <td>4</td>\n",
              "      <td>49</td>\n",
              "    </tr>\n",
              "    <tr>\n",
              "      <th>4</th>\n",
              "      <td>5</td>\n",
              "      <td>4</td>\n",
              "    </tr>\n",
              "    <tr>\n",
              "      <th>5</th>\n",
              "      <td>6</td>\n",
              "      <td>1</td>\n",
              "    </tr>\n",
              "    <tr>\n",
              "      <th>6</th>\n",
              "      <td>7</td>\n",
              "      <td>5</td>\n",
              "    </tr>\n",
              "    <tr>\n",
              "      <th>7</th>\n",
              "      <td>8</td>\n",
              "      <td>0</td>\n",
              "    </tr>\n",
              "    <tr>\n",
              "      <th>8</th>\n",
              "      <td>9</td>\n",
              "      <td>7</td>\n",
              "    </tr>\n",
              "    <tr>\n",
              "      <th>9</th>\n",
              "      <td>10</td>\n",
              "      <td>27</td>\n",
              "    </tr>\n",
              "  </tbody>\n",
              "</table>\n",
              "</div>"
            ],
            "text/plain": [
              "   Cookie_ID  Exposures\n",
              "0          1          0\n",
              "1          2          0\n",
              "2          3          3\n",
              "3          4         49\n",
              "4          5          4\n",
              "5          6          1\n",
              "6          7          5\n",
              "7          8          0\n",
              "8          9          7\n",
              "9         10         27"
            ]
          },
          "metadata": {
            "tags": []
          },
          "execution_count": 51
        }
      ]
    },
    {
      "cell_type": "markdown",
      "metadata": {
        "id": "twSphBaseb0-",
        "colab_type": "text"
      },
      "source": [
        "##Question\n",
        "\n",
        "Can we use this model do predict how many times the users will clicking our dataset if the advertisement is shown for 3 days instead of just 1 day?"
      ]
    },
    {
      "cell_type": "markdown",
      "metadata": {
        "id": "-GRZoTrYetxc",
        "colab_type": "text"
      },
      "source": [
        "## Data Generating process\n",
        "\n",
        "Here we are interested in modeling the number of times an individual sees the ads on a given day. \n",
        "\n",
        "This occurances of exposures is usually modeled by a Poisson process. For a Poisson process, the number of arrivals within a time frame follows a Poisson distribution with $E(\\lambda)$, where $\\lambda$ is the expected number of arrivals within the time frame. \n",
        "\n",
        "\n",
        "In addition, if the arrival rate is constant, we have a homogeneous Poisson process, which has the inter-arrival time following an exponential distribution. For a homogeneous process, the arrival rate $\\lambda$ is constant. For a non-homogeneous process, the $\\lambda$ can vary with time.\n",
        "\n",
        "Thus, if we want to model the number of exposures within a day, we can assume \n",
        "$$y \\sim Poisson(\\lambda)$$\n",
        "\n",
        "We want to use the data to recover the value for $\\lambda$, which is the expected number of arrivals within a day. Notice that, this specification does not rely on the assumption of whether the arrival process is homogeneous or non-homogeneous since we are only modeling the expected number of occurances within one day not the time of exposure. "
      ]
    },
    {
      "cell_type": "markdown",
      "metadata": {
        "id": "ulvxeIPEhd7f",
        "colab_type": "text"
      },
      "source": [
        "## Estimating the distribution"
      ]
    },
    {
      "cell_type": "markdown",
      "metadata": {
        "colab_type": "text",
        "id": "4HJviq7GysBE"
      },
      "source": [
        "We will use **Maximum Likelihood Estimation (MLE)** technique to recover the value for $\\lambda$. The idea of MLE is very simple, we would like to construct a value that indicate how likely it is to observe the outcomes (we call this **likelihood**) given the parameters. We will then choose the value of parameters (in our case, $\\hat{\\lambda}$) to maximize this likelihood.\n",
        "\n",
        "\n",
        "The steps of implementation is as follows:\n",
        "\n",
        "1. Calculate individual likelihood\n",
        "> Each observation will have its likelihood of appearing. In our case, it is nothing but the probability of observing the outcome give $\\lambda$, which is the PMF of a Poisson distribution. $$P(y_i|\\lambda)=\\frac{exp(\\lambda)\\lambda^y_i}{y_i!}$$.\n",
        "\n",
        "2. Calculate the joint likelihood \n",
        "\n",
        "In a dataset, we have many observations. We would like to compute how likely it is to observe the outcomes at the same time. The likelihood to observe all the outcomes at the same time follows:\n",
        "$$\\prod P(y_i|\\lambda) $$\n",
        "\n",
        "Our task is simply to find $\\lambda$ to maximize the joint likelihood.\n",
        "\n",
        "However, in practice, multiplying many probabilities together will lead the product to be extremely close to zero, which can be computationally challenging. Thus, in practice, people choose to maximize the joint log likelihood\n",
        "\n",
        "$$log(\\prod P(y_i|\\lambda))=\\sum log(P(y_i|\\lambda)) $$\n",
        "\n",
        "Thus, what we are doing is as follows:\n",
        "\n",
        "1. Calculate the individual log likelihood\n",
        "\n",
        "In our case, it is $log(P(y_i|\\lambda))=log(\\frac{exp(\\lambda)\\lambda^y_i}{y_i!})$\n",
        "\n",
        "2. Sum of all the individual log likelihood together \n",
        "\n",
        "3. Choose a good algorithm to find $\\lambda$ to maximize the joint log likelihood.\n",
        "\n"
      ]
    },
    {
      "cell_type": "markdown",
      "metadata": {
        "id": "DK_nknxphd3f",
        "colab_type": "text"
      },
      "source": [
        "###Compute the joint log likelihood for this data\n"
      ]
    },
    {
      "cell_type": "code",
      "metadata": {
        "id": "4L0h2tBHzUDP",
        "colab_type": "code",
        "colab": {}
      },
      "source": [
        "import scipy.special as spsp\n"
      ],
      "execution_count": 0,
      "outputs": []
    },
    {
      "cell_type": "code",
      "metadata": {
        "id": "zBiL336t9Cdu",
        "colab_type": "code",
        "colab": {}
      },
      "source": [
        "\n",
        "def LL(lmbda):\n",
        "  Exposures=Exposure[\"Exposures\"].values\n",
        "  #individual log likelihood\n",
        "  ind_LL=\n",
        "  #joint log likelihood\n",
        "  Joint_LL=\n",
        "  return Joint_LL\n",
        "\n"
      ],
      "execution_count": 0,
      "outputs": []
    },
    {
      "cell_type": "markdown",
      "metadata": {
        "id": "ccLzOyLp1YDj",
        "colab_type": "text"
      },
      "source": [
        "### Maximization\n",
        "\n",
        "We will rely on a search algorithm to help us find the maximum. Python has implemented many optimization algorithms. We will rely on the algorithms to help us find the best $\\lambda$.\n",
        "\n",
        "<div>\n",
        "<img src=\"https://slideplayer.com/slide/781164/3/images/7/Maximum+Likelihood+Estimation%3A.jpg\n",
        "\" width=\"450\"/>\n",
        "</div> \n",
        "\n",
        "\n",
        "However, it is important to notice that in some cases, the model might converge to a local maximum. We will need to try different starting points to make sure that we are finding a point that is close to the global maximum."
      ]
    },
    {
      "cell_type": "markdown",
      "metadata": {
        "id": "JRq0_aQkzxV-",
        "colab_type": "text"
      },
      "source": [
        "###Implementation \n",
        "\n",
        "* There is no maximization function we can use. We can only do minimization using [`scipy.optimize.minimize`](https://docs.scipy.org/doc/scipy/reference/generated/scipy.optimize.minimize.html) function.  Thus, we will minimize the negative of joint log likelihood. \n",
        "\n",
        "* The $\\lambda$ can only be positive. To avoid putting constraint on the parameters (which can make the optimization more difficult), we will replace $\\lambda$ by $exp(\\beta)$. "
      ]
    },
    {
      "cell_type": "code",
      "metadata": {
        "id": "xUoe_DsLzRTy",
        "colab_type": "code",
        "colab": {}
      },
      "source": [
        "import scipy.stats as spst\n",
        "\n",
        "def neg_LL(beta):\n",
        "  lmbda=\n",
        "  Exposures=Exposure[\"Exposures\"].values\n",
        "  #individual log likelihood\n",
        "  ind_LL=\n",
        "  #joint log likelihood\n",
        "  Joint_LL=\n",
        "  return \n"
      ],
      "execution_count": 0,
      "outputs": []
    },
    {
      "cell_type": "markdown",
      "metadata": {
        "id": "kGkXJWEO_sIs",
        "colab_type": "text"
      },
      "source": [
        "We will use [`minimize`](https://docs.scipy.org/doc/scipy/reference/generated/scipy.optimize.minimize.html) function inside `scipy.optimize` to minimize the negative joint log likelihood "
      ]
    },
    {
      "cell_type": "code",
      "metadata": {
        "id": "q9oz3qXz1hiD",
        "colab_type": "code",
        "colab": {}
      },
      "source": [
        "from scipy.optimize import minimize"
      ],
      "execution_count": 0,
      "outputs": []
    },
    {
      "cell_type": "markdown",
      "metadata": {
        "id": "epV4WGfQ5ILI",
        "colab_type": "text"
      },
      "source": [
        "Here we will use (Broyden–Fletcher–Goldfarb–Shanno ) [BFGS](https://docs.scipy.org/doc/scipy/reference/optimize.minimize-bfgs.html#optimize-minimize-bfgs) method for minimization. This method is one of the most commonly used methods for unconstrained nonlinear optimization problem. [Also used by many built-in functions in Python]"
      ]
    },
    {
      "cell_type": "code",
      "metadata": {
        "id": "2o110yBt1liZ",
        "colab_type": "code",
        "colab": {}
      },
      "source": [
        "#randomly select a starting point\n",
        "guess=\n",
        "#start minimization\n"
      ],
      "execution_count": 0,
      "outputs": []
    },
    {
      "cell_type": "markdown",
      "metadata": {
        "id": "AlW__awHAn30",
        "colab_type": "text"
      },
      "source": [
        "Let's try a different optimization algorithm \"Nelder-Mead\""
      ]
    },
    {
      "cell_type": "code",
      "metadata": {
        "id": "vMpZJco21xEo",
        "colab_type": "code",
        "colab": {}
      },
      "source": [
        "minimize(neg_LL,guess, method=\"Nelder-Mead\").x"
      ],
      "execution_count": 0,
      "outputs": []
    },
    {
      "cell_type": "markdown",
      "metadata": {
        "id": "YAAAsg2O5i91",
        "colab_type": "text"
      },
      "source": [
        "As a comparison, we will also fit a Poisson model using the build-in function. "
      ]
    },
    {
      "cell_type": "code",
      "metadata": {
        "id": "v6QQczou2pbI",
        "colab_type": "code",
        "colab": {}
      },
      "source": [
        "from statsmodels.formula.api import poisson\n",
        "#define the poisson model \n",
        "model= \n",
        "print(model.summary())\n",
        "#recover lambda_hat\n",
        "lambda_hat= "
      ],
      "execution_count": 0,
      "outputs": []
    },
    {
      "cell_type": "markdown",
      "metadata": {
        "id": "sWWQi3ZH61c6",
        "colab_type": "text"
      },
      "source": [
        "###How well is the model performance?"
      ]
    },
    {
      "cell_type": "markdown",
      "metadata": {
        "id": "8Jl0K0FB67RD",
        "colab_type": "text"
      },
      "source": [
        "Here, we are not really interested in the individual prediction. Here, if we predicted the expected number of exposures, everyone will get $\\hat{\\lambda}$. However, we can predict how the whole market is performing and compare with the actual data.\n",
        "\n",
        "After knowing that $\\lambda$ is equal to 2.5198. We can recover P(y=0), P(y=1),...\n",
        "\n",
        "Following this, we predict the expected number of cookies having exposures equals 0, 1, 2,.. by simply calculating \n",
        "\n",
        "5000 * P(y=0), 5000 * P(y=1),....\n",
        "\n",
        "In addition, we know in the actual data set, how many cookies had 0 exposures, 1 exposures, .. We can see how well they match with each other."
      ]
    },
    {
      "cell_type": "code",
      "metadata": {
        "id": "wUZuc4hL66ab",
        "colab_type": "code",
        "colab": {}
      },
      "source": [
        "Tally=Exposure.groupby([\"Exposures\"]).count()\n",
        "Exposures=\n",
        "Counts= \n",
        "Predicted_Exposures= \n",
        "Predicted_counts= "
      ],
      "execution_count": 0,
      "outputs": []
    },
    {
      "cell_type": "code",
      "metadata": {
        "id": "hY86ZCVT65dd",
        "colab_type": "code",
        "outputId": "4fd9e7cc-b73f-4c30-bf6d-c3a60adda745",
        "colab": {
          "base_uri": "https://localhost:8080/",
          "height": 286
        }
      },
      "source": [
        "import matplotlib.pyplot as plt\n",
        "plt.bar(Exposures[Exposures<30], Counts[Exposures<30])\n",
        "plt.scatter(Predicted_Exposures[Predicted_Exposures<30], Predicted_counts[Predicted_Exposures<30])"
      ],
      "execution_count": 0,
      "outputs": [
        {
          "output_type": "execute_result",
          "data": {
            "text/plain": [
              "<matplotlib.collections.PathCollection at 0x7faa7d635710>"
            ]
          },
          "metadata": {
            "tags": []
          },
          "execution_count": 48
        },
        {
          "output_type": "display_data",
          "data": {
            "image/png": "[encoded data removed]",
            "text/plain": [
              "<Figure size 432x288 with 1 Axes>"
            ]
          },
          "metadata": {
            "tags": []
          }
        }
      ]
    },
    {
      "cell_type": "markdown",
      "metadata": {
        "id": "FyogwHvX-fU_",
        "colab_type": "text"
      },
      "source": [
        "They do not line up with either other well... :("
      ]
    },
    {
      "cell_type": "markdown",
      "metadata": {
        "id": "r7h4fokQ97As",
        "colab_type": "text"
      },
      "source": [
        "## Use the model for prediction\n",
        "\n",
        "Can we use this model to predict how many of these customers will have 0, 1, 2, 3, ... exposures if they are exposured for 3 days instead of just 1 day?"
      ]
    },
    {
      "cell_type": "code",
      "metadata": {
        "id": "FCc2nU3Y-LK9",
        "colab_type": "code",
        "colab": {}
      },
      "source": [
        ""
      ],
      "execution_count": 0,
      "outputs": []
    }
  ]
}