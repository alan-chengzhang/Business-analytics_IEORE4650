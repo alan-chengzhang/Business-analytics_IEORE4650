{
  "nbformat": 4,
  "nbformat_minor": 0,
  "metadata": {
    "colab": {
      "name": "Lecture 8 (IEOR E4650 Fall 2019 with solution: Section 1).ipynb",
      "provenance": [],
      "collapsed_sections": []
    },
    "kernelspec": {
      "name": "python3",
      "display_name": "Python 3"
    }
  },
  "cells": [
    {
      "cell_type": "markdown",
      "metadata": {
        "id": "4s5izpSul0F9",
        "colab_type": "text"
      },
      "source": [
        "# **IEOR E4650  Business Analytics (Fall 2019)**\n",
        "\n",
        "##**Lecture 8: Censoring**\n",
        "\n",
        "In this lecture, we discuss how to model censoring in the data\n",
        "\n",
        "Learning objective:\n",
        "\n",
        "* Understand the censoring in the data\n",
        "* Understand how to model censoring in the data\n",
        "* Understand how to use AIC/BIC to measure model fit\n",
        "\n"
      ]
    },
    {
      "cell_type": "markdown",
      "metadata": {
        "id": "QLirS-Kb2yqD",
        "colab_type": "text"
      },
      "source": [
        "##Censoring\n"
      ]
    },
    {
      "cell_type": "markdown",
      "metadata": {
        "id": "KK5ojPPMdBmK",
        "colab_type": "text"
      },
      "source": [
        "Censoring happens when the outcome value is not completely known. Censoring is a common problem in the business analytics, as in many settings the exact number cannot be collect or simply does not exist. \n",
        "\n",
        "Example 1: We track our customers to see for how many days they will keep on purchasing our organic egg before switching to our competitor. However, maybe by the end of our study period, some customers still have not switched. \n",
        "\n",
        "Example 2: In a survey, we ask customers how many times they have seen our advertisement by using a dropoff down questions, which gives 0, 1, 2, 3, 4, and 4+.\n",
        "\n",
        "\n"
      ]
    },
    {
      "cell_type": "markdown",
      "metadata": {
        "id": "Ht9-uZlM0BdN",
        "colab_type": "text"
      },
      "source": [
        "##Fishing dataset\n",
        "In the following study, we have the visitors report how many fish they caught during their visit. The data in the original data is not censored. \n",
        "\n",
        "However, there are cases, we simply ask the visitor report the following\n",
        "\n",
        "Fish caught: 0, 1, 2, 3, 4, 5, more than 5 (recorded as 6)\n",
        "\n",
        "In this case, we then have a censoring problem, because 6 means the visitor actually caught at least 6 fish. However, the exact number is simply not known. \n",
        "\n",
        "If this is the case, how do we model the outcomes?"
      ]
    },
    {
      "cell_type": "code",
      "metadata": {
        "id": "wowKZamsVMFF",
        "colab_type": "code",
        "outputId": "a0193104-32c0-4937-d0f2-c5f00fba2c3d",
        "colab": {
          "base_uri": "https://localhost:8080/",
          "height": 357
        }
      },
      "source": [
        "!pip install -U -q PyDrive\n",
        "from pydrive.auth import GoogleAuth\n",
        "from pydrive.drive import GoogleDrive\n",
        "from google.colab import auth\n",
        "from oauth2client.client import GoogleCredentials\n",
        "# Authenticate and create the PyDrive client.\n",
        "auth.authenticate_user()\n",
        "gauth = GoogleAuth()\n",
        "gauth.credentials = GoogleCredentials.get_application_default()\n",
        "drive = GoogleDrive(gauth)\n",
        "link=\"https://drive.google.com/open?id=1ytZ6QqLH-ES1YxxYbOGwMERVep0Tkhgu\"\n",
        "_,id=link.split(\"=\")\n",
        "downloaded = drive.CreateFile({'id':id}) \n",
        "downloaded.GetContentFile('myfile.csv')  \n",
        "import pandas as pd\n",
        "import numpy as np\n",
        "\n",
        "import matplotlib.pyplot as plt\n",
        "\n",
        "import scipy.stats as spst\n",
        "from scipy.optimize import minimize\n",
        "import scipy.special as spsp\n",
        "\n",
        "\n",
        "Fishing = pd.read_csv('myfile.csv')\n",
        "Fishing.head(10)\n"
      ],
      "execution_count": 0,
      "outputs": [
        {
          "output_type": "execute_result",
          "data": {
            "text/html": [
              "<div>\n",
              "<style scoped>\n",
              "    .dataframe tbody tr th:only-of-type {\n",
              "        vertical-align: middle;\n",
              "    }\n",
              "\n",
              "    .dataframe tbody tr th {\n",
              "        vertical-align: top;\n",
              "    }\n",
              "\n",
              "    .dataframe thead th {\n",
              "        text-align: right;\n",
              "    }\n",
              "</style>\n",
              "<table border=\"1\" class=\"dataframe\">\n",
              "  <thead>\n",
              "    <tr style=\"text-align: right;\">\n",
              "      <th></th>\n",
              "      <th>livebait</th>\n",
              "      <th>child</th>\n",
              "      <th>persons</th>\n",
              "      <th>camper</th>\n",
              "      <th>Nfish</th>\n",
              "    </tr>\n",
              "  </thead>\n",
              "  <tbody>\n",
              "    <tr>\n",
              "      <th>0</th>\n",
              "      <td>0</td>\n",
              "      <td>0</td>\n",
              "      <td>1</td>\n",
              "      <td>0</td>\n",
              "      <td>0</td>\n",
              "    </tr>\n",
              "    <tr>\n",
              "      <th>1</th>\n",
              "      <td>1</td>\n",
              "      <td>0</td>\n",
              "      <td>1</td>\n",
              "      <td>1</td>\n",
              "      <td>0</td>\n",
              "    </tr>\n",
              "    <tr>\n",
              "      <th>2</th>\n",
              "      <td>1</td>\n",
              "      <td>0</td>\n",
              "      <td>1</td>\n",
              "      <td>0</td>\n",
              "      <td>0</td>\n",
              "    </tr>\n",
              "    <tr>\n",
              "      <th>3</th>\n",
              "      <td>1</td>\n",
              "      <td>1</td>\n",
              "      <td>2</td>\n",
              "      <td>1</td>\n",
              "      <td>0</td>\n",
              "    </tr>\n",
              "    <tr>\n",
              "      <th>4</th>\n",
              "      <td>1</td>\n",
              "      <td>0</td>\n",
              "      <td>1</td>\n",
              "      <td>0</td>\n",
              "      <td>1</td>\n",
              "    </tr>\n",
              "    <tr>\n",
              "      <th>5</th>\n",
              "      <td>1</td>\n",
              "      <td>2</td>\n",
              "      <td>4</td>\n",
              "      <td>1</td>\n",
              "      <td>0</td>\n",
              "    </tr>\n",
              "    <tr>\n",
              "      <th>6</th>\n",
              "      <td>1</td>\n",
              "      <td>1</td>\n",
              "      <td>3</td>\n",
              "      <td>0</td>\n",
              "      <td>0</td>\n",
              "    </tr>\n",
              "    <tr>\n",
              "      <th>7</th>\n",
              "      <td>1</td>\n",
              "      <td>3</td>\n",
              "      <td>4</td>\n",
              "      <td>0</td>\n",
              "      <td>0</td>\n",
              "    </tr>\n",
              "    <tr>\n",
              "      <th>8</th>\n",
              "      <td>0</td>\n",
              "      <td>2</td>\n",
              "      <td>3</td>\n",
              "      <td>1</td>\n",
              "      <td>0</td>\n",
              "    </tr>\n",
              "    <tr>\n",
              "      <th>9</th>\n",
              "      <td>1</td>\n",
              "      <td>0</td>\n",
              "      <td>1</td>\n",
              "      <td>1</td>\n",
              "      <td>1</td>\n",
              "    </tr>\n",
              "  </tbody>\n",
              "</table>\n",
              "</div>"
            ],
            "text/plain": [
              "   livebait  child  persons  camper  Nfish\n",
              "0         0      0        1       0      0\n",
              "1         1      0        1       1      0\n",
              "2         1      0        1       0      0\n",
              "3         1      1        2       1      0\n",
              "4         1      0        1       0      1\n",
              "5         1      2        4       1      0\n",
              "6         1      1        3       0      0\n",
              "7         1      3        4       0      0\n",
              "8         0      2        3       1      0\n",
              "9         1      0        1       1      1"
            ]
          },
          "metadata": {
            "tags": []
          },
          "execution_count": 6
        }
      ]
    },
    {
      "cell_type": "markdown",
      "metadata": {
        "id": "080e2Lldg4uM",
        "colab_type": "text"
      },
      "source": [
        "Let's create a column thats censored."
      ]
    },
    {
      "cell_type": "code",
      "metadata": {
        "id": "qkgI36UKKlu3",
        "colab_type": "code",
        "outputId": "4fe213b1-b464-4168-f5d2-ee31c64bb8f1",
        "colab": {
          "base_uri": "https://localhost:8080/",
          "height": 369
        }
      },
      "source": [
        "Fishing[\"Nfish\"].values"
      ],
      "execution_count": 0,
      "outputs": [
        {
          "output_type": "execute_result",
          "data": {
            "text/plain": [
              "array([  0,   0,   0,   0,   1,   0,   0,   0,   0,   1,   0,   0,   1,\n",
              "         2,   0,   1,   0,   0,   1,   0,   1,   5,   0,   3,  30,   0,\n",
              "        13,   0,   0,   0,   0,   0,  11,   5,   0,   1,   1,   7,   0,\n",
              "        14,   0,  32,   0,   1,   0,   0,   0,   1,   5,   0,   1,   0,\n",
              "        22,   0,  15,   0,   0,   0,   5,   4,   2,   0,   2,  32,   0,\n",
              "         0,   1,   0,   0,   0,   7,   0,   0,   0,   0,   0,   0,   0,\n",
              "         0,   2,   3,   1,   5,   0,   2,   1,   0,   1, 149,   0,   1,\n",
              "         0,   0,   1,   0,   0,   0,   2,   2,  29,   3,   0,   0,   5,\n",
              "         0,   0,   0,   0,   0,   1,   7,   1,   0,   2,   0,   2,   0,\n",
              "         0,   0,   1,   0,   0,   0,   0,   0,   3,   4,   3,   3,   8,\n",
              "         2,   1,   6,   0,   0,   5,   3,  31,   0,   2,   0,   0,   0,\n",
              "         0,   0,   0,   6,   9,   0,   0,   0,   0,   0,   2,  15,   1,\n",
              "         2,   3,   0,  65,   5,   0,   0,   0,   0,   1,   8,   0,   0,\n",
              "         0,   2,   4,   5,   9,   0,   0,   0,   0,  21,   0,   6,   0,\n",
              "         0,   0,   0,  16,   0,   0,   4,   2,  10,   0,   0,   0,   2,\n",
              "         1,   3,   0,   0,  21,   0,   0,   2,   0,   3,   0,  38,   0,\n",
              "         0,   0,   1,   3,   0,   1,   0,   0,   0,   0,   5,   0,   0,\n",
              "         2,   0,   0,   0,   1,   4,   0,   0,   2,   3,   0,   0,   0,\n",
              "         0,   1,   2,   0,   6,   4,   1,   1,   0,   1,   0,   0,   0,\n",
              "         0,   0,   0])"
            ]
          },
          "metadata": {
            "tags": []
          },
          "execution_count": 2
        }
      ]
    },
    {
      "cell_type": "code",
      "metadata": {
        "id": "tiBS2383VN2S",
        "colab_type": "code",
        "outputId": "33a2a0d7-c4b2-4673-cf7a-deb18e1eb50b",
        "colab": {
          "base_uri": "https://localhost:8080/",
          "height": 369
        }
      },
      "source": [
        "#Let's create a censored column that record 6 for Nfish>5\n",
        "N_fish=Fishing[\"Nfish\"].copy().values\n",
        "N_fish[N_fish>5]=6\n",
        "Fishing=Fishing.assign(Nfish_c=N_fish)\n",
        "Fishing[\"Nfish\"].values"
      ],
      "execution_count": 0,
      "outputs": [
        {
          "output_type": "execute_result",
          "data": {
            "text/plain": [
              "array([  0,   0,   0,   0,   1,   0,   0,   0,   0,   1,   0,   0,   1,\n",
              "         2,   0,   1,   0,   0,   1,   0,   1,   5,   0,   3,  30,   0,\n",
              "        13,   0,   0,   0,   0,   0,  11,   5,   0,   1,   1,   7,   0,\n",
              "        14,   0,  32,   0,   1,   0,   0,   0,   1,   5,   0,   1,   0,\n",
              "        22,   0,  15,   0,   0,   0,   5,   4,   2,   0,   2,  32,   0,\n",
              "         0,   1,   0,   0,   0,   7,   0,   0,   0,   0,   0,   0,   0,\n",
              "         0,   2,   3,   1,   5,   0,   2,   1,   0,   1, 149,   0,   1,\n",
              "         0,   0,   1,   0,   0,   0,   2,   2,  29,   3,   0,   0,   5,\n",
              "         0,   0,   0,   0,   0,   1,   7,   1,   0,   2,   0,   2,   0,\n",
              "         0,   0,   1,   0,   0,   0,   0,   0,   3,   4,   3,   3,   8,\n",
              "         2,   1,   6,   0,   0,   5,   3,  31,   0,   2,   0,   0,   0,\n",
              "         0,   0,   0,   6,   9,   0,   0,   0,   0,   0,   2,  15,   1,\n",
              "         2,   3,   0,  65,   5,   0,   0,   0,   0,   1,   8,   0,   0,\n",
              "         0,   2,   4,   5,   9,   0,   0,   0,   0,  21,   0,   6,   0,\n",
              "         0,   0,   0,  16,   0,   0,   4,   2,  10,   0,   0,   0,   2,\n",
              "         1,   3,   0,   0,  21,   0,   0,   2,   0,   3,   0,  38,   0,\n",
              "         0,   0,   1,   3,   0,   1,   0,   0,   0,   0,   5,   0,   0,\n",
              "         2,   0,   0,   0,   1,   4,   0,   0,   2,   3,   0,   0,   0,\n",
              "         0,   1,   2,   0,   6,   4,   1,   1,   0,   1,   0,   0,   0,\n",
              "         0,   0,   0])"
            ]
          },
          "metadata": {
            "tags": []
          },
          "execution_count": 7
        }
      ]
    },
    {
      "cell_type": "markdown",
      "metadata": {
        "id": "RMQak3g2z7Si",
        "colab_type": "text"
      },
      "source": [
        "## Baseline Model"
      ]
    },
    {
      "cell_type": "markdown",
      "metadata": {
        "id": "24t6hRqgYMfJ",
        "colab_type": "text"
      },
      "source": [
        "First, let's pretend that the data is not censored. \n",
        "\n",
        "Let's try to fit a zero-inflated NBD model. \n",
        "\n",
        "Here, we are fitting a zero-inflated model, because some visitors might not fish at all.\n",
        "\n",
        "For the NBD part, we would like to consider the fact that consumers might have different $\\lambda$. \n",
        "\n",
        "1. The number of fish caught within a unit time can depend on different factors, for example, whether the person has kids, the type of bait used, etc.  \n",
        "\n",
        "2. Especially, in this case, we might not expect the actual fishing time for each visitor is the same. Having NBD model also allows us to capture the differences in the fishing time. [the fishing time will follow a distribution]"
      ]
    },
    {
      "cell_type": "code",
      "metadata": {
        "id": "NYvxqRwqeYw8",
        "colab_type": "code",
        "outputId": "7a3cdda9-675d-404e-bba5-077c0fb5cbe3",
        "colab": {
          "base_uri": "https://localhost:8080/",
          "height": 269
        }
      },
      "source": [
        "y=Fishing[\"Nfish_c\"].values\n",
        "def Neg_LL(betas):\n",
        "  gamma=np.exp(betas[0])\n",
        "  alpha=np.exp(betas[1])\n",
        "  p=np.exp(betas[2])/(1+np.exp(betas[2]))\n",
        "  #the individual likelihood for segment 1\n",
        "  Ind_L1=spsp.gamma(gamma+y)/spsp.gamma(gamma)/spsp.gamma(y+1)\\\n",
        "  *(1/(1+alpha))**y*(alpha/(1+alpha))**gamma\n",
        "  #the individual likelihood for segment 2\n",
        "  Ind_L2=spst.poisson.pmf(y,0)\n",
        "  #individual likelihood\n",
        "  Ind_L=Ind_L1*p+Ind_L2*(1-p)\n",
        "  Ind_LL=np.log(Ind_L)\n",
        "  return -np.sum(Ind_LL)\n",
        "\n",
        "#estimate the model\n",
        "guess=np.random.rand(3)\n",
        "model1=minimize(Neg_LL,guess, method=\"BFGS\")\n",
        "betas=model1.x\n",
        "\n",
        "#recover the paramters\n",
        "gamma=np.exp(betas[0])\n",
        "alpha=np.exp(betas[1])\n",
        "p=np.exp(betas[2])/(1+np.exp(betas[2]))\n",
        "\n",
        "#compute the predicted visitors having 0, 1, 2,... fish.\n",
        "outcomes=np.arange(0, np.max(y+1))\n",
        "pmf1=spsp.gamma(gamma+outcomes)/spsp.gamma(gamma)/spsp.gamma(outcomes+1)*(1/(alpha+1))**outcomes*(alpha/(alpha+1))**gamma\n",
        "pmf=pmf1*p+spst.poisson.pmf(outcomes,0)*(1-p)\n",
        "prediction=pmf*250 \n",
        "\n",
        "#compute the observed number of visitors having 0, 1, 2,... fish.\n",
        "Tally=Fishing.groupby([\"Nfish_c\"]).count()\n",
        "#visualization\n",
        "plt.bar(Tally.index.values,Tally.iloc[:,0].values,label=\"observed\")\n",
        "plt.scatter(outcomes,prediction,zorder=2,label=\"predicted\")\n",
        "plt.legend(loc=\"best\")\n",
        "plt.show()"
      ],
      "execution_count": 0,
      "outputs": [
        {
          "output_type": "display_data",
          "data": {
            "image/png": "[encoded data removed]",
            "text/plain": [
              "<Figure size 432x288 with 1 Axes>"
            ]
          },
          "metadata": {
            "tags": []
          }
        }
      ]
    },
    {
      "cell_type": "markdown",
      "metadata": {
        "id": "P2QRDrjDSjg_",
        "colab_type": "text"
      },
      "source": [
        "##Modeling Censoring"
      ]
    },
    {
      "cell_type": "markdown",
      "metadata": {
        "id": "4JI9MeaKA9Xp",
        "colab_type": "text"
      },
      "source": [
        "For censoring problem, we need to think about the probability of observing an outcome that is being censored. \n",
        "\n",
        "In this case, we should assign a different likelihood for the 6+ case. It is nothing but the probability of catching more than 5 fish. \n",
        "$P(x \\geq 6)=1-\\sum_{i=0}^5P(i)=1-CDF(x=5)$\n"
      ]
    },
    {
      "cell_type": "code",
      "metadata": {
        "id": "wwgxY9KPgEzG",
        "colab_type": "code",
        "outputId": "9e91cfa7-d9f9-4197-b637-44324274423d",
        "colab": {
          "base_uri": "https://localhost:8080/",
          "height": 269
        }
      },
      "source": [
        "y=Fishing[\"Nfish_c\"].values\n",
        "def Neg_LL(betas):\n",
        "  gamma=np.exp(betas[0])\n",
        "  alpha=np.exp(betas[1])\n",
        "  p=np.exp(betas[2])/(1+np.exp(betas[2]))\n",
        "  #the individual likelihood for segment 1\n",
        "  Ind_L1=spsp.gamma(gamma+y)/spsp.gamma(gamma)/spsp.gamma(y+1)*(1/(alpha+1))**y*(alpha/(alpha+1))**gamma\n",
        "  #reassign likelihood for visitors with 6+ exposures\n",
        "  outcomes=np.arange(0,6)\n",
        "  PMFs=spsp.gamma(gamma+outcomes)/spsp.gamma(gamma)/spsp.gamma(outcomes+1)*(1/(alpha+1))**outcomes*(alpha/(alpha+1))**gamma\n",
        "  Ind_L1[y==6]=1-np.sum(PMFs)\n",
        "  #individual likelihood\n",
        "  Ind_L=Ind_L1*p+spst.poisson.pmf(y,0)*(1-p)\n",
        "  Ind_LL=np.log(Ind_L)\n",
        "  return -np.sum(Ind_LL)\n",
        "\n",
        "#estimate the model\n",
        "guess=np.random.rand(3)\n",
        "model2=minimize(Neg_LL,guess, method=\"BFGS\")\n",
        "betas=model2.x\n",
        "\n",
        "#recover the paramters\n",
        "gamma=np.exp(betas[0])\n",
        "alpha=np.exp(betas[1])\n",
        "p=np.exp(betas[2])/(1+np.exp(betas[2]))\n",
        "\n",
        "#compute the predicted visitors having 0, 1, 2,... fish.\n",
        "outcomes=np.arange(0, np.max(y+1))\n",
        "pmf1=spsp.gamma(gamma+outcomes)/spsp.gamma(gamma)/spsp.gamma(outcomes+1)*(1/(alpha+1))**outcomes*(alpha/(alpha+1))**gamma\n",
        "#reassign pmf for visitors with 6 exposures\n",
        "outcomes=np.arange(0,6)\n",
        "PMFs=spsp.gamma(gamma+outcomes)/spsp.gamma(gamma)/spsp.gamma(outcomes+1)*(1/(alpha+1))**outcomes*(alpha/(alpha+1))**gamma\n",
        "pmf1[6]=1-np.sum(PMFs)\n",
        "outcomes=np.arange(0, np.max(y+1))\n",
        "pmf=pmf1*p+spst.poisson.pmf(outcomes,0)*(1-p)\n",
        "prediction=pmf*250 \n",
        "\n",
        "#compute the observed number of visitors having 0, 1, 2,... fish.\n",
        "Tally=Fishing.groupby([\"Nfish_c\"]).count()\n",
        "#visualization\n",
        "plt.bar(Tally.index.values,Tally.iloc[:,0].values,label=\"observed\")\n",
        "plt.scatter(outcomes,prediction,zorder=2,label=\"predicted\")\n",
        "plt.legend(loc=\"best\")\n",
        "plt.show()"
      ],
      "execution_count": 0,
      "outputs": [
        {
          "output_type": "display_data",
          "data": {
            "image/png": "[encoded data removed]",
            "text/plain": [
              "<Figure size 432x288 with 1 Axes>"
            ]
          },
          "metadata": {
            "tags": []
          }
        }
      ]
    },
    {
      "cell_type": "markdown",
      "metadata": {
        "id": "dCipL5Mwk1kg",
        "colab_type": "text"
      },
      "source": [
        "Let's take a look at the model prediction v.s actual uncensored data. \n",
        "\n",
        "Our censored model does a superb job recovering the actual out comes even though the data was originally censored. "
      ]
    },
    {
      "cell_type": "code",
      "metadata": {
        "id": "M0x8E7j2k3AB",
        "colab_type": "code",
        "outputId": "d6aa4caa-2a57-4d43-9aa2-99b4277bfd96",
        "colab": {
          "base_uri": "https://localhost:8080/",
          "height": 269
        }
      },
      "source": [
        "outcomes=np.arange(0, np.max(Fishing[\"Nfish\"]+1))\n",
        "pmf=spsp.gamma(gamma+outcomes)/spsp.gamma(gamma)/spsp.gamma(outcomes+1)*(1/(alpha+1))**outcomes*(alpha/(alpha+1))**gamma*p+spst.poisson.pmf(outcomes,0)*(1-p)\n",
        "prediction=pmf*250 \n",
        "\n",
        "Tally=Fishing.groupby([\"Nfish\"]).count()\n",
        "plt.bar(Tally.index.values[Tally.index.values<20],Tally.iloc[:,0].values[Tally.index.values<20],label=\"observed\")\n",
        "plt.scatter(outcomes[outcomes<20],prediction[outcomes<20],zorder=2,label=\"predicted\")\n",
        "plt.legend(loc=\"best\")\n",
        "plt.show()\n"
      ],
      "execution_count": 0,
      "outputs": [
        {
          "output_type": "display_data",
          "data": {
            "image/png": "[encoded data removed]",
            "text/plain": [
              "<Figure size 432x288 with 1 Axes>"
            ]
          },
          "metadata": {
            "tags": []
          }
        }
      ]
    },
    {
      "cell_type": "markdown",
      "metadata": {
        "id": "D__YaUGH4j6F",
        "colab_type": "text"
      },
      "source": [
        "##Model comparison\n",
        "\n",
        "Besides Cross-validation, one thing that is commonly used to measure the model fit are AKaike Information Criterion (AIC) and Baysian Information Criterion (BIC).\n",
        "\n",
        "$$AIC=-2JointLogLikelihood+2k$$\n",
        "$$BIC=-2JointLogLikelihood+klog(n)$$\n",
        "\n",
        "Where $k$ is the number of parameters we estimated, whie $n$ is the number of observations we have. \n",
        "\n",
        "We can see that generally BIC penalizes free parameters more strongly than AIC. It is usually suggested we report both AIC and BIC for the models we estimate. Similar to $R^2$ and adjusted $R^2$, the AIC/BIC are only comparable for two models if two models are estimating the same outcome variables. \n",
        "\n",
        "We will prefer to have a model that has lower AIC/BIC. \n",
        "\n"
      ]
    },
    {
      "cell_type": "code",
      "metadata": {
        "id": "_z8Gc0rjhlkk",
        "colab_type": "code",
        "outputId": "01dd450e-3889-43b9-d4cf-81b03daa75f1",
        "colab": {
          "base_uri": "https://localhost:8080/",
          "height": 35
        }
      },
      "source": [
        "#model.fun -jointloglikelihood\n",
        "#joint log likelihood\n",
        "-model1.fun"
      ],
      "execution_count": 0,
      "outputs": [
        {
          "output_type": "execute_result",
          "data": {
            "text/plain": [
              "386.1260664580844"
            ]
          },
          "metadata": {
            "tags": []
          },
          "execution_count": 13
        }
      ]
    },
    {
      "cell_type": "code",
      "metadata": {
        "id": "VU-dwqnchlK_",
        "colab_type": "code",
        "outputId": "7218588b-3598-4ffe-b271-f7595c4276bb",
        "colab": {
          "base_uri": "https://localhost:8080/",
          "height": 35
        }
      },
      "source": [
        "#AIC model 1\n",
        "2*model1.fun+2*3"
      ],
      "execution_count": 0,
      "outputs": [
        {
          "output_type": "execute_result",
          "data": {
            "text/plain": [
              "778.2521329161688"
            ]
          },
          "metadata": {
            "tags": []
          },
          "execution_count": 14
        }
      ]
    },
    {
      "cell_type": "code",
      "metadata": {
        "id": "yxEzBBQwRUap",
        "colab_type": "code",
        "outputId": "76a1611d-9f04-47a0-b215-1831376e4a23",
        "colab": {
          "base_uri": "https://localhost:8080/",
          "height": 35
        }
      },
      "source": [
        "#BIC model1\n",
        "2*model1.fun+3*np.log(250)"
      ],
      "execution_count": 0,
      "outputs": [
        {
          "output_type": "execute_result",
          "data": {
            "text/plain": [
              "788.8165156697555"
            ]
          },
          "metadata": {
            "tags": []
          },
          "execution_count": 15
        }
      ]
    },
    {
      "cell_type": "code",
      "metadata": {
        "id": "TD4et65ERgCT",
        "colab_type": "code",
        "outputId": "f6444beb-4063-42b5-ce38-4774b70ef827",
        "colab": {
          "base_uri": "https://localhost:8080/",
          "height": 35
        }
      },
      "source": [
        "#AIC model 2\n",
        "2*model2.fun+2*3"
      ],
      "execution_count": 0,
      "outputs": [
        {
          "output_type": "execute_result",
          "data": {
            "text/plain": [
              "706.6323029002435"
            ]
          },
          "metadata": {
            "tags": []
          },
          "execution_count": 16
        }
      ]
    },
    {
      "cell_type": "code",
      "metadata": {
        "id": "cIR2G3tYRoO8",
        "colab_type": "code",
        "outputId": "a806e658-7f8c-421f-e13c-824800b66cc6",
        "colab": {
          "base_uri": "https://localhost:8080/",
          "height": 35
        }
      },
      "source": [
        "#BIC model2\n",
        "2*model2.fun+3*np.log(250)"
      ],
      "execution_count": 0,
      "outputs": [
        {
          "output_type": "execute_result",
          "data": {
            "text/plain": [
              "717.1966856538303"
            ]
          },
          "metadata": {
            "tags": []
          },
          "execution_count": 17
        }
      ]
    },
    {
      "cell_type": "code",
      "metadata": {
        "id": "pqHSNMj1Rq9E",
        "colab_type": "code",
        "colab": {}
      },
      "source": [
        ""
      ],
      "execution_count": 0,
      "outputs": []
    }
  ]
}