{
  "nbformat": 4,
  "nbformat_minor": 0,
  "metadata": {
    "colab": {
      "name": "HW2 (IEOR E4650 Fall 2019).ipynb",
      "provenance": [],
      "collapsed_sections": [],
      "machine_shape": "hm"
    },
    "kernelspec": {
      "name": "python3",
      "display_name": "Python 3"
    }
  },
  "cells": [
    {
      "cell_type": "markdown",
      "metadata": {
        "id": "9JCRnqkLnjHE",
        "colab_type": "text"
      },
      "source": [
        "# **IEOR 4650  Business Analytics (Fall 2019)**\n",
        "\n",
        "**Homework 2 [Total points: 60]**\n",
        "\n",
        "** Due: 11:59 PM, October 8**\n",
        "\n",
        "This second homework consists of Python programming practices and the applications to linear regression. \n",
        "\n",
        "The steps to finish in the homework:\n",
        "\n",
        "*   Step 1: Make a copy of the file to your LionDrive.\n",
        "*   Step 2: Work with the copy (an ipynb file).\n",
        "*    <font color='red'>**Step 3: Rename the copy to your_uni_hw2.ipynb (For example: yd4501_hw2.ipynb).**</font>  \n",
        "*   Step 4: Submit the copy on CourseWorks.\n",
        "\n",
        "Before you submit your assignment, make sure to re-run your code from the beginning. (You can do so by first clicking Runtime/Reset All Runtimes and then clicking Runtime/Run all)\n",
        "\n",
        "\n",
        "**All the questions in this homework requires coding**"
      ]
    },
    {
      "cell_type": "code",
      "metadata": {
        "id": "lSH_bDnX2ybu",
        "colab_type": "code",
        "colab": {}
      },
      "source": [
        "#This imports all the packages you need for the homework\n",
        "#Please run this first\n",
        "\n",
        "\n",
        "!pip install -U -q PyDrive\n",
        "from pydrive.auth import GoogleAuth\n",
        "from pydrive.drive import GoogleDrive\n",
        "from google.colab import auth\n",
        "from oauth2client.client import GoogleCredentials\n",
        "# Authenticate and create the PyDrive client.\n",
        "auth.authenticate_user()\n",
        "gauth = GoogleAuth()\n",
        "gauth.credentials = GoogleCredentials.get_application_default()\n",
        "drive = GoogleDrive(gauth)\n",
        "\n",
        "\n",
        "#import modules\n",
        "\n",
        "import numpy as np\n",
        "import pandas as pd\n",
        "from statsmodels.formula.api import ols\n",
        "import matplotlib.pyplot as plt\n",
        "\n"
      ],
      "execution_count": 0,
      "outputs": []
    },
    {
      "cell_type": "markdown",
      "metadata": {
        "id": "5MbEozs6mhrd",
        "colab_type": "text"
      },
      "source": [
        "\n",
        "##Setting\n",
        "In this exercise, let's continue working with a dataset which explores the store sales.\n",
        "\n",
        "Before doing the assignment, please study this dataset here https://www.kaggle.com/c/rossmann-store-sales/data\n",
        "\n",
        "\n",
        "For this study, we are interested in finding a good model that gives good prediction performance. \n",
        "\n",
        "* Especially, we are interested in use RMSPE as our accuracy measurement. RMSPE is defined as following:\n",
        "$$RMSPE = \\sqrt{\\frac{\\frac{(y_i-\\widehat{y_i}}{y_i})^2}{N}}$$\n",
        "* In addition, any day and store with 0 actual sales is ignored in scoring."
      ]
    },
    {
      "cell_type": "code",
      "metadata": {
        "id": "ziA1Im85eaIF",
        "colab_type": "code",
        "outputId": "df12f456-c168-4cf2-f964-a894e85bb26c",
        "colab": {
          "base_uri": "https://localhost:8080/",
          "height": 237
        }
      },
      "source": [
        "#Load the dataset\n",
        "link=\"https://drive.google.com/open?id=1Q6J0q4tlWJ7TajX6hMSvZ8tK3CyDD8QY\"\n",
        "_,id=link.split(\"=\")\n",
        "downloaded = drive.CreateFile({'id':id}) \n",
        "downloaded.GetContentFile('Sales.csv')  \n",
        "SALE = pd.read_csv('Sales.csv')\n",
        "SALE.head(5)\n",
        "\n"
      ],
      "execution_count": 0,
      "outputs": [
        {
          "output_type": "stream",
          "text": [
            "/usr/local/lib/python3.6/dist-packages/IPython/core/interactiveshell.py:2718: DtypeWarning: Columns (7) have mixed types. Specify dtype option on import or set low_memory=False.\n",
            "  interactivity=interactivity, compiler=compiler, result=result)\n"
          ],
          "name": "stderr"
        },
        {
          "output_type": "execute_result",
          "data": {
            "text/html": [
              "<div>\n",
              "<style scoped>\n",
              "    .dataframe tbody tr th:only-of-type {\n",
              "        vertical-align: middle;\n",
              "    }\n",
              "\n",
              "    .dataframe tbody tr th {\n",
              "        vertical-align: top;\n",
              "    }\n",
              "\n",
              "    .dataframe thead th {\n",
              "        text-align: right;\n",
              "    }\n",
              "</style>\n",
              "<table border=\"1\" class=\"dataframe\">\n",
              "  <thead>\n",
              "    <tr style=\"text-align: right;\">\n",
              "      <th></th>\n",
              "      <th>Store</th>\n",
              "      <th>DayOfWeek</th>\n",
              "      <th>Date</th>\n",
              "      <th>Sales</th>\n",
              "      <th>Customers</th>\n",
              "      <th>Open</th>\n",
              "      <th>Promo</th>\n",
              "      <th>StateHoliday</th>\n",
              "      <th>SchoolHoliday</th>\n",
              "    </tr>\n",
              "  </thead>\n",
              "  <tbody>\n",
              "    <tr>\n",
              "      <th>0</th>\n",
              "      <td>1</td>\n",
              "      <td>5</td>\n",
              "      <td>2015-07-31</td>\n",
              "      <td>5263</td>\n",
              "      <td>555</td>\n",
              "      <td>1</td>\n",
              "      <td>1</td>\n",
              "      <td>0</td>\n",
              "      <td>1</td>\n",
              "    </tr>\n",
              "    <tr>\n",
              "      <th>1</th>\n",
              "      <td>2</td>\n",
              "      <td>5</td>\n",
              "      <td>2015-07-31</td>\n",
              "      <td>6064</td>\n",
              "      <td>625</td>\n",
              "      <td>1</td>\n",
              "      <td>1</td>\n",
              "      <td>0</td>\n",
              "      <td>1</td>\n",
              "    </tr>\n",
              "    <tr>\n",
              "      <th>2</th>\n",
              "      <td>3</td>\n",
              "      <td>5</td>\n",
              "      <td>2015-07-31</td>\n",
              "      <td>8314</td>\n",
              "      <td>821</td>\n",
              "      <td>1</td>\n",
              "      <td>1</td>\n",
              "      <td>0</td>\n",
              "      <td>1</td>\n",
              "    </tr>\n",
              "    <tr>\n",
              "      <th>3</th>\n",
              "      <td>4</td>\n",
              "      <td>5</td>\n",
              "      <td>2015-07-31</td>\n",
              "      <td>13995</td>\n",
              "      <td>1498</td>\n",
              "      <td>1</td>\n",
              "      <td>1</td>\n",
              "      <td>0</td>\n",
              "      <td>1</td>\n",
              "    </tr>\n",
              "    <tr>\n",
              "      <th>4</th>\n",
              "      <td>5</td>\n",
              "      <td>5</td>\n",
              "      <td>2015-07-31</td>\n",
              "      <td>4822</td>\n",
              "      <td>559</td>\n",
              "      <td>1</td>\n",
              "      <td>1</td>\n",
              "      <td>0</td>\n",
              "      <td>1</td>\n",
              "    </tr>\n",
              "  </tbody>\n",
              "</table>\n",
              "</div>"
            ],
            "text/plain": [
              "   Store  DayOfWeek        Date  Sales  ...  Open  Promo  StateHoliday SchoolHoliday\n",
              "0      1          5  2015-07-31   5263  ...     1      1             0             1\n",
              "1      2          5  2015-07-31   6064  ...     1      1             0             1\n",
              "2      3          5  2015-07-31   8314  ...     1      1             0             1\n",
              "3      4          5  2015-07-31  13995  ...     1      1             0             1\n",
              "4      5          5  2015-07-31   4822  ...     1      1             0             1\n",
              "\n",
              "[5 rows x 9 columns]"
            ]
          },
          "metadata": {
            "tags": []
          },
          "execution_count": 129
        }
      ]
    },
    {
      "cell_type": "markdown",
      "metadata": {
        "id": "SNoNiBH0oH3L",
        "colab_type": "text"
      },
      "source": [
        "*You might see a warning when importing the data. This is because StateHoliday has both values in string and numbers. No worries this for now.*"
      ]
    },
    {
      "cell_type": "code",
      "metadata": {
        "id": "KCeAzHTC2czY",
        "colab_type": "code",
        "outputId": "a76341de-8203-4582-cc3f-8e84801ae154",
        "colab": {
          "base_uri": "https://localhost:8080/",
          "height": 202
        }
      },
      "source": [
        "link=\"https://drive.google.com/open?id=1g6URzUJnhCLOtg0a9TTHC18KYcqwxvoc\"\n",
        "_,id=link.split(\"=\")\n",
        "downloaded = drive.CreateFile({'id':id}) \n",
        "downloaded.GetContentFile('myfile_store.csv')  \n",
        "STORE = pd.read_csv('myfile_store.csv')\n",
        "STORE.head(5)"
      ],
      "execution_count": 0,
      "outputs": [
        {
          "output_type": "execute_result",
          "data": {
            "text/html": [
              "<div>\n",
              "<style scoped>\n",
              "    .dataframe tbody tr th:only-of-type {\n",
              "        vertical-align: middle;\n",
              "    }\n",
              "\n",
              "    .dataframe tbody tr th {\n",
              "        vertical-align: top;\n",
              "    }\n",
              "\n",
              "    .dataframe thead th {\n",
              "        text-align: right;\n",
              "    }\n",
              "</style>\n",
              "<table border=\"1\" class=\"dataframe\">\n",
              "  <thead>\n",
              "    <tr style=\"text-align: right;\">\n",
              "      <th></th>\n",
              "      <th>Store</th>\n",
              "      <th>StoreType</th>\n",
              "      <th>Assortment</th>\n",
              "      <th>CompetitionDistance</th>\n",
              "      <th>CompetitionOpenSinceMonth</th>\n",
              "      <th>CompetitionOpenSinceYear</th>\n",
              "      <th>Promo2</th>\n",
              "      <th>Promo2SinceWeek</th>\n",
              "      <th>Promo2SinceYear</th>\n",
              "      <th>PromoInterval</th>\n",
              "    </tr>\n",
              "  </thead>\n",
              "  <tbody>\n",
              "    <tr>\n",
              "      <th>0</th>\n",
              "      <td>1</td>\n",
              "      <td>c</td>\n",
              "      <td>a</td>\n",
              "      <td>1270.0</td>\n",
              "      <td>9.0</td>\n",
              "      <td>2008.0</td>\n",
              "      <td>0</td>\n",
              "      <td>NaN</td>\n",
              "      <td>NaN</td>\n",
              "      <td>NaN</td>\n",
              "    </tr>\n",
              "    <tr>\n",
              "      <th>1</th>\n",
              "      <td>2</td>\n",
              "      <td>a</td>\n",
              "      <td>a</td>\n",
              "      <td>570.0</td>\n",
              "      <td>11.0</td>\n",
              "      <td>2007.0</td>\n",
              "      <td>1</td>\n",
              "      <td>13.0</td>\n",
              "      <td>2010.0</td>\n",
              "      <td>Jan,Apr,Jul,Oct</td>\n",
              "    </tr>\n",
              "    <tr>\n",
              "      <th>2</th>\n",
              "      <td>3</td>\n",
              "      <td>a</td>\n",
              "      <td>a</td>\n",
              "      <td>14130.0</td>\n",
              "      <td>12.0</td>\n",
              "      <td>2006.0</td>\n",
              "      <td>1</td>\n",
              "      <td>14.0</td>\n",
              "      <td>2011.0</td>\n",
              "      <td>Jan,Apr,Jul,Oct</td>\n",
              "    </tr>\n",
              "    <tr>\n",
              "      <th>3</th>\n",
              "      <td>4</td>\n",
              "      <td>c</td>\n",
              "      <td>c</td>\n",
              "      <td>620.0</td>\n",
              "      <td>9.0</td>\n",
              "      <td>2009.0</td>\n",
              "      <td>0</td>\n",
              "      <td>NaN</td>\n",
              "      <td>NaN</td>\n",
              "      <td>NaN</td>\n",
              "    </tr>\n",
              "    <tr>\n",
              "      <th>4</th>\n",
              "      <td>5</td>\n",
              "      <td>a</td>\n",
              "      <td>a</td>\n",
              "      <td>29910.0</td>\n",
              "      <td>4.0</td>\n",
              "      <td>2015.0</td>\n",
              "      <td>0</td>\n",
              "      <td>NaN</td>\n",
              "      <td>NaN</td>\n",
              "      <td>NaN</td>\n",
              "    </tr>\n",
              "  </tbody>\n",
              "</table>\n",
              "</div>"
            ],
            "text/plain": [
              "   Store StoreType  ... Promo2SinceYear    PromoInterval\n",
              "0      1         c  ...             NaN              NaN\n",
              "1      2         a  ...          2010.0  Jan,Apr,Jul,Oct\n",
              "2      3         a  ...          2011.0  Jan,Apr,Jul,Oct\n",
              "3      4         c  ...             NaN              NaN\n",
              "4      5         a  ...             NaN              NaN\n",
              "\n",
              "[5 rows x 10 columns]"
            ]
          },
          "metadata": {
            "tags": []
          },
          "execution_count": 130
        }
      ]
    },
    {
      "cell_type": "markdown",
      "metadata": {
        "id": "Dxg8lfkUe5aw",
        "colab_type": "text"
      },
      "source": [
        "## Q1. [8 points]\n",
        "**[Data Cleaning]**\n",
        "\n",
        "1. Merge two tables based on \"Store\" column\n",
        "\n",
        "2. To save you from the pain of running the models for too long, **keep only records for store 1-100**.\n",
        "\n",
        "3. This study only cares about the accuracy performend on the data with Sales higher than 0.There are pros and cons of keeping 0 Sales records. For this study, let's **delete all the sales records with sales=0**.\n",
        "\n",
        "4. Print out the unique values you have in \"StateHoliday\" column. If you see anything that goes wrong, fix the issue. After that, print out the unique values again in \"StateHoliday\" column. [You might find this [link](https://www.geeksforgeeks.org/python-pandas-series-str-replace-to-replace-text-in-a-series/) useful]\n"
      ]
    },
    {
      "cell_type": "code",
      "metadata": {
        "id": "oa-KpNvoe5HN",
        "colab_type": "code",
        "colab": {}
      },
      "source": [
        ""
      ],
      "execution_count": 0,
      "outputs": []
    },
    {
      "cell_type": "markdown",
      "metadata": {
        "id": "_1Aj4jvfd4__",
        "colab_type": "text"
      },
      "source": [
        "## Q2 [4 points]\n",
        "\n",
        "**[Preparation for cross-validation]**\n",
        "\n",
        "Split our data into three segments.Instead of shuffling them first, we will do something different. When working with prediction, we might want to have a model that can give good prediction power for the future sales. Thus, we will split our data in the following way:\n",
        "\n",
        "(1) Training: Time window 2013-01-01 to 2015-03-31  \n",
        "\n",
        "(2) Validation: Time window 2015-04-01 to 2015-05-31 \n",
        "\n",
        "(3) Testing: Time window 2015-06-01 to 2015-07-31\n",
        "\n",
        "Print out how many records you have for each set."
      ]
    },
    {
      "cell_type": "code",
      "metadata": {
        "id": "BwBNzoeSegid",
        "colab_type": "code",
        "colab": {}
      },
      "source": [
        "#You might find the following sample code helpful \n",
        "#X=X.astype({\"Date\":\"datetime64\"})\n",
        "#X[\"Date\"]<\"2015-01-02\""
      ],
      "execution_count": 0,
      "outputs": []
    },
    {
      "cell_type": "markdown",
      "metadata": {
        "id": "-OIl1Vg2euRn",
        "colab_type": "text"
      },
      "source": [
        "##Q3 [8 points]\n",
        "\n",
        "**[Feature Engineering 1 ]**\n",
        "\n",
        "Usually, people pay great attention to the features that are highly predictive. Making sure that adequate variable transformations are performed on those variables are highly important. \n",
        "\n",
        "* Examine why customer numbers is an important predictor based on the data.\n",
        "\n",
        "* Use 4 histograms show how taking the log-transformation changes the distribution of \"Sales\" and \"Customers\" on the training set. Make layout the 4 histograms following the following format\n",
        "\n",
        "\\begin{bmatrix}\n",
        "    \\text{Sales plot here} &  \\text{log(Sales) plot here} \\\\\n",
        "    \\text{Customer plot here} &  \\text{log(Customer) plot here}\n",
        "\\end{bmatrix}.\n",
        "\n",
        ">You will find this [link](https://matplotlib.org/3.1.0/gallery/subplots_axes_and_figures/subplots_demo.html) useful\n",
        "\n",
        "2. \n",
        "  Based on cross-validation to show which model gives a better performance. \n",
        "  $$log(Sales)=\\beta_0+\\beta_1 log(Customers)+\\epsilon$$ \n",
        "  $$Sales=\\beta_0+\\beta_1 Customers+\\epsilon$$ \n"
      ]
    },
    {
      "cell_type": "code",
      "metadata": {
        "id": "oLxXPghQFsZV",
        "colab_type": "code",
        "colab": {}
      },
      "source": [
        ""
      ],
      "execution_count": 0,
      "outputs": []
    },
    {
      "cell_type": "markdown",
      "metadata": {
        "id": "AQ76x7ZQfd52",
        "colab_type": "text"
      },
      "source": [
        "##Q4 [7 points]\n",
        "\n",
        "**[Feature Engineering 2]**\n",
        "\n",
        "In the business operation, stores performance can vary with time. Including the time/date information can potentially help us increase the model fit. Some typical factors we can consider are:\n",
        "\n",
        "* Year [store performance in 1992 can be different from the performance in 2010]\n",
        "* Month [For example, an ice-cream shop generally have higher sales in the summer months]\n",
        "* Day of the week [Especially, weekend v.s. weekdays might show very differen performances]\n",
        "* Important events\n",
        "\n",
        "In our dataset, we have \"DayOfWeek\", \"SchoolHoliday\" and \"StateHoliday\" to capture the last two factors. However, we do not have the \"Year\" and \"Month\".\n",
        "\n",
        "Luckily, once we specify \"Date\" as the datetime type. We can easily extract the time information. See the link [here](https://pandas.pydata.org/pandas-docs/stable/reference/series.html#datetimelike-properties)\n",
        "\n",
        "For Q4: Do the following \n",
        "\n",
        "* Argue the pros and cons of adding Month as a categorical variable v.s. continuous variable.\n",
        "* Determine the best decision using cross-validation.\n"
      ]
    },
    {
      "cell_type": "code",
      "metadata": {
        "id": "Ducug-3Ufdh_",
        "colab_type": "code",
        "colab": {}
      },
      "source": [
        "#Suppose x3 is a datetype column. If you want to get year information and treat it as a continuous variable in the regression, you can simply do\n",
        "#(\"y~x1+x2+x3.dt.month\",data=Data)\n"
      ],
      "execution_count": 0,
      "outputs": []
    },
    {
      "cell_type": "code",
      "metadata": {
        "id": "6ZSqW9ZtlL07",
        "colab_type": "code",
        "colab": {}
      },
      "source": [
        ""
      ],
      "execution_count": 0,
      "outputs": []
    },
    {
      "cell_type": "markdown",
      "metadata": {
        "id": "AKk04DXh-yNt",
        "colab_type": "text"
      },
      "source": [
        "##Q5 [10 points]\n",
        "### [Forward Model Selection]\n",
        "\n",
        "Time to practice some model selection technique. Let's suppose that we want to determine some predictors we would like to adding based on the baseline model you chose in **Q3**. [To reduce your coding complexity, let's simply consider the following three factors]\n",
        "\n",
        "* Promo\t\n",
        "* Promo2\n",
        "* SchoolHoliday\n",
        "\n",
        "\n",
        "Based on cross-validation, choose the best model. \n",
        "* Report RMSPE of each model and the new variable to be selected in each round of model selection\n",
        "[You can do this manually]\n",
        "\n",
        "* After selecting the final model, report the accuracy on the test set."
      ]
    },
    {
      "cell_type": "code",
      "metadata": {
        "id": "yDhdVlm2nCDE",
        "colab_type": "code",
        "colab": {}
      },
      "source": [
        ""
      ],
      "execution_count": 0,
      "outputs": []
    },
    {
      "cell_type": "markdown",
      "metadata": {
        "id": "qV2x6C2aEEos",
        "colab_type": "text"
      },
      "source": [
        "##Q6 [10 points]\n",
        "###[Ridge regression]\n",
        "\n",
        "When working with dataset (especially if we are using many predictors for a small dataset), we might encounter some serious problem with over-fitting.\n",
        "\n",
        "To demonstrate how to use Ridge regression to deal with this problem. We will explore a setting when we have very limited data. In this dataset, let's simply use the information from **Store 3** from 2013-01-02 to 2013-02-18. \n",
        "\n",
        "Again, we will split our data into three segments based on the date.\n",
        "\n",
        "* Training: Information for Store 3 before 2013-02-02\n",
        "* Validation: Information for Store 3 between 2013-02-2 and 2013-02-12-11\n",
        "* Testing: Information from Store 3 between 2013-02-12 and 2013-02-18\n",
        "\n",
        "\n",
        "Conduct ridge regression on the training set. \n",
        "\n",
        "Assume the model you want to run is \n",
        "$$log(Sale)=\\beta_0+\\beta_1 log (Customers) + \\beta_2 Customers +\\epsilon$$\n",
        "\n",
        "\n",
        "* Plot the relationship between $\\alpha$ and RMSPE on the Validation set. \n"
      ]
    },
    {
      "cell_type": "code",
      "metadata": {
        "id": "_Sq4_8UOE-0q",
        "colab_type": "code",
        "colab": {}
      },
      "source": [
        ""
      ],
      "execution_count": 0,
      "outputs": []
    },
    {
      "cell_type": "code",
      "metadata": {
        "id": "tXcziwJoyOEQ",
        "colab_type": "code",
        "colab": {}
      },
      "source": [
        ""
      ],
      "execution_count": 0,
      "outputs": []
    },
    {
      "cell_type": "code",
      "metadata": {
        "id": "oNxBSgjGNSDY",
        "colab_type": "code",
        "colab": {}
      },
      "source": [
        ""
      ],
      "execution_count": 0,
      "outputs": []
    },
    {
      "cell_type": "markdown",
      "metadata": {
        "id": "fsl2cJPei2M3",
        "colab_type": "text"
      },
      "source": [
        "##Q7. [13 points]\n",
        "###[Standardization in ridge regression]\n",
        "The previous model gives an okay solution. However, one thing to notice is that the scale of variations could also affect $\\beta$ values, which can cause factors to be discriminated simply based on whether the values are small or large. In addition, we do not want $\\beta_0$ to be penalized.\n",
        "\n",
        "As a result, people usually standardize the variables. Especially, for Ridge regression, a common practice is to do the following:\n",
        "\n",
        "**On the training set:**\n",
        "\n",
        "1. Standardize each independent variable using \n",
        "\n",
        "$$\\frac{x_k-\\bar{x_k}}{s_{x_k}}$$\n",
        "\n",
        "where $\\bar{x}$ and $s_x$ are the mean and the standard deviation of variable $x_k$ on the training set. \n",
        "\n",
        "\n",
        "2. Re-center the dependent variable using \n",
        "\n",
        "$$y-\\bar{y}$$\n",
        "\n",
        "where $\\bar{y}$ is the mean of $y$ on the training set.\n",
        "\n",
        "This allows us to tease out the impact of $\\beta_0$ in the regulation\n",
        "\n",
        "3. Regress the de-centered depedent variable on the standardized independent variables without intercept. [you can simply use \"y~x1+x2-1\" to not estimate the intercept]\n",
        "\n",
        "**On the validation and testing set:**\n",
        "\n",
        "When you do the prediction on the validation set, we will have\n",
        "\n",
        "$$\\hat{y}=\\bar{y}+\\sum \\hat{\\beta_k} {\\frac{x-\\bar{x_k}}{s_{x_k}}}$$\n",
        "\n",
        "where $\\bar{y}$ is the mean of $y$ on the **training set**, $\\bar{x_k}$ is the mean of $x_k$ on the **training set**, while $s_{x_k}$ is the standard deviation of $x_k$ on the **training set**.\n",
        "\n",
        "\n",
        "\n",
        "* Use this method to re-do Q6. \n",
        "* Determine the best model based on Q6 and Q7. Report the accuracy on the test set.\n",
        "\n"
      ]
    },
    {
      "cell_type": "code",
      "metadata": {
        "id": "IKeiFfRK1VHp",
        "colab_type": "code",
        "colab": {}
      },
      "source": [
        ""
      ],
      "execution_count": 0,
      "outputs": []
    },
    {
      "cell_type": "markdown",
      "metadata": {
        "id": "NrK-uvp_YgAO",
        "colab_type": "text"
      },
      "source": [
        "##Q*. Bonus question [3 points]\n",
        "\n",
        "Do the task in Q5 but with the following factors with the help of `for` loop\n",
        "\n",
        "* Promo\n",
        "* SchoolHoliday\n",
        "* C(Store)\n",
        "* C(DayOfWeek)\n",
        "* C(Store):np.log(Customers)\n",
        "* C(Month)\n",
        "* C(Year)\n",
        "* C(StateHoliday)\n",
        "\n"
      ]
    },
    {
      "cell_type": "code",
      "metadata": {
        "id": "U98v7c38Gofv",
        "colab_type": "code",
        "colab": {}
      },
      "source": [
        ""
      ],
      "execution_count": 0,
      "outputs": []
    }
  ]
}