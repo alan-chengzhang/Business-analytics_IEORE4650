{
  "nbformat": 4,
  "nbformat_minor": 0,
  "metadata": {
    "colab": {
      "name": "HW3 (IEOR E4650 Fall 2019).ipynb",
      "provenance": [],
      "collapsed_sections": [],
      "machine_shape": "hm"
    },
    "kernelspec": {
      "name": "python3",
      "display_name": "Python 3"
    }
  },
  "cells": [
    {
      "cell_type": "markdown",
      "metadata": {
        "id": "9JCRnqkLnjHE",
        "colab_type": "text"
      },
      "source": [
        "# **IEOR 4650  Business Analytics (Fall 2019)**\n",
        "\n",
        "**Homework 3 [Total points: 60]**\n",
        "\n",
        "** Due: 11:59 PM, October 16 **\n",
        "\n",
        "This second homework consists of Python programming practices and the applications to Poisson regression. \n",
        "\n",
        "The steps to finish in the homework:\n",
        "\n",
        "*   Step 1: Make a copy of the file to your LionDrive.\n",
        "*   Step 2: Work with the copy (an ipynb file).\n",
        "*    <font color='red'>**Step 3: Rename the copy to your_uni_hw3.ipynb (For example: yd4501_hw3.ipynb).**</font>  \n",
        "*   Step 4: Submit the copy on CourseWorks.\n",
        "\n",
        "Before you submit your assignment, make sure to re-run your code from the beginning. (You can do so by first clicking Runtime/Reset All Runtimes and then clicking Runtime/Run all)\n",
        "\n",
        "\n",
        "**All the questions in this homework requires coding**"
      ]
    },
    {
      "cell_type": "code",
      "metadata": {
        "id": "lSH_bDnX2ybu",
        "colab_type": "code",
        "colab": {}
      },
      "source": [
        "#This imports all the packages you need for the homework\n",
        "#Please run this first\n",
        "\n",
        "\n",
        "!pip install -U -q PyDrive\n",
        "from pydrive.auth import GoogleAuth\n",
        "from pydrive.drive import GoogleDrive\n",
        "from google.colab import auth\n",
        "from oauth2client.client import GoogleCredentials\n",
        "# Authenticate and create the PyDrive client.\n",
        "auth.authenticate_user()\n",
        "gauth = GoogleAuth()\n",
        "gauth.credentials = GoogleCredentials.get_application_default()\n",
        "drive = GoogleDrive(gauth)\n",
        "\n",
        "\n",
        "#import modules\n",
        "\n",
        "import numpy as np\n",
        "import pandas as pd\n",
        "from statsmodels.formula.api import ols\n",
        "import matplotlib.pyplot as plt\n",
        "import sklearn \n",
        "import scipy.special as spsp\n",
        "from scipy.optimize import minimize\n",
        "import scipy.stats as spst"
      ],
      "execution_count": 0,
      "outputs": []
    },
    {
      "cell_type": "markdown",
      "metadata": {
        "id": "z5i-TJRyCOfI",
        "colab_type": "text"
      },
      "source": [
        "#Exercise 1 [Total: 23 points]"
      ]
    },
    {
      "cell_type": "markdown",
      "metadata": {
        "id": "5MbEozs6mhrd",
        "colab_type": "text"
      },
      "source": [
        "\n",
        "##Setting\n",
        "In this example, we take a closer look at the data we used for Poisson regression. \n",
        "\n",
        "This data measures the number of ad exposures each customer got **within 1 day**. \n",
        "\n",
        "\n",
        "(1) In the class, we checked the model fitting based on how closely the predicted numbers of customers having different number of exposures match with the samples we actually observe. In this exercise, we will explore how to apply cross-validation to Poisson regression.\n",
        "\n",
        "(2) We are interested in using this dataset to make meaningful business recommendation."
      ]
    },
    {
      "cell_type": "code",
      "metadata": {
        "id": "ziA1Im85eaIF",
        "colab_type": "code",
        "outputId": "f3d21946-a679-412b-c503-4098a2790190",
        "colab": {
          "base_uri": "https://localhost:8080/",
          "height": 195
        }
      },
      "source": [
        "#Load the dataset\n",
        "link=\"https://drive.google.com/open?id=1pjdoOKuczV8Zc6Zw8-yUh6q2tqogN-xt\"\n",
        "_,id=link.split(\"=\")\n",
        "downloaded = drive.CreateFile({'id':id}) \n",
        "downloaded.GetContentFile('Exposure.csv')  \n",
        "Ad = pd.read_csv('Exposure.csv')\n",
        "Ad.head(5)\n",
        "\n"
      ],
      "execution_count": 0,
      "outputs": [
        {
          "output_type": "execute_result",
          "data": {
            "text/html": [
              "<div>\n",
              "<style scoped>\n",
              "    .dataframe tbody tr th:only-of-type {\n",
              "        vertical-align: middle;\n",
              "    }\n",
              "\n",
              "    .dataframe tbody tr th {\n",
              "        vertical-align: top;\n",
              "    }\n",
              "\n",
              "    .dataframe thead th {\n",
              "        text-align: right;\n",
              "    }\n",
              "</style>\n",
              "<table border=\"1\" class=\"dataframe\">\n",
              "  <thead>\n",
              "    <tr style=\"text-align: right;\">\n",
              "      <th></th>\n",
              "      <th>Cookie_ID</th>\n",
              "      <th>Exposures</th>\n",
              "    </tr>\n",
              "  </thead>\n",
              "  <tbody>\n",
              "    <tr>\n",
              "      <th>0</th>\n",
              "      <td>1</td>\n",
              "      <td>0</td>\n",
              "    </tr>\n",
              "    <tr>\n",
              "      <th>1</th>\n",
              "      <td>2</td>\n",
              "      <td>0</td>\n",
              "    </tr>\n",
              "    <tr>\n",
              "      <th>2</th>\n",
              "      <td>3</td>\n",
              "      <td>3</td>\n",
              "    </tr>\n",
              "    <tr>\n",
              "      <th>3</th>\n",
              "      <td>4</td>\n",
              "      <td>49</td>\n",
              "    </tr>\n",
              "    <tr>\n",
              "      <th>4</th>\n",
              "      <td>5</td>\n",
              "      <td>4</td>\n",
              "    </tr>\n",
              "  </tbody>\n",
              "</table>\n",
              "</div>"
            ],
            "text/plain": [
              "   Cookie_ID  Exposures\n",
              "0          1          0\n",
              "1          2          0\n",
              "2          3          3\n",
              "3          4         49\n",
              "4          5          4"
            ]
          },
          "metadata": {
            "tags": []
          },
          "execution_count": 3
        }
      ]
    },
    {
      "cell_type": "markdown",
      "metadata": {
        "id": "e3z7oqAWGFcK",
        "colab_type": "text"
      },
      "source": [
        "## Q1 [10 points]\n",
        "\n",
        "**[Cross validation]**\n",
        "\n",
        "In the class, we checked the model fitting based on how closely the predicted numbers of customers having different number of exposures match with the samples we actually observe. However, we were basically doing the model selection and model fitting using the chunk of data. \n",
        "\n",
        "For this exercise, let's first separate the data by\n",
        "\n",
        "* first randomize the data \n",
        "* Split our data into 3 sets. \n",
        "\n",
        ">> Training: The first 4000 observations\n",
        "\n",
        ">> Validation: Observation 4001 to 4500\n",
        "\n",
        ">> Testing: Observation 4501 to 5000.\n",
        "\n",
        "We then test which model is the best model.\n",
        "\n",
        "* Simple Poisson\n",
        "* 2-segment Poisson \n",
        "* Zero-inflated Poisson \n",
        "* NBD (Poisson-Gamma)\n",
        "\n",
        "For the model accuracy, let's use the joint log likelihood. Again, the higher the joint log likelihood, the better the model is. \n",
        "\n",
        "Based on the result, rank the model performance from the highest to the lowest.\n",
        "\n",
        "\n",
        "\n"
      ]
    },
    {
      "cell_type": "code",
      "metadata": {
        "id": "9lpzBMCyrI-s",
        "colab_type": "code",
        "colab": {}
      },
      "source": [
        "#don't remove this line (otherwise, you lose 2 points)\n",
        "np.random.seed(30)\n",
        "\n",
        "#shuffle and split\n"
      ],
      "execution_count": 0,
      "outputs": []
    },
    {
      "cell_type": "code",
      "metadata": {
        "id": "oa-KpNvoe5HN",
        "colab_type": "code",
        "colab": {}
      },
      "source": [
        "#Model1\n"
      ],
      "execution_count": 0,
      "outputs": []
    },
    {
      "cell_type": "code",
      "metadata": {
        "id": "yfjkwsideUKn",
        "colab_type": "code",
        "colab": {}
      },
      "source": [
        "#Model2\n"
      ],
      "execution_count": 0,
      "outputs": []
    },
    {
      "cell_type": "code",
      "metadata": {
        "id": "SjR_7lnegVaR",
        "colab_type": "code",
        "colab": {}
      },
      "source": [
        "#Model3\n"
      ],
      "execution_count": 0,
      "outputs": []
    },
    {
      "cell_type": "code",
      "metadata": {
        "id": "6dNHq40tht1C",
        "colab_type": "code",
        "colab": {}
      },
      "source": [
        "#Model4\n"
      ],
      "execution_count": 0,
      "outputs": []
    },
    {
      "cell_type": "code",
      "metadata": {
        "id": "F_quLRXMjFVG",
        "colab_type": "code",
        "colab": {}
      },
      "source": [
        ""
      ],
      "execution_count": 0,
      "outputs": []
    },
    {
      "cell_type": "markdown",
      "metadata": {
        "id": "FurA2IrT2u9x",
        "colab_type": "text"
      },
      "source": [
        "##Q2 [4 points]\n",
        "\n",
        "Based on the model learned on the training set, report the expected number of exposures for the market using each model you tested in Q1."
      ]
    },
    {
      "cell_type": "code",
      "metadata": {
        "id": "f0vLDBYc3AWr",
        "colab_type": "code",
        "colab": {}
      },
      "source": [
        ""
      ],
      "execution_count": 0,
      "outputs": []
    },
    {
      "cell_type": "markdown",
      "metadata": {
        "id": "_1Aj4jvfd4__",
        "colab_type": "text"
      },
      "source": [
        "## Q3 [9 points]\n",
        "\n",
        "Assume that we decide to stick to NBD model, we want to use this model to do something meaningful.\n",
        "\n",
        "(1) Based on the model, how many people do you predict on the testing set to have at most 1 exposure? How does this number match with the actual observation?\n",
        "\n",
        "(2) How many more days of exposures do we at least need to reduce this number to below 200? [You only need to consider integer days]\n",
        "\n",
        "(3) Assume a customer had 0 exposures, visualize the posterior distribution of $\\lambda$ for this customer.\n",
        "\n",
        "(4) Assume a customer had 5 exposures, visualize the posterior distribution of $\\lambda$ for this customer.\n",
        "\n"
      ]
    },
    {
      "cell_type": "code",
      "metadata": {
        "id": "BwBNzoeSegid",
        "colab_type": "code",
        "colab": {}
      },
      "source": [
        ""
      ],
      "execution_count": 0,
      "outputs": []
    },
    {
      "cell_type": "code",
      "metadata": {
        "id": "vs5KVOLYkq_r",
        "colab_type": "code",
        "colab": {}
      },
      "source": [
        ""
      ],
      "execution_count": 0,
      "outputs": []
    },
    {
      "cell_type": "code",
      "metadata": {
        "id": "m4wxKYP6k2Iy",
        "colab_type": "code",
        "colab": {}
      },
      "source": [
        ""
      ],
      "execution_count": 0,
      "outputs": []
    },
    {
      "cell_type": "code",
      "metadata": {
        "id": "mmoh2Zv1ldxz",
        "colab_type": "code",
        "colab": {}
      },
      "source": [
        ""
      ],
      "execution_count": 0,
      "outputs": []
    },
    {
      "cell_type": "code",
      "metadata": {
        "id": "Q8F661POmDry",
        "colab_type": "code",
        "colab": {}
      },
      "source": [
        ""
      ],
      "execution_count": 0,
      "outputs": []
    },
    {
      "cell_type": "markdown",
      "metadata": {
        "id": "-OIl1Vg2euRn",
        "colab_type": "text"
      },
      "source": [
        "#Exercise 2 [Total: 37  Points]"
      ]
    },
    {
      "cell_type": "markdown",
      "metadata": {
        "id": "fQfFr7-V3cqR",
        "colab_type": "text"
      },
      "source": [
        "##Setting\n",
        "\n",
        "In this exercise, we discuss a model that deals with discrete timing. We will use sports analytics as the background for this study. The data is collected from Kaggle. [link](https://www.kaggle.com/kendallgillies/nflstatistics)\n",
        "\n",
        "In this dataset, we have the information of all the NFL players who are both currently active and have already retired before 2018. In this question, we are interested in modeling the number of years they were active before they retire. \n"
      ]
    },
    {
      "cell_type": "code",
      "metadata": {
        "id": "oLxXPghQFsZV",
        "colab_type": "code",
        "outputId": "bf296a05-0a2d-4316-a113-5012d1d92769",
        "colab": {
          "base_uri": "https://localhost:8080/",
          "height": 330
        }
      },
      "source": [
        "#Load the dataset\n",
        "link=\"https://drive.google.com/open?id=1voxCbS9xGieGHiEYYCzK61f4BZQWy6SD\"\n",
        "_,id=link.split(\"=\")\n",
        "downloaded = drive.CreateFile({'id':id}) \n",
        "downloaded.GetContentFile('NFL.csv')  \n",
        "NFL = pd.read_csv('NFL.csv')\n",
        "NFL.head(5)\n",
        "\n"
      ],
      "execution_count": 0,
      "outputs": [
        {
          "output_type": "execute_result",
          "data": {
            "text/html": [
              "<div>\n",
              "<style scoped>\n",
              "    .dataframe tbody tr th:only-of-type {\n",
              "        vertical-align: middle;\n",
              "    }\n",
              "\n",
              "    .dataframe tbody tr th {\n",
              "        vertical-align: top;\n",
              "    }\n",
              "\n",
              "    .dataframe thead th {\n",
              "        text-align: right;\n",
              "    }\n",
              "</style>\n",
              "<table border=\"1\" class=\"dataframe\">\n",
              "  <thead>\n",
              "    <tr style=\"text-align: right;\">\n",
              "      <th></th>\n",
              "      <th>Age</th>\n",
              "      <th>Birth Place</th>\n",
              "      <th>Birthday</th>\n",
              "      <th>College</th>\n",
              "      <th>Current Status</th>\n",
              "      <th>Current Team</th>\n",
              "      <th>Experience</th>\n",
              "      <th>Height (inches)</th>\n",
              "      <th>High School</th>\n",
              "      <th>High School Location</th>\n",
              "      <th>Name</th>\n",
              "      <th>Number</th>\n",
              "      <th>Player Id</th>\n",
              "      <th>Position</th>\n",
              "      <th>Weight (lbs)</th>\n",
              "      <th>Years Played</th>\n",
              "    </tr>\n",
              "  </thead>\n",
              "  <tbody>\n",
              "    <tr>\n",
              "      <th>0</th>\n",
              "      <td>NaN</td>\n",
              "      <td>Grand Rapids , MI</td>\n",
              "      <td>5/23/1921</td>\n",
              "      <td>Notre Dame</td>\n",
              "      <td>Retired</td>\n",
              "      <td>NaN</td>\n",
              "      <td>3 Seasons</td>\n",
              "      <td>71.0</td>\n",
              "      <td>NaN</td>\n",
              "      <td>NaN</td>\n",
              "      <td>Evans, Fred</td>\n",
              "      <td>NaN</td>\n",
              "      <td>fredevans/2513736</td>\n",
              "      <td>NaN</td>\n",
              "      <td>185.0</td>\n",
              "      <td>1946 - 1948</td>\n",
              "    </tr>\n",
              "    <tr>\n",
              "      <th>1</th>\n",
              "      <td>NaN</td>\n",
              "      <td>Dayton , OH</td>\n",
              "      <td>12/21/1930</td>\n",
              "      <td>Dayton</td>\n",
              "      <td>Retired</td>\n",
              "      <td>NaN</td>\n",
              "      <td>1 Season</td>\n",
              "      <td>70.0</td>\n",
              "      <td>NaN</td>\n",
              "      <td>NaN</td>\n",
              "      <td>Raiff, Jim</td>\n",
              "      <td>NaN</td>\n",
              "      <td>jimraiff/2523700</td>\n",
              "      <td>NaN</td>\n",
              "      <td>235.0</td>\n",
              "      <td>1954 - 1954</td>\n",
              "    </tr>\n",
              "    <tr>\n",
              "      <th>2</th>\n",
              "      <td>56.0</td>\n",
              "      <td>Temple , TX</td>\n",
              "      <td>9/11/1960</td>\n",
              "      <td>Louisiana Tech</td>\n",
              "      <td>Retired</td>\n",
              "      <td>NaN</td>\n",
              "      <td>1 Season</td>\n",
              "      <td>74.0</td>\n",
              "      <td>NaN</td>\n",
              "      <td>NaN</td>\n",
              "      <td>Fowler, Bobby</td>\n",
              "      <td>NaN</td>\n",
              "      <td>bobbyfowler/2514295</td>\n",
              "      <td>NaN</td>\n",
              "      <td>230.0</td>\n",
              "      <td>1985 - 1985</td>\n",
              "    </tr>\n",
              "    <tr>\n",
              "      <th>3</th>\n",
              "      <td>30.0</td>\n",
              "      <td>New Orleans , LA</td>\n",
              "      <td>9/30/1986</td>\n",
              "      <td>LSU</td>\n",
              "      <td>Retired</td>\n",
              "      <td>NaN</td>\n",
              "      <td>5 Seasons</td>\n",
              "      <td>73.0</td>\n",
              "      <td>NaN</td>\n",
              "      <td>NaN</td>\n",
              "      <td>Johnson, Quinn</td>\n",
              "      <td>NaN</td>\n",
              "      <td>quinnjohnson/79593</td>\n",
              "      <td>NaN</td>\n",
              "      <td>255.0</td>\n",
              "      <td>2009 - 2013</td>\n",
              "    </tr>\n",
              "    <tr>\n",
              "      <th>4</th>\n",
              "      <td>25.0</td>\n",
              "      <td>Detroit , MI</td>\n",
              "      <td>3/31/1992</td>\n",
              "      <td>Central Michigan</td>\n",
              "      <td>Active</td>\n",
              "      <td>Pittsburgh Steelers</td>\n",
              "      <td>3rd season</td>\n",
              "      <td>77.0</td>\n",
              "      <td>Clintondale HS</td>\n",
              "      <td>Clinton Twp.,Macomb Co., MI</td>\n",
              "      <td>Walton, L.T.</td>\n",
              "      <td>96.0</td>\n",
              "      <td>l.t.walton/2552444</td>\n",
              "      <td>DE</td>\n",
              "      <td>305.0</td>\n",
              "      <td>NaN</td>\n",
              "    </tr>\n",
              "  </tbody>\n",
              "</table>\n",
              "</div>"
            ],
            "text/plain": [
              "    Age        Birth Place    Birthday  ... Position Weight (lbs) Years Played\n",
              "0   NaN  Grand Rapids , MI   5/23/1921  ...      NaN        185.0  1946 - 1948\n",
              "1   NaN        Dayton , OH  12/21/1930  ...      NaN        235.0  1954 - 1954\n",
              "2  56.0        Temple , TX   9/11/1960  ...      NaN        230.0  1985 - 1985\n",
              "3  30.0   New Orleans , LA   9/30/1986  ...      NaN        255.0  2009 - 2013\n",
              "4  25.0       Detroit , MI   3/31/1992  ...       DE        305.0          NaN\n",
              "\n",
              "[5 rows x 16 columns]"
            ]
          },
          "metadata": {
            "tags": []
          },
          "execution_count": 25
        }
      ]
    },
    {
      "cell_type": "markdown",
      "metadata": {
        "id": "eZQGdz8pedhi",
        "colab_type": "text"
      },
      "source": [
        "##Q1 [3 points]\n",
        "**[Data cleaning]**\n",
        "\n",
        "We will clean our data using the following steps:\n",
        "* **Keep only retired players**  \n",
        "*  Based on the last column, Creat an array that gives the number of active years for each player. For example, if \"Year Played\" for a player is 1954-1954, the number of active years will be 0, while if  \"Year Played\" for a player is 1971 to 1974, the number of active years will be 3. You will find  [str.split()](https://www.geeksforgeeks.org/python-pandas-split-strings-into-two-list-columns-using-str-split/) function useful for this question."
      ]
    },
    {
      "cell_type": "code",
      "metadata": {
        "id": "Im6HNucHedPG",
        "colab_type": "code",
        "colab": {}
      },
      "source": [
        ""
      ],
      "execution_count": 0,
      "outputs": []
    },
    {
      "cell_type": "markdown",
      "metadata": {
        "id": "AQ76x7ZQfd52",
        "colab_type": "text"
      },
      "source": [
        "##Q2 [10 points]\n",
        "\n",
        "**[Application of One-segment model]**\n",
        "\n",
        "Let's think about what distribution would fit this variable. One assumption we can make is that for each year, there is a probability $\\theta$ for this person to retire, probability $1-\\theta$ for this person to remain active. We also assume that the years are independent from one another. We are interested in examining the number of years $y$ it takes for retirement to happen. This is modeled by a [Geometric distribution](https://en.wikipedia.org/wiki/Geometric_distribution), which is defined as the distribution that measures the number of failures ($y$) it takes before the first success happens when each trial are indepedently and identically distributed with probability of suceess equals $\\theta$.\n",
        "\n",
        "For a Geometric model, \n",
        "\n",
        "$P(y)=(1-\\theta)^y \\theta$ for  $y=0, 1, 2, ...$,\n",
        "\n",
        "here $0< \\theta< 1$.\n",
        "\n",
        "$E(y)=\\frac{1-\\theta}{\\theta}$\n",
        "\n",
        "* Estimate $\\hat{\\theta}$ for this model  \n",
        "* What is the expected number of years for a NFL player to be active?\n",
        "* What is the probability for a player to serve for 4 years?\n",
        "* Now do a visualization to check the model performance. In this graph\n",
        "\n",
        ">> Visualize the observed number of players served 0 years, 1 years... using a bar chart \n",
        "\n",
        ">> Based on the model, predict the number of players served 0 years, 1 years, ... Visualize in the same graph as well using a scatter plot. "
      ]
    },
    {
      "cell_type": "code",
      "metadata": {
        "id": "Ducug-3Ufdh_",
        "colab_type": "code",
        "colab": {}
      },
      "source": [
        ""
      ],
      "execution_count": 0,
      "outputs": []
    },
    {
      "cell_type": "markdown",
      "metadata": {
        "id": "qV2x6C2aEEos",
        "colab_type": "text"
      },
      "source": [
        "##Q3 [10 points]\n",
        "###[Estimating a two-segment model]\n",
        "\n",
        "The previous model assumes that all the players have the same $\\theta$, which might be a flawed assumption. Instead, we might want to model two segment of players: one segment players have high risk of retiring (high $\\theta$), while the other segment of players have lower risk of retiring (low $\\theta$)\n",
        "\n",
        "* Use a two-segment model to identify $\\theta_1$, $\\theta_2$, and $p$\n",
        "* Give an interpretation of these three estimated parameters in the context of this question.\n",
        "* For each segment, what is the expected number of years for a player to remain active?\n",
        "* If a player retired after 3 years of playing, what is the probability for this player to belong to the low risk group?\n",
        "* Plot the observed v.s. predicted numbers like you did in Q1. Comment on any changes in the model fitting.\n",
        " "
      ]
    },
    {
      "cell_type": "code",
      "metadata": {
        "id": "_Sq4_8UOE-0q",
        "colab_type": "code",
        "colab": {}
      },
      "source": [
        ""
      ],
      "execution_count": 0,
      "outputs": []
    },
    {
      "cell_type": "markdown",
      "metadata": {
        "id": "fsl2cJPei2M3",
        "colab_type": "text"
      },
      "source": [
        "##Q4 [4 points]\n",
        "**[Beta Prior]**\n",
        "\n",
        "Now, we move on to assume that $\\theta$ follows a continuous distribution. Again, we would like to make a choice of the distribution we want to use. It is often assumed that $\\theta$ follows a [Beta distribution](https://en.wikipedia.org/wiki/Beta_distribution) with $\\theta \\sim Beta(\\alpha, \\beta)$, which has the following pdf:\n",
        "\n",
        "$f(\\theta)=\\frac{\\theta^{\\alpha-1}(1-\\theta)^{\\beta-1}}{B(\\alpha,\\beta)}= \\frac{\\theta^{\\alpha-1}(1-\\theta)^{\\beta-1}}{\\frac{\\Gamma(\\alpha)\\Gamma(\\beta)}{\\Gamma(\\alpha+\\beta)}}$\n",
        "\n",
        "Here, you can either use spsp.gamma to compute three parts of $B(\\alpha,\\beta)$ seperately. You can also simply use spsp.beta(alpha,beta) to compute $B(\\alpha,\\beta)$ directly.\n",
        "\n",
        "where $\\alpha$ and $\\beta$ are both positive, $0<\\theta<1$. In addition, $E(\\theta)=\\frac{\\alpha}{\\alpha+\\beta}$\n",
        "\n",
        "* Reproduce the following lineplot that shows the probability density functions for different $\\alpha$ and $\\beta$ values.  [The color of the lines does not matter]\n",
        "\n",
        "You might find [this link](https://pythonforundergradengineers.com/unicode-characters-in-python.html)  useful.\n",
        "<div>\n",
        "<img src=\"https://upload.wikimedia.org/wikipedia/commons/thumb/f/f3/Beta_distribution_pdf.svg/650px-Beta_distribution_pdf.svg.png\n",
        "\" width=\"450\"/>\n",
        "</div>\n",
        "[Source: Wikipedia]\n",
        "\n"
      ]
    },
    {
      "cell_type": "code",
      "metadata": {
        "id": "IKeiFfRK1VHp",
        "colab_type": "code",
        "colab": {}
      },
      "source": [
        ""
      ],
      "execution_count": 0,
      "outputs": []
    },
    {
      "cell_type": "markdown",
      "metadata": {
        "id": "NrK-uvp_YgAO",
        "colab_type": "text"
      },
      "source": [
        "##Q5 [6 points]\n",
        "**[Geometric-Beta distribution]**\n",
        "\n",
        "It can be derived that the probability of $y$ of a geometric distribution with a Beta prior (assuming $\\theta \\sim Beta(\\alpha, \\beta)$) will give the following PMF.\n",
        "\n",
        "$P(y)=\\frac{B(\\alpha+1,y+\\beta)}{B(\\alpha,\\beta)}$\n",
        "\n",
        "* Estimate $\\alpha$ and $\\beta$ for this Geometric-Beta distribution.\n",
        "* What is the probability for a player to serve for 4 years? \n",
        "* Plot the observed v.s. predicted numbers like you did in Q1. Comment on any changes in the model fitting."
      ]
    },
    {
      "cell_type": "code",
      "metadata": {
        "id": "U98v7c38Gofv",
        "colab_type": "code",
        "colab": {}
      },
      "source": [
        ""
      ],
      "execution_count": 0,
      "outputs": []
    },
    {
      "cell_type": "markdown",
      "metadata": {
        "id": "aWlJTSmaBcVm",
        "colab_type": "text"
      },
      "source": [
        "##Q6 [4 points]\n",
        "**[Posterior Analysis]**\n",
        "\n",
        "It can be proved that the posterior of $\\theta|y$ still follows a Beta distribution\n",
        "\n",
        "$\\theta|y \\sim Beta(\\alpha+1,\\beta+y)$\n",
        "\n",
        "* Based on the estimated model, plot the distribution of $\\lambda$ given $y=0$. \n",
        "* In the same graph, plot the distribution of $\\lambda$ when $y=10$.\n",
        "* Add a legend to the plot."
      ]
    },
    {
      "cell_type": "code",
      "metadata": {
        "id": "lkugJEK8o7vq",
        "colab_type": "code",
        "colab": {}
      },
      "source": [
        ""
      ],
      "execution_count": 0,
      "outputs": []
    },
    {
      "cell_type": "code",
      "metadata": {
        "id": "yE7lfXnUoqKM",
        "colab_type": "code",
        "colab": {}
      },
      "source": [
        ""
      ],
      "execution_count": 0,
      "outputs": []
    }
  ]
}