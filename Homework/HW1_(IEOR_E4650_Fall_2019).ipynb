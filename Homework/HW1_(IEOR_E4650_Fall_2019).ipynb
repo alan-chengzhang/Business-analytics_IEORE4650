{
  "nbformat": 4,
  "nbformat_minor": 0,
  "metadata": {
    "colab": {
      "name": "HW1 (IEOR E4650 Fall 2019).ipynb",
      "provenance": [],
      "collapsed_sections": [],
      "machine_shape": "hm"
    },
    "kernelspec": {
      "name": "python3",
      "display_name": "Python 3"
    }
  },
  "cells": [
    {
      "cell_type": "markdown",
      "metadata": {
        "id": "9JCRnqkLnjHE",
        "colab_type": "text"
      },
      "source": [
        "# **IEOR 4650  Business Analytics (Fall 2019)**\n",
        "\n",
        "**Homework 1 [Total points: 60]**\n",
        "\n",
        "** Due: 11:59 PM, September 28**\n",
        "\n",
        "This first homework consists of Python programming practices and the applications to data clearning and linear regression. \n",
        "\n",
        "The steps to finish in the homework:\n",
        "\n",
        "*   Step 1: Make a copy of the file to your LionDrive.\n",
        "*   Step 2: Work with the copy (an ipynb file).\n",
        "*    <font color='red'>**Step 3: Rename the copy to your_uni_hw1.ipynb (For example: yd4501_hw1.ipynb).**</font>  \n",
        "*   Step 4: Submit the copy on CourseWorks.\n",
        "\n",
        "Before you submit your assignment, make sure to re-run your code from the beginning. (You can do so by first clicking Runtime/Reset All Runtimes and then clicking Runtime/Run all)\n",
        "\n",
        "\n",
        "**All the questions in this homework requires coding**"
      ]
    },
    {
      "cell_type": "code",
      "metadata": {
        "id": "lSH_bDnX2ybu",
        "colab_type": "code",
        "colab": {}
      },
      "source": [
        "#This imports all the packages you need for the homework\n",
        "#Please run this first\n",
        "\n",
        "\n",
        "!pip install -U -q PyDrive\n",
        "from pydrive.auth import GoogleAuth\n",
        "from pydrive.drive import GoogleDrive\n",
        "from google.colab import auth\n",
        "from oauth2client.client import GoogleCredentials\n",
        "# Authenticate and create the PyDrive client.\n",
        "auth.authenticate_user()\n",
        "gauth = GoogleAuth()\n",
        "gauth.credentials = GoogleCredentials.get_application_default()\n",
        "drive = GoogleDrive(gauth)\n",
        "\n",
        "\n",
        "#import modules\n",
        "\n",
        "import numpy as np\n",
        "import pandas as pd\n",
        "from statsmodels.formula.api import ols\n",
        "import matplotlib.pyplot as plt\n",
        "\n"
      ],
      "execution_count": 0,
      "outputs": []
    },
    {
      "cell_type": "markdown",
      "metadata": {
        "id": "85PhtRJHpEMr",
        "colab_type": "text"
      },
      "source": [
        "## Exercise 1 [Total: 22 Points]\n",
        "\n",
        "In this exercise, we will work on some exercises that practices our data manipulation skills.\n",
        "\n",
        "\n",
        "\n",
        "\n",
        "<div>\n",
        "<img src=\"https://http2.mlstatic.com/poster-pokemon-full-hd-42x29cm-frete-gratis-D_NQ_NP_752705-MLB25053489227_092016-F.jpg\" width=\"250\"/>\n",
        "</div>\n",
        "\n",
        "## Setting\n",
        "Pokemon is a very popular video game, in which the trainer catches pokemon and use them for battling. Each pokemon has its name and its pokedex. A Pokemon belongs to at least 1 and at most 2 Pokemon types.  There are different stats to measure the combat power of a pokemon, which include HP, Attack, Defense, Special Attack Strength, Special Defensive Strength, and Speed. Pokemon are usually released in batches. Thus, they have different generations. In addition, a pokemon can either be a regular pokemon and legendary pokemon. \n",
        "\n",
        "\n",
        "\n",
        "|Variable| Description|\n",
        "|---|---|\n",
        "|PokeDex |PokeDex index number|\n",
        "| Name | Name of the Pokemon  |  \n",
        "| Type 1 | Type of pokemon  |  \n",
        "| Type 2 | Other Type of Pokemon  |  \n",
        "| HP |  Hit Points  |  \n",
        "| Attack |  Attack Strength  |  \n",
        "| Defense |  Defensive Strength  |  \n",
        "| Sp. Atk |  Special Attack Strength  |  \n",
        "| Sp. Def |  Special Defensive Strength  |  \n",
        "| Speed | Speed  |  \n",
        "| Generation | Number of generation  |  \n",
        "| Legendary |  True if Legendary Pokemon False if not | \""
      ]
    },
    {
      "cell_type": "code",
      "metadata": {
        "id": "UQjQyhHfBDP7",
        "colab_type": "code",
        "outputId": "84357c57-cdce-411f-c58f-2b2eeb60eebd",
        "colab": {
          "base_uri": "https://localhost:8080/",
          "height": 226
        }
      },
      "source": [
        "#Load the dataset \n",
        "link=\"https://drive.google.com/open?id=1wX36WLNOPLPVU7BCA-J9bBhGZPwuFqol\"\n",
        "_,id=link.split(\"=\")\n",
        "downloaded = drive.CreateFile({'id':id}) \n",
        "downloaded.GetContentFile('myfile.csv')  \n",
        "Pokemon = pd.read_csv('myfile.csv')\n",
        "Pokemon.head(5)\n"
      ],
      "execution_count": 0,
      "outputs": [
        {
          "output_type": "execute_result",
          "data": {
            "text/html": [
              "<div>\n",
              "<style scoped>\n",
              "    .dataframe tbody tr th:only-of-type {\n",
              "        vertical-align: middle;\n",
              "    }\n",
              "\n",
              "    .dataframe tbody tr th {\n",
              "        vertical-align: top;\n",
              "    }\n",
              "\n",
              "    .dataframe thead th {\n",
              "        text-align: right;\n",
              "    }\n",
              "</style>\n",
              "<table border=\"1\" class=\"dataframe\">\n",
              "  <thead>\n",
              "    <tr style=\"text-align: right;\">\n",
              "      <th></th>\n",
              "      <th>PokeDex</th>\n",
              "      <th>Name</th>\n",
              "      <th>Type_1</th>\n",
              "      <th>Type_2</th>\n",
              "      <th>HP</th>\n",
              "      <th>Attack</th>\n",
              "      <th>Defense</th>\n",
              "      <th>Sp_Atk</th>\n",
              "      <th>Sp_Def</th>\n",
              "      <th>Speed</th>\n",
              "      <th>Generation</th>\n",
              "      <th>Legendary</th>\n",
              "    </tr>\n",
              "  </thead>\n",
              "  <tbody>\n",
              "    <tr>\n",
              "      <th>0</th>\n",
              "      <td>1</td>\n",
              "      <td>Bulbasaur</td>\n",
              "      <td>Grass</td>\n",
              "      <td>Poison</td>\n",
              "      <td>45</td>\n",
              "      <td>49</td>\n",
              "      <td>49</td>\n",
              "      <td>65</td>\n",
              "      <td>65</td>\n",
              "      <td>45</td>\n",
              "      <td>1</td>\n",
              "      <td>False</td>\n",
              "    </tr>\n",
              "    <tr>\n",
              "      <th>1</th>\n",
              "      <td>2</td>\n",
              "      <td>Ivysaur</td>\n",
              "      <td>Grass</td>\n",
              "      <td>Poison</td>\n",
              "      <td>60</td>\n",
              "      <td>62</td>\n",
              "      <td>63</td>\n",
              "      <td>80</td>\n",
              "      <td>80</td>\n",
              "      <td>60</td>\n",
              "      <td>1</td>\n",
              "      <td>False</td>\n",
              "    </tr>\n",
              "    <tr>\n",
              "      <th>2</th>\n",
              "      <td>3</td>\n",
              "      <td>Venusaur</td>\n",
              "      <td>Grass</td>\n",
              "      <td>Poison</td>\n",
              "      <td>80</td>\n",
              "      <td>82</td>\n",
              "      <td>83</td>\n",
              "      <td>100</td>\n",
              "      <td>100</td>\n",
              "      <td>80</td>\n",
              "      <td>1</td>\n",
              "      <td>False</td>\n",
              "    </tr>\n",
              "    <tr>\n",
              "      <th>3</th>\n",
              "      <td>4</td>\n",
              "      <td>Charmander</td>\n",
              "      <td>Fire</td>\n",
              "      <td>***</td>\n",
              "      <td>39</td>\n",
              "      <td>52</td>\n",
              "      <td>43</td>\n",
              "      <td>60</td>\n",
              "      <td>50</td>\n",
              "      <td>65</td>\n",
              "      <td>1</td>\n",
              "      <td>False</td>\n",
              "    </tr>\n",
              "    <tr>\n",
              "      <th>4</th>\n",
              "      <td>5</td>\n",
              "      <td>Charmeleon</td>\n",
              "      <td>Fire</td>\n",
              "      <td>***</td>\n",
              "      <td>58</td>\n",
              "      <td>64</td>\n",
              "      <td>58</td>\n",
              "      <td>80</td>\n",
              "      <td>65</td>\n",
              "      <td>80</td>\n",
              "      <td>1</td>\n",
              "      <td>False</td>\n",
              "    </tr>\n",
              "  </tbody>\n",
              "</table>\n",
              "</div>"
            ],
            "text/plain": [
              "   PokeDex        Name Type_1  Type_2  ...  Sp_Def  Speed  Generation  Legendary\n",
              "0        1   Bulbasaur  Grass  Poison  ...      65     45           1      False\n",
              "1        2     Ivysaur  Grass  Poison  ...      80     60           1      False\n",
              "2        3    Venusaur  Grass  Poison  ...     100     80           1      False\n",
              "3        4  Charmander   Fire     ***  ...      50     65           1      False\n",
              "4        5  Charmeleon   Fire     ***  ...      65     80           1      False\n",
              "\n",
              "[5 rows x 12 columns]"
            ]
          },
          "metadata": {
            "tags": []
          },
          "execution_count": 2
        }
      ]
    },
    {
      "cell_type": "markdown",
      "metadata": {
        "id": "HdR4J86Fpfqd",
        "colab_type": "text"
      },
      "source": [
        "### Q1 [2 points]\n",
        "* Find the number of unique pokemon in the table. [hint: you want to make sure the same pokemon name does not appear twice in the table]\n",
        "\n",
        "**Make sure to print out the result**"
      ]
    },
    {
      "cell_type": "code",
      "metadata": {
        "id": "E6nQ96Wiam9z",
        "colab_type": "code",
        "colab": {}
      },
      "source": [
        ""
      ],
      "execution_count": 0,
      "outputs": []
    },
    {
      "cell_type": "markdown",
      "metadata": {
        "id": "KgQlKUMK1N3r",
        "colab_type": "text"
      },
      "source": [
        "### Q2. [4 points]\n",
        "\n",
        "* Add one additional column named \"Total\" to the table \n",
        "> The value of Total for each pokemon is equal to the sum of all the stats numbers for each pokemon (HP+Attack+Defense+Sp. Atk+Sp. Def+ Speed) and is the measure of total combat power of a pokemon.\n",
        "* drop the stats that are used to compute \"Total\" from the table\n",
        "\n",
        "**Make sure to print out the result for the last step**"
      ]
    },
    {
      "cell_type": "code",
      "metadata": {
        "id": "COzyvl8h1Nbz",
        "colab_type": "code",
        "colab": {}
      },
      "source": [
        ""
      ],
      "execution_count": 0,
      "outputs": []
    },
    {
      "cell_type": "markdown",
      "metadata": {
        "id": "Ny0Hn_JLqaoi",
        "colab_type": "text"
      },
      "source": [
        "### Q3 [4 points]\n",
        "\n",
        "* Create a sub-table \"Pokemon_sub\" that includes only the pokemon name and the Pokedex for all the **Legendary**  pokemon from **Generation 1** and **Generation 2**. \n",
        "\n",
        "**Make sure to print out the content of the sub-table**"
      ]
    },
    {
      "cell_type": "code",
      "metadata": {
        "id": "XgR2-LOubuUn",
        "colab_type": "code",
        "colab": {}
      },
      "source": [
        ""
      ],
      "execution_count": 0,
      "outputs": []
    },
    {
      "cell_type": "markdown",
      "metadata": {
        "id": "lri2_TqON6Wq",
        "colab_type": "text"
      },
      "source": [
        "###Q4 [5 points]\n",
        "\n",
        "A pokemon might belong to only one type or two types. If a pokemons belongs to only one type, \"Type_2\" field will be missing that Pokemon\n",
        "\n",
        "We call a pokemon that belongs to only one type a \"single-type\" pokemon and a pokemon that belongs to two types a \"double-type\" pokemon. For example, Snorlax is a \"single-type\" pokemon and belongs to Normal type. For another example, Bulbasaur is a \"double-type\" pokemon and belongs to both Poison type and Grass type. \t  \n",
        "\n",
        "* Convert the missing values to a format that can be recognized by Pandas.\n",
        "* Report for each pokemon type, how many \"single-type\" pokemon exists.\n",
        "\n",
        "**Make sure to print out the result for the last step**"
      ]
    },
    {
      "cell_type": "code",
      "metadata": {
        "id": "mG6YisodN5-n",
        "colab_type": "code",
        "colab": {}
      },
      "source": [
        ""
      ],
      "execution_count": 0,
      "outputs": []
    },
    {
      "cell_type": "code",
      "metadata": {
        "id": "HRj9s1hHPQdq",
        "colab_type": "code",
        "colab": {}
      },
      "source": [
        ""
      ],
      "execution_count": 0,
      "outputs": []
    },
    {
      "cell_type": "markdown",
      "metadata": {
        "id": "zqO1YVPm7oRI",
        "colab_type": "text"
      },
      "source": [
        "###Q5 [7 points]\n",
        "\n",
        "It is important to have the ability of learning programming by yourself. Let's use some adequate methods to find the pokemon with the highest total combat power in each type.  \n",
        "\n",
        "In this table, you should have 3 columns\n",
        "\n",
        "(1) column 1: Type name\n",
        "\n",
        "(2) column 2: name of the most power pokemon for this pokemon type\n",
        "\n",
        "(3) column 3: total combat power for this pokemon\n",
        "\n",
        "[hint: You might find the following four methods to be relevant. However, there are multiple ways to achieve the goal. You do not need to use them in your answer. \n",
        "\n",
        "> `concat` method\n",
        "\n",
        "> `sort_values` method\n",
        "\n",
        "> `groupby` method\n",
        "\n",
        "> `first` method"
      ]
    },
    {
      "cell_type": "code",
      "metadata": {
        "id": "4V9-9_i47n5f",
        "colab_type": "code",
        "colab": {}
      },
      "source": [
        ""
      ],
      "execution_count": 0,
      "outputs": []
    },
    {
      "cell_type": "markdown",
      "metadata": {
        "id": "7r_D6z5ZsyOd",
        "colab_type": "text"
      },
      "source": [
        "## Exercise 2 [Total: 38 points]\n"
      ]
    },
    {
      "cell_type": "markdown",
      "metadata": {
        "id": "5MbEozs6mhrd",
        "colab_type": "text"
      },
      "source": [
        "\n",
        "###Setting\n",
        "In this exercise, we will work with a dataset which explores the store sales.\n",
        "\n",
        "Before doing the assignment, please study this dataset here https://www.kaggle.com/c/rossmann-store-sales/data\n"
      ]
    },
    {
      "cell_type": "code",
      "metadata": {
        "id": "ziA1Im85eaIF",
        "colab_type": "code",
        "outputId": "764f2b85-85c5-44cc-d149-231ec253c341",
        "colab": {
          "base_uri": "https://localhost:8080/",
          "height": 258
        }
      },
      "source": [
        "#Load the dataset\n",
        "link=\"https://drive.google.com/open?id=1Q6J0q4tlWJ7TajX6hMSvZ8tK3CyDD8QY\"\n",
        "_,id=link.split(\"=\")\n",
        "downloaded = drive.CreateFile({'id':id}) \n",
        "downloaded.GetContentFile('Sales.csv')  \n",
        "Sales = pd.read_csv('Sales.csv')\n",
        "Sales.head(5)"
      ],
      "execution_count": 0,
      "outputs": [
        {
          "output_type": "stream",
          "text": [
            "/usr/local/lib/python3.6/dist-packages/IPython/core/interactiveshell.py:2718: DtypeWarning: Columns (7) have mixed types. Specify dtype option on import or set low_memory=False.\n",
            "  interactivity=interactivity, compiler=compiler, result=result)\n"
          ],
          "name": "stderr"
        },
        {
          "output_type": "execute_result",
          "data": {
            "text/html": [
              "<div>\n",
              "<style scoped>\n",
              "    .dataframe tbody tr th:only-of-type {\n",
              "        vertical-align: middle;\n",
              "    }\n",
              "\n",
              "    .dataframe tbody tr th {\n",
              "        vertical-align: top;\n",
              "    }\n",
              "\n",
              "    .dataframe thead th {\n",
              "        text-align: right;\n",
              "    }\n",
              "</style>\n",
              "<table border=\"1\" class=\"dataframe\">\n",
              "  <thead>\n",
              "    <tr style=\"text-align: right;\">\n",
              "      <th></th>\n",
              "      <th>Store</th>\n",
              "      <th>DayOfWeek</th>\n",
              "      <th>Date</th>\n",
              "      <th>Sales</th>\n",
              "      <th>Customers</th>\n",
              "      <th>Open</th>\n",
              "      <th>Promo</th>\n",
              "      <th>StateHoliday</th>\n",
              "      <th>SchoolHoliday</th>\n",
              "    </tr>\n",
              "  </thead>\n",
              "  <tbody>\n",
              "    <tr>\n",
              "      <th>0</th>\n",
              "      <td>1</td>\n",
              "      <td>5</td>\n",
              "      <td>2015-07-31</td>\n",
              "      <td>5263</td>\n",
              "      <td>555</td>\n",
              "      <td>1</td>\n",
              "      <td>1</td>\n",
              "      <td>0</td>\n",
              "      <td>1</td>\n",
              "    </tr>\n",
              "    <tr>\n",
              "      <th>1</th>\n",
              "      <td>2</td>\n",
              "      <td>5</td>\n",
              "      <td>2015-07-31</td>\n",
              "      <td>6064</td>\n",
              "      <td>625</td>\n",
              "      <td>1</td>\n",
              "      <td>1</td>\n",
              "      <td>0</td>\n",
              "      <td>1</td>\n",
              "    </tr>\n",
              "    <tr>\n",
              "      <th>2</th>\n",
              "      <td>3</td>\n",
              "      <td>5</td>\n",
              "      <td>2015-07-31</td>\n",
              "      <td>8314</td>\n",
              "      <td>821</td>\n",
              "      <td>1</td>\n",
              "      <td>1</td>\n",
              "      <td>0</td>\n",
              "      <td>1</td>\n",
              "    </tr>\n",
              "    <tr>\n",
              "      <th>3</th>\n",
              "      <td>4</td>\n",
              "      <td>5</td>\n",
              "      <td>2015-07-31</td>\n",
              "      <td>13995</td>\n",
              "      <td>1498</td>\n",
              "      <td>1</td>\n",
              "      <td>1</td>\n",
              "      <td>0</td>\n",
              "      <td>1</td>\n",
              "    </tr>\n",
              "    <tr>\n",
              "      <th>4</th>\n",
              "      <td>5</td>\n",
              "      <td>5</td>\n",
              "      <td>2015-07-31</td>\n",
              "      <td>4822</td>\n",
              "      <td>559</td>\n",
              "      <td>1</td>\n",
              "      <td>1</td>\n",
              "      <td>0</td>\n",
              "      <td>1</td>\n",
              "    </tr>\n",
              "  </tbody>\n",
              "</table>\n",
              "</div>"
            ],
            "text/plain": [
              "   Store  DayOfWeek        Date  Sales  ...  Open  Promo  StateHoliday SchoolHoliday\n",
              "0      1          5  2015-07-31   5263  ...     1      1             0             1\n",
              "1      2          5  2015-07-31   6064  ...     1      1             0             1\n",
              "2      3          5  2015-07-31   8314  ...     1      1             0             1\n",
              "3      4          5  2015-07-31  13995  ...     1      1             0             1\n",
              "4      5          5  2015-07-31   4822  ...     1      1             0             1\n",
              "\n",
              "[5 rows x 9 columns]"
            ]
          },
          "metadata": {
            "tags": []
          },
          "execution_count": 5
        }
      ]
    },
    {
      "cell_type": "markdown",
      "metadata": {
        "id": "SNoNiBH0oH3L",
        "colab_type": "text"
      },
      "source": [
        "*You might see a warning when importing the data. This is because StateHoliday has both values in string and numbers. No worries this for now.*"
      ]
    },
    {
      "cell_type": "markdown",
      "metadata": {
        "id": "Dxg8lfkUe5aw",
        "colab_type": "text"
      },
      "source": [
        "### Q1 [7 points]\n",
        "\n",
        "Run the following model\n",
        "\n",
        "$$Sales=\\beta_0+\\beta_1 Customers + \\epsilon$$\n",
        "\n",
        "> (1) Print out the summary output\n",
        "\n",
        "> (2) Based on regression result, answer the following questions\n",
        "\n",
        ">> Interpret  $\\hat{\\beta_0}$ and $\\hat{\\beta_1}$ based on the regression output. \n",
        "\n",
        ">> Reason whether there is a negative correlation between the number of customers and Sales\n",
        "\n",
        ">> Report the 99% confidence interval for $\\beta_1$"
      ]
    },
    {
      "cell_type": "code",
      "metadata": {
        "id": "oa-KpNvoe5HN",
        "colab_type": "code",
        "colab": {}
      },
      "source": [
        ""
      ],
      "execution_count": 0,
      "outputs": []
    },
    {
      "cell_type": "markdown",
      "metadata": {
        "id": "fsl2cJPei2M3",
        "colab_type": "text"
      },
      "source": [
        "###Q2. [7 points]\n",
        "\n",
        "* For the model above, use a Python attribute we discussed in class to retrieve the values for $\\hat{\\beta_0}$ and $\\hat{\\beta_1}$.\n",
        "\n",
        "* Based on these two values, give the prediction for $\\widehat{Sales}$ when number of customers=110.\n",
        "\n",
        "* Find out the average of the actual Sales for all the records that have customers=110."
      ]
    },
    {
      "cell_type": "code",
      "metadata": {
        "id": "A9XVAEZTovml",
        "colab_type": "code",
        "colab": {}
      },
      "source": [
        ""
      ],
      "execution_count": 0,
      "outputs": []
    },
    {
      "cell_type": "markdown",
      "metadata": {
        "id": "jiakdWNjm8-o",
        "colab_type": "text"
      },
      "source": [
        "###Q3 [8 points]\n",
        "\n",
        "One person argues the following:\n",
        "\n",
        "* He found from the data that we should expect 0 Sales when we have 0 customers\n",
        "* Since $\\beta_0$ is the expected Sales price, when the number of customers is equal to 0, it should be set equals to 0.  \n",
        "\n",
        "> Based on data, support that his first argument is true.\n",
        "\n",
        "> Provide an argument on why the second point might be problematic. \n",
        "\n",
        "You will find the following articles useful:\n",
        "[Article 1](https://dynamicecology.wordpress.com/2017/04/13/dont-force-your-regression-through-zero-just-because-you-know-the-true-intercept-has-to-be-zero/)"
      ]
    },
    {
      "cell_type": "code",
      "metadata": {
        "id": "AF1A7PYOpv2e",
        "colab_type": "code",
        "colab": {}
      },
      "source": [
        ""
      ],
      "execution_count": 0,
      "outputs": []
    },
    {
      "cell_type": "code",
      "metadata": {
        "id": "__uToQ_Epv0z",
        "colab_type": "code",
        "colab": {}
      },
      "source": [
        ""
      ],
      "execution_count": 0,
      "outputs": []
    },
    {
      "cell_type": "markdown",
      "metadata": {
        "id": "80KXrsB3rWJY",
        "colab_type": "text"
      },
      "source": [
        "###Q4. [5 points] \n",
        "\n",
        "Now, run the following model:\n",
        "\n",
        "$Sales=\\beta_0+\\beta_1 Customers +\\beta_2 Open + \\epsilon$\n",
        "\n",
        "> Fit the model and print out the summary table.\n",
        "\n",
        "> Interpret $\\hat{\\beta_0}$ , $\\hat{\\beta_1}$ and $\\hat{\\beta_2}$. \n"
      ]
    },
    {
      "cell_type": "code",
      "metadata": {
        "id": "RYaOA4qysSVY",
        "colab_type": "code",
        "colab": {}
      },
      "source": [
        ""
      ],
      "execution_count": 0,
      "outputs": []
    },
    {
      "cell_type": "markdown",
      "metadata": {
        "id": "6OVzypgAYfES",
        "colab_type": "text"
      },
      "source": [
        "###Q5. [4 points]\n",
        "\n",
        "Based on regression, prove that Q4 is equivalent to regressing \"Sales\" on \"Customers\" using only observations with stores that are open. "
      ]
    },
    {
      "cell_type": "code",
      "metadata": {
        "id": "bBo7kULp8GMy",
        "colab_type": "code",
        "colab": {}
      },
      "source": [
        ""
      ],
      "execution_count": 0,
      "outputs": []
    },
    {
      "cell_type": "markdown",
      "metadata": {
        "id": "BJDhp8WukbsV",
        "colab_type": "text"
      },
      "source": [
        "###Q6. [7 points]\n",
        "Store table gives the information of each store. \n",
        "\n",
        "* Merge Sales table with Store table\n",
        "* Run the following regression model\n",
        "\n",
        "$$Sales=\\beta_0+\\beta_1 Customers +  \\beta_2 Open + \\beta_3 Competition Distance+\\epsilon$$\n",
        "\n",
        "* Based on the regression result, interpret $\\widehat{\\beta_3}$. Is this consistent with your expectation? Why?"
      ]
    },
    {
      "cell_type": "code",
      "metadata": {
        "id": "yWYpHwq3nLo2",
        "colab_type": "code",
        "outputId": "bb450fcb-7582-4436-94b0-fc49075b3794",
        "colab": {
          "base_uri": "https://localhost:8080/",
          "height": 224
        }
      },
      "source": [
        "link=\"https://drive.google.com/open?id=1g6URzUJnhCLOtg0a9TTHC18KYcqwxvoc\"\n",
        "_,id=link.split(\"=\")\n",
        "downloaded = drive.CreateFile({'id':id}) \n",
        "downloaded.GetContentFile('myfile_store.csv')  \n",
        "Store = pd.read_csv('myfile_store.csv')\n",
        "Store.head(5)\n"
      ],
      "execution_count": 0,
      "outputs": [
        {
          "output_type": "execute_result",
          "data": {
            "text/html": [
              "<div>\n",
              "<style scoped>\n",
              "    .dataframe tbody tr th:only-of-type {\n",
              "        vertical-align: middle;\n",
              "    }\n",
              "\n",
              "    .dataframe tbody tr th {\n",
              "        vertical-align: top;\n",
              "    }\n",
              "\n",
              "    .dataframe thead th {\n",
              "        text-align: right;\n",
              "    }\n",
              "</style>\n",
              "<table border=\"1\" class=\"dataframe\">\n",
              "  <thead>\n",
              "    <tr style=\"text-align: right;\">\n",
              "      <th></th>\n",
              "      <th>Store</th>\n",
              "      <th>StoreType</th>\n",
              "      <th>Assortment</th>\n",
              "      <th>CompetitionDistance</th>\n",
              "      <th>CompetitionOpenSinceMonth</th>\n",
              "      <th>CompetitionOpenSinceYear</th>\n",
              "      <th>Promo2</th>\n",
              "      <th>Promo2SinceWeek</th>\n",
              "      <th>Promo2SinceYear</th>\n",
              "      <th>PromoInterval</th>\n",
              "    </tr>\n",
              "  </thead>\n",
              "  <tbody>\n",
              "    <tr>\n",
              "      <th>0</th>\n",
              "      <td>1</td>\n",
              "      <td>c</td>\n",
              "      <td>a</td>\n",
              "      <td>1270.0</td>\n",
              "      <td>9.0</td>\n",
              "      <td>2008.0</td>\n",
              "      <td>0</td>\n",
              "      <td>NaN</td>\n",
              "      <td>NaN</td>\n",
              "      <td>NaN</td>\n",
              "    </tr>\n",
              "    <tr>\n",
              "      <th>1</th>\n",
              "      <td>2</td>\n",
              "      <td>a</td>\n",
              "      <td>a</td>\n",
              "      <td>570.0</td>\n",
              "      <td>11.0</td>\n",
              "      <td>2007.0</td>\n",
              "      <td>1</td>\n",
              "      <td>13.0</td>\n",
              "      <td>2010.0</td>\n",
              "      <td>Jan,Apr,Jul,Oct</td>\n",
              "    </tr>\n",
              "    <tr>\n",
              "      <th>2</th>\n",
              "      <td>3</td>\n",
              "      <td>a</td>\n",
              "      <td>a</td>\n",
              "      <td>14130.0</td>\n",
              "      <td>12.0</td>\n",
              "      <td>2006.0</td>\n",
              "      <td>1</td>\n",
              "      <td>14.0</td>\n",
              "      <td>2011.0</td>\n",
              "      <td>Jan,Apr,Jul,Oct</td>\n",
              "    </tr>\n",
              "    <tr>\n",
              "      <th>3</th>\n",
              "      <td>4</td>\n",
              "      <td>c</td>\n",
              "      <td>c</td>\n",
              "      <td>620.0</td>\n",
              "      <td>9.0</td>\n",
              "      <td>2009.0</td>\n",
              "      <td>0</td>\n",
              "      <td>NaN</td>\n",
              "      <td>NaN</td>\n",
              "      <td>NaN</td>\n",
              "    </tr>\n",
              "    <tr>\n",
              "      <th>4</th>\n",
              "      <td>5</td>\n",
              "      <td>a</td>\n",
              "      <td>a</td>\n",
              "      <td>29910.0</td>\n",
              "      <td>4.0</td>\n",
              "      <td>2015.0</td>\n",
              "      <td>0</td>\n",
              "      <td>NaN</td>\n",
              "      <td>NaN</td>\n",
              "      <td>NaN</td>\n",
              "    </tr>\n",
              "  </tbody>\n",
              "</table>\n",
              "</div>"
            ],
            "text/plain": [
              "   Store StoreType  ... Promo2SinceYear    PromoInterval\n",
              "0      1         c  ...             NaN              NaN\n",
              "1      2         a  ...          2010.0  Jan,Apr,Jul,Oct\n",
              "2      3         a  ...          2011.0  Jan,Apr,Jul,Oct\n",
              "3      4         c  ...             NaN              NaN\n",
              "4      5         a  ...             NaN              NaN\n",
              "\n",
              "[5 rows x 10 columns]"
            ]
          },
          "metadata": {
            "tags": []
          },
          "execution_count": 4
        }
      ]
    },
    {
      "cell_type": "code",
      "metadata": {
        "id": "Ge1vWNTp7hbq",
        "colab_type": "code",
        "colab": {}
      },
      "source": [
        ""
      ],
      "execution_count": 0,
      "outputs": []
    }
  ]
}