{
  "nbformat": 4,
  "nbformat_minor": 0,
  "metadata": {
    "colab": {
      "name": "HW3 (IEOR E4650 Fall 2019 solution).ipynb",
      "provenance": [],
      "collapsed_sections": [],
      "machine_shape": "hm"
    },
    "kernelspec": {
      "name": "python3",
      "display_name": "Python 3"
    }
  },
  "cells": [
    {
      "cell_type": "markdown",
      "metadata": {
        "id": "9JCRnqkLnjHE",
        "colab_type": "text"
      },
      "source": [
        "# **IEOR 4650  Business Analytics (Fall 2019)**\n",
        "\n",
        "**Homework 3 [Total points: 60]**\n",
        "\n",
        "** Due: 11:59 PM, October *****\n",
        "\n",
        "This second homework consists of Python programming practices and the applications to Poisson regression. \n",
        "\n",
        "The steps to finish in the homework:\n",
        "\n",
        "*   Step 1: Make a copy of the file to your LionDrive.\n",
        "*   Step 2: Work with the copy (an ipynb file).\n",
        "*    <font color='red'>**Step 3: Rename the copy to your_uni_hw3.ipynb (For example: yd4501_hw3.ipynb).**</font>  \n",
        "*   Step 4: Submit the copy on CourseWorks.\n",
        "\n",
        "Before you submit your assignment, make sure to re-run your code from the beginning. (You can do so by first clicking Runtime/Reset All Runtimes and then clicking Runtime/Run all)\n",
        "\n",
        "\n",
        "**All the questions in this homework requires coding**"
      ]
    },
    {
      "cell_type": "code",
      "metadata": {
        "id": "lSH_bDnX2ybu",
        "colab_type": "code",
        "colab": {}
      },
      "source": [
        "#This imports all the packages you need for the homework\n",
        "#Please run this first\n",
        "\n",
        "\n",
        "!pip install -U -q PyDrive\n",
        "from pydrive.auth import GoogleAuth\n",
        "from pydrive.drive import GoogleDrive\n",
        "from google.colab import auth\n",
        "from oauth2client.client import GoogleCredentials\n",
        "# Authenticate and create the PyDrive client.\n",
        "auth.authenticate_user()\n",
        "gauth = GoogleAuth()\n",
        "gauth.credentials = GoogleCredentials.get_application_default()\n",
        "drive = GoogleDrive(gauth)\n",
        "\n",
        "\n",
        "#import modules\n",
        "\n",
        "import numpy as np\n",
        "import pandas as pd\n",
        "from statsmodels.formula.api import ols\n",
        "import matplotlib.pyplot as plt\n",
        "import sklearn \n",
        "import scipy.special as spsp\n",
        "from scipy.optimize import minimize\n",
        "import scipy.stats as spst"
      ],
      "execution_count": 0,
      "outputs": []
    },
    {
      "cell_type": "markdown",
      "metadata": {
        "id": "z5i-TJRyCOfI",
        "colab_type": "text"
      },
      "source": [
        "#Exercise 1 [Total: 23 points]"
      ]
    },
    {
      "cell_type": "markdown",
      "metadata": {
        "id": "5MbEozs6mhrd",
        "colab_type": "text"
      },
      "source": [
        "\n",
        "##Setting\n",
        "In this example, we take a closer look at the data we used for Poisson regression. \n",
        "\n",
        "This data measures the number of ad exposures each customer got **within 1 day**. \n",
        "\n",
        "\n",
        "(1) In the class, we checked the model fitting based on how closely the predicted numbers of customers having different number of exposures match with the samples we actually observe. In this exercise, we will explore how to apply cross-validation to Poisson regression.\n",
        "\n",
        "(2) We are interested in using this dataset to make meaningful business recommendation."
      ]
    },
    {
      "cell_type": "code",
      "metadata": {
        "id": "ziA1Im85eaIF",
        "colab_type": "code",
        "outputId": "4bf0236b-3630-43bd-97d1-eb480789c9dc",
        "colab": {
          "base_uri": "https://localhost:8080/",
          "height": 224
        }
      },
      "source": [
        "#Load the dataset\n",
        "link=\"https://drive.google.com/open?id=1pjdoOKuczV8Zc6Zw8-yUh6q2tqogN-xt\"\n",
        "_,id=link.split(\"=\")\n",
        "downloaded = drive.CreateFile({'id':id}) \n",
        "downloaded.GetContentFile('Exposure.csv')  \n",
        "Ad = pd.read_csv('Exposure.csv')\n",
        "Ad.head(5)\n",
        "\n"
      ],
      "execution_count": 0,
      "outputs": [
        {
          "output_type": "execute_result",
          "data": {
            "text/html": [
              "<div>\n",
              "<style scoped>\n",
              "    .dataframe tbody tr th:only-of-type {\n",
              "        vertical-align: middle;\n",
              "    }\n",
              "\n",
              "    .dataframe tbody tr th {\n",
              "        vertical-align: top;\n",
              "    }\n",
              "\n",
              "    .dataframe thead th {\n",
              "        text-align: right;\n",
              "    }\n",
              "</style>\n",
              "<table border=\"1\" class=\"dataframe\">\n",
              "  <thead>\n",
              "    <tr style=\"text-align: right;\">\n",
              "      <th></th>\n",
              "      <th>Cookie_ID</th>\n",
              "      <th>Exposures</th>\n",
              "    </tr>\n",
              "  </thead>\n",
              "  <tbody>\n",
              "    <tr>\n",
              "      <th>0</th>\n",
              "      <td>1</td>\n",
              "      <td>0</td>\n",
              "    </tr>\n",
              "    <tr>\n",
              "      <th>1</th>\n",
              "      <td>2</td>\n",
              "      <td>0</td>\n",
              "    </tr>\n",
              "    <tr>\n",
              "      <th>2</th>\n",
              "      <td>3</td>\n",
              "      <td>3</td>\n",
              "    </tr>\n",
              "    <tr>\n",
              "      <th>3</th>\n",
              "      <td>4</td>\n",
              "      <td>49</td>\n",
              "    </tr>\n",
              "    <tr>\n",
              "      <th>4</th>\n",
              "      <td>5</td>\n",
              "      <td>4</td>\n",
              "    </tr>\n",
              "  </tbody>\n",
              "</table>\n",
              "</div>"
            ],
            "text/plain": [
              "   Cookie_ID  Exposures\n",
              "0          1          0\n",
              "1          2          0\n",
              "2          3          3\n",
              "3          4         49\n",
              "4          5          4"
            ]
          },
          "metadata": {
            "tags": []
          },
          "execution_count": 2
        }
      ]
    },
    {
      "cell_type": "markdown",
      "metadata": {
        "id": "e3z7oqAWGFcK",
        "colab_type": "text"
      },
      "source": [
        "## Q1 [10 points]\n",
        "\n",
        "**[Cross validation]**\n",
        "\n",
        "In the class, we checked the model fitting based on how closely the predicted numbers of customers having different number of exposures match with the samples we actually observe. However, we were basically doing the model selection and model fitting using the chunk of data. \n",
        "\n",
        "For this exercise, let's first separate the data by\n",
        "\n",
        "* first randomize the data \n",
        "* Split our data into 3 sets. \n",
        "\n",
        ">> Training: The first 4000 observations\n",
        "\n",
        ">> Validation: Observation 4001 to 4500\n",
        "\n",
        ">> Testing: Observation 4501 to 5000.\n",
        "\n",
        "We then test which model is the best model.\n",
        "\n",
        "* Simple Poisson\n",
        "* 2-segment Poisson \n",
        "* Zero-inflated Poisson \n",
        "* NBD (Poisson-Gamma)\n",
        "\n",
        "For the model accuracy, let's use the joint log likelihood. Again, the higher the joint log likelihood, the better the model is. \n",
        "\n",
        "Based on the result, rank the model performance from the highest to the lowest.\n",
        "\n",
        "\n",
        "\n"
      ]
    },
    {
      "cell_type": "code",
      "metadata": {
        "id": "9lpzBMCyrI-s",
        "colab_type": "code",
        "outputId": "d1601dd8-69f0-474f-ee75-6a942ab99ba9",
        "colab": {
          "base_uri": "https://localhost:8080/",
          "height": 193
        }
      },
      "source": [
        "#don't remove this line (otherwise, you lose 2 points)\n",
        "np.random.seed(30)\n",
        "\n",
        "#shuffle and split\n",
        "Ad_shuffled=sklearn.utils.shuffle(Ad)\n",
        "Ad_training=Ad_shuffled[0:4000]\n",
        "Ad_validation=Ad_shuffled[4000:4500]\n",
        "Ad_testing=Ad_shuffled[4500:]\n",
        "\n",
        "Ad_training.head(4)"
      ],
      "execution_count": 0,
      "outputs": [
        {
          "output_type": "execute_result",
          "data": {
            "text/html": [
              "<div>\n",
              "<style scoped>\n",
              "    .dataframe tbody tr th:only-of-type {\n",
              "        vertical-align: middle;\n",
              "    }\n",
              "\n",
              "    .dataframe tbody tr th {\n",
              "        vertical-align: top;\n",
              "    }\n",
              "\n",
              "    .dataframe thead th {\n",
              "        text-align: right;\n",
              "    }\n",
              "</style>\n",
              "<table border=\"1\" class=\"dataframe\">\n",
              "  <thead>\n",
              "    <tr style=\"text-align: right;\">\n",
              "      <th></th>\n",
              "      <th>Cookie_ID</th>\n",
              "      <th>Exposures</th>\n",
              "    </tr>\n",
              "  </thead>\n",
              "  <tbody>\n",
              "    <tr>\n",
              "      <th>2192</th>\n",
              "      <td>2193</td>\n",
              "      <td>3</td>\n",
              "    </tr>\n",
              "    <tr>\n",
              "      <th>911</th>\n",
              "      <td>912</td>\n",
              "      <td>0</td>\n",
              "    </tr>\n",
              "    <tr>\n",
              "      <th>3061</th>\n",
              "      <td>3062</td>\n",
              "      <td>3</td>\n",
              "    </tr>\n",
              "    <tr>\n",
              "      <th>3382</th>\n",
              "      <td>3383</td>\n",
              "      <td>28</td>\n",
              "    </tr>\n",
              "  </tbody>\n",
              "</table>\n",
              "</div>"
            ],
            "text/plain": [
              "      Cookie_ID  Exposures\n",
              "2192       2193          3\n",
              "911         912          0\n",
              "3061       3062          3\n",
              "3382       3383         28"
            ]
          },
          "metadata": {
            "tags": []
          },
          "execution_count": 3
        }
      ]
    },
    {
      "cell_type": "code",
      "metadata": {
        "id": "oa-KpNvoe5HN",
        "colab_type": "code",
        "colab": {}
      },
      "source": [
        "#Model1\n",
        "Exposures_training=Ad_training[\"Exposures\"].values\n",
        "Exposures_validation=Ad_validation[\"Exposures\"].values\n",
        "\n",
        "def neg_LL(beta):\n",
        "  lmbda=np.exp(beta)\n",
        "  #individual log likelihood\n",
        "  ind_LL=np.log(spst.poisson.pmf(Exposures_training,lmbda))\n",
        "  #joint log likelihood\n",
        "  Joint_LL=np.sum(ind_LL)\n",
        "  return -Joint_LL\n",
        "#randomly select a starting point\n",
        "guess=np.random.rand()\n",
        "#start minimization\n",
        "result1=minimize(neg_LL,guess,method=\"BFGS\")\n",
        "lmbda_hat=np.exp(result1.x)\n",
        "\n",
        "\n",
        "\n",
        "ind_LL=np.log(spst.poisson.pmf(Exposures_validation,lmbda_hat))\n",
        "\n",
        "#joint log likelihood\n",
        "JLL1=np.sum(ind_LL)"
      ],
      "execution_count": 0,
      "outputs": []
    },
    {
      "cell_type": "code",
      "metadata": {
        "id": "yfjkwsideUKn",
        "colab_type": "code",
        "colab": {}
      },
      "source": [
        "#Model2\n",
        "def neg_LL(betas):\n",
        "  lmbda1=np.exp(betas[0])\n",
        "  lmbda2=np.exp(betas[1])\n",
        "  p=np.exp(betas[2])/(1+np.exp(betas[2]))\n",
        "  #individual log likelihood\n",
        "  ind_L1=spst.poisson.pmf(Exposures_training,lmbda1)\n",
        "  ind_L2=spst.poisson.pmf(Exposures_training,lmbda2)\n",
        "  ind_LL=np.log(ind_L1*p+ind_L2*(1-p))\n",
        "  #joint log likelihood\n",
        "  Joint_LL=np.sum(ind_LL)\n",
        "  return -Joint_LL\n",
        "#randomly select a starting point\n",
        "guess=np.random.rand(3)\n",
        "#start minimization\n",
        "result2=minimize(neg_LL,guess,method=\"BFGS\")\n",
        "betas=result2.x\n",
        "lmbda1_hat=np.exp(betas[0])\n",
        "lmbda2_hat=np.exp(betas[1])\n",
        "p_hat=np.exp(betas[2])/(1+np.exp(betas[2]))\n",
        "\n",
        "ind_L1= spst.poisson.pmf(Exposures_validation,lmbda1_hat)\n",
        "ind_L2=spst.poisson.pmf(Exposures_validation,lmbda2_hat)\n",
        "ind_LL=np.log(ind_L1*p_hat+ind_L2*(1-p_hat))\n",
        "#joint log likelihood\n",
        "JLL2=np.sum(ind_LL)"
      ],
      "execution_count": 0,
      "outputs": []
    },
    {
      "cell_type": "code",
      "metadata": {
        "id": "pl3IX8Iwr6Ac",
        "colab_type": "code",
        "colab": {}
      },
      "source": [
        "#Model3\n",
        "def neg_LL(betas):\n",
        "  lmbda1=0\n",
        "  lmbda2=np.exp(betas[0])\n",
        "  p=np.exp(betas[1])/(1+np.exp(betas[1]))\n",
        "  #individual log likelihood\n",
        "  ind_L1=spst.poisson.pmf(Exposures_training,lmbda1)\n",
        "  ind_L2=spst.poisson.pmf(Exposures_training,lmbda2)\n",
        "  ind_LL=np.log(ind_L1*p+ind_L2*(1-p))\n",
        "  #joint log likelihood\n",
        "  Joint_LL=np.sum(ind_LL)\n",
        "  return -Joint_LL\n",
        "#randomly select a starting point\n",
        "guess=np.random.rand(2)\n",
        "#start minimization\n",
        "result3=minimize(neg_LL,guess,method=\"BFGS\")\n",
        "betas=result3.x\n",
        "lmbda1_hat=0\n",
        "lmbda2_hat=np.exp(betas[0])\n",
        "p_hat=np.exp(betas[1])/(1+np.exp(betas[1]))\n",
        " \n",
        "ind_L1= spst.poisson.pmf(Exposures_validation,lmbda1_hat)\n",
        "ind_L2=spst.poisson.pmf(Exposures_validation,lmbda2_hat)\n",
        "ind_LL=np.log(ind_L1*p_hat+ind_L2*(1-p_hat))\n",
        "#joint log likelihood\n",
        "JLL3=np.sum(ind_LL)"
      ],
      "execution_count": 0,
      "outputs": []
    },
    {
      "cell_type": "code",
      "metadata": {
        "id": "SjR_7lnegVaR",
        "colab_type": "code",
        "outputId": "19656688-13cf-48cb-d589-c2f291c07f1d",
        "colab": {
          "base_uri": "https://localhost:8080/",
          "height": 139
        }
      },
      "source": [
        "#Model3\n",
        "def neg_LL(betas,Exposures_training,Exposures_validation):\n",
        "  lmbda1=0\n",
        "  lmbda2=np.exp(betas[0])\n",
        "  p=np.exp(betas[1])/(1+np.exp(betas[1]))\n",
        "  #individual log likelihood\n",
        "  ind_L1=spst.poisson.pmf(Exposures_training,lmbda1)\n",
        "  ind_L2=spst.poisson.pmf(Exposures_training,lmbda2)\n",
        "  ind_LL=np.log(ind_L1*p+ind_L2*(1-p))\n",
        "  #joint log likelihood\n",
        "  Joint_LL=np.sum(ind_LL)\n",
        "  return -Joint_LL\n",
        "#randomly select a starting point\n",
        "guess=np.random.rand(2)\n",
        "#start minimization\n",
        "result3=minimize(neg_LL,guess,args=(Exposures_training,Exposures_validation),method=\"BFGS\")\n",
        "betas=result3.x\n",
        "lmbda1_hat=0\n",
        "lmbda2_hat=np.exp(betas[0])\n",
        "p_hat=np.exp(betas[1])/(1+np.exp(betas[1]))\n",
        " "
      ],
      "execution_count": 0,
      "outputs": [
        {
          "output_type": "stream",
          "text": [
            "/usr/local/lib/python3.6/dist-packages/ipykernel_launcher.py:8: RuntimeWarning: divide by zero encountered in log\n",
            "  \n",
            "/usr/local/lib/python3.6/dist-packages/scipy/optimize/optimize.py:696: RuntimeWarning: invalid value encountered in double_scalars\n",
            "  grad[k] = (f(*((xk + d,) + args)) - f0) / d[k]\n",
            "/usr/local/lib/python3.6/dist-packages/ipykernel_launcher.py:8: RuntimeWarning: divide by zero encountered in log\n",
            "  \n"
          ],
          "name": "stderr"
        }
      ]
    },
    {
      "cell_type": "code",
      "metadata": {
        "id": "6dNHq40tht1C",
        "colab_type": "code",
        "colab": {}
      },
      "source": [
        "#Model4\n",
        "def neg_LL(betas):\n",
        "  alpha=np.exp(betas[0])\n",
        "  gamma=np.exp(betas[1])\n",
        "  #individual log likelihood\n",
        "  ind_L=spsp.gamma(gamma+Exposures_training)/spsp.gamma(gamma)/spsp.gamma(Exposures_training+1)\\\n",
        "  *(1/(1+alpha))**Exposures_training*(alpha/(1+alpha))**gamma\n",
        "  ind_LL=np.log(ind_L)\n",
        "  #joint log likelihood\n",
        "  Joint_LL=np.sum(ind_LL)\n",
        "  return -Joint_LL\n",
        "#randomly select a starting point\n",
        "guess=np.random.rand(2)\n",
        "#start minimization\n",
        "result4=minimize(neg_LL,guess,method=\"BFGS\")\n",
        "betas=result4.x\n",
        "alpha_hat=np.exp(betas[0])\n",
        "gamma_hat=np.exp(betas[1])\n",
        " \n",
        "ind_L=spsp.gamma(gamma_hat+Exposures_validation)/spsp.gamma(gamma_hat)/spsp.gamma(Exposures_validation+1)\\\n",
        "  *(1/(1+alpha_hat))**Exposures_validation*(alpha_hat/(1+alpha_hat))**gamma_hat\n",
        "ind_LL=np.log(ind_L)\n",
        "#joint log likelihood\n",
        "JLL4=np.sum(ind_LL)"
      ],
      "execution_count": 0,
      "outputs": []
    },
    {
      "cell_type": "code",
      "metadata": {
        "id": "F_quLRXMjFVG",
        "colab_type": "code",
        "outputId": "7f859ab0-568f-4bb1-a3b5-32a5303d342c",
        "colab": {
          "base_uri": "https://localhost:8080/",
          "height": 54
        }
      },
      "source": [
        "print(JLL1,JLL2,JLL3,JLL4)"
      ],
      "execution_count": 0,
      "outputs": [
        {
          "output_type": "stream",
          "text": [
            "-2082.3649844534657 -1149.7562188731767 -1479.42543760672 -938.9661327808763\n"
          ],
          "name": "stdout"
        }
      ]
    },
    {
      "cell_type": "markdown",
      "metadata": {
        "id": "5XbBFoG81Qqm",
        "colab_type": "text"
      },
      "source": [
        "In terms of model perfoamcne, we have the following ranking from the highest to the lowest\n",
        "\n",
        "(1) NBD\n",
        "(2) 2-segment Poisson\n",
        "(3) Zero-inflated Poisson\n",
        "(4) One-segment Poisson"
      ]
    },
    {
      "cell_type": "markdown",
      "metadata": {
        "id": "FurA2IrT2u9x",
        "colab_type": "text"
      },
      "source": [
        "##Q2 [4 points]\n",
        "\n",
        "Based on the model learned on the training set, report the expected number of exposures for the market using each model you tested in Q1."
      ]
    },
    {
      "cell_type": "code",
      "metadata": {
        "id": "f0vLDBYc3AWr",
        "colab_type": "code",
        "outputId": "674074b9-fa2c-4ed2-e93d-d1af6b0247d7",
        "colab": {
          "base_uri": "https://localhost:8080/",
          "height": 105
        }
      },
      "source": [
        "#Model1\n",
        "lmbda_hat=np.exp(result1.x)\n",
        "print(lmbda_hat[0])\n",
        "\n",
        "#Model2\n",
        "betas=result2.x\n",
        "lmbda1_hat=np.exp(betas[0])\n",
        "lmbda2_hat=np.exp(betas[1])\n",
        "p_hat=np.exp(betas[2])/(1+np.exp(betas[2]))\n",
        "print(lmbda1_hat*p_hat+lmbda2_hat*(1-p_hat))\n",
        "#Model3\n",
        "betas=result3.x\n",
        "lmbda1_hat=0\n",
        "lmbda2_hat=np.exp(betas[0])\n",
        "p_hat=np.exp(betas[1])/(1+np.exp(betas[1]))\n",
        "print(lmbda1_hat*p_hat+lmbda2_hat*(1-p_hat))\n",
        "\n",
        "#Model3\n",
        "betas=result4.x\n",
        "alpha_hat=np.exp(betas[0])\n",
        "gamma_hat=np.exp(betas[1])\n",
        "print(gamma_hat/alpha_hat)\n",
        "\n",
        "##If students multipled 2.5 by the market size, that is fine. Give them full points."
      ],
      "execution_count": 0,
      "outputs": [
        {
          "output_type": "stream",
          "text": [
            "2.5057499802237246\n",
            "2.505750165222403\n",
            "2.505749985965562\n",
            "2.505750137582406\n"
          ],
          "name": "stdout"
        }
      ]
    },
    {
      "cell_type": "markdown",
      "metadata": {
        "id": "_1Aj4jvfd4__",
        "colab_type": "text"
      },
      "source": [
        "## Q3 [9 points]\n",
        "\n",
        "Assume that we decide to stick to NBD model, we want to use this model to do something meaningful.\n",
        "\n",
        "(1) Based on the model, how many people do you predict on the testing set to have at most 1 exposure? How does this number match with the actual observation?\n",
        "\n",
        "(2) How many more days of exposures do we at least need to reduce this number to below 200? [You only need to consider integer days]\n",
        "\n",
        "(3) Assume a customer had 0 exposures, visualize the posterior distribution of $\\lambda$ for this customer.\n",
        "\n",
        "(4) Assume a customer had 5 exposures, visualize the posterior distribution of $\\lambda$ for this customer.\n",
        "\n"
      ]
    },
    {
      "cell_type": "code",
      "metadata": {
        "id": "m4wxKYP6k2Iy",
        "colab_type": "code",
        "outputId": "f01b38ab-07da-4382-fe5b-68faa1731951",
        "colab": {
          "base_uri": "https://localhost:8080/",
          "height": 54
        }
      },
      "source": [
        "#observed\n",
        "Ad_testing[(Ad_testing[\"Exposures\"]==0)|(Ad_testing[\"Exposures\"]==1)].shape[0]"
      ],
      "execution_count": 0,
      "outputs": [
        {
          "output_type": "execute_result",
          "data": {
            "text/plain": [
              "328"
            ]
          },
          "metadata": {
            "tags": []
          },
          "execution_count": 13
        }
      ]
    },
    {
      "cell_type": "code",
      "metadata": {
        "id": "mmoh2Zv1ldxz",
        "colab_type": "code",
        "outputId": "3651e670-d89f-40d9-9afb-f8a9cf403a4e",
        "colab": {
          "base_uri": "https://localhost:8080/",
          "height": 54
        }
      },
      "source": [
        "#predicted\n",
        "x=0\n",
        "p0=spsp.gamma(gamma_hat+x)/spsp.gamma(gamma_hat)/spsp.gamma(x+1)\\\n",
        "  *(1/(1+alpha_hat))**x*(alpha_hat/(1+alpha_hat))**gamma_hat\n",
        "x=1\n",
        "p1=spsp.gamma(gamma_hat+x)/spsp.gamma(gamma_hat)/spsp.gamma(x+1)\\\n",
        "  *(1/(1+alpha_hat))**x*(alpha_hat/(1+alpha_hat))**gamma_hat\n",
        "\n",
        "(p0+p1)*Ad_testing.shape[0]"
      ],
      "execution_count": 0,
      "outputs": [
        {
          "output_type": "execute_result",
          "data": {
            "text/plain": [
              "336.87171582843655"
            ]
          },
          "metadata": {
            "tags": []
          },
          "execution_count": 14
        }
      ]
    },
    {
      "cell_type": "code",
      "metadata": {
        "id": "Q8F661POmDry",
        "colab_type": "code",
        "outputId": "ba3e82a4-cd50-4dcb-a66e-558d986ba466",
        "colab": {
          "base_uri": "https://localhost:8080/",
          "height": 54
        }
      },
      "source": [
        "#predicted\n",
        "x=0\n",
        "t=10\n",
        "p0=spsp.gamma(gamma_hat+x)/spsp.gamma(gamma_hat)/spsp.gamma(x+1)\\\n",
        "  *(t/(t+alpha_hat))**x*(alpha_hat/(t+alpha_hat))**gamma_hat\n",
        "x=1\n",
        "p1=spsp.gamma(gamma_hat+x)/spsp.gamma(gamma_hat)/spsp.gamma(x+1)\\\n",
        "  *(t/(t+alpha_hat))**x*(alpha_hat/(t+alpha_hat))**gamma_hat\n",
        "\n",
        "(p0+p1)*Ad_testing.shape[0]\n",
        "\n",
        "#We need at least 9 more days"
      ],
      "execution_count": 0,
      "outputs": [
        {
          "output_type": "execute_result",
          "data": {
            "text/plain": [
              "196.82576675272617"
            ]
          },
          "metadata": {
            "tags": []
          },
          "execution_count": 15
        }
      ]
    },
    {
      "cell_type": "code",
      "metadata": {
        "id": "BwBNzoeSegid",
        "colab_type": "code",
        "outputId": "e86ea07b-f825-4cfa-859d-b724dc11945d",
        "colab": {
          "base_uri": "https://localhost:8080/",
          "height": 289
        }
      },
      "source": [
        "#First customer will follow Gamma(gamma,alpha+1)\n",
        "\n",
        "lmbda=np.linspace(0.001,0.2,100)\n",
        "alpha=alpha_hat+1\n",
        "gamma=gamma_hat\n",
        "pdf=alpha**gamma/spsp.gamma(gamma)*lmbda**(gamma-1)*np.exp(-alpha*lmbda)\n",
        "plt.plot(lmbda,pdf)\n",
        "plt.show()"
      ],
      "execution_count": 0,
      "outputs": [
        {
          "output_type": "display_data",
          "data": {
            "image/png": "[encoded data removed]",
            "text/plain": [
              "<Figure size 432x288 with 1 Axes>"
            ]
          },
          "metadata": {
            "tags": []
          }
        }
      ]
    },
    {
      "cell_type": "code",
      "metadata": {
        "id": "vs5KVOLYkq_r",
        "colab_type": "code",
        "outputId": "c6775406-1fb1-4f07-c0e5-88077010156b",
        "colab": {
          "base_uri": "https://localhost:8080/",
          "height": 289
        }
      },
      "source": [
        "#Second customer will follow Gamma(gamma+10,alpha+1)\n",
        "\n",
        "lmbda=np.linspace(0.001,20,100)\n",
        "alpha=alpha_hat+1\n",
        "gamma=gamma_hat+5\n",
        "pdf=alpha**gamma/spsp.gamma(gamma)*lmbda**(gamma-1)*np.exp(-alpha*lmbda)\n",
        "plt.plot(lmbda,pdf)\n",
        "plt.show()"
      ],
      "execution_count": 0,
      "outputs": [
        {
          "output_type": "display_data",
          "data": {
            "image/png": "[encoded data removed]",
            "text/plain": [
              "<Figure size 432x288 with 1 Axes>"
            ]
          },
          "metadata": {
            "tags": []
          }
        }
      ]
    },
    {
      "cell_type": "markdown",
      "metadata": {
        "id": "-OIl1Vg2euRn",
        "colab_type": "text"
      },
      "source": [
        "#Exercise 2 [Total: 37  Points]"
      ]
    },
    {
      "cell_type": "markdown",
      "metadata": {
        "id": "fQfFr7-V3cqR",
        "colab_type": "text"
      },
      "source": [
        "##Setting\n",
        "\n",
        "In this exercise, we discuss a model that deals with discrete timing. We will use sports analytics as the background for this study. The data is collected from Kaggle. [link](https://www.kaggle.com/kendallgillies/nflstatistics)\n",
        "\n",
        "In this dataset, we have the information of all the NFL players who are both currently active and have already retired before 2018. In this question, we are interested in modeling the number of years they were active before they retire. \n"
      ]
    },
    {
      "cell_type": "code",
      "metadata": {
        "id": "oLxXPghQFsZV",
        "colab_type": "code",
        "outputId": "fcb1a12b-568c-4f3d-d307-12230f06d342",
        "colab": {
          "base_uri": "https://localhost:8080/",
          "height": 434
        }
      },
      "source": [
        "#Load the dataset\n",
        "link=\"https://drive.google.com/open?id=1voxCbS9xGieGHiEYYCzK61f4BZQWy6SD\"\n",
        "_,id=link.split(\"=\")\n",
        "downloaded = drive.CreateFile({'id':id}) \n",
        "downloaded.GetContentFile('NFL.csv')  \n",
        "NFL = pd.read_csv('NFL.csv')\n",
        "NFL.head(5)\n",
        "\n"
      ],
      "execution_count": 0,
      "outputs": [
        {
          "output_type": "execute_result",
          "data": {
            "text/html": [
              "<div>\n",
              "<style scoped>\n",
              "    .dataframe tbody tr th:only-of-type {\n",
              "        vertical-align: middle;\n",
              "    }\n",
              "\n",
              "    .dataframe tbody tr th {\n",
              "        vertical-align: top;\n",
              "    }\n",
              "\n",
              "    .dataframe thead th {\n",
              "        text-align: right;\n",
              "    }\n",
              "</style>\n",
              "<table border=\"1\" class=\"dataframe\">\n",
              "  <thead>\n",
              "    <tr style=\"text-align: right;\">\n",
              "      <th></th>\n",
              "      <th>Age</th>\n",
              "      <th>Birth Place</th>\n",
              "      <th>Birthday</th>\n",
              "      <th>College</th>\n",
              "      <th>Current Status</th>\n",
              "      <th>Current Team</th>\n",
              "      <th>Experience</th>\n",
              "      <th>Height (inches)</th>\n",
              "      <th>High School</th>\n",
              "      <th>High School Location</th>\n",
              "      <th>Name</th>\n",
              "      <th>Number</th>\n",
              "      <th>Player Id</th>\n",
              "      <th>Position</th>\n",
              "      <th>Weight (lbs)</th>\n",
              "      <th>Years Played</th>\n",
              "    </tr>\n",
              "  </thead>\n",
              "  <tbody>\n",
              "    <tr>\n",
              "      <th>0</th>\n",
              "      <td>NaN</td>\n",
              "      <td>Grand Rapids , MI</td>\n",
              "      <td>5/23/1921</td>\n",
              "      <td>Notre Dame</td>\n",
              "      <td>Retired</td>\n",
              "      <td>NaN</td>\n",
              "      <td>3 Seasons</td>\n",
              "      <td>71.0</td>\n",
              "      <td>NaN</td>\n",
              "      <td>NaN</td>\n",
              "      <td>Evans, Fred</td>\n",
              "      <td>NaN</td>\n",
              "      <td>fredevans/2513736</td>\n",
              "      <td>NaN</td>\n",
              "      <td>185.0</td>\n",
              "      <td>1946 - 1948</td>\n",
              "    </tr>\n",
              "    <tr>\n",
              "      <th>1</th>\n",
              "      <td>NaN</td>\n",
              "      <td>Dayton , OH</td>\n",
              "      <td>12/21/1930</td>\n",
              "      <td>Dayton</td>\n",
              "      <td>Retired</td>\n",
              "      <td>NaN</td>\n",
              "      <td>1 Season</td>\n",
              "      <td>70.0</td>\n",
              "      <td>NaN</td>\n",
              "      <td>NaN</td>\n",
              "      <td>Raiff, Jim</td>\n",
              "      <td>NaN</td>\n",
              "      <td>jimraiff/2523700</td>\n",
              "      <td>NaN</td>\n",
              "      <td>235.0</td>\n",
              "      <td>1954 - 1954</td>\n",
              "    </tr>\n",
              "    <tr>\n",
              "      <th>2</th>\n",
              "      <td>56.0</td>\n",
              "      <td>Temple , TX</td>\n",
              "      <td>9/11/1960</td>\n",
              "      <td>Louisiana Tech</td>\n",
              "      <td>Retired</td>\n",
              "      <td>NaN</td>\n",
              "      <td>1 Season</td>\n",
              "      <td>74.0</td>\n",
              "      <td>NaN</td>\n",
              "      <td>NaN</td>\n",
              "      <td>Fowler, Bobby</td>\n",
              "      <td>NaN</td>\n",
              "      <td>bobbyfowler/2514295</td>\n",
              "      <td>NaN</td>\n",
              "      <td>230.0</td>\n",
              "      <td>1985 - 1985</td>\n",
              "    </tr>\n",
              "    <tr>\n",
              "      <th>3</th>\n",
              "      <td>30.0</td>\n",
              "      <td>New Orleans , LA</td>\n",
              "      <td>9/30/1986</td>\n",
              "      <td>LSU</td>\n",
              "      <td>Retired</td>\n",
              "      <td>NaN</td>\n",
              "      <td>5 Seasons</td>\n",
              "      <td>73.0</td>\n",
              "      <td>NaN</td>\n",
              "      <td>NaN</td>\n",
              "      <td>Johnson, Quinn</td>\n",
              "      <td>NaN</td>\n",
              "      <td>quinnjohnson/79593</td>\n",
              "      <td>NaN</td>\n",
              "      <td>255.0</td>\n",
              "      <td>2009 - 2013</td>\n",
              "    </tr>\n",
              "    <tr>\n",
              "      <th>4</th>\n",
              "      <td>25.0</td>\n",
              "      <td>Detroit , MI</td>\n",
              "      <td>3/31/1992</td>\n",
              "      <td>Central Michigan</td>\n",
              "      <td>Active</td>\n",
              "      <td>Pittsburgh Steelers</td>\n",
              "      <td>3rd season</td>\n",
              "      <td>77.0</td>\n",
              "      <td>Clintondale HS</td>\n",
              "      <td>Clinton Twp.,Macomb Co., MI</td>\n",
              "      <td>Walton, L.T.</td>\n",
              "      <td>96.0</td>\n",
              "      <td>l.t.walton/2552444</td>\n",
              "      <td>DE</td>\n",
              "      <td>305.0</td>\n",
              "      <td>NaN</td>\n",
              "    </tr>\n",
              "  </tbody>\n",
              "</table>\n",
              "</div>"
            ],
            "text/plain": [
              "    Age        Birth Place    Birthday  ... Position Weight (lbs) Years Played\n",
              "0   NaN  Grand Rapids , MI   5/23/1921  ...      NaN        185.0  1946 - 1948\n",
              "1   NaN        Dayton , OH  12/21/1930  ...      NaN        235.0  1954 - 1954\n",
              "2  56.0        Temple , TX   9/11/1960  ...      NaN        230.0  1985 - 1985\n",
              "3  30.0   New Orleans , LA   9/30/1986  ...      NaN        255.0  2009 - 2013\n",
              "4  25.0       Detroit , MI   3/31/1992  ...       DE        305.0          NaN\n",
              "\n",
              "[5 rows x 16 columns]"
            ]
          },
          "metadata": {
            "tags": []
          },
          "execution_count": 16
        }
      ]
    },
    {
      "cell_type": "markdown",
      "metadata": {
        "id": "eZQGdz8pedhi",
        "colab_type": "text"
      },
      "source": [
        "##Q1 [3 points]\n",
        "**[data cleaning]**\n",
        "\n",
        "We will clean our data using the following steps:\n",
        "* **Keep only retired players**  \n",
        "* Compute the number of active years for each player based on the last column. For example, if \"Year Played\" for a player is 1954-1954, the number of active years will be 0, while if  \"Year Played\" for a player is 1971 to 1974, the number of active years will be 3. You will find  [str.split()](https://www.geeksforgeeks.org/python-pandas-split-strings-into-two-list-columns-using-str-split/) function useful for this question."
      ]
    },
    {
      "cell_type": "code",
      "metadata": {
        "id": "Im6HNucHedPG",
        "colab_type": "code",
        "outputId": "13b1caab-c2d6-4cd1-a682-e95066152e4d",
        "colab": {
          "base_uri": "https://localhost:8080/",
          "height": 34
        }
      },
      "source": [
        "NFL=NFL[NFL[\"Current Status\"]==\"Retired\"]\n",
        "Processed=NFL[\"Years Played\"].str.split(\"-\",expand=True)\n",
        "Processed=Processed.astype({0:\"int64\",1:\"int64\"}) \n",
        "y=(Processed[1]-Processed[0]).values\n",
        "y\n",
        " "
      ],
      "execution_count": 0,
      "outputs": [
        {
          "output_type": "execute_result",
          "data": {
            "text/plain": [
              "array([2, 0, 0, ..., 0, 1, 0], dtype=int64)"
            ]
          },
          "metadata": {
            "tags": []
          },
          "execution_count": 17
        }
      ]
    },
    {
      "cell_type": "code",
      "metadata": {
        "id": "OURJFPcuvUZP",
        "colab_type": "code",
        "outputId": "ac411f11-86ee-4fd6-ff02-f87d126fd705",
        "colab": {
          "base_uri": "https://localhost:8080/",
          "height": 841
        }
      },
      "source": [
        "NFL=NFL.assign(Years=y)\n",
        "NFL.groupby(\"Years\").count()"
      ],
      "execution_count": 0,
      "outputs": [
        {
          "output_type": "execute_result",
          "data": {
            "text/html": [
              "<div>\n",
              "<style scoped>\n",
              "    .dataframe tbody tr th:only-of-type {\n",
              "        vertical-align: middle;\n",
              "    }\n",
              "\n",
              "    .dataframe tbody tr th {\n",
              "        vertical-align: top;\n",
              "    }\n",
              "\n",
              "    .dataframe thead th {\n",
              "        text-align: right;\n",
              "    }\n",
              "</style>\n",
              "<table border=\"1\" class=\"dataframe\">\n",
              "  <thead>\n",
              "    <tr style=\"text-align: right;\">\n",
              "      <th></th>\n",
              "      <th>Age</th>\n",
              "      <th>Birth Place</th>\n",
              "      <th>Birthday</th>\n",
              "      <th>College</th>\n",
              "      <th>Current Status</th>\n",
              "      <th>Current Team</th>\n",
              "      <th>Experience</th>\n",
              "      <th>Height (inches)</th>\n",
              "      <th>High School</th>\n",
              "      <th>High School Location</th>\n",
              "      <th>Name</th>\n",
              "      <th>Number</th>\n",
              "      <th>Player Id</th>\n",
              "      <th>Position</th>\n",
              "      <th>Weight (lbs)</th>\n",
              "      <th>Years Played</th>\n",
              "    </tr>\n",
              "    <tr>\n",
              "      <th>Years</th>\n",
              "      <th></th>\n",
              "      <th></th>\n",
              "      <th></th>\n",
              "      <th></th>\n",
              "      <th></th>\n",
              "      <th></th>\n",
              "      <th></th>\n",
              "      <th></th>\n",
              "      <th></th>\n",
              "      <th></th>\n",
              "      <th></th>\n",
              "      <th></th>\n",
              "      <th></th>\n",
              "      <th></th>\n",
              "      <th></th>\n",
              "      <th></th>\n",
              "    </tr>\n",
              "  </thead>\n",
              "  <tbody>\n",
              "    <tr>\n",
              "      <th>0</th>\n",
              "      <td>3282</td>\n",
              "      <td>3388</td>\n",
              "      <td>4564</td>\n",
              "      <td>4675</td>\n",
              "      <td>4709</td>\n",
              "      <td>0</td>\n",
              "      <td>4675</td>\n",
              "      <td>4594</td>\n",
              "      <td>0</td>\n",
              "      <td>0</td>\n",
              "      <td>4709</td>\n",
              "      <td>0</td>\n",
              "      <td>4709</td>\n",
              "      <td>0</td>\n",
              "      <td>4665</td>\n",
              "      <td>4709</td>\n",
              "    </tr>\n",
              "    <tr>\n",
              "      <th>1</th>\n",
              "      <td>1379</td>\n",
              "      <td>1613</td>\n",
              "      <td>1879</td>\n",
              "      <td>1895</td>\n",
              "      <td>1897</td>\n",
              "      <td>0</td>\n",
              "      <td>1895</td>\n",
              "      <td>1883</td>\n",
              "      <td>0</td>\n",
              "      <td>0</td>\n",
              "      <td>1897</td>\n",
              "      <td>0</td>\n",
              "      <td>1897</td>\n",
              "      <td>0</td>\n",
              "      <td>1894</td>\n",
              "      <td>1897</td>\n",
              "    </tr>\n",
              "    <tr>\n",
              "      <th>2</th>\n",
              "      <td>995</td>\n",
              "      <td>1192</td>\n",
              "      <td>1286</td>\n",
              "      <td>1298</td>\n",
              "      <td>1300</td>\n",
              "      <td>0</td>\n",
              "      <td>1298</td>\n",
              "      <td>1291</td>\n",
              "      <td>0</td>\n",
              "      <td>0</td>\n",
              "      <td>1300</td>\n",
              "      <td>0</td>\n",
              "      <td>1300</td>\n",
              "      <td>0</td>\n",
              "      <td>1298</td>\n",
              "      <td>1300</td>\n",
              "    </tr>\n",
              "    <tr>\n",
              "      <th>3</th>\n",
              "      <td>907</td>\n",
              "      <td>1124</td>\n",
              "      <td>1164</td>\n",
              "      <td>1172</td>\n",
              "      <td>1173</td>\n",
              "      <td>0</td>\n",
              "      <td>1172</td>\n",
              "      <td>1168</td>\n",
              "      <td>0</td>\n",
              "      <td>0</td>\n",
              "      <td>1173</td>\n",
              "      <td>0</td>\n",
              "      <td>1173</td>\n",
              "      <td>0</td>\n",
              "      <td>1172</td>\n",
              "      <td>1173</td>\n",
              "    </tr>\n",
              "    <tr>\n",
              "      <th>4</th>\n",
              "      <td>703</td>\n",
              "      <td>894</td>\n",
              "      <td>904</td>\n",
              "      <td>909</td>\n",
              "      <td>909</td>\n",
              "      <td>0</td>\n",
              "      <td>909</td>\n",
              "      <td>907</td>\n",
              "      <td>0</td>\n",
              "      <td>0</td>\n",
              "      <td>909</td>\n",
              "      <td>0</td>\n",
              "      <td>909</td>\n",
              "      <td>0</td>\n",
              "      <td>909</td>\n",
              "      <td>909</td>\n",
              "    </tr>\n",
              "    <tr>\n",
              "      <th>5</th>\n",
              "      <td>614</td>\n",
              "      <td>769</td>\n",
              "      <td>776</td>\n",
              "      <td>783</td>\n",
              "      <td>783</td>\n",
              "      <td>0</td>\n",
              "      <td>783</td>\n",
              "      <td>782</td>\n",
              "      <td>0</td>\n",
              "      <td>0</td>\n",
              "      <td>783</td>\n",
              "      <td>0</td>\n",
              "      <td>783</td>\n",
              "      <td>0</td>\n",
              "      <td>783</td>\n",
              "      <td>783</td>\n",
              "    </tr>\n",
              "    <tr>\n",
              "      <th>6</th>\n",
              "      <td>545</td>\n",
              "      <td>699</td>\n",
              "      <td>701</td>\n",
              "      <td>702</td>\n",
              "      <td>702</td>\n",
              "      <td>0</td>\n",
              "      <td>702</td>\n",
              "      <td>702</td>\n",
              "      <td>0</td>\n",
              "      <td>0</td>\n",
              "      <td>702</td>\n",
              "      <td>0</td>\n",
              "      <td>702</td>\n",
              "      <td>0</td>\n",
              "      <td>702</td>\n",
              "      <td>702</td>\n",
              "    </tr>\n",
              "    <tr>\n",
              "      <th>7</th>\n",
              "      <td>463</td>\n",
              "      <td>588</td>\n",
              "      <td>588</td>\n",
              "      <td>588</td>\n",
              "      <td>588</td>\n",
              "      <td>0</td>\n",
              "      <td>588</td>\n",
              "      <td>588</td>\n",
              "      <td>0</td>\n",
              "      <td>0</td>\n",
              "      <td>588</td>\n",
              "      <td>0</td>\n",
              "      <td>588</td>\n",
              "      <td>0</td>\n",
              "      <td>587</td>\n",
              "      <td>588</td>\n",
              "    </tr>\n",
              "    <tr>\n",
              "      <th>8</th>\n",
              "      <td>423</td>\n",
              "      <td>528</td>\n",
              "      <td>528</td>\n",
              "      <td>529</td>\n",
              "      <td>529</td>\n",
              "      <td>0</td>\n",
              "      <td>529</td>\n",
              "      <td>529</td>\n",
              "      <td>0</td>\n",
              "      <td>0</td>\n",
              "      <td>529</td>\n",
              "      <td>0</td>\n",
              "      <td>529</td>\n",
              "      <td>0</td>\n",
              "      <td>529</td>\n",
              "      <td>529</td>\n",
              "    </tr>\n",
              "    <tr>\n",
              "      <th>9</th>\n",
              "      <td>362</td>\n",
              "      <td>446</td>\n",
              "      <td>446</td>\n",
              "      <td>446</td>\n",
              "      <td>446</td>\n",
              "      <td>0</td>\n",
              "      <td>446</td>\n",
              "      <td>446</td>\n",
              "      <td>0</td>\n",
              "      <td>0</td>\n",
              "      <td>446</td>\n",
              "      <td>0</td>\n",
              "      <td>446</td>\n",
              "      <td>0</td>\n",
              "      <td>446</td>\n",
              "      <td>446</td>\n",
              "    </tr>\n",
              "    <tr>\n",
              "      <th>10</th>\n",
              "      <td>264</td>\n",
              "      <td>326</td>\n",
              "      <td>327</td>\n",
              "      <td>327</td>\n",
              "      <td>327</td>\n",
              "      <td>0</td>\n",
              "      <td>327</td>\n",
              "      <td>327</td>\n",
              "      <td>0</td>\n",
              "      <td>0</td>\n",
              "      <td>327</td>\n",
              "      <td>0</td>\n",
              "      <td>327</td>\n",
              "      <td>0</td>\n",
              "      <td>327</td>\n",
              "      <td>327</td>\n",
              "    </tr>\n",
              "    <tr>\n",
              "      <th>11</th>\n",
              "      <td>227</td>\n",
              "      <td>270</td>\n",
              "      <td>270</td>\n",
              "      <td>270</td>\n",
              "      <td>270</td>\n",
              "      <td>0</td>\n",
              "      <td>270</td>\n",
              "      <td>270</td>\n",
              "      <td>0</td>\n",
              "      <td>0</td>\n",
              "      <td>270</td>\n",
              "      <td>0</td>\n",
              "      <td>270</td>\n",
              "      <td>0</td>\n",
              "      <td>270</td>\n",
              "      <td>270</td>\n",
              "    </tr>\n",
              "    <tr>\n",
              "      <th>12</th>\n",
              "      <td>126</td>\n",
              "      <td>151</td>\n",
              "      <td>151</td>\n",
              "      <td>151</td>\n",
              "      <td>151</td>\n",
              "      <td>0</td>\n",
              "      <td>151</td>\n",
              "      <td>151</td>\n",
              "      <td>0</td>\n",
              "      <td>0</td>\n",
              "      <td>151</td>\n",
              "      <td>0</td>\n",
              "      <td>151</td>\n",
              "      <td>0</td>\n",
              "      <td>151</td>\n",
              "      <td>151</td>\n",
              "    </tr>\n",
              "    <tr>\n",
              "      <th>13</th>\n",
              "      <td>101</td>\n",
              "      <td>115</td>\n",
              "      <td>115</td>\n",
              "      <td>115</td>\n",
              "      <td>115</td>\n",
              "      <td>0</td>\n",
              "      <td>115</td>\n",
              "      <td>115</td>\n",
              "      <td>0</td>\n",
              "      <td>0</td>\n",
              "      <td>115</td>\n",
              "      <td>0</td>\n",
              "      <td>115</td>\n",
              "      <td>0</td>\n",
              "      <td>115</td>\n",
              "      <td>115</td>\n",
              "    </tr>\n",
              "    <tr>\n",
              "      <th>14</th>\n",
              "      <td>61</td>\n",
              "      <td>73</td>\n",
              "      <td>73</td>\n",
              "      <td>73</td>\n",
              "      <td>73</td>\n",
              "      <td>0</td>\n",
              "      <td>73</td>\n",
              "      <td>73</td>\n",
              "      <td>0</td>\n",
              "      <td>0</td>\n",
              "      <td>73</td>\n",
              "      <td>0</td>\n",
              "      <td>73</td>\n",
              "      <td>0</td>\n",
              "      <td>73</td>\n",
              "      <td>73</td>\n",
              "    </tr>\n",
              "    <tr>\n",
              "      <th>15</th>\n",
              "      <td>40</td>\n",
              "      <td>45</td>\n",
              "      <td>45</td>\n",
              "      <td>45</td>\n",
              "      <td>45</td>\n",
              "      <td>0</td>\n",
              "      <td>45</td>\n",
              "      <td>45</td>\n",
              "      <td>0</td>\n",
              "      <td>0</td>\n",
              "      <td>45</td>\n",
              "      <td>0</td>\n",
              "      <td>45</td>\n",
              "      <td>0</td>\n",
              "      <td>45</td>\n",
              "      <td>45</td>\n",
              "    </tr>\n",
              "    <tr>\n",
              "      <th>16</th>\n",
              "      <td>23</td>\n",
              "      <td>27</td>\n",
              "      <td>27</td>\n",
              "      <td>27</td>\n",
              "      <td>27</td>\n",
              "      <td>0</td>\n",
              "      <td>27</td>\n",
              "      <td>27</td>\n",
              "      <td>0</td>\n",
              "      <td>0</td>\n",
              "      <td>27</td>\n",
              "      <td>0</td>\n",
              "      <td>27</td>\n",
              "      <td>0</td>\n",
              "      <td>27</td>\n",
              "      <td>27</td>\n",
              "    </tr>\n",
              "    <tr>\n",
              "      <th>17</th>\n",
              "      <td>10</td>\n",
              "      <td>11</td>\n",
              "      <td>11</td>\n",
              "      <td>11</td>\n",
              "      <td>11</td>\n",
              "      <td>0</td>\n",
              "      <td>11</td>\n",
              "      <td>11</td>\n",
              "      <td>0</td>\n",
              "      <td>0</td>\n",
              "      <td>11</td>\n",
              "      <td>0</td>\n",
              "      <td>11</td>\n",
              "      <td>0</td>\n",
              "      <td>11</td>\n",
              "      <td>11</td>\n",
              "    </tr>\n",
              "    <tr>\n",
              "      <th>18</th>\n",
              "      <td>5</td>\n",
              "      <td>5</td>\n",
              "      <td>5</td>\n",
              "      <td>5</td>\n",
              "      <td>5</td>\n",
              "      <td>0</td>\n",
              "      <td>5</td>\n",
              "      <td>5</td>\n",
              "      <td>0</td>\n",
              "      <td>0</td>\n",
              "      <td>5</td>\n",
              "      <td>0</td>\n",
              "      <td>5</td>\n",
              "      <td>0</td>\n",
              "      <td>5</td>\n",
              "      <td>5</td>\n",
              "    </tr>\n",
              "    <tr>\n",
              "      <th>19</th>\n",
              "      <td>6</td>\n",
              "      <td>7</td>\n",
              "      <td>7</td>\n",
              "      <td>7</td>\n",
              "      <td>7</td>\n",
              "      <td>0</td>\n",
              "      <td>7</td>\n",
              "      <td>7</td>\n",
              "      <td>0</td>\n",
              "      <td>0</td>\n",
              "      <td>7</td>\n",
              "      <td>0</td>\n",
              "      <td>7</td>\n",
              "      <td>0</td>\n",
              "      <td>7</td>\n",
              "      <td>7</td>\n",
              "    </tr>\n",
              "    <tr>\n",
              "      <th>20</th>\n",
              "      <td>2</td>\n",
              "      <td>2</td>\n",
              "      <td>2</td>\n",
              "      <td>2</td>\n",
              "      <td>2</td>\n",
              "      <td>0</td>\n",
              "      <td>2</td>\n",
              "      <td>2</td>\n",
              "      <td>0</td>\n",
              "      <td>0</td>\n",
              "      <td>2</td>\n",
              "      <td>0</td>\n",
              "      <td>2</td>\n",
              "      <td>0</td>\n",
              "      <td>2</td>\n",
              "      <td>2</td>\n",
              "    </tr>\n",
              "    <tr>\n",
              "      <th>21</th>\n",
              "      <td>4</td>\n",
              "      <td>4</td>\n",
              "      <td>4</td>\n",
              "      <td>4</td>\n",
              "      <td>4</td>\n",
              "      <td>0</td>\n",
              "      <td>4</td>\n",
              "      <td>4</td>\n",
              "      <td>0</td>\n",
              "      <td>0</td>\n",
              "      <td>4</td>\n",
              "      <td>0</td>\n",
              "      <td>4</td>\n",
              "      <td>0</td>\n",
              "      <td>4</td>\n",
              "      <td>4</td>\n",
              "    </tr>\n",
              "    <tr>\n",
              "      <th>22</th>\n",
              "      <td>2</td>\n",
              "      <td>2</td>\n",
              "      <td>2</td>\n",
              "      <td>2</td>\n",
              "      <td>2</td>\n",
              "      <td>0</td>\n",
              "      <td>2</td>\n",
              "      <td>2</td>\n",
              "      <td>0</td>\n",
              "      <td>0</td>\n",
              "      <td>2</td>\n",
              "      <td>0</td>\n",
              "      <td>2</td>\n",
              "      <td>0</td>\n",
              "      <td>2</td>\n",
              "      <td>2</td>\n",
              "    </tr>\n",
              "    <tr>\n",
              "      <th>25</th>\n",
              "      <td>1</td>\n",
              "      <td>1</td>\n",
              "      <td>1</td>\n",
              "      <td>1</td>\n",
              "      <td>1</td>\n",
              "      <td>0</td>\n",
              "      <td>1</td>\n",
              "      <td>1</td>\n",
              "      <td>0</td>\n",
              "      <td>0</td>\n",
              "      <td>1</td>\n",
              "      <td>0</td>\n",
              "      <td>1</td>\n",
              "      <td>0</td>\n",
              "      <td>1</td>\n",
              "      <td>1</td>\n",
              "    </tr>\n",
              "  </tbody>\n",
              "</table>\n",
              "</div>"
            ],
            "text/plain": [
              "        Age  Birth Place  Birthday  ...  Position  Weight (lbs)  Years Played\n",
              "Years                               ...                                      \n",
              "0      3282         3388      4564  ...         0          4665          4709\n",
              "1      1379         1613      1879  ...         0          1894          1897\n",
              "2       995         1192      1286  ...         0          1298          1300\n",
              "3       907         1124      1164  ...         0          1172          1173\n",
              "4       703          894       904  ...         0           909           909\n",
              "5       614          769       776  ...         0           783           783\n",
              "6       545          699       701  ...         0           702           702\n",
              "7       463          588       588  ...         0           587           588\n",
              "8       423          528       528  ...         0           529           529\n",
              "9       362          446       446  ...         0           446           446\n",
              "10      264          326       327  ...         0           327           327\n",
              "11      227          270       270  ...         0           270           270\n",
              "12      126          151       151  ...         0           151           151\n",
              "13      101          115       115  ...         0           115           115\n",
              "14       61           73        73  ...         0            73            73\n",
              "15       40           45        45  ...         0            45            45\n",
              "16       23           27        27  ...         0            27            27\n",
              "17       10           11        11  ...         0            11            11\n",
              "18        5            5         5  ...         0             5             5\n",
              "19        6            7         7  ...         0             7             7\n",
              "20        2            2         2  ...         0             2             2\n",
              "21        4            4         4  ...         0             4             4\n",
              "22        2            2         2  ...         0             2             2\n",
              "25        1            1         1  ...         0             1             1\n",
              "\n",
              "[24 rows x 16 columns]"
            ]
          },
          "metadata": {
            "tags": []
          },
          "execution_count": 18
        }
      ]
    },
    {
      "cell_type": "markdown",
      "metadata": {
        "id": "AQ76x7ZQfd52",
        "colab_type": "text"
      },
      "source": [
        "##Q2 [10 points]\n",
        "\n",
        "**[Application of One-segment model]**\n",
        "\n",
        "Let's think about what distribution would fit this variable. One assumption we can make is that for each year, there is a probability $\\theta$ for this person to retire, probability $1-\\theta$ for this person to active. We also assume that the years are independent from one another. We are interested in examining the number of years $y$ it takes for retirement to happen. This is modeled by a [Geometric distribution](https://en.wikipedia.org/wiki/Geometric_distribution), which is defined as the distribution that measures the number of failuress ($y$) it takes before the first success happens when each trial are indepedently and identically distribution with probability of suceess equals $\\theta$.\n",
        "\n",
        "For a Geometric model, \n",
        "\n",
        "$P(y)=(1-\\theta)^y \\theta$ for  $y=0, 1, 2, ...$,\n",
        "\n",
        "here $0\\leq \\theta \\leq 1$.\n",
        "\n",
        "$E(y)=\\frac{1-\\theta}{\\theta}$\n",
        "\n",
        "* Estimate $\\hat{\\theta}$ for this model  \n",
        "* What is the expected number of years for a NFL player to be active?\n",
        "* What is the probability for a player to serve for 4 years?\n",
        "* Now do a visualization to check the model performance. In this graph\n",
        "\n",
        ">> Visualize the observed number of players served 0 years, 1 years... using a bar chart \n",
        "\n",
        ">> Based on the model, predict the number of players served 0 years, 1 years, ... Visualize in the same graph as well using a scatter plot. "
      ]
    },
    {
      "cell_type": "code",
      "metadata": {
        "id": "Ducug-3Ufdh_",
        "colab_type": "code",
        "outputId": "0a32b01b-99d4-441e-94b8-fce70cbc557f",
        "colab": {
          "base_uri": "https://localhost:8080/",
          "height": 51
        }
      },
      "source": [
        "def neg_LL(betas):\n",
        "  theta=np.exp(betas[0])/(1+np.exp(betas[0]))\n",
        "  ind_L=(1-theta)**y*theta\n",
        "  return -np.sum(np.log(ind_L))\n",
        "\n",
        "model1=minimize(neg_LL,np.random.rand(1),method=\"BFGS\")\n",
        "print(model1.x)\n",
        "print(model1.fun)\n"
      ],
      "execution_count": 0,
      "outputs": [
        {
          "output_type": "stream",
          "text": [
            "[-1.14921862]\n",
            "32278.510531268366\n"
          ],
          "name": "stdout"
        }
      ]
    },
    {
      "cell_type": "code",
      "metadata": {
        "id": "6ZSqW9ZtlL07",
        "colab_type": "code",
        "outputId": "feaf2d12-9539-4136-f240-3e37a8a96040",
        "colab": {
          "base_uri": "https://localhost:8080/",
          "height": 34
        }
      },
      "source": [
        "betas=model1.x\n",
        "theta_hat= np.exp(betas[0])/(1+np.exp(betas[0]))\n",
        "theta_hat"
      ],
      "execution_count": 0,
      "outputs": [
        {
          "output_type": "execute_result",
          "data": {
            "text/plain": [
              "0.24063183380446332"
            ]
          },
          "metadata": {
            "tags": []
          },
          "execution_count": 20
        }
      ]
    },
    {
      "cell_type": "code",
      "metadata": {
        "id": "KYdfSUA-wkyM",
        "colab_type": "code",
        "outputId": "038971cc-9a31-4606-fc0e-4dd0fea2841d",
        "colab": {
          "base_uri": "https://localhost:8080/",
          "height": 34
        }
      },
      "source": [
        "#expected number of years\n",
        "(1-theta_hat)/theta_hat"
      ],
      "execution_count": 0,
      "outputs": [
        {
          "output_type": "execute_result",
          "data": {
            "text/plain": [
              "3.1557261322813877"
            ]
          },
          "metadata": {
            "tags": []
          },
          "execution_count": 21
        }
      ]
    },
    {
      "cell_type": "code",
      "metadata": {
        "id": "t1T3DD0j3MCF",
        "colab_type": "code",
        "outputId": "bc1bd48b-bb73-4b52-9cc4-8e331b921818",
        "colab": {
          "base_uri": "https://localhost:8080/",
          "height": 34
        }
      },
      "source": [
        "#prob to server for 4 years\n",
        "\n",
        "(1-theta_hat)**4*theta_hat"
      ],
      "execution_count": 0,
      "outputs": [
        {
          "output_type": "execute_result",
          "data": {
            "text/plain": [
              "0.08001338217687433"
            ]
          },
          "metadata": {
            "tags": []
          },
          "execution_count": 22
        }
      ]
    },
    {
      "cell_type": "code",
      "metadata": {
        "id": "9XsO8VZzxH5i",
        "colab_type": "code",
        "outputId": "6704cc07-f4bd-4c6f-d120-3d9fa7ff3eeb",
        "colab": {
          "base_uri": "https://localhost:8080/",
          "height": 269
        }
      },
      "source": [
        "#Visualization\n",
        "#compute the observed number of visitors having 0, 1, 2,... fish.\n",
        "outcomes, counts=np.unique(y,return_counts=True)\n",
        "#visualization\n",
        "plt.bar(outcomes, counts,label=\"observed\")\n",
        "x=np.arange(0,np.max(outcomes)+1)\n",
        "prediction=(1-theta_hat)**x*theta_hat*len(y)\n",
        "plt.scatter(x,prediction,zorder=2,label=\"predicted\")\n",
        "plt.legend(loc=\"best\")\n",
        "plt.show()"
      ],
      "execution_count": 0,
      "outputs": [
        {
          "output_type": "display_data",
          "data": {
            "image/png": "[encoded data removed]",
            "text/plain": [
              "<Figure size 432x288 with 1 Axes>"
            ]
          },
          "metadata": {
            "tags": []
          }
        }
      ]
    },
    {
      "cell_type": "markdown",
      "metadata": {
        "id": "qV2x6C2aEEos",
        "colab_type": "text"
      },
      "source": [
        "##Q3 [10 points]\n",
        "###[Estimating a two-segment model]\n",
        "\n",
        "The previous model assumes that all the players have the same $\\theta$, which might be a flawed assumption. Instead, we might want to model two segment of players: one segment players have high risk of retiring (high $\\theta$), while the other segment of players have lower risk of retiring (low $\\theta$)\n",
        "\n",
        "* Use a two-segment model to identify $\\theta_1$, $\\theta_2$, and $p$\n",
        "* Interpret what these three estimated parameters mean.\n",
        "* For each segment, what is the expected number of years for a player to remain active?\n",
        "* If we observed a player retired after 3 years of playing, what is the probability for this player to belong to the low risk group?\n",
        "* Plot the observed v.s. predicted numbers like you did in Q1. Comment on any changes in the model fitting.\n",
        " "
      ]
    },
    {
      "cell_type": "code",
      "metadata": {
        "id": "_Sq4_8UOE-0q",
        "colab_type": "code",
        "outputId": "bc0a6a55-3225-4ba4-a8ff-98f9c52d36be",
        "colab": {
          "base_uri": "https://localhost:8080/",
          "height": 51
        }
      },
      "source": [
        "def neg_LL(betas):\n",
        "  theta1=np.exp(betas[0])/(1+np.exp(betas[0]))\n",
        "  theta2=np.exp(betas[1])/(1+np.exp(betas[1]))\n",
        "  p=np.exp(betas[2])/(1+np.exp(betas[2]))\n",
        "  ind_L1=(1-theta1)**y*theta1\n",
        "  ind_L2=(1-theta2)**y*theta2\n",
        "  ind_L=ind_L1*p+ind_L2*(1-p)\n",
        "  return -np.sum(np.log(ind_L))\n",
        "\n",
        "model2=minimize(neg_LL,np.random.rand(3),method=\"BFGS\")\n",
        "print(model2.x)\n",
        "print(model2.fun)\n"
      ],
      "execution_count": 0,
      "outputs": [
        {
          "output_type": "stream",
          "text": [
            "[24.39198701 -1.31966837 -1.68287976]\n",
            "31852.5711428258\n"
          ],
          "name": "stdout"
        }
      ]
    },
    {
      "cell_type": "code",
      "metadata": {
        "id": "1q7ZCLC5ystM",
        "colab_type": "code",
        "outputId": "264c0901-9677-4587-84da-91e332ebd60b",
        "colab": {
          "base_uri": "https://localhost:8080/",
          "height": 34
        }
      },
      "source": [
        "betas=model2.x\n",
        "theta1_hat= np.exp(betas[0])/(1+np.exp(betas[0]))\n",
        "theta2_hat= np.exp(betas[1])/(1+np.exp(betas[1]))\n",
        "p_hat= np.exp(betas[2])/(1+np.exp(betas[2]))\n",
        "print(theta1_hat,theta2_hat,p_hat)"
      ],
      "execution_count": 0,
      "outputs": [
        {
          "output_type": "stream",
          "text": [
            "0.999999999974491 0.21087347356653524 0.15671451757832416\n"
          ],
          "name": "stdout"
        }
      ]
    },
    {
      "cell_type": "markdown",
      "metadata": {
        "id": "dxPRe2sY3g80",
        "colab_type": "text"
      },
      "source": [
        "The probability for a player to retire in each year is 0.21 if a player belongs to the second segment.\n",
        "A player will retire in the first year if a player belongs to the first  segment. The probability for a player to belong to the first segment is 0.157.\n"
      ]
    },
    {
      "cell_type": "code",
      "metadata": {
        "id": "EayF0X5931z1",
        "colab_type": "code",
        "colab": {}
      },
      "source": [
        "#Since this player served for 4 years, it must mean he belongs to the second group.\n",
        "#Because if he belongs to the first group, there is zero chances that he servers for \n",
        "#more than 1 year. "
      ],
      "execution_count": 0,
      "outputs": []
    },
    {
      "cell_type": "code",
      "metadata": {
        "id": "_hjQ7aY2yo1Z",
        "colab_type": "code",
        "outputId": "f4f7104f-6578-4f10-f729-56f4c207f3bd",
        "colab": {
          "base_uri": "https://localhost:8080/",
          "height": 269
        }
      },
      "source": [
        "#Visualization\n",
        "#compute the observed number of visitors having 0, 1, 2,... fish.\n",
        "outcomes, counts=np.unique(y,return_counts=True)\n",
        "#visualization\n",
        "plt.bar(outcomes, counts,label=\"observed\")\n",
        "x=np.arange(0,np.max(outcomes)+1)\n",
        "PMF1=(1-theta1_hat)**x*theta1_hat\n",
        "PMF2=(1-theta2_hat)**x*theta2_hat\n",
        "PMF=PMF1*p_hat+PMF2*(1-p_hat)\n",
        "prediction=PMF*len(y)\n",
        "plt.scatter(x,prediction,zorder=2,label=\"predicted\")\n",
        "plt.legend(loc=\"best\")\n",
        "plt.show()"
      ],
      "execution_count": 0,
      "outputs": [
        {
          "output_type": "display_data",
          "data": {
            "image/png": "[encoded data removed]",
            "text/plain": [
              "<Figure size 432x288 with 1 Axes>"
            ]
          },
          "metadata": {
            "tags": []
          }
        }
      ]
    },
    {
      "cell_type": "markdown",
      "metadata": {
        "id": "LkRZyltb4ot0",
        "colab_type": "text"
      },
      "source": [
        "The model fitting becomes much better than 1 segment model."
      ]
    },
    {
      "cell_type": "markdown",
      "metadata": {
        "id": "fsl2cJPei2M3",
        "colab_type": "text"
      },
      "source": [
        "##Q4 [4 points]\n",
        "\n",
        "Now, we move on to assume that $\\theta$ follows a continuous distribution. It is often assume that $\\theta$ follows a [Beta distribution](https://en.wikipedia.org/wiki/Beta_distribution) with $\\theta \\sim Beta(\\alpha, \\beta)$, which has the following pdf:\n",
        "\n",
        "$f(\\theta)=\\frac{\\theta^{\\alpha-1}(1-\\theta)^{\\beta-1}}{B(\\alpha,\\beta)}= \\frac{\\theta^{\\alpha-1}(1-\\theta)^{\\beta-1}}{\\frac{\\Gamma(\\alpha)\\Gamma(\\beta)}{\\Gamma(\\alpha+\\beta)}}$\n",
        "\n",
        "Here, you can either use spsp.gamma to compute $B(\\alpha,\\beta)$. You can also simply use spsp.beta(alpha,beta) to compute $B(\\alpha,\\beta)$ directly.\n",
        "\n",
        "where $\\alpha$ and $\\beta$ are both positive, $0<\\theta<1$. In addition, $E(\\theta)=\\frac{\\alpha}{\\alpha+\\beta}$\n",
        "\n",
        "Reproduce the following probability density function  [The color of the lines does not matter]\n",
        "\n",
        "https://pythonforundergradengineers.com/unicode-characters-in-python.html\n",
        "<div>\n",
        "<img src=\"https://upload.wikimedia.org/wikipedia/commons/thumb/f/f3/Beta_distribution_pdf.svg/650px-Beta_distribution_pdf.svg.png\n",
        "\" width=\"450\"/>\n",
        "</div>\n",
        "\n"
      ]
    },
    {
      "cell_type": "code",
      "metadata": {
        "id": "IKeiFfRK1VHp",
        "colab_type": "code",
        "outputId": "08cc87e3-c4f9-4262-ac31-4f699b67f6cd",
        "colab": {
          "base_uri": "https://localhost:8080/",
          "height": 269
        }
      },
      "source": [
        "def beta_pdf(alpha,beta):\n",
        "  return x**(alpha-1)*(1-x)**(beta-1)/spsp.beta(alpha,beta)\n",
        "\n",
        "x=np.linspace(0.00001,1-0.00001,1000)\n",
        "plt.plot(x,beta_pdf(0.5,0.5),label=\"\\u03B1=\\u03B2=0.5\")\n",
        "plt.plot(x,beta_pdf(5,1),label=\"\\u03B1=5, \\u03B2=1\")\n",
        "plt.plot(x,beta_pdf(1,3),label=\"\\u03B1=1, \\u03B2=3\")\n",
        "plt.plot(x,beta_pdf(2,2),label=\"\\u03B1=2,\\u03B2=2\")\n",
        "plt.plot(x,beta_pdf(2,5),label=\"\\u03B1=2,\\u03B2=5\")\n",
        "plt.ylim(bottom=0,top=2.5)\n",
        "plt.xlim(left=0,right=1)\n",
        "\n",
        "plt.legend(loc=\"best\")\n",
        "plt.show()\n",
        "\n",
        "\n"
      ],
      "execution_count": 0,
      "outputs": [
        {
          "output_type": "display_data",
          "data": {
            "image/png": "[encoded data removed]",
            "text/plain": [
              "<Figure size 432x288 with 1 Axes>"
            ]
          },
          "metadata": {
            "tags": []
          }
        }
      ]
    },
    {
      "cell_type": "markdown",
      "metadata": {
        "id": "NrK-uvp_YgAO",
        "colab_type": "text"
      },
      "source": [
        "##Q5. [6 points]\n",
        "\n",
        "It can be proved that the probability of P(x) when assuming $\\theta \\sim Beta(\\alpha, \\beta)$ will following PMF.\n",
        "\n",
        "$P(x)=\\frac{B(\\alpha+1,x+\\beta)}{B(\\alpha,\\beta)}$\n",
        "\n",
        "* Estimate $\\alpha$ and $\\beta$.\n",
        "* What is the probability for a player to serve for 4 years? \n",
        "* Plot the observed v.s. predicted numbers like you did in Q1. Comment on any changes in the model fitting."
      ]
    },
    {
      "cell_type": "code",
      "metadata": {
        "id": "U98v7c38Gofv",
        "colab_type": "code",
        "outputId": "74afa650-75f6-490d-8f49-9a8ac373329c",
        "colab": {
          "base_uri": "https://localhost:8080/",
          "height": 51
        }
      },
      "source": [
        "def neg_LL(betas):\n",
        "  alpha=np.exp(betas[0]) \n",
        "  beta=np.exp(betas[1]) \n",
        "  ind_L=spsp.beta(alpha+1,y+beta)/spsp.beta(alpha,beta)\n",
        "  return -np.sum(np.log(ind_L))\n",
        "\n",
        "model3=minimize(neg_LL,np.random.rand(2),method=\"BFGS\")\n",
        "print(model3.x)\n",
        "print(model3.fun)\n"
      ],
      "execution_count": 0,
      "outputs": [
        {
          "output_type": "stream",
          "text": [
            "[4.9465378  6.08870739]\n",
            "32278.56103692804\n"
          ],
          "name": "stdout"
        }
      ]
    },
    {
      "cell_type": "code",
      "metadata": {
        "id": "ceuQug6D3F7y",
        "colab_type": "code",
        "outputId": "173c34e8-e50b-4c34-b1d6-1a6cf225a6a9",
        "colab": {
          "base_uri": "https://localhost:8080/",
          "height": 34
        }
      },
      "source": [
        "betas=model3.x\n",
        "alpha_hat=np.exp(betas[0]) \n",
        "beta_hat=np.exp(betas[1])\n",
        "\n",
        "alpha_hat/(alpha_hat+beta_hat)"
      ],
      "execution_count": 0,
      "outputs": [
        {
          "output_type": "execute_result",
          "data": {
            "text/plain": [
              "0.2419222436350367"
            ]
          },
          "metadata": {
            "tags": []
          },
          "execution_count": 30
        }
      ]
    },
    {
      "cell_type": "code",
      "metadata": {
        "id": "WkCi0D8m4xuW",
        "colab_type": "code",
        "outputId": "1d9ef7dc-3b72-4ffa-f5ca-592b23fc7c72",
        "colab": {
          "base_uri": "https://localhost:8080/",
          "height": 34
        }
      },
      "source": [
        "#probability to serve for 4 years\n",
        "spsp.beta(alpha_hat+1,4+beta_hat)/spsp.beta(alpha_hat,beta_hat)"
      ],
      "execution_count": 0,
      "outputs": [
        {
          "output_type": "execute_result",
          "data": {
            "text/plain": [
              "0.07961174756783732"
            ]
          },
          "metadata": {
            "tags": []
          },
          "execution_count": 31
        }
      ]
    },
    {
      "cell_type": "code",
      "metadata": {
        "id": "DTWOhWiH3u_y",
        "colab_type": "code",
        "outputId": "b736904e-c014-4c68-9525-c5954410d2d4",
        "colab": {
          "base_uri": "https://localhost:8080/",
          "height": 269
        }
      },
      "source": [
        "#Visualization\n",
        "#compute the observed number of visitors having 0, 1, 2,... fish.\n",
        "outcomes, counts=np.unique(y,return_counts=True)\n",
        "#visualization\n",
        "plt.bar(outcomes, counts,label=\"observed\")\n",
        "x=np.arange(0,np.max(outcomes)+1)\n",
        "PMF=spsp.beta(alpha_hat+1,x+beta_hat)/spsp.beta(alpha_hat,beta_hat)\n",
        "prediction=PMF*len(y)\n",
        "plt.scatter(x,prediction,zorder=2,label=\"predicted\")\n",
        "plt.legend(loc=\"best\")\n",
        "plt.show()"
      ],
      "execution_count": 0,
      "outputs": [
        {
          "output_type": "display_data",
          "data": {
            "image/png": "[encoded data removed]",
            "text/plain": [
              "<Figure size 432x288 with 1 Axes>"
            ]
          },
          "metadata": {
            "tags": []
          }
        }
      ]
    },
    {
      "cell_type": "markdown",
      "metadata": {
        "id": "iaR6aHse48uQ",
        "colab_type": "text"
      },
      "source": [
        "The model fit looks very similar to a one-segment model."
      ]
    },
    {
      "cell_type": "markdown",
      "metadata": {
        "id": "aWlJTSmaBcVm",
        "colab_type": "text"
      },
      "source": [
        "##Q6. [4 points]\n",
        "\n",
        "It can be proved that the posterior of $\\theta|x$ still follows a Beta distribution\n",
        "\n",
        "$\\theta|x \\sim Beta(\\alpha+1,\\beta+x)$\n",
        "\n",
        "* Based on the estimated model, plot the distribution of $\\theta$ given x=0. \n",
        "* In the same graph, plot the distribution of $\\theta$ when x=10.\n",
        "* Add a legend to the plot."
      ]
    },
    {
      "cell_type": "code",
      "metadata": {
        "id": "lkugJEK8o7vq",
        "colab_type": "code",
        "outputId": "19af35b6-d9e7-4cce-bc3c-77c9687705f4",
        "colab": {
          "base_uri": "https://localhost:8080/",
          "height": 269
        }
      },
      "source": [
        "def beta_pdf(alpha,beta):\n",
        "  return x**(alpha-1)*(1-x)**(beta-1)/spsp.beta(alpha,beta)\n",
        "\n",
        "x=np.linspace(0.00001,1-0.00001,1000)\n",
        "plt.plot(x,beta_pdf(alpha_hat+1,beta_hat+0),label=\"dis for x=0\")\n",
        "plt.plot(x,beta_pdf(alpha_hat+1,beta_hat+10),label=\"dis for x=10\")\n",
        "plt.legend(loc=\"best\")\n",
        "plt.show()\n",
        "\n",
        "\n"
      ],
      "execution_count": 0,
      "outputs": [
        {
          "output_type": "display_data",
          "data": {
            "image/png": "[encoded data removed]",
            "text/plain": [
              "<Figure size 432x288 with 1 Axes>"
            ]
          },
          "metadata": {
            "tags": []
          }
        }
      ]
    },
    {
      "cell_type": "code",
      "metadata": {
        "id": "yE7lfXnUoqKM",
        "colab_type": "code",
        "colab": {}
      },
      "source": [
        ""
      ],
      "execution_count": 0,
      "outputs": []
    }
  ]
}