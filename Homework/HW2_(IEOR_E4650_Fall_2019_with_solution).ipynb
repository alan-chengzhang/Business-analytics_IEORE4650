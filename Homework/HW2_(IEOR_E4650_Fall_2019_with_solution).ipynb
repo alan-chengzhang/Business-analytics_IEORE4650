{
  "nbformat": 4,
  "nbformat_minor": 0,
  "metadata": {
    "colab": {
      "name": "HW2 (IEOR E4650 Fall 2019 with solution).ipynb",
      "provenance": [],
      "collapsed_sections": [],
      "machine_shape": "hm"
    },
    "kernelspec": {
      "name": "python3",
      "display_name": "Python 3"
    }
  },
  "cells": [
    {
      "cell_type": "markdown",
      "metadata": {
        "id": "9JCRnqkLnjHE",
        "colab_type": "text"
      },
      "source": [
        "# **IEOR 4650  Business Analytics (Fall 2019)**\n",
        "\n",
        "**Homework 2 [Total points: 60]**\n",
        "\n",
        "** Due: 11:59 PM, October 8**\n",
        "\n",
        "This second homework consists of Python programming practices and the applications to linear regression. \n",
        "\n",
        "The steps to finish in the homework:\n",
        "\n",
        "*   Step 1: Make a copy of the file to your LionDrive.\n",
        "*   Step 2: Work with the copy (an ipynb file).\n",
        "*    <font color='red'>**Step 3: Rename the copy to your_uni_hw2.ipynb (For example: yd4501_hw2.ipynb).**</font>  \n",
        "*   Step 4: Submit the copy on CourseWorks.\n",
        "\n",
        "Before you submit your assignment, make sure to re-run your code from the beginning. (You can do so by first clicking Runtime/Reset All Runtimes and then clicking Runtime/Run all)\n",
        "\n",
        "\n",
        "**All the questions in this homework requires coding**"
      ]
    },
    {
      "cell_type": "code",
      "metadata": {
        "id": "lSH_bDnX2ybu",
        "colab_type": "code",
        "colab": {}
      },
      "source": [
        "#This imports all the packages you need for the homework\n",
        "#Please run this first\n",
        "\n",
        "\n",
        "!pip install -U -q PyDrive\n",
        "from pydrive.auth import GoogleAuth\n",
        "from pydrive.drive import GoogleDrive\n",
        "from google.colab import auth\n",
        "from oauth2client.client import GoogleCredentials\n",
        "# Authenticate and create the PyDrive client.\n",
        "auth.authenticate_user()\n",
        "gauth = GoogleAuth()\n",
        "gauth.credentials = GoogleCredentials.get_application_default()\n",
        "drive = GoogleDrive(gauth)\n",
        "\n",
        "\n",
        "#import modules\n",
        "\n",
        "import numpy as np\n",
        "import pandas as pd\n",
        "from statsmodels.formula.api import ols\n",
        "import matplotlib.pyplot as plt\n",
        "\n"
      ],
      "execution_count": 0,
      "outputs": []
    },
    {
      "cell_type": "markdown",
      "metadata": {
        "id": "5MbEozs6mhrd",
        "colab_type": "text"
      },
      "source": [
        "\n",
        "##Setting\n",
        "In this exercise, let's continue working with a dataset which explores the store sales.\n",
        "\n",
        "Before doing the assignment, please study this dataset here https://www.kaggle.com/c/rossmann-store-sales/data\n",
        "\n",
        "\n",
        "For this study, we are interested in finding a good model that gives good prediction performance. \n",
        "\n",
        "* Especially, we are interested in use RMSPE as our accuracy measurement. RMSPE is defined as following:\n",
        "$$RMSPE = \\sqrt{\\frac{\\frac{(y_i-\\widehat{y_i}}{y_i})^2}{N}}$$\n",
        "* In addition, any day and store with 0 actual sales is ignored in scoring."
      ]
    },
    {
      "cell_type": "code",
      "metadata": {
        "id": "ziA1Im85eaIF",
        "colab_type": "code",
        "outputId": "238fc4d9-d85f-404e-e63a-4cbeb07ad028",
        "colab": {
          "base_uri": "https://localhost:8080/",
          "height": 258
        }
      },
      "source": [
        "#Load the dataset\n",
        "link=\"https://drive.google.com/open?id=1Q6J0q4tlWJ7TajX6hMSvZ8tK3CyDD8QY\"\n",
        "_,id=link.split(\"=\")\n",
        "downloaded = drive.CreateFile({'id':id}) \n",
        "downloaded.GetContentFile('Sales.csv')  \n",
        "SALE = pd.read_csv('Sales.csv')\n",
        "SALE.head(5)\n",
        "\n"
      ],
      "execution_count": 0,
      "outputs": [
        {
          "output_type": "stream",
          "text": [
            "/usr/local/lib/python3.6/dist-packages/IPython/core/interactiveshell.py:2718: DtypeWarning: Columns (7) have mixed types. Specify dtype option on import or set low_memory=False.\n",
            "  interactivity=interactivity, compiler=compiler, result=result)\n"
          ],
          "name": "stderr"
        },
        {
          "output_type": "execute_result",
          "data": {
            "text/html": [
              "<div>\n",
              "<style scoped>\n",
              "    .dataframe tbody tr th:only-of-type {\n",
              "        vertical-align: middle;\n",
              "    }\n",
              "\n",
              "    .dataframe tbody tr th {\n",
              "        vertical-align: top;\n",
              "    }\n",
              "\n",
              "    .dataframe thead th {\n",
              "        text-align: right;\n",
              "    }\n",
              "</style>\n",
              "<table border=\"1\" class=\"dataframe\">\n",
              "  <thead>\n",
              "    <tr style=\"text-align: right;\">\n",
              "      <th></th>\n",
              "      <th>Store</th>\n",
              "      <th>DayOfWeek</th>\n",
              "      <th>Date</th>\n",
              "      <th>Sales</th>\n",
              "      <th>Customers</th>\n",
              "      <th>Open</th>\n",
              "      <th>Promo</th>\n",
              "      <th>StateHoliday</th>\n",
              "      <th>SchoolHoliday</th>\n",
              "    </tr>\n",
              "  </thead>\n",
              "  <tbody>\n",
              "    <tr>\n",
              "      <th>0</th>\n",
              "      <td>1</td>\n",
              "      <td>5</td>\n",
              "      <td>2015-07-31</td>\n",
              "      <td>5263</td>\n",
              "      <td>555</td>\n",
              "      <td>1</td>\n",
              "      <td>1</td>\n",
              "      <td>0</td>\n",
              "      <td>1</td>\n",
              "    </tr>\n",
              "    <tr>\n",
              "      <th>1</th>\n",
              "      <td>2</td>\n",
              "      <td>5</td>\n",
              "      <td>2015-07-31</td>\n",
              "      <td>6064</td>\n",
              "      <td>625</td>\n",
              "      <td>1</td>\n",
              "      <td>1</td>\n",
              "      <td>0</td>\n",
              "      <td>1</td>\n",
              "    </tr>\n",
              "    <tr>\n",
              "      <th>2</th>\n",
              "      <td>3</td>\n",
              "      <td>5</td>\n",
              "      <td>2015-07-31</td>\n",
              "      <td>8314</td>\n",
              "      <td>821</td>\n",
              "      <td>1</td>\n",
              "      <td>1</td>\n",
              "      <td>0</td>\n",
              "      <td>1</td>\n",
              "    </tr>\n",
              "    <tr>\n",
              "      <th>3</th>\n",
              "      <td>4</td>\n",
              "      <td>5</td>\n",
              "      <td>2015-07-31</td>\n",
              "      <td>13995</td>\n",
              "      <td>1498</td>\n",
              "      <td>1</td>\n",
              "      <td>1</td>\n",
              "      <td>0</td>\n",
              "      <td>1</td>\n",
              "    </tr>\n",
              "    <tr>\n",
              "      <th>4</th>\n",
              "      <td>5</td>\n",
              "      <td>5</td>\n",
              "      <td>2015-07-31</td>\n",
              "      <td>4822</td>\n",
              "      <td>559</td>\n",
              "      <td>1</td>\n",
              "      <td>1</td>\n",
              "      <td>0</td>\n",
              "      <td>1</td>\n",
              "    </tr>\n",
              "  </tbody>\n",
              "</table>\n",
              "</div>"
            ],
            "text/plain": [
              "   Store  DayOfWeek        Date  Sales  ...  Open  Promo  StateHoliday SchoolHoliday\n",
              "0      1          5  2015-07-31   5263  ...     1      1             0             1\n",
              "1      2          5  2015-07-31   6064  ...     1      1             0             1\n",
              "2      3          5  2015-07-31   8314  ...     1      1             0             1\n",
              "3      4          5  2015-07-31  13995  ...     1      1             0             1\n",
              "4      5          5  2015-07-31   4822  ...     1      1             0             1\n",
              "\n",
              "[5 rows x 9 columns]"
            ]
          },
          "metadata": {
            "tags": []
          },
          "execution_count": 2
        }
      ]
    },
    {
      "cell_type": "markdown",
      "metadata": {
        "id": "SNoNiBH0oH3L",
        "colab_type": "text"
      },
      "source": [
        "*You might see a warning when importing the data. This is because StateHoliday has both values in string and numbers. No worries this for now.*"
      ]
    },
    {
      "cell_type": "code",
      "metadata": {
        "id": "KCeAzHTC2czY",
        "colab_type": "code",
        "outputId": "59cd926a-ac5f-41cc-e8dd-1fc01839acb4",
        "colab": {
          "base_uri": "https://localhost:8080/",
          "height": 223
        }
      },
      "source": [
        "link=\"https://drive.google.com/open?id=1g6URzUJnhCLOtg0a9TTHC18KYcqwxvoc\"\n",
        "_,id=link.split(\"=\")\n",
        "downloaded = drive.CreateFile({'id':id}) \n",
        "downloaded.GetContentFile('myfile_store.csv')  \n",
        "STORE = pd.read_csv('myfile_store.csv')\n",
        "STORE.head(5)"
      ],
      "execution_count": 0,
      "outputs": [
        {
          "output_type": "execute_result",
          "data": {
            "text/html": [
              "<div>\n",
              "<style scoped>\n",
              "    .dataframe tbody tr th:only-of-type {\n",
              "        vertical-align: middle;\n",
              "    }\n",
              "\n",
              "    .dataframe tbody tr th {\n",
              "        vertical-align: top;\n",
              "    }\n",
              "\n",
              "    .dataframe thead th {\n",
              "        text-align: right;\n",
              "    }\n",
              "</style>\n",
              "<table border=\"1\" class=\"dataframe\">\n",
              "  <thead>\n",
              "    <tr style=\"text-align: right;\">\n",
              "      <th></th>\n",
              "      <th>Store</th>\n",
              "      <th>StoreType</th>\n",
              "      <th>Assortment</th>\n",
              "      <th>CompetitionDistance</th>\n",
              "      <th>CompetitionOpenSinceMonth</th>\n",
              "      <th>CompetitionOpenSinceYear</th>\n",
              "      <th>Promo2</th>\n",
              "      <th>Promo2SinceWeek</th>\n",
              "      <th>Promo2SinceYear</th>\n",
              "      <th>PromoInterval</th>\n",
              "    </tr>\n",
              "  </thead>\n",
              "  <tbody>\n",
              "    <tr>\n",
              "      <th>0</th>\n",
              "      <td>1</td>\n",
              "      <td>c</td>\n",
              "      <td>a</td>\n",
              "      <td>1270.0</td>\n",
              "      <td>9.0</td>\n",
              "      <td>2008.0</td>\n",
              "      <td>0</td>\n",
              "      <td>NaN</td>\n",
              "      <td>NaN</td>\n",
              "      <td>NaN</td>\n",
              "    </tr>\n",
              "    <tr>\n",
              "      <th>1</th>\n",
              "      <td>2</td>\n",
              "      <td>a</td>\n",
              "      <td>a</td>\n",
              "      <td>570.0</td>\n",
              "      <td>11.0</td>\n",
              "      <td>2007.0</td>\n",
              "      <td>1</td>\n",
              "      <td>13.0</td>\n",
              "      <td>2010.0</td>\n",
              "      <td>Jan,Apr,Jul,Oct</td>\n",
              "    </tr>\n",
              "    <tr>\n",
              "      <th>2</th>\n",
              "      <td>3</td>\n",
              "      <td>a</td>\n",
              "      <td>a</td>\n",
              "      <td>14130.0</td>\n",
              "      <td>12.0</td>\n",
              "      <td>2006.0</td>\n",
              "      <td>1</td>\n",
              "      <td>14.0</td>\n",
              "      <td>2011.0</td>\n",
              "      <td>Jan,Apr,Jul,Oct</td>\n",
              "    </tr>\n",
              "    <tr>\n",
              "      <th>3</th>\n",
              "      <td>4</td>\n",
              "      <td>c</td>\n",
              "      <td>c</td>\n",
              "      <td>620.0</td>\n",
              "      <td>9.0</td>\n",
              "      <td>2009.0</td>\n",
              "      <td>0</td>\n",
              "      <td>NaN</td>\n",
              "      <td>NaN</td>\n",
              "      <td>NaN</td>\n",
              "    </tr>\n",
              "    <tr>\n",
              "      <th>4</th>\n",
              "      <td>5</td>\n",
              "      <td>a</td>\n",
              "      <td>a</td>\n",
              "      <td>29910.0</td>\n",
              "      <td>4.0</td>\n",
              "      <td>2015.0</td>\n",
              "      <td>0</td>\n",
              "      <td>NaN</td>\n",
              "      <td>NaN</td>\n",
              "      <td>NaN</td>\n",
              "    </tr>\n",
              "  </tbody>\n",
              "</table>\n",
              "</div>"
            ],
            "text/plain": [
              "   Store StoreType  ... Promo2SinceYear    PromoInterval\n",
              "0      1         c  ...             NaN              NaN\n",
              "1      2         a  ...          2010.0  Jan,Apr,Jul,Oct\n",
              "2      3         a  ...          2011.0  Jan,Apr,Jul,Oct\n",
              "3      4         c  ...             NaN              NaN\n",
              "4      5         a  ...             NaN              NaN\n",
              "\n",
              "[5 rows x 10 columns]"
            ]
          },
          "metadata": {
            "tags": []
          },
          "execution_count": 3
        }
      ]
    },
    {
      "cell_type": "markdown",
      "metadata": {
        "id": "Dxg8lfkUe5aw",
        "colab_type": "text"
      },
      "source": [
        "## Q1. [8 points]\n",
        "**[Data Cleaning]**\n",
        "\n",
        "1. Merge two tables based on \"Store\" column\n",
        "\n",
        "2. To save you from the pain of running the models for too long, **keep only records for store 1-100**.\n",
        "\n",
        "3. This study only cares about the accuracy performend on the data with Sales higher than 0.There are pros and cons of keeping 0 Sales records. For this study, let's **delete all the sales records with sales=0**.\n",
        "\n",
        "4. Print out the unique values you have in \"StateHoliday\" column. If you see anything that goes wrong, fix the issue. After that, print out the unique values again in \"StateHoliday\" column. [You might find this [link](https://www.geeksforgeeks.org/python-pandas-series-str-replace-to-replace-text-in-a-series/) useful]\n"
      ]
    },
    {
      "cell_type": "code",
      "metadata": {
        "id": "oa-KpNvoe5HN",
        "colab_type": "code",
        "outputId": "ff826709-6c68-47c6-b438-d998e871feac",
        "colab": {
          "base_uri": "https://localhost:8080/",
          "height": 211
        }
      },
      "source": [
        "SALE=SALE.merge(STORE) #1 point\n",
        "SALE=SALE.astype({\"Date\":\"datetime64\"}) \n",
        "SALE=SALE[SALE[\"Sales\"]>0] #2 point\n",
        "SALE=SALE[(SALE[\"Store\"]>=1) & (SALE[\"Store\"]<=100)] #2 points\n",
        "print(SALE[\"StateHoliday\"].value_counts()) #1 point\n",
        "print(SALE[\"StateHoliday\"].replace(0,\"0\").value_counts()) #2 points\n",
        "#students can replace \"0\" with 0 or 0 with \"0\". As along as they did converge 0 and \"0\"\n",
        "#to the same category, we give them full points\n"
      ],
      "execution_count": 0,
      "outputs": [
        {
          "output_type": "stream",
          "text": [
            "0    65510\n",
            "0    10020\n",
            "a       51\n",
            "b        6\n",
            "c        4\n",
            "Name: StateHoliday, dtype: int64\n",
            "0    75530\n",
            "a       51\n",
            "b        6\n",
            "c        4\n",
            "Name: StateHoliday, dtype: int64\n"
          ],
          "name": "stdout"
        }
      ]
    },
    {
      "cell_type": "markdown",
      "metadata": {
        "id": "_1Aj4jvfd4__",
        "colab_type": "text"
      },
      "source": [
        "## Q2 [4 points]\n",
        "\n",
        "**[Preparation for cross-validation]**\n",
        "\n",
        "Split our data into three segments.Instead of shuffling them first, we will do something different. When working with prediction, we might want to have a model that can give good prediction power for the future sales. Thus, we will split our data in the following way:\n",
        "\n",
        "(1) Training: Time window 2013-01-01 to 2015-03-31  \n",
        "\n",
        "(2) Validation: Time window 2015-04-01 to 2015-05-31 \n",
        "\n",
        "(3) Testing: Time window 2015-06-01 to 2015-07-31\n",
        "\n",
        "Print out how many records you have for each set."
      ]
    },
    {
      "cell_type": "code",
      "metadata": {
        "id": "BwBNzoeSegid",
        "colab_type": "code",
        "outputId": "cfba0ea1-c0c9-4508-9f96-1a73ec4e2bec",
        "colab": {
          "base_uri": "https://localhost:8080/",
          "height": 35
        }
      },
      "source": [
        "#You might find the following sample code helpful \n",
        "#X=X.astype({\"Date\":\"datetime64\"})\n",
        "#X[\"Date\"]<\"2015-01-02\"\n",
        "\n",
        "#split the data (2 points)\n",
        "SALE_Training=SALE[SALE[\"Date\"]<=\"2015-03-31\"]\n",
        "SALE_Validation=SALE[(SALE[\"Date\"]>=\"2015-04-01\") & (SALE[\"Date\"]<=\"2015-05-31\")]\n",
        "SALE_Testing=SALE[SALE[\"Date\"]>=\"2015-06-01\"]\n",
        "\n",
        "#print out the number of records (2 points)\n",
        "#If students do not have these three numbers, something must be wrong\n",
        "#If the mistake is made because of Q1, we will not deduct points again for this question\n",
        "#If the mistake is made because of Q2, we will deduct points for data splitting\n",
        "print(SALE_Training.shape[0], SALE_Validation.shape[0], SALE_Testing.shape[0])\n"
      ],
      "execution_count": 0,
      "outputs": [
        {
          "output_type": "stream",
          "text": [
            "65631 4715 5245\n"
          ],
          "name": "stdout"
        }
      ]
    },
    {
      "cell_type": "markdown",
      "metadata": {
        "id": "-OIl1Vg2euRn",
        "colab_type": "text"
      },
      "source": [
        "##Q3 [8 points]\n",
        "\n",
        "**[Feature Engineering 1 ]**\n",
        "\n",
        "Usually, people pay great attention to the features that are highly predictive. Making sure that adequate variable transformations are performed on those variables are highly important. \n",
        "\n",
        "* Examine why customer numbers is an important predictor based on the data.\n",
        "\n",
        "* Use 4 histograms show how taking the log-transformation changes the distribution of \"Sales\" and \"Customers\" on the training set. Make layout the 4 histograms following the following format\n",
        "\n",
        "\\begin{bmatrix}\n",
        "    \\text{Sales plot here} &  \\text{log(Sales) plot here} \\\\\n",
        "    \\text{Customer plot here} &  \\text{log(Customer) plot here}\n",
        "\\end{bmatrix}.\n",
        "\n",
        ">You will find this [link](https://matplotlib.org/3.1.0/gallery/subplots_axes_and_figures/subplots_demo.html) useful\n",
        "\n",
        "2. \n",
        "  Based on cross-validation to show which model gives a better performance. \n",
        "  $$log(Sales)=\\beta_0+\\beta_1 log(Customers)+\\epsilon$$ \n",
        "  $$Sales=\\beta_0+\\beta_1 Customers+\\epsilon$$ \n"
      ]
    },
    {
      "cell_type": "code",
      "metadata": {
        "id": "qO0MlYFAZnMf",
        "colab_type": "code",
        "outputId": "f17c8008-24a8-45c8-854c-eb97b17b8b39",
        "colab": {
          "base_uri": "https://localhost:8080/",
          "height": 780
        }
      },
      "source": [
        "#[2 points]\n",
        "#Version 1\n",
        "plt.scatter(SALE_Training[\"Customers\"],SALE_Training[\"Sales\"])\n",
        "#Very clear strong linear relationship. Yes a good predictor\n",
        "\n",
        "#Version 2\n",
        "print(np.corrcoef(SALE_Training[\"Customers\"],SALE_Training[\"Sales\"]))\n",
        "#The correlation coefficient is 0.84. Yes good predictor\n",
        "\n",
        "#Version 3\n",
        "formula1=\"Sales~Customers\"\n",
        "print(ols(formula=formula1,data=SALE_Training).fit().summary())\n",
        "#R2 is 0.7, which is an indicator of potentially good fitting\n",
        "\n",
        "#If you see a student discussing beta value or p-value. Deduct 0.5 points. "
      ],
      "execution_count": 0,
      "outputs": [
        {
          "output_type": "stream",
          "text": [
            "[[1.         0.83601357]\n",
            " [0.83601357 1.        ]]\n",
            "                            OLS Regression Results                            \n",
            "==============================================================================\n",
            "Dep. Variable:                  Sales   R-squared:                       0.699\n",
            "Model:                            OLS   Adj. R-squared:                  0.699\n",
            "Method:                 Least Squares   F-statistic:                 1.523e+05\n",
            "Date:                Wed, 09 Oct 2019   Prob (F-statistic):               0.00\n",
            "Time:                        21:24:50   Log-Likelihood:            -5.6991e+05\n",
            "No. Observations:               65631   AIC:                         1.140e+06\n",
            "Df Residuals:                   65629   BIC:                         1.140e+06\n",
            "Df Model:                           1                                         \n",
            "Covariance Type:            nonrobust                                         \n",
            "==============================================================================\n",
            "                 coef    std err          t      P>|t|      [0.025      0.975]\n",
            "------------------------------------------------------------------------------\n",
            "Intercept   1115.5926     15.234     73.230      0.000    1085.734    1145.452\n",
            "Customers      7.9059      0.020    390.319      0.000       7.866       7.946\n",
            "==============================================================================\n",
            "Omnibus:                    12469.720   Durbin-Watson:                   0.383\n",
            "Prob(Omnibus):                  0.000   Jarque-Bera (JB):            40935.168\n",
            "Skew:                           0.963   Prob(JB):                         0.00\n",
            "Kurtosis:                       6.356   Cond. No.                     2.05e+03\n",
            "==============================================================================\n",
            "\n",
            "Warnings:\n",
            "[1] Standard Errors assume that the covariance matrix of the errors is correctly specified.\n",
            "[2] The condition number is large, 2.05e+03. This might indicate that there are\n",
            "strong multicollinearity or other numerical problems.\n"
          ],
          "name": "stdout"
        },
        {
          "output_type": "display_data",
          "data": {
            "image/png": "[encoded data removed]",
            "text/plain": [
              "<Figure size 432x288 with 1 Axes>"
            ]
          },
          "metadata": {
            "tags": []
          }
        }
      ]
    },
    {
      "cell_type": "markdown",
      "metadata": {
        "id": "pWpyklY-ZmUg",
        "colab_type": "text"
      },
      "source": [
        ""
      ]
    },
    {
      "cell_type": "code",
      "metadata": {
        "id": "oLxXPghQFsZV",
        "colab_type": "code",
        "outputId": "df2635bb-9c08-4d0f-8558-9288c03502bc",
        "colab": {
          "base_uri": "https://localhost:8080/",
          "height": 281
        }
      },
      "source": [
        "#Visualization [3 points]\n",
        "#If the student did not use histogram, deduct 2 points\n",
        "#If student did not give title to each subplot, let me know that they should have title to differentiate, but do not deduct points\n",
        "\n",
        "fig, axs = plt.subplots(2, 2)\n",
        "axs[0, 0].hist(SALE_Training[\"Sales\"])\n",
        "axs[0, 0].set_title('SALES')\n",
        "axs[0, 1].hist(np.log(SALE_Training[\"Sales\"]))\n",
        "axs[0, 1].set_title('log_Sales')\n",
        "axs[1, 0].hist(SALE_Training[\"Customers\"])\n",
        "axs[1, 0].set_title('Customers')\n",
        "axs[1, 1].hist(np.log(SALE_Training[\"Customers\"]))\n",
        "axs[1, 1].set_title('log_Customers')\n",
        "\n",
        "# Hide x labels and tick labels for top plots and y ticks for right plots.\n",
        "\n",
        "\n",
        "# Hide x labels and tick labels for top plots and y ticks for right plots.\n",
        "for ax in axs.flat:\n",
        "    ax.label_outer()"
      ],
      "execution_count": 0,
      "outputs": [
        {
          "output_type": "display_data",
          "data": {
            "image/png": "[encoded data removed]",
            "text/plain": [
              "<Figure size 432x288 with 4 Axes>"
            ]
          },
          "metadata": {
            "tags": []
          }
        }
      ]
    },
    {
      "cell_type": "code",
      "metadata": {
        "id": "zDKCUN24tYqp",
        "colab_type": "code",
        "outputId": "e50a19ba-903a-4f81-feca-b35253bca794",
        "colab": {
          "base_uri": "https://localhost:8080/",
          "height": 35
        }
      },
      "source": [
        "# Model selection: [4 points]\n",
        "#2 points estimate the models\n",
        "formula1=\"Sales~Customers\"\n",
        "formula2=\"np.log(Sales)~np.log(Customers)\"\n",
        "prediction1=ols(formula=formula1,data=SALE_Training).fit().predict(SALE_Validation)\n",
        "prediction2=ols(formula=formula2,data=SALE_Training).fit().predict(SALE_Validation)\n",
        "#0.5 point, expoentiate\n",
        "prediction2=np.exp(prediction2)\n",
        "\n",
        "actual=SALE_Validation[\"Sales\"].values\n",
        "\n",
        "#1 point [students might make mistakes in parantheses. Deduct 0.5 if you see a mistake]\n",
        "RMSPE1=(np.mean(((prediction1-actual)/actual)**2))**0.5\n",
        "RMSPE2=(np.mean(((prediction2-actual)/actual)**2))**0.5\n",
        "\n",
        "print(RMSPE1, RMSPE2)\n",
        "#0.5 points [give a better model which corresponds to low RMSPE]\n",
        "#the second model is better\n",
        "\n",
        "#If you see these two RMSPEs, full points will directly be given.\n",
        "#If RMSPE look different, you need to check what is going wrong.\n",
        "#If it is due to data processing, let the students know their result is wrong due to Q1/Q2, but do not deduct points\n",
        "#If it is due to model estimating, deduct points based on how serious the mistakes are. \n",
        " "
      ],
      "execution_count": 0,
      "outputs": [
        {
          "output_type": "stream",
          "text": [
            "0.2003944782371701 0.1936640852398272\n"
          ],
          "name": "stdout"
        }
      ]
    },
    {
      "cell_type": "markdown",
      "metadata": {
        "id": "AQ76x7ZQfd52",
        "colab_type": "text"
      },
      "source": [
        "##Q4 [7 points]\n",
        "\n",
        "**[Feature Engineering 2]**\n",
        "\n",
        "In the business operation, stores performance can vary with time. Including the time/date information can potentially help us increase the model fit. Some typical factors we can consider are:\n",
        "\n",
        "* Year [store performance in 1992 can be different from the performance in 2010]\n",
        "* Month [For example, an ice-cream shop generally have higher sales in the summer months]\n",
        "* Day of the week [Especially, weekend v.s. weekdays might show very differen performances]\n",
        "* Important events\n",
        "\n",
        "In our dataset, we have \"DayOfWeek\", \"SchoolHoliday\" and \"StateHoliday\" to capture the last two factors. However, we do not have the \"Year\" and \"Month\".\n",
        "\n",
        "Luckily, once we specify \"Date\" as the datetime type. We can easily extract the time information. See the link [here](https://pandas.pydata.org/pandas-docs/stable/reference/series.html#datetimelike-properties)\n",
        "\n",
        "For Q4: Do the following \n",
        "\n",
        "* Argue the pros and cons of adding Month as a categorical variable v.s. continuous variable.\n",
        "* Determine the best decision using cross-validation.\n"
      ]
    },
    {
      "cell_type": "code",
      "metadata": {
        "id": "Ducug-3Ufdh_",
        "colab_type": "code",
        "colab": {}
      },
      "source": [
        "#Q1 [3 points]\n",
        "\n",
        "#Adding \"Month\" as a categorial variable means every month is expected to have different sales, which means sense. However, at the same time, it adds 11 additional variables\n",
        "#It could potentially lead to overfitting, especially when many months show no difference from one another. \n",
        "#Adding \"Month\" as a continuous variable might help if we assume that as the month increases, the sales tend to go higher/lower. If this is true, then \n",
        "#adding \"Month\" as a continuous variable will only add 1 more variable, which means less burden. At the same time, it might be hard \n",
        "#to see why linear relationship actually exisits\n",
        "\n",
        "#[1 points] categorical variable makes intuitive sense, because we usually would assume that month/log(sales) relationship is not linear. It can help us model each month separately\n",
        "#[1 points] directly added 11 dummy variables, which could lead to overfit. however, treating it as continuous will only add 1 variable (2 if you want to add polynomial)\n",
        "#[1 points] continuous variable will partially capture the relationship if end of the year sells more (or less)\n",
        "#comparing to the earlier year\n"
      ],
      "execution_count": 0,
      "outputs": []
    },
    {
      "cell_type": "code",
      "metadata": {
        "id": "6ZSqW9ZtlL07",
        "colab_type": "code",
        "outputId": "eed7ec43-60cc-4a34-c5b2-f87e14c83c0c",
        "colab": {
          "base_uri": "https://localhost:8080/",
          "height": 35
        }
      },
      "source": [
        "#[5 points]\n",
        "#Suppose x3 is a datetype column. If you want to get year information and treat it as a continuous variable in the regression, you can simply do\n",
        "#(y~x1+x2+x3.dt.month,data=Data)\n",
        "\n",
        "#3 points\n",
        "#[if ]\n",
        "formula1=\"np.log(Sales)~np.log(Customers)\"\n",
        "formula2=\"np.log(Sales)~np.log(Customers)+Date.dt.month\"\n",
        "formula3=\"np.log(Sales)~np.log(Customers)+C(Date.dt.month)\"\n",
        "\n",
        "prediction1=ols(formula=formula1,data=SALE_Training).fit().predict(SALE_Validation)\n",
        "prediction2=ols(formula=formula2,data=SALE_Training).fit().predict(SALE_Validation)\n",
        "prediction3=ols(formula=formula3,data=SALE_Training).fit().predict(SALE_Validation)\n",
        " \n",
        "prediction1=np.exp(prediction1)\n",
        "prediction2=np.exp(prediction2)\n",
        "prediction3=np.exp(prediction3)\n",
        "\n",
        "\n",
        "\n",
        "#1 point \n",
        "actual=SALE_Validation[\"Sales\"].values\n",
        "RMSPE1=(np.mean(((prediction1-actual)/actual)**2))**0.5\n",
        "RMSPE2=(np.mean(((prediction2-actual)/actual)**2))**0.5\n",
        "RMSPE3=(np.mean(((prediction3-actual)/actual)**2))**0.5\n",
        "\n",
        "\n",
        "\n",
        "print(RMSPE1, RMSPE2, RMSPE3)\n",
        "# 1 point\n",
        "#We can see that treating month as a categorial variable is the best option as \n",
        "#it leads to lower RMSPE\n",
        "\n",
        "\n",
        "#Grading tip:\n",
        "\n",
        "#You might see students including other time factors as well \n",
        "#You might also see students not including log(customers)\n",
        "#in these two cases, if everything else is correct, we give them full points \n"
      ],
      "execution_count": 0,
      "outputs": [
        {
          "output_type": "stream",
          "text": [
            "0.1936640852398272 0.1933814837419038 0.19316459641919098\n"
          ],
          "name": "stdout"
        }
      ]
    },
    {
      "cell_type": "markdown",
      "metadata": {
        "id": "AKk04DXh-yNt",
        "colab_type": "text"
      },
      "source": [
        "##Q5 [10 points]\n",
        "### [Forward Model Selection]\n",
        "\n",
        "Time to practice some model selection technique. Let's suppose that we want to determine some predictors we would like to adding based on the baseline model you chose in **Q3**. [To reduce your coding complexity, let's simply consider the following three factors]\n",
        "\n",
        "* Promo\t\n",
        "* Promo2\n",
        "* SchoolHoliday\n",
        "\n",
        "\n",
        "Based on cross-validation, choose the best model. \n",
        "* Report RMSPE of each model and the new variable to be selected in each round of model selection\n",
        "[You can do this manually]\n",
        "\n",
        "* After selecting the final model, report the accuracy on the test set."
      ]
    },
    {
      "cell_type": "code",
      "metadata": {
        "id": "yDhdVlm2nCDE",
        "colab_type": "code",
        "outputId": "333c27b1-6774-4afb-9f93-61437a7a2980",
        "colab": {
          "base_uri": "https://localhost:8080/",
          "height": 156
        }
      },
      "source": [
        "#round 1 [3 points]\n",
        "formula1=\"np.log(Sales)~np.log(Customers)+Promo\"\n",
        "formula2=\"np.log(Sales)~np.log(Customers)+Promo2\"\n",
        "formula3=\"np.log(Sales)~np.log(Customers)+SchoolHoliday\"\n",
        "\n",
        "prediction1=np.exp(ols(formula=formula1,data=SALE_Training).fit().predict(SALE_Validation))\n",
        "prediction2=np.exp(ols(formula=formula2,data=SALE_Training).fit().predict(SALE_Validation))\n",
        "prediction3=np.exp(ols(formula=formula3,data=SALE_Training).fit().predict(SALE_Validation))\n",
        "actual=SALE_Validation[\"Sales\"]\n",
        "RMSPE1=(np.mean(((prediction1-actual)/actual)**2))**0.5\n",
        "RMSPE2=(np.mean(((prediction2-actual)/actual)**2))**0.5\n",
        "RMSPE3=(np.mean(((prediction3-actual)/actual)**2))**0.5\n",
        "\n",
        "\n",
        "print(RMSPE1, RMSPE2, RMSPE3)\n",
        "print(\"We will add Promo to the next round\")\n",
        "\n",
        "#round 2 [2 points]\n",
        "\n",
        "formula1=\"np.log(Sales)~np.log(Customers)+Promo+Promo2\"\n",
        "formula2=\"np.log(Sales)~np.log(Customers)+Promo+SchoolHoliday\"\n",
        "\n",
        "prediction1=np.exp(ols(formula=formula1,data=SALE_Training).fit().predict(SALE_Validation))\n",
        "prediction2=np.exp(ols(formula=formula2,data=SALE_Training).fit().predict(SALE_Validation))\n",
        "\n",
        "RMSPE1=(np.mean(((prediction1-actual)/actual)**2))**0.5\n",
        "RMSPE2=(np.mean(((prediction2-actual)/actual)**2))**0.5\n",
        "\n",
        "print(RMSPE1, RMSPE2)\n",
        "print(\"We will add School Holiday to the next round\")\n",
        "\n",
        "#round 3 [2 points]\n",
        "\n",
        "formula1=\"np.log(Sales)~np.log(Customers)+Promo+SchoolHoliday+Promo2\"\n",
        "prediction1=np.exp(ols(formula=formula1,data=SALE_Training).fit().predict(SALE_Validation))\n",
        "RMSPE1=(np.mean(((prediction1-actual)/actual)**2))**0.5\n",
        "print(RMSPE1)\n",
        "print(\"We will not add Promo2 to the set\")\n",
        "\n",
        "\n",
        "#Final accuracy [3 points]\n",
        "prediction1=np.exp(ols(formula=formula1,data=SALE_Training).fit().predict(SALE_Testing))\n",
        "actual_testing=SALE_Testing[\"Sales\"]\n",
        "RMSPE_testing=(np.mean(((prediction1-actual_testing)/actual_testing)**2))**0.5\n",
        "print(RMSPE_testing)\n",
        "\n",
        "print(\"Final accuracy on testing is:\", RMSPE_testing)\n",
        "\n",
        "\n",
        "#If you see a student trying to test with interaction terms as well. Give the student full points if it is done correctly\n",
        "#If you see did not do a forward selection, but tested all of the possible combinations. Deduct 3 points if everything else is correct\n",
        "\n"
      ],
      "execution_count": 0,
      "outputs": [
        {
          "output_type": "stream",
          "text": [
            "0.17829789604366167 0.19374146955375174 0.19374863155526667\n",
            "We will add Promo to the next round\n",
            "0.17834241107914753 0.17821283492510295\n",
            "We will add School Holiday to the next round\n",
            "0.1782580731402105\n",
            "We will not add Promo to the set\n",
            "0.18458907855288836\n",
            "Final accuracy on testing is: 0.18458907855288836\n"
          ],
          "name": "stdout"
        }
      ]
    },
    {
      "cell_type": "markdown",
      "metadata": {
        "id": "qV2x6C2aEEos",
        "colab_type": "text"
      },
      "source": [
        "##Q6 [10 points]\n",
        "###[Ridge regression]\n",
        "\n",
        "When working with dataset (especially if we are using many predictors for a small dataset), we might encounter some serious problem with over-fitting.\n",
        "\n",
        "To demonstrate how to use Ridge regression to deal with this problem. We will explore a setting when we have very limited data. In this dataset, let's simply use the information from **Store 3** from 2013-01-02 to 2013-02-18. \n",
        "\n",
        "Again, we will split our data into three segments based on the date.\n",
        "\n",
        "* Training: Information for Store 3 before 2013-02-02\n",
        "* Validation: Information for Store 3 between 2013-02-2 and 2013-02-12-11\n",
        "* Testing: Information from Store 3 between 2013-02-12 and 2013-02-18\n",
        "\n",
        "\n",
        "Conduct ridge regression on the training set. \n",
        "\n",
        "Assume the model you want to run is \n",
        "$$log(Sale)=\\beta_0+\\beta_1 log (Customers) + \\beta_2 Customers +\\epsilon$$\n",
        "\n",
        "\n",
        "* Plot the relationship between $\\alpha$ and RMSPE on the Validation set. \n"
      ]
    },
    {
      "cell_type": "code",
      "metadata": {
        "id": "_Sq4_8UOE-0q",
        "colab_type": "code",
        "colab": {}
      },
      "source": [
        "#[3 points]\n",
        "SALE1=SALE[(SALE[\"Store\"]==3)&(SALE[\"Date\"]<=\"2013-02-18\" )]\n",
        "SALE1_Training=SALE1[SALE1[\"Date\"]<=\"2013-02-01\"]\n",
        "SALE1_Validation=SALE1[(SALE1[\"Date\"]>=\"2013-02-02\") & (SALE1[\"Date\"]<=\"2013-02-11\")]\n",
        "SALE1_Testing=SALE1[(SALE1[\"Date\"]>=\"2013-02-12\")  ]\n"
      ],
      "execution_count": 0,
      "outputs": []
    },
    {
      "cell_type": "code",
      "metadata": {
        "id": "tXcziwJoyOEQ",
        "colab_type": "code",
        "outputId": "dd01b5ef-75e3-40e6-9662-2023f74ade18",
        "colab": {
          "base_uri": "https://localhost:8080/",
          "height": 269
        }
      },
      "source": [
        "#[5 points]\n",
        "\n",
        "model=\"np.log(Sales)~np.log(Customers)+I(Customers)\"\n",
        "actual=SALE1_Validation[\"Sales\"]\n",
        "\n",
        "def function(alpha_value):\n",
        "  prediction1=ols(model,data=SALE1_Training).fit_regularized(alpha=alpha_value, L1_wt=0).predict(SALE1_Validation)\n",
        "  prediction1=np.exp(prediction1)\n",
        "  A1=(np.mean(((prediction1-actual)/actual)**2))**0.5\n",
        "  return A1\n",
        "\n",
        "#[2 points]\n",
        "#If the student chose a different range to explore, that is fine. We need to see this V shaped curve in the graph\n",
        "alpha_array= np.arange(0.0,0.05,0.001)\n",
        "RSMPE_array=[function(alpha) for alpha in alpha_array]\n",
        "plt.plot(alpha_array,RSMPE_array)\n",
        "plt.show()\n",
        "\n",
        "\n"
      ],
      "execution_count": 0,
      "outputs": [
        {
          "output_type": "display_data",
          "data": {
            "image/png": "[encoded data removed]",
            "text/plain": [
              "<Figure size 432x288 with 1 Axes>"
            ]
          },
          "metadata": {
            "tags": []
          }
        }
      ]
    },
    {
      "cell_type": "markdown",
      "metadata": {
        "id": "fsl2cJPei2M3",
        "colab_type": "text"
      },
      "source": [
        "##Q7. [13 points]\n",
        "###[Standardization in ridge regression]\n",
        "The previous model gives an okay solution. However, one thing to notice is that the scale of variations could also affect $\\beta$ values, which can cause factors to be discriminated simply based on whether the values are small or large. In addition, we do not want $\\beta_0$ to be penalized.\n",
        "\n",
        "As a result, people usually standardize the variables. Especially, for Ridge regression, a common practice is to do the following:\n",
        "\n",
        "**On the training set:**\n",
        "\n",
        "1. Standardize each independent variable using \n",
        "\n",
        "$$\\frac{x_k-\\bar{x_k}}{s_{x_k}}$$\n",
        "\n",
        "where $\\bar{x}$ and $s_x$ are the mean and the standard deviation of variable $x_k$ on the training set. \n",
        "\n",
        "\n",
        "2. Re-center the dependent variable using \n",
        "\n",
        "$$y-\\bar{y}$$\n",
        "\n",
        "where $\\bar{y}$ is the mean of $y$ on the training set.\n",
        "\n",
        "This allows us to tease out the impact of $\\beta_0$ in the regulation\n",
        "\n",
        "3. Regress the de-centered depedent variable on the standardized independent variables without intercept. [you can simply use \"y~x1+x2-1\" to not estimate the intercept]\n",
        "\n",
        "**On the validation and testing set:**\n",
        "\n",
        "When you do the prediction on the validation set, we will have\n",
        "\n",
        "$$\\hat{y}=\\bar{y}+\\sum \\hat{\\beta_k} {\\frac{x-\\bar{x_k}}{s_{x_k}}}$$\n",
        "\n",
        "where $\\bar{y}$ is the mean of $y$ on the **training set**, $\\bar{x_k}$ is the mean of $x_k$ on the **training set**, while $s_{x_k}$ is the standard deviation of $x_k$ on the **training set**.\n",
        "\n",
        "\n",
        "\n",
        "* Use this method to re-do Q6. \n",
        "* Determine the best model based on Q6 and Q7. Report the accuracy on the test set.\n",
        "\n"
      ]
    },
    {
      "cell_type": "code",
      "metadata": {
        "id": "IKeiFfRK1VHp",
        "colab_type": "code",
        "outputId": "76babc80-fb6c-47b5-bdaf-479d9c72732e",
        "colab": {
          "base_uri": "https://localhost:8080/",
          "height": 287
        }
      },
      "source": [
        "#Version 1 [8 points]\n",
        "\n",
        "#6 points\n",
        "c1train=np.log(SALE1_Training[\"Customers\"].values)\n",
        "c1valid=np.log(SALE1_Validation[\"Customers\"].values)\n",
        "c1test=np.log(SALE1_Testing[\"Customers\"].values)\n",
        "\n",
        "c2train=SALE1_Training[\"Customers\"].values\n",
        "c2valid=SALE1_Validation[\"Customers\"].values\n",
        "c2test=SALE1_Testing[\"Customers\"].values\n",
        "\n",
        "ytrain=np.log(SALE1_Training[\"Sales\"].values)\n",
        "yvalid=np.log(SALE1_Validation[\"Sales\"].values)\n",
        "ytest=np.log(SALE1_Testing[\"Sales\"].values)\n",
        "\n",
        "c1train_sd=np.std(c1train)\n",
        "c1train_mean=np.mean(c1train)\n",
        "c2train_sd=np.std(c2train)\n",
        "c2train_mean=np.mean(c2train)\n",
        "ytrain_mean=np.mean(ytrain)\n",
        "\n",
        "c1_train_standardized=(c1train-c1train_mean)/c1train_sd\n",
        "c2_train_standardized=(c2train-c2train_mean)/c2train_sd\n",
        "y_train_demeaned=ytrain-ytrain_mean\n",
        "\n",
        "c1_valid_standardized=(c1valid-c1train_mean)/c1train_sd\n",
        "c2_valid_standardized=(c2valid-c2train_mean)/c2train_sd\n",
        "c1_test_standardized=(c1test-c1train_mean)/c1train_sd\n",
        "c2_test_standardized=(c2test-c2train_mean)/c2train_sd\n",
        "\n",
        "data1=pd.DataFrame({\"y\":y_train_demeaned,\"c1\":c1_train_standardized,\"c2\":c2_train_standardized})\n",
        "\n",
        "def ridge_standardized(alpha_v):\n",
        "  params_recovered=ols(\"y~c1+c2-1\",data=data1).fit_regularized(alpha=alpha_v,L1_wt=0).params\n",
        "  prediction=ytrain_mean+params_recovered[0]*c1_valid_standardized+params_recovered[1]*c2_valid_standardized\n",
        "  prediction=np.exp(prediction)\n",
        "  actual=np.exp(yvalid)\n",
        "  return (np.mean(((prediction-actual)/actual)**2))**0.5\n",
        "\n",
        "#2 points\n",
        "alpha_array= np.arange(0.000000,1,0.001)\n",
        "RSMPE_array=[ridge_standardized(alpha) for alpha in alpha_array]\n",
        "\n",
        "plt.plot(alpha_array,RSMPE_array)\n",
        "\n",
        "np.min(RSMPE_array)"
      ],
      "execution_count": 0,
      "outputs": [
        {
          "output_type": "execute_result",
          "data": {
            "text/plain": [
              "0.06678143853497988"
            ]
          },
          "metadata": {
            "tags": []
          },
          "execution_count": 20
        },
        {
          "output_type": "display_data",
          "data": {
            "image/png": "[encoded data removed]",
            "text/plain": [
              "<Figure size 432x288 with 1 Axes>"
            ]
          },
          "metadata": {
            "tags": []
          }
        }
      ]
    },
    {
      "cell_type": "code",
      "metadata": {
        "id": "4jb7z-cQxIXG",
        "colab_type": "code",
        "outputId": "4227fc1b-8ea7-4400-f66e-5d6b57f1f75e",
        "colab": {
          "base_uri": "https://localhost:8080/",
          "height": 287
        }
      },
      "source": [
        "#Version 2 [8 points]\n",
        "\n",
        "#6 points\n",
        "c2train=SALE1_Training[\"Customers\"].values\n",
        "c1train=np.log(c2train)\n",
        "y_train=np.log(SALE1_Training[\"Sales\"].values)\n",
        "\n",
        "#standardize then split\n",
        "SALE2=SALE1.assign(x1=lambda x: (np.log(x.Customers)-np.mean(c1train))/np.std(c1train))\n",
        "SALE2=SALE2.assign(x2=lambda x: (x.Customers-np.mean(c2train))/np.std(c2train))\n",
        "SALE2=SALE2.assign(y=lambda x: (np.log(x.Sales)-np.mean(y_train)))\n",
        "\n",
        "SALE2_Train=SALE2[SALE2[\"Date\"]<=\"2013-02-01\"]\n",
        "SALE2_Valid=SALE2[(SALE2[\"Date\"]>=\"2013-02-02\") & (SALE1[\"Date\"]<=\"2013-02-11\")]\n",
        "SALE2_Test=SALE2[(SALE2[\"Date\"]>=\"2013-02-12\")  ]\n",
        "\n",
        "#ridge regression\n",
        "def ridge_standardized(alpha_v):\n",
        "  prediction=ols(\"y~x1+x2-1\",data=SALE2_Train).fit_regularized(alpha=alpha_v,L1_wt=0).predict(SALE2_Valid)\n",
        "  prediction=np.exp(prediction+np.mean(y_train))\n",
        "  actual=SALE1_Validation[\"Sales\"].values\n",
        "  return (np.mean(((prediction-actual)/actual)**2))**0.5\n",
        "\n",
        "#2 points\n",
        "alpha_array= np.arange(0.000000,1,0.001)\n",
        "RSMPE_array=[ridge_standardized(alpha) for alpha in alpha_array]\n",
        "\n",
        "plt.plot(alpha_array,RSMPE_array)\n",
        "\n",
        "np.min(RSMPE_array)"
      ],
      "execution_count": 0,
      "outputs": [
        {
          "output_type": "execute_result",
          "data": {
            "text/plain": [
              "0.06678143853497989"
            ]
          },
          "metadata": {
            "tags": []
          },
          "execution_count": 33
        },
        {
          "output_type": "display_data",
          "data": {
            "image/png": "[encoded data removed]",
            "text/plain": [
              "<Figure size 432x288 with 1 Axes>"
            ]
          },
          "metadata": {
            "tags": []
          }
        }
      ]
    },
    {
      "cell_type": "markdown",
      "metadata": {
        "id": "1OyjklPzxV2R",
        "colab_type": "text"
      },
      "source": [
        "We can see that, again ridge helped reduced the RMSPE to 0.067. \n",
        "Since the ridge when the standardized/demeaned model works better. We will choose this as our final model."
      ]
    },
    {
      "cell_type": "code",
      "metadata": {
        "id": "kNJ23J1RxreV",
        "colab_type": "code",
        "outputId": "3f4c0811-d59d-4da4-8b7c-3fced22b786e",
        "colab": {
          "base_uri": "https://localhost:8080/",
          "height": 35
        }
      },
      "source": [
        "#best alpha\n",
        "\n",
        "#Determine the best method [1 point]\n",
        "#The second method helped to reduce the RMSPE to 0.067, which is lower than the lowest RMSPE we got using the first method.\n",
        "#Since the ridge when the standardized/demeaned model works better. We will choose this as our final model.\n",
        "\n",
        "\n",
        "#determine the best alpha [2 point]\n",
        "#If a student's alpha is gotten from trial and error, but close enough, deduct 1 point.\n",
        "best_alpha=alpha_array[np.argmin(RSMPE_array)]\n",
        "best_alpha"
      ],
      "execution_count": 0,
      "outputs": [
        {
          "output_type": "execute_result",
          "data": {
            "text/plain": [
              "0.163"
            ]
          },
          "metadata": {
            "tags": []
          },
          "execution_count": 34
        }
      ]
    },
    {
      "cell_type": "code",
      "metadata": {
        "id": "f525bMNDxVjF",
        "colab_type": "code",
        "outputId": "a740eeb2-614a-4258-fc49-f57a0fa795bc",
        "colab": {
          "base_uri": "https://localhost:8080/",
          "height": 35
        }
      },
      "source": [
        "#measure accuracy on the testing set [2 points]\n",
        "\n",
        "def ridge_testing(alpha_v):\n",
        "  prediction=ols(\"y~x1+x2-1\",data=SALE2_Train).fit_regularized(alpha=alpha_v,L1_wt=0).predict(SALE2_Test)\n",
        "  prediction=np.exp(prediction+np.mean(y_train))\n",
        "  actual=SALE1_Testing[\"Sales\"].values\n",
        "  return (np.mean(((prediction-actual)/actual)**2))**0.5\n",
        "ridge_testing(best_alpha)"
      ],
      "execution_count": 0,
      "outputs": [
        {
          "output_type": "execute_result",
          "data": {
            "text/plain": [
              "0.12215861956171395"
            ]
          },
          "metadata": {
            "tags": []
          },
          "execution_count": 36
        }
      ]
    },
    {
      "cell_type": "code",
      "metadata": {
        "id": "DS_PhcywzqN9",
        "colab_type": "code",
        "colab": {}
      },
      "source": [
        "###Special Notice:\n",
        "###If a student did not standardize the validation and testing using mean and std from the training set, \n",
        "#deduct 2 points.\n",
        "\n",
        "\n",
        "###If a student used Ridge from sklearn for convenience, they have to produce the same result.\n",
        "###If they used special arguments to avoid manual normalization and de-centering, they need\n",
        "###to give explanation on what they are doing. If they simply use Ridge(Normalize=True, Intercept=False) from sklearn,\n",
        "###deduct 4 points."
      ],
      "execution_count": 0,
      "outputs": []
    },
    {
      "cell_type": "markdown",
      "metadata": {
        "id": "NrK-uvp_YgAO",
        "colab_type": "text"
      },
      "source": [
        "##Q*. Bonus question [3 points]\n",
        "\n",
        "Do the task in Q5 but with the following factors with the help of `for` loop\n",
        "\n",
        "* Promo\n",
        "* SchoolHoliday\n",
        "* C(Store)\n",
        "* C(DayOfWeek)\n",
        "* C(Store):np.log(Customers)\n",
        "* C(Month)\n",
        "* C(Year)\n",
        "* C(StateHoliday)\n",
        "\n"
      ]
    },
    {
      "cell_type": "code",
      "metadata": {
        "id": "As6VMTci3RmU",
        "colab_type": "code",
        "colab": {}
      },
      "source": [
        "###This is a bonus question. \n",
        "###Award 3 points only to students whose code is around the same efficiency as the following code\n",
        "\n",
        "#If anything looks manual (in other words, cannot flexible handle a different set of candiate variables), deduct at least 1 point \n",
        "#If the general algorithm is wrong, deduct at least 2 points\n",
        "#No output of the result from each stage selection. deduct 0.5 point"
      ],
      "execution_count": 0,
      "outputs": []
    },
    {
      "cell_type": "code",
      "metadata": {
        "id": "U98v7c38Gofv",
        "colab_type": "code",
        "outputId": "90dacf80-e74e-464f-994e-a3912c91ea88",
        "colab": {
          "base_uri": "https://localhost:8080/",
          "height": 319
        }
      },
      "source": [
        "candidate_variables=np.array([\"Promo\",\"SchoolHoliday\",\"C(Store)\",\"C(DayOfWeek)\",\\\n",
        "                              \"C(Store):np.log(Customers)\",\"C(Date.dt.month)\",\"C(Date.dt.month)\",\"C(StateHoliday)\"])\n",
        "\n",
        "full=len(candidate_variables)\n",
        "best_model=\"np.log(Sales)~np.log(Customers)\"\n",
        "BEST_RMSPE=np.inf\n",
        "actual=SALE_Validation[\"Sales\"].values\n",
        "for i in np.arange(full-1,-1,-1):\n",
        "  RMSPE=np.empty(i+1)\n",
        "  for j in range(i+1):\n",
        "    candidate_formula=best_model+\"+\"+candidate_variables[j]\n",
        "    prediction=ols(formula=candidate_formula,data=SALE_Training).fit().predict(SALE_Validation)\n",
        "    prediction=np.exp(prediction)\n",
        "    RMSPE[j]=(np.mean(((prediction-actual)/actual)**2))**0.5\n",
        "  print(RMSPE)\n",
        "  if BEST_RMSPE>np.min(RMSPE):\n",
        "    Add_i=np.where(RMSPE==np.min(RMSPE))[0][0]\n",
        "    best_model=best_model+\"+\"+candidate_variables[Add_i]\n",
        "    #print(Add_i)\n",
        "    print(\"variable added:\", candidate_variables[Add_i])\n",
        "   # print(best_model)\n",
        "    BEST_RMSPE=np.min(RMSPE)\n",
        "    candidate_variables=np.delete(candidate_variables,Add_i)    \n",
        "  else:\n",
        "    break\n",
        "best_model\n",
        "\n",
        "    "
      ],
      "execution_count": 0,
      "outputs": [
        {
          "output_type": "stream",
          "text": [
            "[0.1782979  0.19374863 0.08735008 0.19282693 0.08739037 0.1931646\n",
            " 0.1931646  0.19377047]\n",
            "variable added: C(Store)\n",
            "[0.07348831 0.08729256 0.08706957 0.08433224 0.09152524 0.09152524\n",
            " 0.08723028]\n",
            "variable added: Promo\n",
            "[0.07349231 0.07026419 0.07044447 0.0798118  0.0798118  0.07319869]\n",
            "variable added: C(DayOfWeek)\n",
            "[0.06999212 0.06835565 0.07724861 0.07724861 0.07000984]\n",
            "variable added: C(Store):np.log(Customers)\n",
            "[0.06811903 0.07524773 0.07524773 0.06812951]\n",
            "variable added: SchoolHoliday\n",
            "[0.07474376 0.07474376 0.06783796]\n",
            "variable added: C(StateHoliday)\n",
            "[0.07471457 0.07471457]\n"
          ],
          "name": "stdout"
        },
        {
          "output_type": "execute_result",
          "data": {
            "text/plain": [
              "'np.log(Sales)~np.log(Customers)+C(Store)+Promo+C(DayOfWeek)+C(Store):np.log(Customers)+SchoolHoliday+C(StateHoliday)'"
            ]
          },
          "metadata": {
            "tags": []
          },
          "execution_count": 39
        }
      ]
    },
    {
      "cell_type": "code",
      "metadata": {
        "id": "OMvG_En-zWqw",
        "colab_type": "code",
        "outputId": "4941efe5-fa35-4251-bcc8-d6b592837eeb",
        "colab": {
          "base_uri": "https://localhost:8080/",
          "height": 35
        }
      },
      "source": [
        "formula1='np.log(Sales)~np.log(Customers)+C(Store)+Promo+C(DayOfWeek)+C(Store):np.log(Customers)+SchoolHoliday+C(StateHoliday)'\n",
        "\n",
        "#Final accuracy\n",
        "prediction1=np.exp(ols(formula=formula1,data=SALE_Training).fit().predict(SALE_Testing))\n",
        "actual_testing=SALE_Testing[\"Sales\"]\n",
        "RMSPE_testing=(np.mean(((prediction1-actual_testing)/actual_testing)**2))**0.5\n",
        "\n",
        "print(\"Final accuracy on testing is:\", RMSPE_testing)"
      ],
      "execution_count": 0,
      "outputs": [
        {
          "output_type": "stream",
          "text": [
            "Final accuracy on testing is: 0.08178377721956313\n"
          ],
          "name": "stdout"
        }
      ]
    },
    {
      "cell_type": "code",
      "metadata": {
        "id": "SuFrr2s_2wZO",
        "colab_type": "code",
        "colab": {}
      },
      "source": [
        ""
      ],
      "execution_count": 0,
      "outputs": []
    }
  ]
}